{
 "cells": [
  {
   "cell_type": "markdown",
   "metadata": {},
   "source": [
    "# Table Of Content \n",
    "1. What is Python Numpy\n",
    "2. Indexing Arrays \n",
    "3. Slicing Array\n",
    "4. Operations on an Array\n",
    "5. Arithmetic Functions in Numpy Concatenation of Array\n",
    "7. Spliting of Array\n",
    "\n",
    "## Installation \n",
    "`!pip install numpy` <--  _we add the exclamation mark for any shell commands(`!cd srcv/py` )_\n",
    "## Recommended Import \n",
    "`import numpy as np`\n"
   ]
  }
 ],
 "metadata": {
  "language_info": {
   "name": "python"
  },
  "orig_nbformat": 4
 },
 "nbformat": 4,
 "nbformat_minor": 2
}
