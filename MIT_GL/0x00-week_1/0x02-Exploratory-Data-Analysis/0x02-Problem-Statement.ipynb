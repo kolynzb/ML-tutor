{
 "cells": [
  {
   "attachments": {},
   "cell_type": "markdown",
   "metadata": {},
   "source": [
    "# Problem Statement - CardioGood Fitness Data Analysis\n",
    "### Context\n",
    "- The market research team at AdRight is assigned the task to identify the profile of the typical customer for each treadmill product offered by CardioGood Fitness. The market research team decides to investigate whether there are differences across the product lines with respect to customer characteristics. The team decides to collect data on individuals who purchased a treadmill at a CardioGood Fitness retail store at any time in the past three months. The data is stored in the `CardioGoodFitness.csv` file.\n",
    "\n",
    "### Objective\n",
    "- Perform descriptive analysis to create a customer profile for each CardioGood Fitness treadmill product line.\n",
    "\n",
    "### Data Dictionary\n",
    "- The team identified the following customer variables to study:\n",
    "\n",
    "    - `Product`: Product purchased - TM195, TM498, or TM798\n",
    "    - `Gender`: Male or Female\n",
    "    - `Age`: Age of the customer in years\n",
    "    - `Education`: Education of the customer in years\n",
    "    - `MaritalStatus`: Single or partnered\n",
    "    - `Income`: Annual household income\n",
    "    - `Usage`: The average number of times the customer plans to use the treadmill each week;\n",
    "    - `Miles`: The average number of miles the customer expects to walk/run each week;\n",
    "    - `Fitness`: Self-rated fitness on a 1-to-5 scale, where 1 is the poor shape and 5 is excellent shape.\n",
    "### Questions to explore\n",
    "- What are the different types of variables in the data?\n",
    "- What is the distribution of different variables in the data?\n",
    "- Which product is more popular among males or females?\n",
    "- Is the product purchase affected by the marital status of the customer?\n",
    "- Is there a significant correlation among some of the variables?\n",
    "- What is the distribution of the average number of miles for each product?"
   ]
  }
 ],
 "metadata": {
  "kernelspec": {
   "display_name": "Python 3",
   "language": "python",
   "name": "python3"
  },
  "language_info": {
   "name": "python",
   "version": "3.9.13 (tags/v3.9.13:6de2ca5, May 17 2022, 16:36:42) [MSC v.1929 64 bit (AMD64)]"
  },
  "orig_nbformat": 4,
  "vscode": {
   "interpreter": {
    "hash": "497338f01161d141240caa60efca5087225791fadc9b7c964beb65d863e046f0"
   }
  }
 },
 "nbformat": 4,
 "nbformat_minor": 2
}
