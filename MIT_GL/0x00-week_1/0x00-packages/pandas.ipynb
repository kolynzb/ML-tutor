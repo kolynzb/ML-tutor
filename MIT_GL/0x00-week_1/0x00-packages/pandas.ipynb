{
 "cells": [
  {
   "cell_type": "markdown",
   "metadata": {},
   "source": [
    "# Pandas\n",
    "1. Pandas\n",
    "2. Data structures\n",
    "3. Pandas Series Series\n",
    "     - Creating Series \n",
    "     - Manipulating Series\n",
    "4. Pandas Dataframes\n",
    "    - Creating Dataframes\n",
    "    - Manipulating Dataframes\n",
    "5. Reading Data from different Sources"
   ]
  },
  {
   "cell_type": "markdown",
   "metadata": {},
   "source": [
    "# 1. Pandas\n",
    "- It contains data structures and manipulation tools designed for data cleaning and analysis. \n",
    "- While it adopts many idioms from _Numpy_, there biggest difference is that Pandas is desined for working with tabular ot hereogenious data.NumPy , by contrast , is best suited for working with homogeneous numerical array data.\n",
    "- Its name is derieved from \"Panel data\" an econometrics term for multidimensional structured data sets.\n",
    "\n",
    "## Pandas installation and import \n",
    "- installation \n",
    "`!pip install pandas`\n",
    "- Import \n",
    "`import pandas as pd` "
   ]
  }
 ],
 "metadata": {
  "kernelspec": {
   "display_name": "Python 3.9.13 64-bit (microsoft store)",
   "language": "python",
   "name": "python3"
  },
  "language_info": {
   "name": "python",
   "version": "3.9.13"
  },
  "orig_nbformat": 4,
  "vscode": {
   "interpreter": {
    "hash": "497338f01161d141240caa60efca5087225791fadc9b7c964beb65d863e046f0"
   }
  }
 },
 "nbformat": 4,
 "nbformat_minor": 2
}
