{
 "cells": [
  {
   "cell_type": "markdown",
   "metadata": {},
   "source": [
    "# Pandas\n",
    "1. Pandas\n",
    "2. Data structures\n",
    "3. Pandas Series Series\n",
    "     - Creating Series \n",
    "     - Manipulating Series\n",
    "4. Pandas Dataframes\n",
    "    - Creating Dataframes\n",
    "    - Manipulating Dataframes\n",
    "5. Reading Data from different Sources"
   ]
  },
  {
   "cell_type": "markdown",
   "metadata": {},
   "source": [
    "## 1. Pandas\n",
    "- It contains data structures and manipulation tools designed for data cleaning and analysis. \n",
    "- While it adopts many idioms from _Numpy_, there biggest difference is that Pandas is desined for working with tabular ot hereogenious data.NumPy , by contrast , is best suited for working with homogeneous numerical array data.\n",
    "- Its name is derieved from \"Panel data\" an econometrics term for multidimensional structured data sets.\n",
    "\n",
    "### Pandas installation and import \n",
    "- installation \n",
    "`!pip install pandas`\n",
    "- Import \n",
    "`import pandas as pd` "
   ]
  },
  {
   "cell_type": "code",
   "execution_count": 3,
   "metadata": {},
   "outputs": [],
   "source": [
    "# Import Pandas \n",
    "import pandas as pd"
   ]
  },
  {
   "cell_type": "markdown",
   "metadata": {},
   "source": [
    "## 2. Data Structures\n",
    "- Pandas has 2 data structures as follows:\n",
    "1. A __Series__ is 1-dimensional labeled array that can hold data of any type (integer, float,string ,boolean,python object,and so on). Its axis labels are collectively called an index. \n",
    "2. A __DataFrame__ is a 2- dimensional labelled data structure with columns. it supports multiple datatypes.\n",
    "\n",
    "## 3. Pandas Series \n",
    "- Is a one- dimensional labeled arrau capable of holding any data type. However,a series is a sequence of homogenoues data types, similar to an array , list , or column in a tabe.\n",
    "- It will assign a labeled index to each item in the Series. By default, each item will receive an index label from 0 to N, where N is the length of the Series minus one.\n",
    "\n",
    "### 3.1 Creating Series \n",
    "1. __To create a numeric series__."
   ]
  },
  {
   "cell_type": "code",
   "execution_count": 4,
   "metadata": {},
   "outputs": [
    {
     "data": {
      "text/plain": [
       "0      1\n",
       "1      6\n",
       "2     11\n",
       "3     16\n",
       "4     21\n",
       "5     26\n",
       "6     31\n",
       "7     36\n",
       "8     41\n",
       "9     46\n",
       "10    51\n",
       "11    56\n",
       "12    61\n",
       "13    66\n",
       "14    71\n",
       "15    76\n",
       "16    81\n",
       "17    86\n",
       "18    91\n",
       "19    96\n",
       "dtype: int64"
      ]
     },
     "execution_count": 4,
     "metadata": {},
     "output_type": "execute_result"
    }
   ],
   "source": [
    "# Create a numeric series  \n",
    "numbers = range(1,100,5)\n",
    "pd.Series(numbers)"
   ]
  },
  {
   "cell_type": "markdown",
   "metadata": {},
   "source": [
    "- The output is of type `int64`\n",
    "- The row names are usually denoted as _\"Index\"_\n",
    "2. __To create an object series__"
   ]
  },
  {
   "cell_type": "code",
   "execution_count": 5,
   "metadata": {},
   "outputs": [
    {
     "data": {
      "text/plain": [
       "0      Hi\n",
       "1    How \n",
       "2    are \n",
       "3     you\n",
       "4       ?\n",
       "dtype: object"
      ]
     },
     "execution_count": 5,
     "metadata": {},
     "output_type": "execute_result"
    }
   ],
   "source": [
    "string = \"Hi\" , \"How \" , \"are \" ,\"you\",\"?\"\n",
    "pd.Series(string)"
   ]
  },
  {
   "cell_type": "markdown",
   "metadata": {},
   "source": [
    "- Output is of type `object`\n",
    "3. __To create a series with both numeric and string values__"
   ]
  },
  {
   "cell_type": "code",
   "execution_count": 6,
   "metadata": {},
   "outputs": [
    {
     "data": {
      "text/plain": [
       "0               365\n",
       "1            London\n",
       "2              34.5\n",
       "3             -34.5\n",
       "4    Happy Birthday\n",
       "dtype: object"
      ]
     },
     "execution_count": 6,
     "metadata": {},
     "output_type": "execute_result"
    }
   ],
   "source": [
    "# create a series with an arbituary list \n",
    "pd.Series([365,'London',34.5,-34.5,'Happy Birthday'])"
   ]
  },
  {
   "cell_type": "markdown",
   "metadata": {},
   "source": [
    "- Here numeric types are treated as objects. _A serie cannot have multiple data types so it defines all of them as an object_\n",
    "4. To set index values for a series."
   ]
  },
  {
   "cell_type": "code",
   "execution_count": 7,
   "metadata": {},
   "outputs": [
    {
     "data": {
      "text/plain": [
       "Math                60\n",
       "System design       89\n",
       "Cloud Computing     74\n",
       "Data Analysis       86\n",
       "React              100\n",
       "dtype: int64"
      ]
     },
     "execution_count": 7,
     "metadata": {},
     "output_type": "execute_result"
    }
   ],
   "source": [
    "marks = [60,89,74,86,100]\n",
    "\n",
    "subject = [\"Math\" , \"System design\" , \"Cloud Computing\" , \"Data Analysis\" , \"React\"]\n",
    "\n",
    "marks_series= pd.Series(marks,index =subject)\n",
    "marks_series\n"
   ]
  },
  {
   "cell_type": "markdown",
   "metadata": {},
   "source": [
    "- the index is added usin the argument `index=`. The data tyoe if the series continues to be numeric.\n",
    "\n",
    "6. __To create series from a dictionary__"
   ]
  },
  {
   "cell_type": "code",
   "execution_count": 8,
   "metadata": {},
   "outputs": [
    {
     "data": {
      "text/plain": [
       "React      90\n",
       "Node       85\n",
       "Flutter    50\n",
       "Django     75\n",
       "dtype: int64"
      ]
     },
     "execution_count": 8,
     "metadata": {},
     "output_type": "execute_result"
    }
   ],
   "source": [
    "data = {'React':90,\"Node\":85,\"Flutter\":50,\"Django\":75}\n",
    "pd.Series(data)"
   ]
  },
  {
   "cell_type": "markdown",
   "metadata": {},
   "source": [
    "- On passing a dict the index in the resulting Series will have the dict's keys in sorted oder.\n",
    "\n",
    "6. __A series with missing values__\n",
    "- If we pass a key that is not defined then its value will be `NAN`"
   ]
  },
  {
   "cell_type": "code",
   "execution_count": 9,
   "metadata": {},
   "outputs": [
    {
     "data": {
      "text/plain": [
       "Math                NaN\n",
       "System design       NaN\n",
       "Cloud Computing     NaN\n",
       "Data Analysis       NaN\n",
       "React              90.0\n",
       "dtype: float64"
      ]
     },
     "execution_count": 9,
     "metadata": {},
     "output_type": "execute_result"
    }
   ],
   "source": [
    "subject = [\"Math\" , \"System design\" , \"Cloud Computing\" , \"Data Analysis\" , \"React\"] \n",
    "\n",
    "marks_series = pd.Series(data,index=subject)\n",
    "marks_series"
   ]
  },
  {
   "cell_type": "code",
   "execution_count": 10,
   "metadata": {},
   "outputs": [],
   "source": [
    "# Error\n",
    "index=['Apple', 'Banana', 'Orange']\n",
    "quantity = [34, 20, 30, 40]\n",
    "# Uncomment to see error 👇🏿.\n",
    "# pd.Series(data=quantity, index=index)"
   ]
  },
  {
   "cell_type": "code",
   "execution_count": 11,
   "metadata": {},
   "outputs": [
    {
     "data": {
      "text/plain": [
       "A    30.0\n",
       "B    40.0\n",
       "D     NaN\n",
       "dtype: float64"
      ]
     },
     "execution_count": 11,
     "metadata": {},
     "output_type": "execute_result"
    }
   ],
   "source": [
    "dict={'A':30, 'B':40, 'C':50}\n",
    "index=['A', 'B', 'D']\n",
    "pd.Series(data=dict, index=index)"
   ]
  },
  {
   "cell_type": "markdown",
   "metadata": {},
   "source": [
    "### 3.2 Manipulating Series\n",
    "1. __To check for null values using `.notnull`__"
   ]
  },
  {
   "cell_type": "code",
   "execution_count": 12,
   "metadata": {},
   "outputs": [
    {
     "data": {
      "text/plain": [
       "Math               False\n",
       "System design      False\n",
       "Cloud Computing    False\n",
       "Data Analysis      False\n",
       "React               True\n",
       "dtype: bool"
      ]
     },
     "execution_count": 12,
     "metadata": {},
     "output_type": "execute_result"
    }
   ],
   "source": [
    "marks_series.notnull()"
   ]
  },
  {
   "cell_type": "markdown",
   "metadata": {},
   "source": [
    "- `True` indicates that the value is not null.\n",
    "3. __To know the subjects in which marks score is more than 75__"
   ]
  },
  {
   "cell_type": "code",
   "execution_count": 13,
   "metadata": {},
   "outputs": [
    {
     "data": {
      "text/plain": [
       "React    90.0\n",
       "dtype: float64"
      ]
     },
     "execution_count": 13,
     "metadata": {},
     "output_type": "execute_result"
    }
   ],
   "source": [
    "marks_series[marks_series > 75]"
   ]
  },
  {
   "cell_type": "markdown",
   "metadata": {},
   "source": [
    "4. ___To assign 68 marks to 'Art and Craft'__"
   ]
  },
  {
   "cell_type": "code",
   "execution_count": 16,
   "metadata": {},
   "outputs": [
    {
     "data": {
      "text/plain": [
       "Math               91.0\n",
       "System design       NaN\n",
       "Cloud Computing     NaN\n",
       "Data Analysis       NaN\n",
       "React              91.0\n",
       "dtype: float64"
      ]
     },
     "execution_count": 16,
     "metadata": {},
     "output_type": "execute_result"
    }
   ],
   "source": [
    "marks_series[\"Math\"] = 91\n",
    "# or\n",
    "#  mark\n",
    "marks_series"
   ]
  },
  {
   "cell_type": "code",
   "execution_count": 17,
   "metadata": {},
   "outputs": [
    {
     "data": {
      "text/plain": [
       "False"
      ]
     },
     "execution_count": 17,
     "metadata": {},
     "output_type": "execute_result"
    }
   ],
   "source": [
    "# Compare values\n",
    "marks_series[\"Math\"] == 75\n",
    "# OR\n",
    "marks_series.Math == 75"
   ]
  },
  {
   "cell_type": "markdown",
   "metadata": {},
   "source": [
    "5. __Sorting Numeric Series__"
   ]
  },
  {
   "cell_type": "code",
   "execution_count": 18,
   "metadata": {},
   "outputs": [],
   "source": [
    "import numpy as np"
   ]
  },
  {
   "cell_type": "code",
   "execution_count": 19,
   "metadata": {},
   "outputs": [
    {
     "data": {
      "text/plain": [
       "0    23.0\n",
       "1     NaN\n",
       "2    45.0\n",
       "3     NaN\n",
       "4    56.0\n",
       "5    67.0\n",
       "6    34.0\n",
       "7    23.0\n",
       "dtype: float64"
      ]
     },
     "execution_count": 19,
     "metadata": {},
     "output_type": "execute_result"
    }
   ],
   "source": [
    "values = pd.Series([23,np.nan,45,np.nan,56,67,34,23])\n",
    "values"
   ]
  },
  {
   "cell_type": "code",
   "execution_count": 20,
   "metadata": {},
   "outputs": [
    {
     "data": {
      "text/plain": [
       "5    67.0\n",
       "4    56.0\n",
       "2    45.0\n",
       "6    34.0\n",
       "0    23.0\n",
       "7    23.0\n",
       "1     NaN\n",
       "3     NaN\n",
       "dtype: float64"
      ]
     },
     "execution_count": 20,
     "metadata": {},
     "output_type": "execute_result"
    }
   ],
   "source": [
    "#ascending Order\n",
    "values.sort_values(ascending = True)\n",
    "#descending Order\n",
    "values.sort_values(ascending = False)"
   ]
  },
  {
   "cell_type": "markdown",
   "metadata": {},
   "source": [
    "7. __Sorting Categorical Series__"
   ]
  },
  {
   "cell_type": "code",
   "execution_count": 21,
   "metadata": {},
   "outputs": [
    {
     "data": {
      "text/plain": [
       "0    a\n",
       "1    f\n",
       "2    j\n",
       "3    d\n",
       "4    c\n",
       "dtype: object"
      ]
     },
     "execution_count": 21,
     "metadata": {},
     "output_type": "execute_result"
    }
   ],
   "source": [
    "# create a pandas series \n",
    "string_values = pd.Series([\"a\", \"f\", \"j\", \"d\", \"c\"])\n",
    "string_values\n",
    "# since the computer stores strings in lexigraphical order\n",
    "# sort_values maintains the indices of all the elements of the array"
   ]
  },
  {
   "cell_type": "code",
   "execution_count": 22,
   "metadata": {},
   "outputs": [
    {
     "data": {
      "text/plain": [
       "0    a\n",
       "4    c\n",
       "3    d\n",
       "1    f\n",
       "2    j\n",
       "dtype: object"
      ]
     },
     "execution_count": 22,
     "metadata": {},
     "output_type": "execute_result"
    }
   ],
   "source": [
    "# ascending order\n",
    "string_values.sort_values(ascending=True)"
   ]
  },
  {
   "cell_type": "code",
   "execution_count": 23,
   "metadata": {},
   "outputs": [
    {
     "data": {
      "text/plain": [
       "5    5\n",
       "dtype: int64"
      ]
     },
     "execution_count": 23,
     "metadata": {},
     "output_type": "execute_result"
    }
   ],
   "source": [
    "data=range(10)\n",
    "new_ser=pd.Series(data=data)\n",
    "new_ser[new_ser==5]"
   ]
  },
  {
   "cell_type": "code",
   "execution_count": 24,
   "metadata": {},
   "outputs": [
    {
     "data": {
      "text/plain": [
       "Math               1.5\n",
       "System design      NaN\n",
       "Cloud Computing    NaN\n",
       "Data Analysis      NaN\n",
       "React              1.5\n",
       "dtype: float64"
      ]
     },
     "execution_count": 24,
     "metadata": {},
     "output_type": "execute_result"
    }
   ],
   "source": [
    "marks_series.rank(ascending=True)"
   ]
  },
  {
   "cell_type": "markdown",
   "metadata": {},
   "source": [
    "# Panda Data Frames\n",
    "- Is a tabular representation of data containing an ordered collectin, each of which can ve a different type (numeric , string,boolean and so on)\n",
    "- The DataFrame has both row and column index; it can be thought of as a dict of Series all sharing the same index.In a DF, the data is stored as one or more two-dimensioanl blocks rather than a list,dict or some other collection of one-dimensional arrays.\n",
    "- While a DF is physically two-dimensional, it can be use to represent higher dimensional data in  tabular   format usung hierarchical indexing\n",
    "\n",
    "- __4.1 Creating a DataFrame__\n",
    "\n",
    "1. __Creating a DataFrame from a dictionary__"
   ]
  },
  {
   "cell_type": "code",
   "execution_count": 25,
   "metadata": {},
   "outputs": [
    {
     "data": {
      "text/html": [
       "<div>\n",
       "<style scoped>\n",
       "    .dataframe tbody tr th:only-of-type {\n",
       "        vertical-align: middle;\n",
       "    }\n",
       "\n",
       "    .dataframe tbody tr th {\n",
       "        vertical-align: top;\n",
       "    }\n",
       "\n",
       "    .dataframe thead th {\n",
       "        text-align: right;\n",
       "    }\n",
       "</style>\n",
       "<table border=\"1\" class=\"dataframe\">\n",
       "  <thead>\n",
       "    <tr style=\"text-align: right;\">\n",
       "      <th></th>\n",
       "      <th>Subject</th>\n",
       "      <th>Marks</th>\n",
       "      <th>CGPA</th>\n",
       "    </tr>\n",
       "  </thead>\n",
       "  <tbody>\n",
       "    <tr>\n",
       "      <th>0</th>\n",
       "      <td>React</td>\n",
       "      <td>89</td>\n",
       "      <td>2.5</td>\n",
       "    </tr>\n",
       "    <tr>\n",
       "      <th>1</th>\n",
       "      <td>Rust</td>\n",
       "      <td>34</td>\n",
       "      <td>3.0</td>\n",
       "    </tr>\n",
       "    <tr>\n",
       "      <th>2</th>\n",
       "      <td>Golang</td>\n",
       "      <td>65</td>\n",
       "      <td>4.5</td>\n",
       "    </tr>\n",
       "    <tr>\n",
       "      <th>3</th>\n",
       "      <td>Elixir</td>\n",
       "      <td>78</td>\n",
       "      <td>5.6</td>\n",
       "    </tr>\n",
       "  </tbody>\n",
       "</table>\n",
       "</div>"
      ],
      "text/plain": [
       "  Subject  Marks  CGPA\n",
       "0   React     89   2.5\n",
       "1    Rust     34   3.0\n",
       "2  Golang     65   4.5\n",
       "3  Elixir     78   5.6"
      ]
     },
     "execution_count": 25,
     "metadata": {},
     "output_type": "execute_result"
    }
   ],
   "source": [
    "data ={\n",
    "    'Subject':[\"React\",\"Rust\",\"Golang\",\"Elixir\"],\n",
    "    'Marks':(89,34,65,78), \n",
    "    'CGPA':[2.5,3.0,4.5,5.6]\n",
    "}\n",
    "df = pd.DataFrame(data)\n",
    "df"
   ]
  },
  {
   "cell_type": "markdown",
   "metadata": {},
   "source": [
    "__Note__: Like Series, the resulting DataFrame is assigned index automatically. ANd the \"Marks\" values are in a tuple.\n",
    "\n",
    "2. __To Create a DataFrame From series__"
   ]
  },
  {
   "cell_type": "code",
   "execution_count": 3,
   "metadata": {},
   "outputs": [],
   "source": [
    "Subject = pd.Series([\"Math\",\"DSA\",\"Python\",\"ML\"])\n",
    "Marks = pd.Series([23,23,23,23])\n",
    "CGPA = pd.Series([2.5,3.0,4.0,6.0])"
   ]
  },
  {
   "cell_type": "code",
   "execution_count": 4,
   "metadata": {},
   "outputs": [
    {
     "data": {
      "text/html": [
       "<div>\n",
       "<style scoped>\n",
       "    .dataframe tbody tr th:only-of-type {\n",
       "        vertical-align: middle;\n",
       "    }\n",
       "\n",
       "    .dataframe tbody tr th {\n",
       "        vertical-align: top;\n",
       "    }\n",
       "\n",
       "    .dataframe thead th {\n",
       "        text-align: right;\n",
       "    }\n",
       "</style>\n",
       "<table border=\"1\" class=\"dataframe\">\n",
       "  <thead>\n",
       "    <tr style=\"text-align: right;\">\n",
       "      <th></th>\n",
       "      <th>0</th>\n",
       "      <th>1</th>\n",
       "      <th>2</th>\n",
       "      <th>3</th>\n",
       "    </tr>\n",
       "  </thead>\n",
       "  <tbody>\n",
       "    <tr>\n",
       "      <th>Subject</th>\n",
       "      <td>Math</td>\n",
       "      <td>DSA</td>\n",
       "      <td>Python</td>\n",
       "      <td>ML</td>\n",
       "    </tr>\n",
       "    <tr>\n",
       "      <th>Marks</th>\n",
       "      <td>23</td>\n",
       "      <td>23</td>\n",
       "      <td>23</td>\n",
       "      <td>23</td>\n",
       "    </tr>\n",
       "    <tr>\n",
       "      <th>CGPA</th>\n",
       "      <td>2.5</td>\n",
       "      <td>3.0</td>\n",
       "      <td>4.0</td>\n",
       "      <td>6.0</td>\n",
       "    </tr>\n",
       "  </tbody>\n",
       "</table>\n",
       "</div>"
      ],
      "text/plain": [
       "            0    1       2    3\n",
       "Subject  Math  DSA  Python   ML\n",
       "Marks      23   23      23   23\n",
       "CGPA      2.5  3.0     4.0  6.0"
      ]
     },
     "execution_count": 4,
     "metadata": {},
     "output_type": "execute_result"
    }
   ],
   "source": [
    "pd.DataFrame([Subject,Marks,CGPA],index = ['Subject','Marks','CGPA'])"
   ]
  },
  {
   "cell_type": "markdown",
   "metadata": {},
   "source": [
    "- However to want a vertical data frame we use `.T` . The 'T' stands for _transpose_."
   ]
  },
  {
   "cell_type": "code",
   "execution_count": 5,
   "metadata": {},
   "outputs": [
    {
     "data": {
      "text/html": [
       "<div>\n",
       "<style scoped>\n",
       "    .dataframe tbody tr th:only-of-type {\n",
       "        vertical-align: middle;\n",
       "    }\n",
       "\n",
       "    .dataframe tbody tr th {\n",
       "        vertical-align: top;\n",
       "    }\n",
       "\n",
       "    .dataframe thead th {\n",
       "        text-align: right;\n",
       "    }\n",
       "</style>\n",
       "<table border=\"1\" class=\"dataframe\">\n",
       "  <thead>\n",
       "    <tr style=\"text-align: right;\">\n",
       "      <th></th>\n",
       "      <th>Subject</th>\n",
       "      <th>Marks</th>\n",
       "      <th>CGPA</th>\n",
       "    </tr>\n",
       "  </thead>\n",
       "  <tbody>\n",
       "    <tr>\n",
       "      <th>0</th>\n",
       "      <td>Math</td>\n",
       "      <td>23</td>\n",
       "      <td>2.5</td>\n",
       "    </tr>\n",
       "    <tr>\n",
       "      <th>1</th>\n",
       "      <td>DSA</td>\n",
       "      <td>23</td>\n",
       "      <td>3.0</td>\n",
       "    </tr>\n",
       "    <tr>\n",
       "      <th>2</th>\n",
       "      <td>Python</td>\n",
       "      <td>23</td>\n",
       "      <td>4.0</td>\n",
       "    </tr>\n",
       "    <tr>\n",
       "      <th>3</th>\n",
       "      <td>ML</td>\n",
       "      <td>23</td>\n",
       "      <td>6.0</td>\n",
       "    </tr>\n",
       "  </tbody>\n",
       "</table>\n",
       "</div>"
      ],
      "text/plain": [
       "  Subject Marks CGPA\n",
       "0    Math    23  2.5\n",
       "1     DSA    23  3.0\n",
       "2  Python    23  4.0\n",
       "3      ML    23  6.0"
      ]
     },
     "execution_count": 5,
     "metadata": {},
     "output_type": "execute_result"
    }
   ],
   "source": [
    "pd.DataFrame([Subject,Marks,CGPA],index = ['Subject','Marks','CGPA']).T"
   ]
  },
  {
   "cell_type": "markdown",
   "metadata": {},
   "source": [
    "4. __To create a dataframe from lists__"
   ]
  },
  {
   "cell_type": "code",
   "execution_count": 6,
   "metadata": {},
   "outputs": [
    {
     "data": {
      "text/html": [
       "<div>\n",
       "<style scoped>\n",
       "    .dataframe tbody tr th:only-of-type {\n",
       "        vertical-align: middle;\n",
       "    }\n",
       "\n",
       "    .dataframe tbody tr th {\n",
       "        vertical-align: top;\n",
       "    }\n",
       "\n",
       "    .dataframe thead th {\n",
       "        text-align: right;\n",
       "    }\n",
       "</style>\n",
       "<table border=\"1\" class=\"dataframe\">\n",
       "  <thead>\n",
       "    <tr style=\"text-align: right;\">\n",
       "      <th></th>\n",
       "      <th>0</th>\n",
       "      <th>1</th>\n",
       "      <th>2</th>\n",
       "      <th>3</th>\n",
       "    </tr>\n",
       "  </thead>\n",
       "  <tbody>\n",
       "    <tr>\n",
       "      <th>Subject</th>\n",
       "      <td>Math</td>\n",
       "      <td>DSA</td>\n",
       "      <td>Python</td>\n",
       "      <td>ML</td>\n",
       "    </tr>\n",
       "    <tr>\n",
       "      <th>Marks</th>\n",
       "      <td>23</td>\n",
       "      <td>23</td>\n",
       "      <td>23</td>\n",
       "      <td>23</td>\n",
       "    </tr>\n",
       "    <tr>\n",
       "      <th>CGPA</th>\n",
       "      <td>2.5</td>\n",
       "      <td>3.0</td>\n",
       "      <td>4.0</td>\n",
       "      <td>6.0</td>\n",
       "    </tr>\n",
       "  </tbody>\n",
       "</table>\n",
       "</div>"
      ],
      "text/plain": [
       "            0    1       2    3\n",
       "Subject  Math  DSA  Python   ML\n",
       "Marks      23   23      23   23\n",
       "CGPA      2.5  3.0     4.0  6.0"
      ]
     },
     "execution_count": 6,
     "metadata": {},
     "output_type": "execute_result"
    }
   ],
   "source": [
    "Subject = [\"Math\",\"DSA\",\"Python\",\"ML\"]\n",
    "Marks = [23,23,23,23]\n",
    "CGPA = [2.5,3.0,4.0,6.0]\n",
    "\n",
    "pd.DataFrame([Subject,Marks,CGPA],index=['Subject','Marks','CGPA'])"
   ]
  },
  {
   "cell_type": "code",
   "execution_count": 7,
   "metadata": {},
   "outputs": [
    {
     "data": {
      "text/html": [
       "<div>\n",
       "<style scoped>\n",
       "    .dataframe tbody tr th:only-of-type {\n",
       "        vertical-align: middle;\n",
       "    }\n",
       "\n",
       "    .dataframe tbody tr th {\n",
       "        vertical-align: top;\n",
       "    }\n",
       "\n",
       "    .dataframe thead th {\n",
       "        text-align: right;\n",
       "    }\n",
       "</style>\n",
       "<table border=\"1\" class=\"dataframe\">\n",
       "  <thead>\n",
       "    <tr style=\"text-align: right;\">\n",
       "      <th></th>\n",
       "      <th>Subject</th>\n",
       "      <th>Marks</th>\n",
       "      <th>CGPA</th>\n",
       "    </tr>\n",
       "  </thead>\n",
       "  <tbody>\n",
       "    <tr>\n",
       "      <th>0</th>\n",
       "      <td>Math</td>\n",
       "      <td>23</td>\n",
       "      <td>2.5</td>\n",
       "    </tr>\n",
       "    <tr>\n",
       "      <th>1</th>\n",
       "      <td>DSA</td>\n",
       "      <td>23</td>\n",
       "      <td>3.0</td>\n",
       "    </tr>\n",
       "    <tr>\n",
       "      <th>2</th>\n",
       "      <td>Python</td>\n",
       "      <td>23</td>\n",
       "      <td>4.0</td>\n",
       "    </tr>\n",
       "    <tr>\n",
       "      <th>3</th>\n",
       "      <td>ML</td>\n",
       "      <td>23</td>\n",
       "      <td>6.0</td>\n",
       "    </tr>\n",
       "  </tbody>\n",
       "</table>\n",
       "</div>"
      ],
      "text/plain": [
       "  Subject Marks CGPA\n",
       "0    Math    23  2.5\n",
       "1     DSA    23  3.0\n",
       "2  Python    23  4.0\n",
       "3      ML    23  6.0"
      ]
     },
     "execution_count": 7,
     "metadata": {},
     "output_type": "execute_result"
    }
   ],
   "source": [
    "pd.DataFrame([Subject,Marks,CGPA],index=['Subject','Marks','CGPA']).T"
   ]
  },
  {
   "cell_type": "code",
   "execution_count": 18,
   "metadata": {},
   "outputs": [
    {
     "data": {
      "text/html": [
       "<div>\n",
       "<style scoped>\n",
       "    .dataframe tbody tr th:only-of-type {\n",
       "        vertical-align: middle;\n",
       "    }\n",
       "\n",
       "    .dataframe tbody tr th {\n",
       "        vertical-align: top;\n",
       "    }\n",
       "\n",
       "    .dataframe thead th {\n",
       "        text-align: right;\n",
       "    }\n",
       "</style>\n",
       "<table border=\"1\" class=\"dataframe\">\n",
       "  <thead>\n",
       "    <tr style=\"text-align: right;\">\n",
       "      <th></th>\n",
       "      <th>School_1</th>\n",
       "      <th>School_2</th>\n",
       "      <th>School_3</th>\n",
       "    </tr>\n",
       "  </thead>\n",
       "  <tbody>\n",
       "    <tr>\n",
       "      <th>0</th>\n",
       "      <td>Hogwarts</td>\n",
       "      <td>Durmstrang</td>\n",
       "      <td>Beauxbatons</td>\n",
       "    </tr>\n",
       "    <tr>\n",
       "      <th>1</th>\n",
       "      <td>Hogwarts</td>\n",
       "      <td>Durmstrang</td>\n",
       "      <td>Beauxbatons</td>\n",
       "    </tr>\n",
       "    <tr>\n",
       "      <th>2</th>\n",
       "      <td>Hogwarts</td>\n",
       "      <td>Durmstrang</td>\n",
       "      <td>Beauxbatons</td>\n",
       "    </tr>\n",
       "  </tbody>\n",
       "</table>\n",
       "</div>"
      ],
      "text/plain": [
       "   School_1    School_2     School_3\n",
       "0  Hogwarts  Durmstrang  Beauxbatons\n",
       "1  Hogwarts  Durmstrang  Beauxbatons\n",
       "2  Hogwarts  Durmstrang  Beauxbatons"
      ]
     },
     "execution_count": 18,
     "metadata": {},
     "output_type": "execute_result"
    }
   ],
   "source": [
    "a1 = ['Hogwarts', 'Durmstrang', 'Beauxbatons']\n",
    "a2 = ['Hogwarts', 'Durmstrang', 'Beauxbatons']\n",
    "a3 = ['Hogwarts', 'Durmstrang', 'Beauxbatons']\n",
    "school = [a1, a2, a3]\n",
    "inst = ['School_1', 'School_2', 'School_3']\n",
    "Muggle_data = pd.DataFrame(data=school, columns=inst)\n",
    "Muggle_data"
   ]
  },
  {
   "cell_type": "markdown",
   "metadata": {},
   "source": [
    "5. __To read data from csv file__\n"
   ]
  },
  {
   "cell_type": "code",
   "execution_count": 4,
   "metadata": {},
   "outputs": [
    {
     "data": {
      "text/plain": [
       "pandas.core.frame.DataFrame"
      ]
     },
     "execution_count": 4,
     "metadata": {},
     "output_type": "execute_result"
    }
   ],
   "source": [
    "data = pd.read_csv(\"sample.csv\")\n",
    "type(data)\n",
    "# The file must be in the same directory as the notebook."
   ]
  },
  {
   "cell_type": "markdown",
   "metadata": {},
   "source": [
    "- On checking the data type it is a pandas Dataframe.\n",
    "6. __To print the head of the data__"
   ]
  },
  {
   "cell_type": "code",
   "execution_count": 10,
   "metadata": {},
   "outputs": [
    {
     "data": {
      "text/html": [
       "<div>\n",
       "<style scoped>\n",
       "    .dataframe tbody tr th:only-of-type {\n",
       "        vertical-align: middle;\n",
       "    }\n",
       "\n",
       "    .dataframe tbody tr th {\n",
       "        vertical-align: top;\n",
       "    }\n",
       "\n",
       "    .dataframe thead th {\n",
       "        text-align: right;\n",
       "    }\n",
       "</style>\n",
       "<table border=\"1\" class=\"dataframe\">\n",
       "  <thead>\n",
       "    <tr style=\"text-align: right;\">\n",
       "      <th></th>\n",
       "      <th>name</th>\n",
       "      <th>world_ranking</th>\n",
       "      <th>region_ranking</th>\n",
       "      <th>country_ranking</th>\n",
       "      <th>region</th>\n",
       "      <th>country</th>\n",
       "      <th>city\\state</th>\n",
       "      <th>acceptance_rate</th>\n",
       "      <th>publication</th>\n",
       "      <th>website</th>\n",
       "      <th>phone_no</th>\n",
       "      <th>address</th>\n",
       "    </tr>\n",
       "  </thead>\n",
       "  <tbody>\n",
       "    <tr>\n",
       "      <th>0</th>\n",
       "      <td>Aarhus University</td>\n",
       "      <td>#150 of 14,131</td>\n",
       "      <td>#44 of 2,785</td>\n",
       "      <td>#2 of 27</td>\n",
       "      <td>Europe</td>\n",
       "      <td>Italy</td>\n",
       "      <td>Veneto</td>\n",
       "      <td>15%</td>\n",
       "      <td>89,633</td>\n",
       "      <td>www.au.dk</td>\n",
       "      <td>+45 8942 1111</td>\n",
       "      <td>Nordre Ringgade 1\\n Aarhus, Central Denmark Re...</td>\n",
       "    </tr>\n",
       "    <tr>\n",
       "      <th>1</th>\n",
       "      <td>Arizona State University - Tempe</td>\n",
       "      <td>#61 of 14,131</td>\n",
       "      <td>#48 of 2,597</td>\n",
       "      <td>#45 of 2,496</td>\n",
       "      <td>Europe</td>\n",
       "      <td>Spain</td>\n",
       "      <td>Valencia</td>\n",
       "      <td>NaN</td>\n",
       "      <td>99,086</td>\n",
       "      <td>www.asu.edu</td>\n",
       "      <td>8552785080</td>\n",
       "      <td>University Drive and Mill Avenue\\n Tempe, Ariz...</td>\n",
       "    </tr>\n",
       "    <tr>\n",
       "      <th>2</th>\n",
       "      <td>Auburn University</td>\n",
       "      <td>NaN</td>\n",
       "      <td>NaN</td>\n",
       "      <td>NaN</td>\n",
       "      <td>North America</td>\n",
       "      <td>United States</td>\n",
       "      <td>Wisconsin</td>\n",
       "      <td>57%</td>\n",
       "      <td>36,231</td>\n",
       "      <td>auburn.edu</td>\n",
       "      <td>3348444000</td>\n",
       "      <td>Samford Hall\\n Auburn, Alabama, 36849 \\nUnited...</td>\n",
       "    </tr>\n",
       "    <tr>\n",
       "      <th>3</th>\n",
       "      <td>Australian National University</td>\n",
       "      <td>#88 of 14,131</td>\n",
       "      <td>#5 of 59</td>\n",
       "      <td>#5 of 40</td>\n",
       "      <td>North America</td>\n",
       "      <td>Canada</td>\n",
       "      <td>Ontario</td>\n",
       "      <td>86%</td>\n",
       "      <td>97,754</td>\n",
       "      <td>www.anu.edu.au</td>\n",
       "      <td>+61 (0)2 6125 5111</td>\n",
       "      <td>Ellery Crescent, Acton\\n Canberra, Australian ...</td>\n",
       "    </tr>\n",
       "    <tr>\n",
       "      <th>4</th>\n",
       "      <td>Autonomous University of Barcelona</td>\n",
       "      <td>NaN</td>\n",
       "      <td>NaN</td>\n",
       "      <td>NaN</td>\n",
       "      <td>Europe</td>\n",
       "      <td>Italy</td>\n",
       "      <td>Emilia-Romagna</td>\n",
       "      <td>11%</td>\n",
       "      <td>74,922</td>\n",
       "      <td>www.uab.cat</td>\n",
       "      <td>+34 935812222</td>\n",
       "      <td>Campus de Bellaterra, Edificio A\\n Cerdanyola ...</td>\n",
       "    </tr>\n",
       "  </tbody>\n",
       "</table>\n",
       "</div>"
      ],
      "text/plain": [
       "                                 name   world_ranking region_ranking  \\\n",
       "0                   Aarhus University  #150 of 14,131   #44 of 2,785   \n",
       "1    Arizona State University - Tempe   #61 of 14,131   #48 of 2,597   \n",
       "2                   Auburn University             NaN            NaN   \n",
       "3      Australian National University   #88 of 14,131       #5 of 59   \n",
       "4  Autonomous University of Barcelona             NaN            NaN   \n",
       "\n",
       "  country_ranking         region        country      city\\state  \\\n",
       "0        #2 of 27         Europe          Italy          Veneto   \n",
       "1    #45 of 2,496         Europe          Spain        Valencia   \n",
       "2             NaN  North America  United States       Wisconsin   \n",
       "3        #5 of 40  North America         Canada         Ontario   \n",
       "4             NaN         Europe          Italy  Emilia-Romagna   \n",
       "\n",
       "  acceptance_rate publication         website            phone_no  \\\n",
       "0             15%      89,633       www.au.dk       +45 8942 1111   \n",
       "1             NaN      99,086     www.asu.edu          8552785080   \n",
       "2             57%      36,231      auburn.edu          3348444000   \n",
       "3             86%      97,754  www.anu.edu.au  +61 (0)2 6125 5111   \n",
       "4             11%      74,922     www.uab.cat       +34 935812222   \n",
       "\n",
       "                                             address  \n",
       "0  Nordre Ringgade 1\\n Aarhus, Central Denmark Re...  \n",
       "1  University Drive and Mill Avenue\\n Tempe, Ariz...  \n",
       "2  Samford Hall\\n Auburn, Alabama, 36849 \\nUnited...  \n",
       "3  Ellery Crescent, Acton\\n Canberra, Australian ...  \n",
       "4  Campus de Bellaterra, Edificio A\\n Cerdanyola ...  "
      ]
     },
     "execution_count": 10,
     "metadata": {},
     "output_type": "execute_result"
    }
   ],
   "source": [
    "data.head() # 1st 5 elements"
   ]
  },
  {
   "cell_type": "markdown",
   "metadata": {},
   "source": [
    "- By deafult, the `.head()` will display first five rows.However we can set the desired number of rows to be displayed. \n",
    "`data.head(9)`\n",
    "\n",
    "7. __To print tail data__\n"
   ]
  },
  {
   "cell_type": "code",
   "execution_count": 11,
   "metadata": {},
   "outputs": [
    {
     "data": {
      "text/html": [
       "<div>\n",
       "<style scoped>\n",
       "    .dataframe tbody tr th:only-of-type {\n",
       "        vertical-align: middle;\n",
       "    }\n",
       "\n",
       "    .dataframe tbody tr th {\n",
       "        vertical-align: top;\n",
       "    }\n",
       "\n",
       "    .dataframe thead th {\n",
       "        text-align: right;\n",
       "    }\n",
       "</style>\n",
       "<table border=\"1\" class=\"dataframe\">\n",
       "  <thead>\n",
       "    <tr style=\"text-align: right;\">\n",
       "      <th></th>\n",
       "      <th>name</th>\n",
       "      <th>world_ranking</th>\n",
       "      <th>region_ranking</th>\n",
       "      <th>country_ranking</th>\n",
       "      <th>region</th>\n",
       "      <th>country</th>\n",
       "      <th>city\\state</th>\n",
       "      <th>acceptance_rate</th>\n",
       "      <th>publication</th>\n",
       "      <th>website</th>\n",
       "      <th>phone_no</th>\n",
       "      <th>address</th>\n",
       "    </tr>\n",
       "  </thead>\n",
       "  <tbody>\n",
       "    <tr>\n",
       "      <th>295</th>\n",
       "      <td>Xi'an Jiaotong University</td>\n",
       "      <td>NaN</td>\n",
       "      <td>NaN</td>\n",
       "      <td>NaN</td>\n",
       "      <td>North America</td>\n",
       "      <td>United States</td>\n",
       "      <td>Connecticut</td>\n",
       "      <td>7%</td>\n",
       "      <td>96,097</td>\n",
       "      <td>www.xjtu.edu.cn</td>\n",
       "      <td>+86 (29) 266 8830</td>\n",
       "      <td>28 Xianning Road\\n Xi'an, Shaanxi, 710049 \\nChina</td>\n",
       "    </tr>\n",
       "    <tr>\n",
       "      <th>296</th>\n",
       "      <td>Yale University</td>\n",
       "      <td>#11 of 14,131</td>\n",
       "      <td>#9 of 2,597</td>\n",
       "      <td>#9 of 2,496</td>\n",
       "      <td>Asia</td>\n",
       "      <td>China</td>\n",
       "      <td>Xi'an</td>\n",
       "      <td>NaN</td>\n",
       "      <td>198,095</td>\n",
       "      <td>www.yale.edu</td>\n",
       "      <td>2034324771</td>\n",
       "      <td>Woodbridge Hall\\n New Haven, Connecticut, 0652...</td>\n",
       "    </tr>\n",
       "    <tr>\n",
       "      <th>297</th>\n",
       "      <td>Yonsei University</td>\n",
       "      <td>NaN</td>\n",
       "      <td>NaN</td>\n",
       "      <td>NaN</td>\n",
       "      <td>North America</td>\n",
       "      <td>United States</td>\n",
       "      <td>Washington</td>\n",
       "      <td>56%</td>\n",
       "      <td>95,497</td>\n",
       "      <td>www.yonsei.ac.kr</td>\n",
       "      <td>+82 (2) 2123 2114</td>\n",
       "      <td>134 Sinchon-dong, Seodaemun-gu\\n Seoul, Seoul,...</td>\n",
       "    </tr>\n",
       "    <tr>\n",
       "      <th>298</th>\n",
       "      <td>York University</td>\n",
       "      <td>NaN</td>\n",
       "      <td>NaN</td>\n",
       "      <td>NaN</td>\n",
       "      <td>Oceania</td>\n",
       "      <td>Australia</td>\n",
       "      <td>Canberra</td>\n",
       "      <td>33%</td>\n",
       "      <td>41,257</td>\n",
       "      <td>yorku.ca</td>\n",
       "      <td>+1 (416) 736 5002</td>\n",
       "      <td>4700 Keele Street\\n Toronto, Ontario, M3J 1P3 ...</td>\n",
       "    </tr>\n",
       "    <tr>\n",
       "      <th>299</th>\n",
       "      <td>Zhejiang University</td>\n",
       "      <td>#109 of 14,131</td>\n",
       "      <td>#7 of 5,830</td>\n",
       "      <td>#3 of 960</td>\n",
       "      <td>North America</td>\n",
       "      <td>United States</td>\n",
       "      <td>Alabama</td>\n",
       "      <td>52%</td>\n",
       "      <td>176,136</td>\n",
       "      <td>www.zju.edu.cn</td>\n",
       "      <td>+86 (571) 8795 1020</td>\n",
       "      <td>38 Zheda Road, Xihu\\n Hangzhou, Zhejiang, 3100...</td>\n",
       "    </tr>\n",
       "  </tbody>\n",
       "</table>\n",
       "</div>"
      ],
      "text/plain": [
       "                          name   world_ranking region_ranking country_ranking  \\\n",
       "295  Xi'an Jiaotong University             NaN            NaN             NaN   \n",
       "296            Yale University   #11 of 14,131    #9 of 2,597     #9 of 2,496   \n",
       "297          Yonsei University             NaN            NaN             NaN   \n",
       "298            York University             NaN            NaN             NaN   \n",
       "299        Zhejiang University  #109 of 14,131    #7 of 5,830       #3 of 960   \n",
       "\n",
       "            region        country   city\\state acceptance_rate publication  \\\n",
       "295  North America  United States  Connecticut              7%      96,097   \n",
       "296           Asia          China        Xi'an             NaN     198,095   \n",
       "297  North America  United States   Washington             56%      95,497   \n",
       "298        Oceania      Australia     Canberra             33%      41,257   \n",
       "299  North America  United States      Alabama             52%     176,136   \n",
       "\n",
       "              website             phone_no  \\\n",
       "295   www.xjtu.edu.cn    +86 (29) 266 8830   \n",
       "296      www.yale.edu           2034324771   \n",
       "297  www.yonsei.ac.kr    +82 (2) 2123 2114   \n",
       "298          yorku.ca    +1 (416) 736 5002   \n",
       "299    www.zju.edu.cn  +86 (571) 8795 1020   \n",
       "\n",
       "                                               address  \n",
       "295  28 Xianning Road\\n Xi'an, Shaanxi, 710049 \\nChina  \n",
       "296  Woodbridge Hall\\n New Haven, Connecticut, 0652...  \n",
       "297  134 Sinchon-dong, Seodaemun-gu\\n Seoul, Seoul,...  \n",
       "298  4700 Keele Street\\n Toronto, Ontario, M3J 1P3 ...  \n",
       "299  38 Zheda Road, Xihu\\n Hangzhou, Zhejiang, 3100...  "
      ]
     },
     "execution_count": 11,
     "metadata": {},
     "output_type": "execute_result"
    }
   ],
   "source": [
    "data.tail() # Last 5"
   ]
  },
  {
   "cell_type": "markdown",
   "metadata": {},
   "source": [
    "-  To obtain the dimensions of the data"
   ]
  },
  {
   "cell_type": "code",
   "execution_count": 12,
   "metadata": {},
   "outputs": [
    {
     "data": {
      "text/plain": [
       "(300, 12)"
      ]
     },
     "execution_count": 12,
     "metadata": {},
     "output_type": "execute_result"
    }
   ],
   "source": [
    "data.shape\n",
    "# (rows,columns)"
   ]
  },
  {
   "cell_type": "markdown",
   "metadata": {},
   "source": [
    "9. __To know the data types of the data frame__"
   ]
  },
  {
   "cell_type": "code",
   "execution_count": 13,
   "metadata": {},
   "outputs": [
    {
     "data": {
      "text/plain": [
       "name               object\n",
       "world_ranking      object\n",
       "region_ranking     object\n",
       "country_ranking    object\n",
       "region             object\n",
       "country            object\n",
       "city\\state         object\n",
       "acceptance_rate    object\n",
       "publication        object\n",
       "website            object\n",
       "phone_no           object\n",
       "address            object\n",
       "dtype: object"
      ]
     },
     "execution_count": 13,
     "metadata": {},
     "output_type": "execute_result"
    }
   ],
   "source": [
    "data.dtypes\n",
    "# Shows Data type of each variable"
   ]
  },
  {
   "cell_type": "markdown",
   "metadata": {},
   "source": [
    "10. To know some information of the data"
   ]
  },
  {
   "cell_type": "code",
   "execution_count": 14,
   "metadata": {},
   "outputs": [
    {
     "name": "stdout",
     "output_type": "stream",
     "text": [
      "<class 'pandas.core.frame.DataFrame'>\n",
      "RangeIndex: 300 entries, 0 to 299\n",
      "Data columns (total 12 columns):\n",
      " #   Column           Non-Null Count  Dtype \n",
      "---  ------           --------------  ----- \n",
      " 0   name             300 non-null    object\n",
      " 1   world_ranking    199 non-null    object\n",
      " 2   region_ranking   199 non-null    object\n",
      " 3   country_ranking  199 non-null    object\n",
      " 4   region           300 non-null    object\n",
      " 5   country          300 non-null    object\n",
      " 6   city\\state       300 non-null    object\n",
      " 7   acceptance_rate  224 non-null    object\n",
      " 8   publication      300 non-null    object\n",
      " 9   website          294 non-null    object\n",
      " 10  phone_no         296 non-null    object\n",
      " 11  address          300 non-null    object\n",
      "dtypes: object(12)\n",
      "memory usage: 28.2+ KB\n"
     ]
    }
   ],
   "source": [
    "data.info()"
   ]
  },
  {
   "cell_type": "markdown",
   "metadata": {},
   "source": [
    "- We see this output gives the number of rows present in the data `RangeIndex: 300 entries, 0 to 299` There are 23 rows numbered from 0 to 22. And there are a total of three columns - `Data columns (total 12 columns):`\n",
    "\n",
    "Consider `0 name 300 non-null object` indicates that the column named 'Age' has 300 non-null observations having a datatype of `object` and finally the memory used to save this data frame is `memory usage: 28.2+ KB`\n",
    "\n",
    "11. __To check the data type of column in the data frame__"
   ]
  },
  {
   "cell_type": "code",
   "execution_count": 15,
   "metadata": {},
   "outputs": [
    {
     "data": {
      "text/plain": [
       "pandas.core.series.Series"
      ]
     },
     "execution_count": 15,
     "metadata": {},
     "output_type": "execute_result"
    }
   ],
   "source": [
    "type(data.name)"
   ]
  },
  {
   "cell_type": "code",
   "execution_count": 16,
   "metadata": {},
   "outputs": [
    {
     "data": {
      "text/plain": [
       "pandas.core.series.Series"
      ]
     },
     "execution_count": 16,
     "metadata": {},
     "output_type": "execute_result"
    }
   ],
   "source": [
    "type(data[\"publication\"])"
   ]
  },
  {
   "cell_type": "markdown",
   "metadata": {},
   "source": [
    "- Note that every column on the data frame is a panda Series\n",
    "\n",
    "# 4.2 Manipulating DataFrames "
   ]
  },
  {
   "cell_type": "markdown",
   "metadata": {},
   "source": [
    "1. __Adding new column to data set__"
   ]
  },
  {
   "cell_type": "code",
   "execution_count": null,
   "metadata": {},
   "outputs": [],
   "source": [
    "data[\"BMI\"] = data[\"weight\"] / data[\"height\"]**2"
   ]
  },
  {
   "cell_type": "markdown",
   "metadata": {},
   "source": [
    "2. __Add a new row in a data set__\n",
    "- A new row can be added using the `.copy()`."
   ]
  },
  {
   "cell_type": "code",
   "execution_count": null,
   "metadata": {},
   "outputs": [],
   "source": [
    "# In the case of tuples , when index is changed .. it changes the ordering of original data frames.\n",
    "# create a copy\n",
    "data_copy = data.copy()\n",
    "# Add a new row at index and add infomation in the \n",
    "data_copy.loc[301] = [\"Zhejiang University\"\t]"
   ]
  },
  {
   "cell_type": "markdown",
   "metadata": {},
   "source": [
    "- We see that the new colmn number 23 has beeb added to the dat.\n",
    "\n",
    "3. __Indexing a dataframe using `.iloc()`__\n",
    "- `DataFrame.iloc[]` method is used when the index label of the data frame is something other than numeric series of 0,1,2,3...n or incase the user doesnt know the index label.\n",
    "\n",
    "we shall work on the BMI data-set\n",
    "\n",
    "__Select the second row__"
   ]
  },
  {
   "cell_type": "code",
   "execution_count": 8,
   "metadata": {},
   "outputs": [
    {
     "data": {
      "text/plain": [
       "name                                               Auburn University\n",
       "world_ranking                                                    NaN\n",
       "region_ranking                                                   NaN\n",
       "country_ranking                                                  NaN\n",
       "region                                                 North America\n",
       "country                                                United States\n",
       "city\\state                                                 Wisconsin\n",
       "acceptance_rate                                                  57%\n",
       "publication                                                   36,231\n",
       "website                                                   auburn.edu\n",
       "phone_no                                                  3348444000\n",
       "address            Samford Hall\\n Auburn, Alabama, 36849 \\nUnited...\n",
       "Name: 2, dtype: object"
      ]
     },
     "execution_count": 8,
     "metadata": {},
     "output_type": "execute_result"
    }
   ],
   "source": [
    "data.iloc[2]"
   ]
  },
  {
   "cell_type": "markdown",
   "metadata": {},
   "source": [
    "__Slect 4th,7th and 10th rows__"
   ]
  },
  {
   "cell_type": "code",
   "execution_count": 11,
   "metadata": {},
   "outputs": [
    {
     "data": {
      "text/html": [
       "<div>\n",
       "<style scoped>\n",
       "    .dataframe tbody tr th:only-of-type {\n",
       "        vertical-align: middle;\n",
       "    }\n",
       "\n",
       "    .dataframe tbody tr th {\n",
       "        vertical-align: top;\n",
       "    }\n",
       "\n",
       "    .dataframe thead th {\n",
       "        text-align: right;\n",
       "    }\n",
       "</style>\n",
       "<table border=\"1\" class=\"dataframe\">\n",
       "  <thead>\n",
       "    <tr style=\"text-align: right;\">\n",
       "      <th></th>\n",
       "      <th>name</th>\n",
       "      <th>world_ranking</th>\n",
       "      <th>region_ranking</th>\n",
       "      <th>country_ranking</th>\n",
       "      <th>region</th>\n",
       "      <th>country</th>\n",
       "      <th>city\\state</th>\n",
       "      <th>acceptance_rate</th>\n",
       "      <th>publication</th>\n",
       "      <th>website</th>\n",
       "      <th>phone_no</th>\n",
       "      <th>address</th>\n",
       "    </tr>\n",
       "  </thead>\n",
       "  <tbody>\n",
       "    <tr>\n",
       "      <th>4</th>\n",
       "      <td>Autonomous University of Barcelona</td>\n",
       "      <td>NaN</td>\n",
       "      <td>NaN</td>\n",
       "      <td>NaN</td>\n",
       "      <td>Europe</td>\n",
       "      <td>Italy</td>\n",
       "      <td>Emilia-Romagna</td>\n",
       "      <td>11%</td>\n",
       "      <td>74,922</td>\n",
       "      <td>www.uab.cat</td>\n",
       "      <td>+34 935812222</td>\n",
       "      <td>Campus de Bellaterra, Edificio A\\n Cerdanyola ...</td>\n",
       "    </tr>\n",
       "    <tr>\n",
       "      <th>7</th>\n",
       "      <td>Boston University</td>\n",
       "      <td>#49 of 14,131</td>\n",
       "      <td>#42 of 2,597</td>\n",
       "      <td>#39 of 2,496</td>\n",
       "      <td>Europe</td>\n",
       "      <td>Greece</td>\n",
       "      <td>Athens</td>\n",
       "      <td>NaN</td>\n",
       "      <td>107,676</td>\n",
       "      <td>bu.edu</td>\n",
       "      <td>6173532000</td>\n",
       "      <td>One Silber Way\\n Boston, Massachusetts, 02215 ...</td>\n",
       "    </tr>\n",
       "  </tbody>\n",
       "</table>\n",
       "</div>"
      ],
      "text/plain": [
       "                                 name  world_ranking region_ranking  \\\n",
       "4  Autonomous University of Barcelona            NaN            NaN   \n",
       "7                   Boston University  #49 of 14,131   #42 of 2,597   \n",
       "\n",
       "  country_ranking  region country      city\\state acceptance_rate publication  \\\n",
       "4             NaN  Europe   Italy  Emilia-Romagna             11%      74,922   \n",
       "7    #39 of 2,496  Europe  Greece          Athens             NaN     107,676   \n",
       "\n",
       "       website       phone_no  \\\n",
       "4  www.uab.cat  +34 935812222   \n",
       "7       bu.edu     6173532000   \n",
       "\n",
       "                                             address  \n",
       "4  Campus de Bellaterra, Edificio A\\n Cerdanyola ...  \n",
       "7  One Silber Way\\n Boston, Massachusetts, 02215 ...  "
      ]
     },
     "execution_count": 11,
     "metadata": {},
     "output_type": "execute_result"
    }
   ],
   "source": [
    "# Creates a sub data frame from the list passed to it \n",
    "data.iloc[[4,7]]"
   ]
  },
  {
   "cell_type": "markdown",
   "metadata": {},
   "source": [
    "- We use square brakets since we are passing a list of row numbers to be accessed.\n",
    "\n",
    "__Select 2nd to 5th rows__"
   ]
  },
  {
   "cell_type": "code",
   "execution_count": 12,
   "metadata": {},
   "outputs": [
    {
     "data": {
      "text/html": [
       "<div>\n",
       "<style scoped>\n",
       "    .dataframe tbody tr th:only-of-type {\n",
       "        vertical-align: middle;\n",
       "    }\n",
       "\n",
       "    .dataframe tbody tr th {\n",
       "        vertical-align: top;\n",
       "    }\n",
       "\n",
       "    .dataframe thead th {\n",
       "        text-align: right;\n",
       "    }\n",
       "</style>\n",
       "<table border=\"1\" class=\"dataframe\">\n",
       "  <thead>\n",
       "    <tr style=\"text-align: right;\">\n",
       "      <th></th>\n",
       "      <th>name</th>\n",
       "      <th>world_ranking</th>\n",
       "      <th>region_ranking</th>\n",
       "      <th>country_ranking</th>\n",
       "      <th>region</th>\n",
       "      <th>country</th>\n",
       "      <th>city\\state</th>\n",
       "      <th>acceptance_rate</th>\n",
       "      <th>publication</th>\n",
       "      <th>website</th>\n",
       "      <th>phone_no</th>\n",
       "      <th>address</th>\n",
       "    </tr>\n",
       "  </thead>\n",
       "  <tbody>\n",
       "    <tr>\n",
       "      <th>2</th>\n",
       "      <td>Auburn University</td>\n",
       "      <td>NaN</td>\n",
       "      <td>NaN</td>\n",
       "      <td>NaN</td>\n",
       "      <td>North America</td>\n",
       "      <td>United States</td>\n",
       "      <td>Wisconsin</td>\n",
       "      <td>57%</td>\n",
       "      <td>36,231</td>\n",
       "      <td>auburn.edu</td>\n",
       "      <td>3348444000</td>\n",
       "      <td>Samford Hall\\n Auburn, Alabama, 36849 \\nUnited...</td>\n",
       "    </tr>\n",
       "    <tr>\n",
       "      <th>3</th>\n",
       "      <td>Australian National University</td>\n",
       "      <td>#88 of 14,131</td>\n",
       "      <td>#5 of 59</td>\n",
       "      <td>#5 of 40</td>\n",
       "      <td>North America</td>\n",
       "      <td>Canada</td>\n",
       "      <td>Ontario</td>\n",
       "      <td>86%</td>\n",
       "      <td>97,754</td>\n",
       "      <td>www.anu.edu.au</td>\n",
       "      <td>+61 (0)2 6125 5111</td>\n",
       "      <td>Ellery Crescent, Acton\\n Canberra, Australian ...</td>\n",
       "    </tr>\n",
       "    <tr>\n",
       "      <th>4</th>\n",
       "      <td>Autonomous University of Barcelona</td>\n",
       "      <td>NaN</td>\n",
       "      <td>NaN</td>\n",
       "      <td>NaN</td>\n",
       "      <td>Europe</td>\n",
       "      <td>Italy</td>\n",
       "      <td>Emilia-Romagna</td>\n",
       "      <td>11%</td>\n",
       "      <td>74,922</td>\n",
       "      <td>www.uab.cat</td>\n",
       "      <td>+34 935812222</td>\n",
       "      <td>Campus de Bellaterra, Edificio A\\n Cerdanyola ...</td>\n",
       "    </tr>\n",
       "  </tbody>\n",
       "</table>\n",
       "</div>"
      ],
      "text/plain": [
       "                                 name  world_ranking region_ranking  \\\n",
       "2                   Auburn University            NaN            NaN   \n",
       "3      Australian National University  #88 of 14,131       #5 of 59   \n",
       "4  Autonomous University of Barcelona            NaN            NaN   \n",
       "\n",
       "  country_ranking         region        country      city\\state  \\\n",
       "2             NaN  North America  United States       Wisconsin   \n",
       "3        #5 of 40  North America         Canada         Ontario   \n",
       "4             NaN         Europe          Italy  Emilia-Romagna   \n",
       "\n",
       "  acceptance_rate publication         website            phone_no  \\\n",
       "2             57%      36,231      auburn.edu          3348444000   \n",
       "3             86%      97,754  www.anu.edu.au  +61 (0)2 6125 5111   \n",
       "4             11%      74,922     www.uab.cat       +34 935812222   \n",
       "\n",
       "                                             address  \n",
       "2  Samford Hall\\n Auburn, Alabama, 36849 \\nUnited...  \n",
       "3  Ellery Crescent, Acton\\n Canberra, Australian ...  \n",
       "4  Campus de Bellaterra, Edificio A\\n Cerdanyola ...  "
      ]
     },
     "execution_count": 12,
     "metadata": {},
     "output_type": "execute_result"
    }
   ],
   "source": [
    "data.iloc[2:5]"
   ]
  },
  {
   "cell_type": "markdown",
   "metadata": {},
   "source": [
    "- __Select First Column__"
   ]
  },
  {
   "cell_type": "code",
   "execution_count": 15,
   "metadata": {},
   "outputs": [
    {
     "data": {
      "text/plain": [
       "0                       Aarhus University\n",
       "1        Arizona State University - Tempe\n",
       "2                       Auburn University\n",
       "3          Australian National University\n",
       "4      Autonomous University of Barcelona\n",
       "                      ...                \n",
       "295             Xi'an Jiaotong University\n",
       "296                       Yale University\n",
       "297                     Yonsei University\n",
       "298                       York University\n",
       "299                   Zhejiang University\n",
       "Name: name, Length: 300, dtype: object"
      ]
     },
     "execution_count": 15,
     "metadata": {},
     "output_type": "execute_result"
    }
   ],
   "source": [
    "# going after the first column\n",
    "data.iloc[:,0]"
   ]
  },
  {
   "cell_type": "code",
   "execution_count": 16,
   "metadata": {},
   "outputs": [
    {
     "data": {
      "text/plain": [
       "0      Nordre Ringgade 1\\n Aarhus, Central Denmark Re...\n",
       "1      University Drive and Mill Avenue\\n Tempe, Ariz...\n",
       "2      Samford Hall\\n Auburn, Alabama, 36849 \\nUnited...\n",
       "3      Ellery Crescent, Acton\\n Canberra, Australian ...\n",
       "4      Campus de Bellaterra, Edificio A\\n Cerdanyola ...\n",
       "                             ...                        \n",
       "295    28 Xianning Road\\n Xi'an, Shaanxi, 710049 \\nChina\n",
       "296    Woodbridge Hall\\n New Haven, Connecticut, 0652...\n",
       "297    134 Sinchon-dong, Seodaemun-gu\\n Seoul, Seoul,...\n",
       "298    4700 Keele Street\\n Toronto, Ontario, M3J 1P3 ...\n",
       "299    38 Zheda Road, Xihu\\n Hangzhou, Zhejiang, 3100...\n",
       "Name: address, Length: 300, dtype: object"
      ]
     },
     "execution_count": 16,
     "metadata": {},
     "output_type": "execute_result"
    }
   ],
   "source": [
    "# Select last column\n",
    "data.iloc[:,-1]"
   ]
  },
  {
   "cell_type": "code",
   "execution_count": 17,
   "metadata": {},
   "outputs": [
    {
     "data": {
      "text/html": [
       "<div>\n",
       "<style scoped>\n",
       "    .dataframe tbody tr th:only-of-type {\n",
       "        vertical-align: middle;\n",
       "    }\n",
       "\n",
       "    .dataframe tbody tr th {\n",
       "        vertical-align: top;\n",
       "    }\n",
       "\n",
       "    .dataframe thead th {\n",
       "        text-align: right;\n",
       "    }\n",
       "</style>\n",
       "<table border=\"1\" class=\"dataframe\">\n",
       "  <thead>\n",
       "    <tr style=\"text-align: right;\">\n",
       "      <th></th>\n",
       "      <th>name</th>\n",
       "    </tr>\n",
       "  </thead>\n",
       "  <tbody>\n",
       "    <tr>\n",
       "      <th>0</th>\n",
       "      <td>Aarhus University</td>\n",
       "    </tr>\n",
       "    <tr>\n",
       "      <th>1</th>\n",
       "      <td>Arizona State University - Tempe</td>\n",
       "    </tr>\n",
       "    <tr>\n",
       "      <th>2</th>\n",
       "      <td>Auburn University</td>\n",
       "    </tr>\n",
       "    <tr>\n",
       "      <th>3</th>\n",
       "      <td>Australian National University</td>\n",
       "    </tr>\n",
       "    <tr>\n",
       "      <th>4</th>\n",
       "      <td>Autonomous University of Barcelona</td>\n",
       "    </tr>\n",
       "    <tr>\n",
       "      <th>...</th>\n",
       "      <td>...</td>\n",
       "    </tr>\n",
       "    <tr>\n",
       "      <th>295</th>\n",
       "      <td>Xi'an Jiaotong University</td>\n",
       "    </tr>\n",
       "    <tr>\n",
       "      <th>296</th>\n",
       "      <td>Yale University</td>\n",
       "    </tr>\n",
       "    <tr>\n",
       "      <th>297</th>\n",
       "      <td>Yonsei University</td>\n",
       "    </tr>\n",
       "    <tr>\n",
       "      <th>298</th>\n",
       "      <td>York University</td>\n",
       "    </tr>\n",
       "    <tr>\n",
       "      <th>299</th>\n",
       "      <td>Zhejiang University</td>\n",
       "    </tr>\n",
       "  </tbody>\n",
       "</table>\n",
       "<p>300 rows × 1 columns</p>\n",
       "</div>"
      ],
      "text/plain": [
       "                                   name\n",
       "0                     Aarhus University\n",
       "1      Arizona State University - Tempe\n",
       "2                     Auburn University\n",
       "3        Australian National University\n",
       "4    Autonomous University of Barcelona\n",
       "..                                  ...\n",
       "295           Xi'an Jiaotong University\n",
       "296                     Yale University\n",
       "297                   Yonsei University\n",
       "298                     York University\n",
       "299                 Zhejiang University\n",
       "\n",
       "[300 rows x 1 columns]"
      ]
     },
     "execution_count": 17,
     "metadata": {},
     "output_type": "execute_result"
    }
   ],
   "source": [
    "# Select 2  columns\n",
    "data.iloc[:,0:1]"
   ]
  },
  {
   "cell_type": "markdown",
   "metadata": {},
   "source": [
    "__Selecting the first 2 columns and first 5 cells__"
   ]
  },
  {
   "cell_type": "code",
   "execution_count": 18,
   "metadata": {},
   "outputs": [
    {
     "data": {
      "text/html": [
       "<div>\n",
       "<style scoped>\n",
       "    .dataframe tbody tr th:only-of-type {\n",
       "        vertical-align: middle;\n",
       "    }\n",
       "\n",
       "    .dataframe tbody tr th {\n",
       "        vertical-align: top;\n",
       "    }\n",
       "\n",
       "    .dataframe thead th {\n",
       "        text-align: right;\n",
       "    }\n",
       "</style>\n",
       "<table border=\"1\" class=\"dataframe\">\n",
       "  <thead>\n",
       "    <tr style=\"text-align: right;\">\n",
       "      <th></th>\n",
       "      <th>name</th>\n",
       "      <th>world_ranking</th>\n",
       "    </tr>\n",
       "  </thead>\n",
       "  <tbody>\n",
       "    <tr>\n",
       "      <th>5</th>\n",
       "      <td>Baylor College of Medicine</td>\n",
       "      <td>NaN</td>\n",
       "    </tr>\n",
       "    <tr>\n",
       "      <th>6</th>\n",
       "      <td>Boston College</td>\n",
       "      <td>NaN</td>\n",
       "    </tr>\n",
       "  </tbody>\n",
       "</table>\n",
       "</div>"
      ],
      "text/plain": [
       "                         name world_ranking\n",
       "5  Baylor College of Medicine           NaN\n",
       "6              Boston College           NaN"
      ]
     },
     "execution_count": 18,
     "metadata": {},
     "output_type": "execute_result"
    }
   ],
   "source": [
    "data.iloc[5:7,0:2]"
   ]
  },
  {
   "cell_type": "markdown",
   "metadata": {},
   "source": [
    "4. __Indexing a dataframe using `.loc`__"
   ]
  },
  {
   "cell_type": "code",
   "execution_count": null,
   "metadata": {},
   "outputs": [],
   "source": []
  }
 ],
 "metadata": {
  "kernelspec": {
   "display_name": "Python 3.9.7 ('base')",
   "language": "python",
   "name": "python3"
  },
  "language_info": {
   "codemirror_mode": {
    "name": "ipython",
    "version": 3
   },
   "file_extension": ".py",
   "mimetype": "text/x-python",
   "name": "python",
   "nbconvert_exporter": "python",
   "pygments_lexer": "ipython3",
   "version": "3.9.7"
  },
  "orig_nbformat": 4,
  "vscode": {
   "interpreter": {
    "hash": "ad2bdc8ecc057115af97d19610ffacc2b4e99fae6737bb82f5d7fb13d2f2c186"
   }
  }
 },
 "nbformat": 4,
 "nbformat_minor": 2
}
