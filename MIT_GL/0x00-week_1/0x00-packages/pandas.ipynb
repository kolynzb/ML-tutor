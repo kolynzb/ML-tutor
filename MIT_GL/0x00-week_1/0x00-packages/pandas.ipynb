{
 "cells": [
  {
   "cell_type": "markdown",
   "metadata": {},
   "source": [
    "# Pandas\n",
    "1. Pandas\n",
    "2. Data structures\n",
    "3. Pandas Series Series\n",
    "     - Creating Series \n",
    "     - Manipulating Series\n",
    "4. Pandas Dataframes\n",
    "    - Creating Dataframes\n",
    "    - Manipulating Dataframes\n",
    "5. Reading Data from different Sources"
   ]
  },
  {
   "cell_type": "markdown",
   "metadata": {},
   "source": [
    "# 1. Pandas\n",
    "- It contains data structures and manipulation tools designed for data cleaning and analysis. \n",
    "- While it adopts many idioms from _Numpy_, there biggest difference is that Pandas is desined for working with tabular ot hereogenious data.NumPy , by contrast , is best suited for working with homogeneous numerical array data.\n",
    "- Its name is derieved from \"Panel data\" an econometrics term for multidimensional structured data sets."
   ]
  }
 ],
 "metadata": {
  "language_info": {
   "name": "python"
  },
  "orig_nbformat": 4
 },
 "nbformat": 4,
 "nbformat_minor": 2
}
