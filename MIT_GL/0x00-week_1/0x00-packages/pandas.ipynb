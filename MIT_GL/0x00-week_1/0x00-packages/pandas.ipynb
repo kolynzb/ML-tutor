{
 "cells": [
  {
   "cell_type": "markdown",
   "metadata": {},
   "source": [
    "# Pandas\n",
    "1. Pandas\n",
    "2. Data structures\n",
    "3. Pandas Series Series\n",
    "     - Creating Series \n",
    "     - Manipulating Series\n",
    "4. Pandas Dataframes\n",
    "    - Creating Dataframes\n",
    "    - Manipulating Dataframes\n",
    "5. Reading Data from different Sources"
   ]
  },
  {
   "cell_type": "markdown",
   "metadata": {},
   "source": [
    "## 1. Pandas\n",
    "- It contains data structures and manipulation tools designed for data cleaning and analysis. \n",
    "- While it adopts many idioms from _Numpy_, there biggest difference is that Pandas is desined for working with tabular ot hereogenious data.NumPy , by contrast , is best suited for working with homogeneous numerical array data.\n",
    "- Its name is derieved from \"Panel data\" an econometrics term for multidimensional structured data sets.\n",
    "\n",
    "### Pandas installation and import \n",
    "- installation \n",
    "`!pip install pandas`\n",
    "- Import \n",
    "`import pandas as pd` "
   ]
  },
  {
   "cell_type": "code",
   "execution_count": 2,
   "metadata": {},
   "outputs": [],
   "source": [
    "# Import Pandas \n",
    "import pandas as pd"
   ]
  },
  {
   "cell_type": "markdown",
   "metadata": {},
   "source": [
    "## 2. Data Structures\n",
    "- Pandas has 2 data structures as follows:\n",
    "1. A __Series__ is 1-dimensional labeled array that can hold data of any type (integer, float,string ,boolean,python object,and so on). Its axis labels are collectively called an index. \n",
    "2. A __DataFrame__ is a 2- dimensional labelled data structure with columns. it supports multiple datatypes.\n",
    "\n",
    "## 3. Pandas Series \n",
    "- Is a one- dimensional labeled arrau capable of holding any data type. However,a series is a sequence of homogenoues data types, similar to an array , list , or column in a tabe.\n",
    "- It will assign a labeled index to each item in the Series. By default, each item will receive an index label from 0 to N, where N is the length of the Series minus one.\n",
    "\n",
    "### 3.1 Creating Series \n",
    "1. __To create a numeric series__."
   ]
  },
  {
   "cell_type": "code",
   "execution_count": 3,
   "metadata": {},
   "outputs": [
    {
     "data": {
      "text/plain": [
       "0      1\n",
       "1      6\n",
       "2     11\n",
       "3     16\n",
       "4     21\n",
       "5     26\n",
       "6     31\n",
       "7     36\n",
       "8     41\n",
       "9     46\n",
       "10    51\n",
       "11    56\n",
       "12    61\n",
       "13    66\n",
       "14    71\n",
       "15    76\n",
       "16    81\n",
       "17    86\n",
       "18    91\n",
       "19    96\n",
       "dtype: int64"
      ]
     },
     "execution_count": 3,
     "metadata": {},
     "output_type": "execute_result"
    }
   ],
   "source": [
    "# Create a numeric series  \n",
    "numbers = range(1,100,5)\n",
    "pd.Series(numbers)"
   ]
  },
  {
   "cell_type": "markdown",
   "metadata": {},
   "source": [
    "- The output is of type `int64`\n",
    "- The row names are usually denoted as _\"Index\"_\n",
    "2. __To create an object series__"
   ]
  },
  {
   "cell_type": "code",
   "execution_count": 4,
   "metadata": {},
   "outputs": [
    {
     "data": {
      "text/plain": [
       "0      Hi\n",
       "1    How \n",
       "2    are \n",
       "3     you\n",
       "4       ?\n",
       "dtype: object"
      ]
     },
     "execution_count": 4,
     "metadata": {},
     "output_type": "execute_result"
    }
   ],
   "source": [
    "string = \"Hi\" , \"How \" , \"are \" ,\"you\",\"?\"\n",
    "pd.Series(string)"
   ]
  },
  {
   "cell_type": "markdown",
   "metadata": {},
   "source": [
    "- Output is of type `object`\n",
    "3. __To create a series with both numeric and string values__"
   ]
  },
  {
   "cell_type": "code",
   "execution_count": 5,
   "metadata": {},
   "outputs": [
    {
     "data": {
      "text/plain": [
       "0               365\n",
       "1            London\n",
       "2              34.5\n",
       "3             -34.5\n",
       "4    Happy Birthday\n",
       "dtype: object"
      ]
     },
     "execution_count": 5,
     "metadata": {},
     "output_type": "execute_result"
    }
   ],
   "source": [
    "# create a series with an arbituary list \n",
    "pd.Series([365,'London',34.5,-34.5,'Happy Birthday'])"
   ]
  },
  {
   "cell_type": "markdown",
   "metadata": {},
   "source": [
    "- Here numeric types are treated as objects. _A serie cannot have multiple data types so it defines all of them as an object_\n",
    "4. To set index values for a series."
   ]
  },
  {
   "cell_type": "code",
   "execution_count": 6,
   "metadata": {},
   "outputs": [
    {
     "data": {
      "text/plain": [
       "Math                60\n",
       "System design       89\n",
       "Cloud Computing     74\n",
       "Data Analysis       86\n",
       "React              100\n",
       "dtype: int64"
      ]
     },
     "execution_count": 6,
     "metadata": {},
     "output_type": "execute_result"
    }
   ],
   "source": [
    "marks = [60,89,74,86,100]\n",
    "\n",
    "subject = [\"Math\" , \"System design\" , \"Cloud Computing\" , \"Data Analysis\" , \"React\"]\n",
    "\n",
    "pd.Series(marks,index =subject)\n"
   ]
  },
  {
   "cell_type": "markdown",
   "metadata": {},
   "source": [
    "- the index is added usin the argument `index=`. The data tyoe if the series continues to be numeric.\n",
    "\n",
    "6. __To create series from a dictionary__"
   ]
  },
  {
   "cell_type": "code",
   "execution_count": 7,
   "metadata": {},
   "outputs": [
    {
     "data": {
      "text/plain": [
       "React      90\n",
       "Node       85\n",
       "Flutter    50\n",
       "Django     75\n",
       "dtype: int64"
      ]
     },
     "execution_count": 7,
     "metadata": {},
     "output_type": "execute_result"
    }
   ],
   "source": [
    "data = {'React':90,\"Node\":85,\"Flutter\":50,\"Django\":75}\n",
    "pd.Series(data)"
   ]
  },
  {
   "cell_type": "markdown",
   "metadata": {},
   "source": [
    "- On passing a dict the index in the resulting Series will have the dict's keys in sorted oder.\n",
    "\n",
    "6. __A series with missing values__\n",
    "- If we pass a key that is not defined then its value will be `NAN`"
   ]
  },
  {
   "cell_type": "code",
   "execution_count": 9,
   "metadata": {},
   "outputs": [
    {
     "data": {
      "text/plain": [
       "Math                NaN\n",
       "System design       NaN\n",
       "Cloud Computing     NaN\n",
       "Data Analysis       NaN\n",
       "React              90.0\n",
       "dtype: float64"
      ]
     },
     "execution_count": 9,
     "metadata": {},
     "output_type": "execute_result"
    }
   ],
   "source": [
    "subject = [\"Math\" , \"System design\" , \"Cloud Computing\" , \"Data Analysis\" , \"React\"] \n",
    "\n",
    "marks_series = pd.Series(data,index=subject)\n",
    "marks_series"
   ]
  },
  {
   "cell_type": "code",
   "execution_count": null,
   "metadata": {},
   "outputs": [],
   "source": []
  }
 ],
 "metadata": {
  "kernelspec": {
   "display_name": "Python 3.9.7 ('base')",
   "language": "python",
   "name": "python3"
  },
  "language_info": {
   "codemirror_mode": {
    "name": "ipython",
    "version": 3
   },
   "file_extension": ".py",
   "mimetype": "text/x-python",
   "name": "python",
   "nbconvert_exporter": "python",
   "pygments_lexer": "ipython3",
   "version": "3.9.7"
  },
  "orig_nbformat": 4,
  "vscode": {
   "interpreter": {
    "hash": "ad2bdc8ecc057115af97d19610ffacc2b4e99fae6737bb82f5d7fb13d2f2c186"
   }
  }
 },
 "nbformat": 4,
 "nbformat_minor": 2
}
