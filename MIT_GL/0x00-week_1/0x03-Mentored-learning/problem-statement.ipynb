{
 "cells": [
  {
   "attachments": {},
   "cell_type": "markdown",
   "metadata": {},
   "source": [
    "# Problem Statement - Forbes Billionaire Data Analysis\n",
    "### Context\n",
    "- Forbes is a media and publishing company based in the United States that is controlled by Integrated Whale Media Investments and the Forbes family. It is well-known for its magazine and rankings of billionaires and sports teams.\n",
    "- As a newly hired Data Scientist of Forbes company, you have been given the task of analyzing the net worth of Forbes Top Billionaires 2020. Your goal is to analyze the data and draw insights.\n",
    "\n",
    "### Objective\n",
    "- Analyze the net worth of Forbes Top Billionaires 2020.\n",
    "### Data Dictionary\n",
    "- `Name` - Name of the person\n",
    "- `Net worth` in billions  Net worth of the person in billions\n",
    "- `Country` - Country where the person is from\n",
    "- `Source` - Source of the income\n",
    "- `Rank` - Rank of the person on the Billionaires list\n",
    "- `Age` - Age of the person\n",
    "Industry - Industry to which the person is related to"
   ]
  }
 ],
 "metadata": {
  "language_info": {
   "name": "python"
  },
  "orig_nbformat": 4
 },
 "nbformat": 4,
 "nbformat_minor": 2
}
