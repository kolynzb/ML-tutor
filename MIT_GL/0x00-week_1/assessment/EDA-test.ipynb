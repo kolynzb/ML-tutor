{
 "cells": [
  {
   "attachments": {},
   "cell_type": "markdown",
   "metadata": {},
   "source": [
    "# Problem Statement - Suicide Rate Analysis\n",
    "## Context\n",
    "- Close to 800,000 people die due to suicide every year, which is one person every 40 seconds. Suicide is a global phenomenon and occurs throughout the lifespan. Effective and evidence-based interventions can be implemented at population, sub-population, and individual levels to prevent suicide and suicide attempts. There are indications that for each adult who died by suicide there may have been more than 20 others attempting suicide.\n",
    "\n",
    "## Objective\n",
    "- The objective of this case study is to find the patterns for increased suicide rates among different cohorts globally, across the socioeconomic spectrum by using exploratory data analysis(EDA).\n",
    "\n",
    "## Data Dictionary\n",
    "- We will be using the dataset about suicide rates from 1985 to 2016. This dataset has the following attributes:\n",
    "    - `country`: Country\n",
    "    - `year`: Year\n",
    "    - `sex`: Sex (male or female)\n",
    "    - `age`: Suicide age range, ages divided into six categories\n",
    "    - `suicides_no`: number of suicides\n",
    "    - `population`: population of that sex, in that age range, in that country, and in that year\n",
    "    - `suicides/100k pop`: Number of suicides per 100k population\n",
    "    - `gdp_for_year($)`: GDP of the country in that year in dollars\n",
    "    - `gdp_per_capita($)`: Ratio of the country’s GDP and its population\n",
    "    - `generation`: Generation of the suicides in question, being possible 6 different categories\n",
    "\n",
    "## Questions to explore\n",
    "- Is the suicide rate more prominent in some age categories than others?\n",
    "- Which countries have the most and the least number of suicides?\n",
    "- What is the effect of the population on suicide rates?\n",
    "- What is the effect of the GDP of a country on suicide rates?\n",
    "- What is the trend of suicide rates across all the years?\n",
    "- Is there a difference between the suicide rates of men and women?"
   ]
  },
  {
   "cell_type": "markdown",
   "metadata": {},
   "source": []
  }
 ],
 "metadata": {
  "language_info": {
   "name": "python"
  },
  "orig_nbformat": 4
 },
 "nbformat": 4,
 "nbformat_minor": 2
}
