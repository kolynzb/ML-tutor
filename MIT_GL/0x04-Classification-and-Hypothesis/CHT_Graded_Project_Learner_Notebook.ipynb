{
  "cells": [
    {
      "cell_type": "markdown",
      "id": "dense-medicaid",
      "metadata": {
        "id": "dense-medicaid"
      },
      "source": [
        "# **Project - Classification and Hypothesis Testing: Hotel Booking Cancellation Prediction**\n",
        "\n",
        "## **Marks: 40**\n",
        "\n",
        "---------------\n",
        "## **Problem Statement**\n",
        "\n",
        "### **Context**\n",
        "\n",
        "**A significant number of hotel bookings are called off due to cancellations or no-shows.** Typical reasons for cancellations include change of plans, scheduling conflicts, etc. This is often made easier by the option to do so free of charge or preferably at a low cost. This may be beneficial to hotel guests, but it is a less desirable and possibly revenue-diminishing factor for hotels to deal with. Such losses are particularly high on last-minute cancellations.\n",
        "\n",
        "The new technologies involving online booking channels have dramatically changed customers’ booking possibilities and behavior. This adds a further dimension to the challenge of how hotels handle cancellations, which are no longer limited to traditional booking and guest characteristics.\n",
        "\n",
        "This pattern of cancellations of bookings impacts a hotel on various fronts:\n",
        "1. **Loss of resources (revenue)** when the hotel cannot resell the room.\n",
        "2. **Additional costs of distribution channels** by increasing commissions or paying for publicity to help sell these rooms.\n",
        "3. **Lowering prices last minute**, so the hotel can resell a room, resulting in reducing the profit margin.\n",
        "4. **Human resources to make arrangements** for the guests.\n",
        "\n",
        "### **Objective**\n",
        "\n",
        "This increasing number of cancellations calls for a Machine Learning based solution that can help in predicting which booking is likely to be canceled. INN Hotels Group has a chain of hotels in Portugal - they are facing problems with this high number of booking cancellations and have reached out to your firm for data-driven solutions. You, as a Data Scientist, have to analyze the data provided to find which factors have a high influence on booking cancellations, build a predictive model that can predict which booking is going to be canceled in advance, and help in formulating profitable policies for cancellations and refunds.\n",
        "\n",
        "\n",
        "### **Data Description**\n",
        "\n",
        "The data contains the different attributes of customers' booking details. The detailed data dictionary is given below:\n",
        "\n",
        "\n",
        "**Data Dictionary**\n",
        "\n",
        "* **Booking_ID:** Unique identifier of each booking\n",
        "* **no_of_adults:** Number of adults\n",
        "* **no_of_children:** Number of children\n",
        "* **no_of_weekend_nights:** Number of weekend nights (Saturday or Sunday) the guest stayed or booked to stay at the hotel\n",
        "* **no_of_week_nights:** Number of weekday nights (Monday to Friday) the guest stayed or booked to stay at the hotel\n",
        "* **type_of_meal_plan:** Type of meal plan booked by the customer:\n",
        "    * Not Selected – No meal plan selected\n",
        "    * Meal Plan 1 – Breakfast\n",
        "    * Meal Plan 2 – Half board (breakfast and one other meal)\n",
        "    * Meal Plan 3 – Full board (breakfast, lunch, and dinner)\n",
        "* **required_car_parking_space:** Does the customer require a car parking space? (0 - No, 1- Yes)\n",
        "* **room_type_reserved:** Type of room reserved by the customer. The values are ciphered (encoded) by INN Hotels.\n",
        "* **lead_time:** Number of days between the date of booking and the arrival date\n",
        "* **arrival_year:** Year of arrival date\n",
        "* **arrival_month:** Month of arrival date\n",
        "* **arrival_date:** Date of the month\n",
        "* **market_segment_type:** Market segment designation.\n",
        "* **repeated_guest:** Is the customer a repeated guest? (0 - No, 1- Yes)\n",
        "* **no_of_previous_cancellations:** Number of previous bookings that were canceled by the customer prior to the current booking\n",
        "* **no_of_previous_bookings_not_canceled:** Number of previous bookings not canceled by the customer prior to the current booking\n",
        "* **avg_price_per_room:** Average price per day of the reservation; prices of the rooms are dynamic. (in euros)\n",
        "* **no_of_special_requests:** Total number of special requests made by the customer (e.g. high floor, view from the room, etc)\n",
        "* **booking_status:** Flag indicating if the booking was canceled or not."
      ]
    },
    {
      "cell_type": "markdown",
      "id": "tqfNqaJCQeEE",
      "metadata": {
        "id": "tqfNqaJCQeEE"
      },
      "source": [
        "## **Importing the libraries required**"
      ]
    },
    {
      "cell_type": "code",
      "execution_count": null,
      "id": "proper-calgary",
      "metadata": {
        "id": "proper-calgary"
      },
      "outputs": [],
      "source": [
        "# Importing the basic libraries we will require for the project\n",
        "\n",
        "# Libraries to help with reading and manipulating data\n",
        "import pandas as pd\n",
        "import numpy as np\n",
        "\n",
        "# Libaries to help with data visualization\n",
        "import matplotlib.pyplot as plt\n",
        "import seaborn as sns\n",
        "sns.set()\n",
        "\n",
        "# Importing the Machine Learning models we require from Scikit-Learn\n",
        "from sklearn.linear_model import LogisticRegression\n",
        "from sklearn.svm import SVC\n",
        "from sklearn.tree import DecisionTreeClassifier\n",
        "from sklearn import tree\n",
        "from sklearn.ensemble import RandomForestClassifier\n",
        "\n",
        "# Importing the other functions we may require from Scikit-Learn\n",
        "from sklearn.model_selection import train_test_split, GridSearchCV\n",
        "from sklearn.preprocessing import MinMaxScaler, LabelEncoder, OneHotEncoder\n",
        "\n",
        "# To get diferent metric scores\n",
        "from sklearn.metrics import confusion_matrix,classification_report,roc_auc_score,plot_confusion_matrix,precision_recall_curve,roc_curve,make_scorer\n",
        "\n",
        "# Code to ignore warnings from function usage\n",
        "import warnings;\n",
        "import numpy as np\n",
        "warnings.filterwarnings('ignore')"
      ]
    },
    {
      "cell_type": "markdown",
      "id": "fantastic-rebel",
      "metadata": {
        "id": "fantastic-rebel"
      },
      "source": [
        "## **Loading the dataset**"
      ]
    },
    {
      "cell_type": "code",
      "execution_count": null,
      "id": "precious-leonard",
      "metadata": {
        "id": "precious-leonard"
      },
      "outputs": [],
      "source": [
        "hotel = pd.read_csv(\"INNHotelsGroup.csv\")"
      ]
    },
    {
      "cell_type": "code",
      "execution_count": null,
      "id": "geographic-gender",
      "metadata": {
        "id": "geographic-gender"
      },
      "outputs": [],
      "source": [
        "# Copying data to another variable to avoid any changes to original data\n",
        "data = hotel.copy()"
      ]
    },
    {
      "cell_type": "markdown",
      "id": "fD7H-dajQqyQ",
      "metadata": {
        "id": "fD7H-dajQqyQ"
      },
      "source": [
        "## **Overview of the dataset**"
      ]
    },
    {
      "cell_type": "markdown",
      "id": "convinced-blackberry",
      "metadata": {
        "id": "convinced-blackberry"
      },
      "source": [
        "### **View the first and last 5 rows of the dataset**\n",
        "\n",
        "Let's **view the first few rows and last few rows** of the dataset in order to understand its structure a little better.\n",
        "\n",
        "We will use the head() and tail() methods from Pandas to do this."
      ]
    },
    {
      "cell_type": "code",
      "execution_count": null,
      "id": "tested-adjustment",
      "metadata": {
        "id": "tested-adjustment"
      },
      "outputs": [],
      "source": [
        "data.head()"
      ]
    },
    {
      "cell_type": "code",
      "execution_count": null,
      "id": "demonstrated-charger",
      "metadata": {
        "id": "demonstrated-charger"
      },
      "outputs": [],
      "source": [
        "data.tail()"
      ]
    },
    {
      "cell_type": "markdown",
      "id": "prepared-clause",
      "metadata": {
        "id": "prepared-clause"
      },
      "source": [
        "### **Understand the shape of the dataset**"
      ]
    },
    {
      "cell_type": "code",
      "execution_count": null,
      "id": "likely-scene",
      "metadata": {
        "id": "likely-scene"
      },
      "outputs": [],
      "source": [
        "data.shape"
      ]
    },
    {
      "cell_type": "markdown",
      "id": "sacred-language",
      "metadata": {
        "id": "sacred-language"
      },
      "source": [
        "* The dataset has 36275 rows and 19 columns. "
      ]
    },
    {
      "cell_type": "markdown",
      "id": "creative-warner",
      "metadata": {
        "id": "creative-warner"
      },
      "source": [
        "### **Check the data types of the columns for the dataset**"
      ]
    },
    {
      "cell_type": "code",
      "execution_count": null,
      "id": "expanded-technique",
      "metadata": {
        "id": "expanded-technique"
      },
      "outputs": [],
      "source": [
        "data.info()"
      ]
    },
    {
      "cell_type": "markdown",
      "id": "august-hopkins",
      "metadata": {
        "id": "august-hopkins"
      },
      "source": [
        "* `Booking_ID`, `type_of_meal_plan`, `room_type_reserved`, `market_segment_type`, and `booking_status` are of object type while rest columns are numeric in nature.\n",
        "\n",
        "* There are no null values in the dataset."
      ]
    },
    {
      "cell_type": "markdown",
      "id": "JrjZHnfFQ4fh",
      "metadata": {
        "id": "JrjZHnfFQ4fh"
      },
      "source": [
        "### **Dropping duplicate values**"
      ]
    },
    {
      "cell_type": "code",
      "execution_count": null,
      "id": "greenhouse-vertical",
      "metadata": {
        "id": "greenhouse-vertical"
      },
      "outputs": [],
      "source": [
        "# checking for duplicate values\n",
        "data.duplicated().sum()"
      ]
    },
    {
      "cell_type": "markdown",
      "id": "adjustable-programmer",
      "metadata": {
        "id": "adjustable-programmer"
      },
      "source": [
        "- There are **no duplicate values** in the data."
      ]
    },
    {
      "cell_type": "markdown",
      "id": "1-CD9xCkQ-bu",
      "metadata": {
        "id": "1-CD9xCkQ-bu"
      },
      "source": [
        "### **Dropping the unique values column**"
      ]
    },
    {
      "cell_type": "markdown",
      "id": "928c50b6",
      "metadata": {
        "id": "928c50b6"
      },
      "source": [
        "**Let's drop the Booking_ID column first before we proceed forward**, as a column with unique values will have almost no predictive power for the Machine Learning problem at hand."
      ]
    },
    {
      "cell_type": "code",
      "execution_count": null,
      "id": "referenced-architect",
      "metadata": {
        "id": "referenced-architect"
      },
      "outputs": [],
      "source": [
        "data = data.drop([\"Booking_ID\"], axis=1)"
      ]
    },
    {
      "cell_type": "code",
      "execution_count": null,
      "id": "40b248aa",
      "metadata": {
        "id": "40b248aa"
      },
      "outputs": [],
      "source": [
        "data.head()"
      ]
    },
    {
      "cell_type": "markdown",
      "id": "PT4JpT2NRKBB",
      "metadata": {
        "id": "PT4JpT2NRKBB"
      },
      "source": [
        "### **Question 1: Check the summary statistics of the dataset and write your observations (2 Marks)**\n",
        "\n"
      ]
    },
    {
      "cell_type": "markdown",
      "id": "seeing-newman",
      "metadata": {
        "id": "seeing-newman"
      },
      "source": [
        "**Let's check the statistical summary of the data.**"
      ]
    },
    {
      "cell_type": "code",
      "execution_count": null,
      "id": "backed-solution",
      "metadata": {
        "id": "backed-solution"
      },
      "outputs": [],
      "source": [
        "# Remove _________ and complete the code\n",
        "data.____________ "
      ]
    },
    {
      "cell_type": "markdown",
      "id": "personal-detector",
      "metadata": {
        "id": "personal-detector"
      },
      "source": [
        "**Write your answers here:_____**\n"
      ]
    },
    {
      "cell_type": "markdown",
      "id": "realistic-mortgage",
      "metadata": {
        "id": "realistic-mortgage"
      },
      "source": [
        "## **Exploratory Data Analysis**"
      ]
    },
    {
      "cell_type": "markdown",
      "id": "arbitrary-intelligence",
      "metadata": {
        "id": "arbitrary-intelligence"
      },
      "source": [
        "### **Question 2: Univariate Analysis**"
      ]
    },
    {
      "cell_type": "markdown",
      "id": "mieBnCRTbgT-",
      "metadata": {
        "id": "mieBnCRTbgT-"
      },
      "source": [
        "Let's explore these variables in some more depth by observing their distributions."
      ]
    },
    {
      "cell_type": "markdown",
      "id": "X76cVRmTb-Wb",
      "metadata": {
        "id": "X76cVRmTb-Wb"
      },
      "source": [
        "We will first define a **hist_box() function** that provides both a boxplot and a histogram in the same visual, with which we can perform univariate analysis on the columns of this dataset."
      ]
    },
    {
      "cell_type": "code",
      "execution_count": null,
      "id": "9k4V_XXCb495",
      "metadata": {
        "id": "9k4V_XXCb495"
      },
      "outputs": [],
      "source": [
        "# Defining the hist_box() function\n",
        "def hist_box(data,col):\n",
        "  f, (ax_box, ax_hist) = plt.subplots(2, sharex=True, gridspec_kw={'height_ratios': (0.15, 0.85)}, figsize=(12,6))\n",
        "  # Adding a graph in each part\n",
        "  sns.boxplot(data[col], ax=ax_box, showmeans=True)\n",
        "  sns.distplot(data[col], ax=ax_hist)\n",
        "  plt.show()"
      ]
    },
    {
      "cell_type": "markdown",
      "id": "GfcXGfchXHLV",
      "metadata": {
        "id": "GfcXGfchXHLV"
      },
      "source": [
        "#### **Question 2.1:  Plot the histogram and box plot for the variable `Lead Time` using the hist_box function provided and write your insights. (1 Mark)**"
      ]
    },
    {
      "cell_type": "code",
      "execution_count": null,
      "id": "italian-imagination",
      "metadata": {
        "id": "italian-imagination"
      },
      "outputs": [],
      "source": [
        "# Remove _________ and complete the code\n",
        "hist_box(__________) "
      ]
    },
    {
      "cell_type": "markdown",
      "id": "racial-pointer",
      "metadata": {
        "id": "racial-pointer"
      },
      "source": [
        "**Write your answers here:_____**"
      ]
    },
    {
      "cell_type": "markdown",
      "id": "UklkmdoEWPD-",
      "metadata": {
        "id": "UklkmdoEWPD-"
      },
      "source": [
        "#### **Question 2.2:  Plot the histogram and box plot for the variable `Average Price per Room` using the hist_box function provided and write your insights. (1 Mark)**"
      ]
    },
    {
      "cell_type": "code",
      "execution_count": null,
      "id": "liable-guess",
      "metadata": {
        "id": "liable-guess"
      },
      "outputs": [],
      "source": [
        "# Remove _________ and complete the code\n",
        "hist_box(________)"
      ]
    },
    {
      "cell_type": "markdown",
      "id": "little-metadata",
      "metadata": {
        "id": "little-metadata"
      },
      "source": [
        "**Write your answers here:_____**"
      ]
    },
    {
      "cell_type": "markdown",
      "id": "KP4f-yCq72Xl",
      "metadata": {
        "id": "KP4f-yCq72Xl"
      },
      "source": [
        "**Interestingly some rooms have a price equal to 0. Let's check them.**"
      ]
    },
    {
      "cell_type": "code",
      "execution_count": null,
      "id": "southern-organic",
      "metadata": {
        "id": "southern-organic"
      },
      "outputs": [],
      "source": [
        "data[data[\"avg_price_per_room\"] == 0]"
      ]
    },
    {
      "cell_type": "markdown",
      "id": "voluntary-diagnosis",
      "metadata": {
        "id": "voluntary-diagnosis"
      },
      "source": [
        "- There are quite a few hotel rooms which have a price equal to 0.\n",
        "- In the market segment column, it looks like many values are complementary."
      ]
    },
    {
      "cell_type": "code",
      "execution_count": null,
      "id": "written-stone",
      "metadata": {
        "id": "written-stone"
      },
      "outputs": [],
      "source": [
        "data.loc[data[\"avg_price_per_room\"] == 0, \"market_segment_type\"].value_counts()"
      ]
    },
    {
      "cell_type": "markdown",
      "id": "nutritional-gamma",
      "metadata": {
        "id": "nutritional-gamma"
      },
      "source": [
        "* It makes sense that most values with room prices equal to 0 are the rooms given as complimentary service from the hotel.\n",
        "* The rooms booked online must be a part of some promotional campaign done by the hotel."
      ]
    },
    {
      "cell_type": "code",
      "execution_count": null,
      "id": "potential-klein",
      "metadata": {
        "id": "potential-klein"
      },
      "outputs": [],
      "source": [
        "# Calculating the 25th quantile\n",
        "Q1 = data[\"avg_price_per_room\"].quantile(0.25)\n",
        "\n",
        "# Calculating the 75th quantile\n",
        "Q3 = data[\"avg_price_per_room\"].quantile(0.75)\n",
        "\n",
        "# Calculating IQR\n",
        "IQR = Q3 - Q1\n",
        "\n",
        "# Calculating value of upper whisker\n",
        "Upper_Whisker = Q3 + 1.5 * IQR\n",
        "Upper_Whisker"
      ]
    },
    {
      "cell_type": "code",
      "execution_count": null,
      "id": "assured-holder",
      "metadata": {
        "id": "assured-holder"
      },
      "outputs": [],
      "source": [
        "# assigning the outliers the value of upper whisker\n",
        "data.loc[data[\"avg_price_per_room\"] >= 500, \"avg_price_per_room\"] = Upper_Whisker"
      ]
    },
    {
      "cell_type": "markdown",
      "id": "skGK7OuPumzs",
      "metadata": {
        "id": "skGK7OuPumzs"
      },
      "source": [
        "#### **Let's understand the distribution of the categorical variables**"
      ]
    },
    {
      "cell_type": "markdown",
      "id": "7dvPDVs3YQV-",
      "metadata": {
        "id": "7dvPDVs3YQV-"
      },
      "source": [
        "**Number of Children**"
      ]
    },
    {
      "cell_type": "code",
      "execution_count": null,
      "id": "finite-kingston",
      "metadata": {
        "id": "finite-kingston"
      },
      "outputs": [],
      "source": [
        "sns.countplot(data['no_of_children'])\n",
        "plt.show()"
      ]
    },
    {
      "cell_type": "code",
      "execution_count": null,
      "id": "Rd-seHBO-rtT",
      "metadata": {
        "id": "Rd-seHBO-rtT"
      },
      "outputs": [],
      "source": [
        "data['no_of_children'].value_counts(normalize=True)"
      ]
    },
    {
      "cell_type": "markdown",
      "id": "animated-three",
      "metadata": {
        "id": "animated-three"
      },
      "source": [
        "* Customers were not travelling with children in 93% of cases.\n",
        "* There are some values in the data where the number of children is 9 or 10, which is highly unlikely. \n",
        "* We will replace these values with the maximum value of 3 children."
      ]
    },
    {
      "cell_type": "code",
      "execution_count": null,
      "id": "necessary-employee",
      "metadata": {
        "id": "necessary-employee"
      },
      "outputs": [],
      "source": [
        "# replacing 9, and 10 children with 3\n",
        "data[\"no_of_children\"] = data[\"no_of_children\"].replace([9, 10], 3)"
      ]
    },
    {
      "cell_type": "markdown",
      "id": "thick-coordination",
      "metadata": {
        "id": "thick-coordination"
      },
      "source": [
        "**Arrival Month**"
      ]
    },
    {
      "cell_type": "code",
      "execution_count": null,
      "id": "expensive-deposit",
      "metadata": {
        "id": "expensive-deposit"
      },
      "outputs": [],
      "source": [
        "sns.countplot(data[\"arrival_month\"])\n",
        "plt.show()"
      ]
    },
    {
      "cell_type": "code",
      "execution_count": null,
      "id": "2DpFp56Tvo3I",
      "metadata": {
        "id": "2DpFp56Tvo3I"
      },
      "outputs": [],
      "source": [
        "data['arrival_month'].value_counts(normalize=True)"
      ]
    },
    {
      "cell_type": "markdown",
      "id": "affected-right",
      "metadata": {
        "id": "affected-right"
      },
      "source": [
        "* October is the busiest month for hotel arrivals followed by September and August. **Over 35% of all bookings**, as we see in the above table, were for one of these three months.\n",
        "* Around 14.7% of the bookings were made for an October arrival."
      ]
    },
    {
      "cell_type": "markdown",
      "id": "dramatic-karaoke",
      "metadata": {
        "id": "dramatic-karaoke"
      },
      "source": [
        "**Booking Status**"
      ]
    },
    {
      "cell_type": "code",
      "execution_count": null,
      "id": "happy-collins",
      "metadata": {
        "id": "happy-collins"
      },
      "outputs": [],
      "source": [
        "sns.countplot(data[\"booking_status\"])\n",
        "plt.show()"
      ]
    },
    {
      "cell_type": "code",
      "execution_count": null,
      "id": "wOeK2StJzykk",
      "metadata": {
        "id": "wOeK2StJzykk"
      },
      "outputs": [],
      "source": [
        "data['booking_status'].value_counts(normalize=True)"
      ]
    },
    {
      "cell_type": "markdown",
      "id": "quantitative-fetish",
      "metadata": {
        "id": "quantitative-fetish"
      },
      "source": [
        "* 32.8% of the bookings were canceled by the customers."
      ]
    },
    {
      "cell_type": "markdown",
      "id": "pharmaceutical-grill",
      "metadata": {
        "id": "pharmaceutical-grill"
      },
      "source": [
        "**Let's encode Canceled bookings to 1 and Not_Canceled as 0 for further analysis**"
      ]
    },
    {
      "cell_type": "code",
      "execution_count": null,
      "id": "voluntary-irish",
      "metadata": {
        "id": "voluntary-irish"
      },
      "outputs": [],
      "source": [
        "data[\"booking_status\"] = data[\"booking_status\"].apply(\n",
        "    lambda x: 1 if x == \"Canceled\" else 0\n",
        ")"
      ]
    },
    {
      "cell_type": "markdown",
      "id": "arranged-courtesy",
      "metadata": {
        "id": "arranged-courtesy"
      },
      "source": [
        "### **Question 3: Bivariate Analysis**"
      ]
    },
    {
      "cell_type": "markdown",
      "id": "D4vIqPb9aaZW",
      "metadata": {
        "id": "D4vIqPb9aaZW"
      },
      "source": [
        "#### **Question 3.1: Find and visualize the correlation matrix using a heatmap and write your observations from the plot. (2 Marks)**\n",
        "\n"
      ]
    },
    {
      "cell_type": "code",
      "execution_count": null,
      "id": "official-wyoming",
      "metadata": {
        "id": "official-wyoming"
      },
      "outputs": [],
      "source": [
        "# Remove _________ and complete the code\n",
        "cols_list = data.select_dtypes(include=np.number).columns.tolist()\n",
        "\n",
        "plt.figure(figsize=(12, 7))\n",
        "sns.heatmap(________________)\n",
        "plt.show()"
      ]
    },
    {
      "cell_type": "markdown",
      "id": "brave-hamilton",
      "metadata": {
        "id": "brave-hamilton"
      },
      "source": [
        "**Write your answers here:_____**\n"
      ]
    },
    {
      "cell_type": "markdown",
      "id": "quick-works",
      "metadata": {
        "id": "quick-works"
      },
      "source": [
        "**Hotel rates are dynamic and change according to demand and customer demographics. Let's see how prices vary across different market segments**"
      ]
    },
    {
      "cell_type": "code",
      "execution_count": null,
      "id": "animal-depth",
      "metadata": {
        "id": "animal-depth"
      },
      "outputs": [],
      "source": [
        "plt.figure(figsize=(10, 6))\n",
        "sns.boxplot(\n",
        "    data=data, x=\"market_segment_type\", y=\"avg_price_per_room\", palette=\"gist_rainbow\"\n",
        ")\n",
        "plt.show()"
      ]
    },
    {
      "cell_type": "markdown",
      "id": "advised-community",
      "metadata": {
        "id": "advised-community"
      },
      "source": [
        "* Rooms booked online have high variations in prices.\n",
        "* The offline and corporate room prices are almost similar.\n",
        "* Complementary market segment gets the rooms at very low prices, which makes sense."
      ]
    },
    {
      "cell_type": "markdown",
      "id": "FJhhg4y4i3wO",
      "metadata": {
        "id": "FJhhg4y4i3wO"
      },
      "source": [
        "We will define a **stacked barplot()** function to help analyse how the target variable varies across predictor categories."
      ]
    },
    {
      "cell_type": "code",
      "execution_count": null,
      "id": "GjDZRQMWiCEs",
      "metadata": {
        "id": "GjDZRQMWiCEs"
      },
      "outputs": [],
      "source": [
        "# Defining the stacked_barplot() function\n",
        "def stacked_barplot(data,predictor,target,figsize=(10,6)):\n",
        "  (pd.crosstab(data[predictor],data[target],normalize='index')*100).plot(kind='bar',figsize=figsize,stacked=True)\n",
        "  plt.legend(loc=\"lower right\")\n",
        "  plt.ylabel('Percentage Cancellations %')"
      ]
    },
    {
      "cell_type": "markdown",
      "id": "75988GXzuEub",
      "metadata": {
        "id": "75988GXzuEub"
      },
      "source": [
        "#### **Question 3.2: Plot the stacked barplot for the variable `Market Segment Type` against the target variable `Booking Status` using the stacked_barplot  function provided and write your insights. (1 Mark)**"
      ]
    },
    {
      "cell_type": "code",
      "execution_count": null,
      "id": "aMUKgxiFryyN",
      "metadata": {
        "id": "aMUKgxiFryyN"
      },
      "outputs": [],
      "source": [
        "# Remove _________ and complete the code\n",
        "stacked_barplot(___________)"
      ]
    },
    {
      "cell_type": "markdown",
      "id": "IpvdhoHSuhrz",
      "metadata": {
        "id": "IpvdhoHSuhrz"
      },
      "source": [
        "**Write your answers here:_____**\n"
      ]
    },
    {
      "cell_type": "markdown",
      "id": "gUldUCUYu3Qb",
      "metadata": {
        "id": "gUldUCUYu3Qb"
      },
      "source": [
        "#### **Question 3.3: Plot the stacked barplot for the variable `Repeated Guest` against the target variable `Booking Status` using the stacked_barplot  function provided and write your insights. (1 Mark)**\n",
        "\n",
        "Repeating guests are the guests who stay in the hotel often and are important to brand equity."
      ]
    },
    {
      "cell_type": "code",
      "execution_count": null,
      "id": "L2AteH8ru-Lm",
      "metadata": {
        "id": "L2AteH8ru-Lm"
      },
      "outputs": [],
      "source": [
        "# Remove _________ and complete the code\n",
        "stacked_barplot(___________)"
      ]
    },
    {
      "cell_type": "markdown",
      "id": "nmrkaaZPvRGr",
      "metadata": {
        "id": "nmrkaaZPvRGr"
      },
      "source": [
        "**Write your answers here:_____**\n"
      ]
    },
    {
      "cell_type": "markdown",
      "id": "WMJ96mlkvhR8",
      "metadata": {
        "id": "WMJ96mlkvhR8"
      },
      "source": [
        "**Let's analyze the customer who stayed for at least a day at the hotel.**"
      ]
    },
    {
      "cell_type": "code",
      "execution_count": null,
      "id": "j0UdS10Wvfqd",
      "metadata": {
        "id": "j0UdS10Wvfqd"
      },
      "outputs": [],
      "source": [
        "stay_data = data[(data[\"no_of_week_nights\"] > 0) & (data[\"no_of_weekend_nights\"] > 0)]\n",
        "stay_data[\"total_days\"] = (stay_data[\"no_of_week_nights\"] + stay_data[\"no_of_weekend_nights\"])\n",
        "\n",
        "stacked_barplot(stay_data, \"total_days\", \"booking_status\",figsize=(15,6))"
      ]
    },
    {
      "cell_type": "markdown",
      "id": "-aDjNRtfvgNV",
      "metadata": {
        "id": "-aDjNRtfvgNV"
      },
      "source": [
        "* The general trend is that the chances of cancellation increase as the number of days the customer planned to stay at the hotel increases."
      ]
    },
    {
      "cell_type": "markdown",
      "id": "tired-bridges",
      "metadata": {
        "id": "tired-bridges"
      },
      "source": [
        "**As hotel room prices are dynamic, Let's see how the prices vary across different months**"
      ]
    },
    {
      "cell_type": "code",
      "execution_count": null,
      "id": "atomic-locator",
      "metadata": {
        "id": "atomic-locator"
      },
      "outputs": [],
      "source": [
        "plt.figure(figsize=(10, 5))\n",
        "sns.lineplot(y=data[\"avg_price_per_room\"], x=data[\"arrival_month\"], ci=None)\n",
        "plt.show()"
      ]
    },
    {
      "cell_type": "markdown",
      "id": "incorporated-northern",
      "metadata": {
        "id": "incorporated-northern"
      },
      "source": [
        "* The price of rooms is highest in May to September - around 115 euros per room."
      ]
    },
    {
      "cell_type": "markdown",
      "id": "pleased-chicken",
      "metadata": {
        "id": "pleased-chicken"
      },
      "source": [
        "## **Data Preparation for Modeling**\n",
        "\n",
        "- We want to predict which bookings will be canceled.\n",
        "- Before we proceed to build a model, we'll have to encode categorical features.\n",
        "- We'll split the data into train and test to be able to evaluate the model that we build on the train data."
      ]
    },
    {
      "cell_type": "markdown",
      "id": "Q1yU3LeM5p73",
      "metadata": {
        "id": "Q1yU3LeM5p73"
      },
      "source": [
        "**Separating the independent variables (X) and the dependent variable (Y)**"
      ]
    },
    {
      "cell_type": "code",
      "execution_count": null,
      "id": "durable-allergy",
      "metadata": {
        "id": "durable-allergy"
      },
      "outputs": [],
      "source": [
        "X = data.drop([\"booking_status\"], axis=1)\n",
        "Y = data[\"booking_status\"]\n",
        "\n",
        "X = pd.get_dummies(X, drop_first=True) # Encoding the Categorical features"
      ]
    },
    {
      "cell_type": "markdown",
      "id": "ugL1fDmu5sU-",
      "metadata": {
        "id": "ugL1fDmu5sU-"
      },
      "source": [
        "**Splitting the data into a 70% train and 30% test set**\n",
        "\n",
        "Some classification problems can exhibit a large imbalance in the distribution of the target classes: for instance there could be several times more negative samples than positive samples. In such cases it is recommended to use the **stratified sampling** technique to ensure that relative class frequencies are approximately preserved in each train and validation fold."
      ]
    },
    {
      "cell_type": "code",
      "execution_count": null,
      "id": "Xve9js0S5xPV",
      "metadata": {
        "id": "Xve9js0S5xPV"
      },
      "outputs": [],
      "source": [
        "# Splitting data in train and test sets\n",
        "X_train, X_test, y_train, y_test = train_test_split(X, Y, test_size=0.30,stratify=Y, random_state=1)"
      ]
    },
    {
      "cell_type": "code",
      "execution_count": null,
      "id": "ecological-principal",
      "metadata": {
        "id": "ecological-principal"
      },
      "outputs": [],
      "source": [
        "print(\"Shape of Training set : \", X_train.shape)\n",
        "print(\"Shape of test set : \", X_test.shape)\n",
        "print(\"Percentage of classes in training set:\")\n",
        "print(y_train.value_counts(normalize=True))\n",
        "print(\"Percentage of classes in test set:\")\n",
        "print(y_test.value_counts(normalize=True))"
      ]
    },
    {
      "cell_type": "markdown",
      "id": "cultural-engagement",
      "metadata": {
        "id": "cultural-engagement"
      },
      "source": [
        "## **Model Evaluation Criterion**\n",
        "\n",
        "#### **Model can make wrong predictions as:**\n",
        "\n",
        "1. Predicting a customer will not cancel their booking but in reality, the customer will cancel their booking.\n",
        "2. Predicting a customer will cancel their booking but in reality, the customer will not cancel their booking. \n",
        "\n",
        "#### **Which case is more important?** \n",
        "\n",
        "Both the cases are important as:\n",
        "\n",
        "* If we predict that a booking will not be canceled and the booking gets canceled then the hotel will lose resources and will have to bear additional costs of distribution channels.\n",
        "\n",
        "* If we predict that a booking will get canceled and the booking doesn't get canceled the hotel might not be able to provide satisfactory services to the customer by assuming that this booking will be canceled. This might damage brand equity. \n",
        "\n",
        "\n",
        "\n",
        "#### **How to reduce the losses?**\n",
        "\n",
        "* The hotel would want the `F1 Score` to be maximized, the greater the F1  score, the higher the chances of minimizing False Negatives and False Positives. "
      ]
    },
    {
      "cell_type": "markdown",
      "id": "TIvULwEQ6NJO",
      "metadata": {
        "id": "TIvULwEQ6NJO"
      },
      "source": [
        "**Also, let's create a function to calculate and print the classification report and confusion matrix so that we don't have to rewrite the same code repeatedly for each model.**"
      ]
    },
    {
      "cell_type": "code",
      "execution_count": null,
      "id": "sx5AmqRM3Cxy",
      "metadata": {
        "id": "sx5AmqRM3Cxy"
      },
      "outputs": [],
      "source": [
        "# Creating metric function \n",
        "def metrics_score(actual, predicted):\n",
        "    print(classification_report(actual, predicted))\n",
        "\n",
        "    cm = confusion_matrix(actual, predicted)\n",
        "    plt.figure(figsize=(8,5))\n",
        "    \n",
        "    sns.heatmap(cm, annot=True,  fmt='.2f', xticklabels=['Not Cancelled', 'Cancelled'], yticklabels=['Not Cancelled', 'Cancelled'])\n",
        "    plt.ylabel('Actual')\n",
        "    plt.xlabel('Predicted')\n",
        "    plt.show()"
      ]
    },
    {
      "cell_type": "markdown",
      "id": "V6r7bPlp8W3E",
      "metadata": {
        "id": "V6r7bPlp8W3E"
      },
      "source": [
        "## **Building the model**\n",
        "\n",
        "We will be building 4 different models:\n",
        "\n",
        "- **Logistic Regression**\n",
        "- **Support Vector Machine (SVM)**\n",
        "- **Decision Tree**\n",
        "- **Random Forest**"
      ]
    },
    {
      "cell_type": "markdown",
      "id": "opposed-glance",
      "metadata": {
        "id": "opposed-glance"
      },
      "source": [
        "### **Question 4: Logistic Regression (6 Marks)**"
      ]
    },
    {
      "cell_type": "markdown",
      "id": "bT_PaZ94M5hb",
      "metadata": {
        "id": "bT_PaZ94M5hb"
      },
      "source": [
        "#### **Question 4.1: Build a Logistic Regression model (Use the sklearn library) (1 Mark)**"
      ]
    },
    {
      "cell_type": "code",
      "execution_count": null,
      "id": "nominated-tumor",
      "metadata": {
        "id": "nominated-tumor"
      },
      "outputs": [],
      "source": [
        "# Remove _________ and complete the code\n",
        "\n",
        "# Fitting logistic regression model\n",
        "lg = ___________\n",
        "lg.fit(__________)"
      ]
    },
    {
      "cell_type": "markdown",
      "id": "KY_E1udCOCcN",
      "metadata": {
        "id": "KY_E1udCOCcN"
      },
      "source": [
        "#### **Question 4.2: Check the performance of the model on train and test data (2 Marks)**"
      ]
    },
    {
      "cell_type": "code",
      "execution_count": null,
      "id": "generous-investing",
      "metadata": {
        "id": "generous-investing"
      },
      "outputs": [],
      "source": [
        "# Remove _________ and complete the code\n",
        "\n",
        "# Checking the performance on the training data\n",
        "y_pred_train = lg.____________\n",
        "metrics_score(___________)"
      ]
    },
    {
      "cell_type": "markdown",
      "id": "52aOuAUFPJBL",
      "metadata": {
        "id": "52aOuAUFPJBL"
      },
      "source": [
        "**Write your Answer here:**\n"
      ]
    },
    {
      "cell_type": "markdown",
      "id": "ycKHN5ZGWruu",
      "metadata": {
        "id": "ycKHN5ZGWruu"
      },
      "source": [
        "Let's check the performance on the test set"
      ]
    },
    {
      "cell_type": "code",
      "execution_count": null,
      "id": "_hbaUbSr6g6d",
      "metadata": {
        "id": "_hbaUbSr6g6d"
      },
      "outputs": [],
      "source": [
        "# Remove _________ and complete the code\n",
        "\n",
        "# Checking the performance on the test dataset\n",
        "y_pred_test = lg._________\n",
        "metrics_score(________)"
      ]
    },
    {
      "cell_type": "markdown",
      "id": "sBMbUH7DPKKT",
      "metadata": {
        "id": "sBMbUH7DPKKT"
      },
      "source": [
        "**Write your Answer here:** "
      ]
    },
    {
      "cell_type": "markdown",
      "id": "heated-intersection",
      "metadata": {
        "id": "heated-intersection"
      },
      "source": [
        "\n",
        "#### **Question 4.3: Find the optimal threshold for the model using the Precision-Recall Curve. (1 Mark)**\n",
        "\n",
        "Precision-Recall curves summarize the trade-off between the true positive rate and the positive predictive value for a predictive model using different probability thresholds.\n",
        "\n",
        "Let's use the Precision-Recall curve and see if we can find a **better threshold.**\n"
      ]
    },
    {
      "cell_type": "code",
      "execution_count": null,
      "id": "acute-newark",
      "metadata": {
        "id": "acute-newark"
      },
      "outputs": [],
      "source": [
        "# Remove _________ and complete the code\n",
        "\n",
        "# Predict_proba gives the probability of each observation belonging to each class\n",
        "y_scores_lg=lg.predict_proba(_______)\n",
        "\n",
        "precisions_lg, recalls_lg, thresholds_lg = precision_recall_curve(____________)\n",
        "\n",
        "# Plot values of precisions, recalls, and thresholds\n",
        "plt.figure(figsize=(10,7))\n",
        "plt.plot(thresholds_lg, precisions_lg[:-1], 'b--', label='precision')\n",
        "plt.plot(thresholds_lg, recalls_lg[:-1], 'g--', label = 'recall')\n",
        "plt.xlabel('Threshold')\n",
        "plt.legend(loc='upper left')\n",
        "plt.ylim([0,1])\n",
        "plt.show()"
      ]
    },
    {
      "cell_type": "markdown",
      "id": "supported-series",
      "metadata": {
        "id": "supported-series"
      },
      "source": [
        "**Write your answers here:_____**\n"
      ]
    },
    {
      "cell_type": "code",
      "execution_count": null,
      "id": "brown-advertiser",
      "metadata": {
        "id": "brown-advertiser"
      },
      "outputs": [],
      "source": [
        "# Setting the optimal threshold\n",
        "optimal_threshold = ___________"
      ]
    },
    {
      "cell_type": "markdown",
      "id": "environmental-surface",
      "metadata": {
        "id": "environmental-surface"
      },
      "source": [
        "#### **Question 4.4: Check the performance of the model on train and test data using the optimal threshold. (2 Marks)**"
      ]
    },
    {
      "cell_type": "code",
      "execution_count": null,
      "id": "mental-albany",
      "metadata": {
        "id": "mental-albany"
      },
      "outputs": [],
      "source": [
        "# Remove _________ and complete the code\n",
        "\n",
        "# Creating confusion matrix\n",
        "y_pred_train = lg.predict_proba(________)\n",
        "metrics_score(______________)"
      ]
    },
    {
      "cell_type": "markdown",
      "id": "indoor-equity",
      "metadata": {
        "id": "indoor-equity"
      },
      "source": [
        "**Write your answers here:_____**\n"
      ]
    },
    {
      "cell_type": "markdown",
      "id": "xK2YZU-oYwnr",
      "metadata": {
        "id": "xK2YZU-oYwnr"
      },
      "source": [
        "Let's check the performance on the test set"
      ]
    },
    {
      "cell_type": "code",
      "execution_count": null,
      "id": "needed-trial",
      "metadata": {
        "id": "needed-trial"
      },
      "outputs": [],
      "source": [
        "# Remove _________ and complete the code\n",
        "\n",
        "y_pred_test = lg.predict_proba(__________)\n",
        "metrics_score(____________)"
      ]
    },
    {
      "cell_type": "markdown",
      "id": "virgin-polls",
      "metadata": {
        "id": "virgin-polls"
      },
      "source": [
        "**Write your answers here:_____**\n"
      ]
    },
    {
      "cell_type": "markdown",
      "id": "42mzmgkfAB6r",
      "metadata": {
        "id": "42mzmgkfAB6r"
      },
      "source": [
        "### **Question 5: Support Vector Machines (11 Marks)**"
      ]
    },
    {
      "cell_type": "markdown",
      "id": "DzJnFhWNry13",
      "metadata": {
        "id": "DzJnFhWNry13"
      },
      "source": [
        "To accelerate SVM training, let's scale the data for support vector machines."
      ]
    },
    {
      "cell_type": "code",
      "execution_count": null,
      "id": "rvXQgpBFrxRv",
      "metadata": {
        "id": "rvXQgpBFrxRv"
      },
      "outputs": [],
      "source": [
        "scaling = MinMaxScaler(feature_range=(-1,1)).fit(X_train)\n",
        "X_train_scaled = scaling.transform(X_train)\n",
        "X_test_scaled = scaling.transform(X_test)"
      ]
    },
    {
      "cell_type": "markdown",
      "id": "ZF0KYzZYAB-I",
      "metadata": {
        "id": "ZF0KYzZYAB-I"
      },
      "source": [
        "Let's build the models using the two of the widely used kernel functions:\n",
        "\n",
        "1.   **Linear Kernel**\n",
        "2.   **RBF Kernel**\n",
        "\n"
      ]
    },
    {
      "cell_type": "markdown",
      "id": "ym5BVbHfH6gQ",
      "metadata": {
        "id": "ym5BVbHfH6gQ"
      },
      "source": [
        "#### **Question 5.1: Build a Support Vector Machine model using a linear kernel (1 Mark)**"
      ]
    },
    {
      "cell_type": "markdown",
      "id": "wAY_HOopDom6",
      "metadata": {
        "id": "wAY_HOopDom6"
      },
      "source": [
        "**Note: Please use the scaled data for modeling Support Vector Machine**"
      ]
    },
    {
      "cell_type": "code",
      "execution_count": null,
      "id": "YjXGT-G3AArW",
      "metadata": {
        "id": "YjXGT-G3AArW"
      },
      "outputs": [],
      "source": [
        "# Remove _________ and complete the code\n",
        "\n",
        "svm = SVC(kernel=______,probability=True) # Linear kernal or linear decision boundary\n",
        "model = svm.fit(___________)"
      ]
    },
    {
      "cell_type": "markdown",
      "id": "xPYFGhb6BSfJ",
      "metadata": {
        "id": "xPYFGhb6BSfJ"
      },
      "source": [
        "#### **Question 5.2: Check the performance of the model on train and test data (2 Marks)**"
      ]
    },
    {
      "cell_type": "code",
      "execution_count": null,
      "id": "3xWoYJarBBBF",
      "metadata": {
        "id": "3xWoYJarBBBF"
      },
      "outputs": [],
      "source": [
        "# Remove _________ and complete the code\n",
        "\n",
        "y_pred_train_svm = model.predict(__________)\n",
        "metrics_score(______________)"
      ]
    },
    {
      "cell_type": "markdown",
      "id": "NOSJn5ZKRTDS",
      "metadata": {
        "id": "NOSJn5ZKRTDS"
      },
      "source": [
        "**Write your answers here:_____**\n"
      ]
    },
    {
      "cell_type": "markdown",
      "id": "zgbgteTXyVN5",
      "metadata": {
        "id": "zgbgteTXyVN5"
      },
      "source": [
        "Checking model performance on test set"
      ]
    },
    {
      "cell_type": "code",
      "execution_count": null,
      "id": "8fpUk_cIAAuv",
      "metadata": {
        "id": "8fpUk_cIAAuv"
      },
      "outputs": [],
      "source": [
        "# Remove _________ and complete the code\n",
        "\n",
        "y_pred_test_svm = model.predict(___________)\n",
        "metrics_score(____________)"
      ]
    },
    {
      "cell_type": "markdown",
      "id": "uQhJR6A4dLRr",
      "metadata": {
        "id": "uQhJR6A4dLRr"
      },
      "source": [
        "**Write your answers here:_____**\n"
      ]
    },
    {
      "cell_type": "markdown",
      "id": "biqGCISyTSHj",
      "metadata": {
        "id": "biqGCISyTSHj"
      },
      "source": [
        "#### **Question 5.3: Find the optimal threshold for the model using the Precision-Recall Curve. (1 Mark)**\n"
      ]
    },
    {
      "cell_type": "code",
      "execution_count": null,
      "id": "-m-5ArrO0m_A",
      "metadata": {
        "id": "-m-5ArrO0m_A"
      },
      "outputs": [],
      "source": [
        "# Remove _________ and complete the code\n",
        "\n",
        "# Predict on train data\n",
        "y_scores_svm=model.predict_proba(____________)\n",
        "\n",
        "precisions_svm, recalls_svm, thresholds_svm = _________________\n",
        "\n",
        "# Plot values of precisions, recalls, and thresholds\n",
        "plt.figure(figsize=(10,7))\n",
        "plt.plot(thresholds_svm, precisions_svm[:-1], 'b--', label='precision')\n",
        "plt.plot(thresholds_svm, recalls_svm[:-1], 'g--', label = 'recall')\n",
        "plt.xlabel('Threshold')\n",
        "plt.legend(loc='upper left')\n",
        "plt.ylim([0,1])\n",
        "plt.show()"
      ]
    },
    {
      "cell_type": "markdown",
      "id": "KIhLeNBKEplE",
      "metadata": {
        "id": "KIhLeNBKEplE"
      },
      "source": [
        "**Write your answers here:_____**\n"
      ]
    },
    {
      "cell_type": "code",
      "execution_count": null,
      "id": "0G6DAkF_Thzl",
      "metadata": {
        "id": "0G6DAkF_Thzl"
      },
      "outputs": [],
      "source": [
        "optimal_threshold_svm=____________"
      ]
    },
    {
      "cell_type": "markdown",
      "id": "KavLMkflTm57",
      "metadata": {
        "id": "KavLMkflTm57"
      },
      "source": [
        "#### **Question 5.4: Check the performance of the model on train and test data using the optimal threshold. (2 Marks)**"
      ]
    },
    {
      "cell_type": "code",
      "execution_count": null,
      "id": "ICf9R7L_TvS7",
      "metadata": {
        "id": "ICf9R7L_TvS7"
      },
      "outputs": [],
      "source": [
        "# Remove _________ and complete the code\n",
        "\n",
        "y_pred_train_svm = model.________________\n",
        "metrics_score(__________________)"
      ]
    },
    {
      "cell_type": "markdown",
      "id": "5X5QMI2VS3_h",
      "metadata": {
        "id": "5X5QMI2VS3_h"
      },
      "source": [
        "**Write your answers here:_____**\n"
      ]
    },
    {
      "cell_type": "code",
      "execution_count": null,
      "id": "s2BC_MXfH2x6",
      "metadata": {
        "id": "s2BC_MXfH2x6"
      },
      "outputs": [],
      "source": [
        "# Remove _________ and complete the code\n",
        "\n",
        "y_pred_test = model._______________\n",
        "metrics_score(________________)"
      ]
    },
    {
      "cell_type": "markdown",
      "id": "QCuuTrvCGSyK",
      "metadata": {
        "id": "QCuuTrvCGSyK"
      },
      "source": [
        "**Write your answers here:_____**\n"
      ]
    },
    {
      "cell_type": "markdown",
      "id": "RWKtJmto0mwB",
      "metadata": {
        "id": "RWKtJmto0mwB"
      },
      "source": [
        "#### **Question 5.5: Build a Support Vector Machines model using an RBF kernel (1 Mark)**"
      ]
    },
    {
      "cell_type": "code",
      "execution_count": null,
      "id": "lJTfIaQ30m5o",
      "metadata": {
        "id": "lJTfIaQ30m5o"
      },
      "outputs": [],
      "source": [
        "# Remove _________ and complete the code\n",
        "\n",
        "svm_rbf=SVC(kernel=_______,probability=True)\n",
        "svm_rbf.fit(______________)"
      ]
    },
    {
      "cell_type": "markdown",
      "id": "wA1qWKRS025i",
      "metadata": {
        "id": "wA1qWKRS025i"
      },
      "source": [
        "#### **Question 5.6: Check the performance of the model on train and test data (2 Marks)**\n",
        "\n"
      ]
    },
    {
      "cell_type": "code",
      "execution_count": null,
      "id": "EKjry-eL0vxy",
      "metadata": {
        "id": "EKjry-eL0vxy"
      },
      "outputs": [],
      "source": [
        "# Remove _________ and complete the code\n",
        "\n",
        "y_pred_train_svm = svm_rbf.predict(______________)\n",
        "metrics_score(_______________)"
      ]
    },
    {
      "cell_type": "markdown",
      "id": "eVQ7ISZPTEfy",
      "metadata": {
        "id": "eVQ7ISZPTEfy"
      },
      "source": [
        "**Write your answers here:_____**\n"
      ]
    },
    {
      "cell_type": "markdown",
      "id": "G-MGcMO903sp",
      "metadata": {
        "id": "G-MGcMO903sp"
      },
      "source": [
        "#### Checking model performance on test set"
      ]
    },
    {
      "cell_type": "code",
      "execution_count": null,
      "id": "s3WqNK2lUXlp",
      "metadata": {
        "id": "s3WqNK2lUXlp"
      },
      "outputs": [],
      "source": [
        "# Remove _________ and complete the code\n",
        "\n",
        "y_pred_test = svm_rbf.predict(________________)\n",
        "\n",
        "metrics_score(_____________)"
      ]
    },
    {
      "cell_type": "markdown",
      "id": "xeEUvWSZTlEA",
      "metadata": {
        "id": "xeEUvWSZTlEA"
      },
      "source": [
        "**Write your answers here:_____**\n"
      ]
    },
    {
      "cell_type": "code",
      "execution_count": null,
      "id": "IdktVBlKHuhM",
      "metadata": {
        "id": "IdktVBlKHuhM"
      },
      "outputs": [],
      "source": [
        "# Predict on train data\n",
        "y_scores_svm=svm_rbf.predict_proba(X_train_scaled)\n",
        "\n",
        "precisions_svm, recalls_svm, thresholds_svm = precision_recall_curve(y_train, y_scores_svm[:,1])\n",
        "\n",
        "# Plot values of precisions, recalls, and thresholds\n",
        "plt.figure(figsize=(10,7))\n",
        "plt.plot(thresholds_svm, precisions_svm[:-1], 'b--', label='precision')\n",
        "plt.plot(thresholds_svm, recalls_svm[:-1], 'g--', label = 'recall')\n",
        "plt.xlabel('Threshold')\n",
        "plt.legend(loc='upper left')\n",
        "plt.ylim([0,1])\n",
        "plt.show()"
      ]
    },
    {
      "cell_type": "code",
      "execution_count": null,
      "id": "TLTllfbBWYjo",
      "metadata": {
        "id": "TLTllfbBWYjo"
      },
      "outputs": [],
      "source": [
        "optimal_threshold_svm=__________"
      ]
    },
    {
      "cell_type": "markdown",
      "id": "1OakprjnXNY8",
      "metadata": {
        "id": "1OakprjnXNY8"
      },
      "source": [
        "#### **Question 5.7: Check the performance of the model on train and test data using the optimal threshold. (2 Marks)**"
      ]
    },
    {
      "cell_type": "code",
      "execution_count": null,
      "id": "CjuakUWKsYMN",
      "metadata": {
        "id": "CjuakUWKsYMN"
      },
      "outputs": [],
      "source": [
        "# Remove _________ and complete the code\n",
        "\n",
        "y_pred_train_svm = model.predict_proba(_____________)\n",
        "metrics_score(____________)"
      ]
    },
    {
      "cell_type": "markdown",
      "id": "jaZgooCfFoLx",
      "metadata": {
        "id": "jaZgooCfFoLx"
      },
      "source": [
        "**Write your answers here:_____**\n"
      ]
    },
    {
      "cell_type": "code",
      "execution_count": null,
      "id": "nQs1WAI_2jlr",
      "metadata": {
        "id": "nQs1WAI_2jlr"
      },
      "outputs": [],
      "source": [
        "# Remove _________ and complete the code\n",
        "\n",
        "y_pred_test = svm_rbf.predict_proba(____________)\n",
        "metrics_score(____________)"
      ]
    },
    {
      "cell_type": "markdown",
      "id": "xBu1WHxOOyg8",
      "metadata": {
        "id": "xBu1WHxOOyg8"
      },
      "source": [
        "**Write your answers here:_____**\n"
      ]
    },
    {
      "cell_type": "markdown",
      "id": "separated-prague",
      "metadata": {
        "id": "separated-prague"
      },
      "source": [
        "### **Question 6: Decision Trees (7 Marks)**"
      ]
    },
    {
      "cell_type": "markdown",
      "id": "immune-malta",
      "metadata": {
        "id": "immune-malta"
      },
      "source": [
        "#### **Question 6.1: Build a Decision Tree Model (1 Mark)**"
      ]
    },
    {
      "cell_type": "code",
      "execution_count": null,
      "id": "recognized-nurse",
      "metadata": {
        "id": "recognized-nurse"
      },
      "outputs": [],
      "source": [
        "# Remove _________ and complete the code\n",
        "\n",
        "model_dt = ______________\n",
        "model_dt.fit(______________)"
      ]
    },
    {
      "cell_type": "markdown",
      "id": "identified-upper",
      "metadata": {
        "id": "identified-upper"
      },
      "source": [
        "#### **Question 6.2: Check the performance of the model on train and test data (2 Marks)**"
      ]
    },
    {
      "cell_type": "code",
      "execution_count": null,
      "id": "female-kennedy",
      "metadata": {
        "id": "female-kennedy"
      },
      "outputs": [],
      "source": [
        "# Remove _________ and complete the code\n",
        "\n",
        "# Checking performance on the training dataset\n",
        "pred_train_dt = model_dt.predict(_____________)\n",
        "metrics_score(_________________)"
      ]
    },
    {
      "cell_type": "markdown",
      "id": "laden-london",
      "metadata": {
        "id": "laden-london"
      },
      "source": [
        "**Write your answers here:_____**\n"
      ]
    },
    {
      "cell_type": "markdown",
      "id": "neither-omaha",
      "metadata": {
        "id": "neither-omaha"
      },
      "source": [
        "#### Checking model performance on test set"
      ]
    },
    {
      "cell_type": "code",
      "execution_count": null,
      "id": "42537a82",
      "metadata": {
        "id": "42537a82"
      },
      "outputs": [],
      "source": [
        "pred_test_dt = model_dt.predict(____________)\n",
        "metrics_score(____________)"
      ]
    },
    {
      "cell_type": "markdown",
      "id": "previous-stamp",
      "metadata": {
        "id": "previous-stamp"
      },
      "source": [
        "**Write your answers here:_____**\n"
      ]
    },
    {
      "cell_type": "markdown",
      "id": "detailed-possible",
      "metadata": {
        "id": "detailed-possible"
      },
      "source": [
        " #### **Question 6.3: Perform hyperparameter tuning for the decision tree model using GridSearch CV (1 Mark)**"
      ]
    },
    {
      "cell_type": "markdown",
      "id": "X1c6VAptGHDl",
      "metadata": {
        "id": "X1c6VAptGHDl"
      },
      "source": [
        "**Note: Please use the following hyperparameters provided for tuning the Decision Tree. In general, you can experiment with various hyperparameters to tune the decision tree, but for this project, we recommend sticking to the parameters provided.**"
      ]
    },
    {
      "cell_type": "code",
      "execution_count": null,
      "id": "romantic-stationery",
      "metadata": {
        "id": "romantic-stationery"
      },
      "outputs": [],
      "source": [
        "# Remove _________ and complete the code\n",
        "\n",
        "# Choose the type of classifier.\n",
        "estimator = ________________\n",
        "\n",
        "# Grid of parameters to choose from\n",
        "parameters = {\n",
        "    \"max_depth\": np.arange(2, 7, 2),\n",
        "    \"max_leaf_nodes\": [50, 75, 150, 250],\n",
        "    \"min_samples_split\": [10, 30, 50, 70],\n",
        "}\n",
        "\n",
        "\n",
        "# Run the grid search\n",
        "grid_obj = GridSearchCV(_____________)\n",
        "grid_obj = grid_obj.fit(______________)\n",
        "\n",
        "# Set the clf to the best combination of parameters\n",
        "estimator = grid_obj.best_estimator_\n",
        "\n",
        "# Fit the best algorithm to the data.\n",
        "estimator.fit(______________-)"
      ]
    },
    {
      "cell_type": "markdown",
      "id": "concrete-season",
      "metadata": {
        "id": "concrete-season"
      },
      "source": [
        "#### **Question 6.4: Check the performance of the model on the train and test data using the tuned model (2 Mark)**"
      ]
    },
    {
      "cell_type": "markdown",
      "id": "endangered-image",
      "metadata": {
        "id": "endangered-image"
      },
      "source": [
        "#### Checking performance on the training set "
      ]
    },
    {
      "cell_type": "code",
      "execution_count": null,
      "id": "skilled-poster",
      "metadata": {
        "id": "skilled-poster"
      },
      "outputs": [],
      "source": [
        "# Remove _________ and complete the code\n",
        "\n",
        "# Checking performance on the training dataset\n",
        "dt_tuned = estimator.predict(__________)\n",
        "metrics_score(________________)"
      ]
    },
    {
      "cell_type": "markdown",
      "id": "y7VVuoGMHf7C",
      "metadata": {
        "id": "y7VVuoGMHf7C"
      },
      "source": [
        "**Write your answers here:_____**\n"
      ]
    },
    {
      "cell_type": "code",
      "execution_count": null,
      "id": "killing-magnet",
      "metadata": {
        "id": "killing-magnet"
      },
      "outputs": [],
      "source": [
        "# Remove _________ and complete the code\n",
        "\n",
        "# Checking performance on the training dataset\n",
        "y_pred_tuned = estimator.predict(________)\n",
        "metrics_score(_____________)"
      ]
    },
    {
      "cell_type": "markdown",
      "id": "HmcGMUeNHmai",
      "metadata": {
        "id": "HmcGMUeNHmai"
      },
      "source": [
        "**Write your answers here:_____**\n"
      ]
    },
    {
      "cell_type": "markdown",
      "id": "frequent-grenada",
      "metadata": {
        "id": "frequent-grenada"
      },
      "source": [
        "#### **Visualizing the Decision Tree**"
      ]
    },
    {
      "cell_type": "code",
      "execution_count": null,
      "id": "driving-state",
      "metadata": {
        "id": "driving-state"
      },
      "outputs": [],
      "source": [
        "feature_names = list(X_train.columns)\n",
        "plt.figure(figsize=(20, 10))\n",
        "out = tree.plot_tree(\n",
        "    estimator,max_depth=3,\n",
        "    feature_names=feature_names,\n",
        "    filled=True,\n",
        "    fontsize=9,\n",
        "    node_ids=False,\n",
        "    class_names=None,\n",
        ")\n",
        "# below code will add arrows to the decision tree split if they are missing\n",
        "for o in out:\n",
        "    arrow = o.arrow_patch\n",
        "    if arrow is not None:\n",
        "        arrow.set_edgecolor(\"black\")\n",
        "        arrow.set_linewidth(1)\n",
        "plt.show()"
      ]
    },
    {
      "cell_type": "markdown",
      "id": "rational-details",
      "metadata": {
        "id": "rational-details"
      },
      "source": [
        "#### **Question 6.5: What are some important features based on the tuned decision tree? (1 Mark)**"
      ]
    },
    {
      "cell_type": "code",
      "execution_count": null,
      "id": "secure-killing",
      "metadata": {
        "id": "secure-killing"
      },
      "outputs": [],
      "source": [
        "# Remove _________ and complete the code\n",
        "\n",
        "# Importance of features in the tree building\n",
        "\n",
        "importances = estimator.___________\n",
        "indices = np.argsort(____________)\n",
        "\n",
        "plt.figure(figsize=(8, 8))\n",
        "plt.title(\"Feature Importances\")\n",
        "plt.barh(range(len(indices)), importances[indices], color=\"violet\", align=\"center\")\n",
        "plt.yticks(range(len(indices)), [feature_names[i] for i in indices])\n",
        "plt.xlabel(\"Relative Importance\")\n",
        "plt.show()"
      ]
    },
    {
      "cell_type": "markdown",
      "id": "differential-perth",
      "metadata": {
        "id": "differential-perth"
      },
      "source": [
        "**Write your answers here:_____**\n"
      ]
    },
    {
      "cell_type": "markdown",
      "id": "motLVEa4TL_U",
      "metadata": {
        "id": "motLVEa4TL_U"
      },
      "source": [
        "___"
      ]
    },
    {
      "cell_type": "markdown",
      "id": "_tkjO8cKHMO5",
      "metadata": {
        "id": "_tkjO8cKHMO5"
      },
      "source": [
        "### **Question 7: Random Forest (4 Marks)**"
      ]
    },
    {
      "cell_type": "markdown",
      "id": "1FuGyOqjc_4b",
      "metadata": {
        "id": "1FuGyOqjc_4b"
      },
      "source": [
        "#### **Question 7.1: Build a Random Forest Model (1 Mark)**"
      ]
    },
    {
      "cell_type": "code",
      "execution_count": null,
      "id": "bIsbmNYal1rj",
      "metadata": {
        "id": "bIsbmNYal1rj"
      },
      "outputs": [],
      "source": [
        "# Remove _________ and complete the code\n",
        "\n",
        "rf_estimator = ______________\n",
        "\n",
        "rf_estimator.fit(___________)"
      ]
    },
    {
      "cell_type": "markdown",
      "id": "SxYjZqTjd-Qk",
      "metadata": {
        "id": "SxYjZqTjd-Qk"
      },
      "source": [
        "#### **Question 7.2: Check the performance of the model on the train and test data (2 Marks)**"
      ]
    },
    {
      "cell_type": "code",
      "execution_count": null,
      "id": "M6jrat9ko0LO",
      "metadata": {
        "id": "M6jrat9ko0LO"
      },
      "outputs": [],
      "source": [
        "# Remove _________ and complete the code\n",
        "\n",
        "y_pred_train_rf = rf_estimator.predict(___________)\n",
        "\n",
        "metrics_score(______________)"
      ]
    },
    {
      "cell_type": "markdown",
      "id": "QUAlKVpUH_SG",
      "metadata": {
        "id": "QUAlKVpUH_SG"
      },
      "source": [
        "**Write your answers here:_____**\n"
      ]
    },
    {
      "cell_type": "code",
      "execution_count": null,
      "id": "2vMZodtJ1k4z",
      "metadata": {
        "id": "2vMZodtJ1k4z"
      },
      "outputs": [],
      "source": [
        "# Remove _________ and complete the code\n",
        "\n",
        "y_pred_test_rf = rf_estimator.predict(______________)\n",
        "\n",
        "metrics_score(______________)"
      ]
    },
    {
      "cell_type": "markdown",
      "id": "p8hPHFpRRTCr",
      "metadata": {
        "id": "p8hPHFpRRTCr"
      },
      "source": [
        "**Write your answers here:_____**\n"
      ]
    },
    {
      "cell_type": "markdown",
      "id": "xLrG8f7YeG9b",
      "metadata": {
        "id": "xLrG8f7YeG9b"
      },
      "source": [
        "#### **Question 7.3: What are some important features based on the Random Forest? (1 Mark)**"
      ]
    },
    {
      "cell_type": "markdown",
      "id": "4rAIPf5BSKes",
      "metadata": {
        "id": "4rAIPf5BSKes"
      },
      "source": [
        "Let's check the feature importance of the Random Forest"
      ]
    },
    {
      "cell_type": "code",
      "execution_count": null,
      "id": "lknDAkbZSI6B",
      "metadata": {
        "id": "lknDAkbZSI6B"
      },
      "outputs": [],
      "source": [
        "# Remove _________ and complete the code\n",
        "\n",
        "importances = rf_estimator._________________\n",
        "\n",
        "columns = X.columns\n",
        "\n",
        "importance_df = pd.DataFrame(____________________)\n",
        "\n",
        "plt.figure(figsize = (13, 13))\n",
        "\n",
        "sns.barplot(importance_df.Importance, importance_df.index)"
      ]
    },
    {
      "cell_type": "markdown",
      "id": "YuL7_Wc5Swa1",
      "metadata": {
        "id": "YuL7_Wc5Swa1"
      },
      "source": [
        "**Write your answers here:_____**\n"
      ]
    },
    {
      "cell_type": "markdown",
      "id": "f_5Q1zMbZuut",
      "metadata": {
        "id": "f_5Q1zMbZuut"
      },
      "source": [
        "### **Question 8: Conclude ANY FOUR key takeaways for business recommendations (4 Marks)**"
      ]
    },
    {
      "cell_type": "markdown",
      "id": "marked-coaching",
      "metadata": {
        "id": "marked-coaching"
      },
      "source": [
        "**Write your answers here:_____**\n"
      ]
    },
    {
      "cell_type": "markdown",
      "id": "wUzMsUCeIPaw",
      "metadata": {
        "id": "wUzMsUCeIPaw"
      },
      "source": [
        "## **Happy Learning!**"
      ]
    }
  ],
  "metadata": {
    "colab": {
      "collapsed_sections": [],
      "name": "CHT_Graded_Project-Learner-Notebook",
      "provenance": []
    },
    "kernelspec": {
      "display_name": "mltutor",
      "language": "python",
      "name": "python3"
    },
    "language_info": {
      "codemirror_mode": {
        "name": "ipython",
        "version": 3
      },
      "file_extension": ".py",
      "mimetype": "text/x-python",
      "name": "python",
      "nbconvert_exporter": "python",
      "pygments_lexer": "ipython3",
      "version": "3.13.5"
    }
  },
  "nbformat": 4,
  "nbformat_minor": 5
}
