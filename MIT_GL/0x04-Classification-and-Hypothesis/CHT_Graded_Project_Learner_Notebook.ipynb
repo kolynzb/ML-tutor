{
  "cells": [
    {
      "cell_type": "markdown",
      "metadata": {
        "id": "dense-medicaid"
      },
      "source": [
        "# **Project - Classification and Hypothesis Testing: Hotel Booking Cancellation Prediction**\n",
        "\n",
        "## **Marks: 40**\n",
        "\n",
        "---------------\n",
        "## **Problem Statement**\n",
        "\n",
        "### **Context**\n",
        "\n",
        "**A significant number of hotel bookings are called off due to cancellations or no-shows.** Typical reasons for cancellations include change of plans, scheduling conflicts, etc. This is often made easier by the option to do so free of charge or preferably at a low cost. This may be beneficial to hotel guests, but it is a less desirable and possibly revenue-diminishing factor for hotels to deal with. Such losses are particularly high on last-minute cancellations.\n",
        "\n",
        "The new technologies involving online booking channels have dramatically changed customers’ booking possibilities and behavior. This adds a further dimension to the challenge of how hotels handle cancellations, which are no longer limited to traditional booking and guest characteristics.\n",
        "\n",
        "This pattern of cancellations of bookings impacts a hotel on various fronts:\n",
        "1. **Loss of resources (revenue)** when the hotel cannot resell the room.\n",
        "2. **Additional costs of distribution channels** by increasing commissions or paying for publicity to help sell these rooms.\n",
        "3. **Lowering prices last minute**, so the hotel can resell a room, resulting in reducing the profit margin.\n",
        "4. **Human resources to make arrangements** for the guests.\n",
        "\n",
        "### **Objective**\n",
        "\n",
        "This increasing number of cancellations calls for a Machine Learning based solution that can help in predicting which booking is likely to be canceled. INN Hotels Group has a chain of hotels in Portugal - they are facing problems with this high number of booking cancellations and have reached out to your firm for data-driven solutions. You, as a Data Scientist, have to analyze the data provided to find which factors have a high influence on booking cancellations, build a predictive model that can predict which booking is going to be canceled in advance, and help in formulating profitable policies for cancellations and refunds.\n",
        "\n",
        "\n",
        "### **Data Description**\n",
        "\n",
        "The data contains the different attributes of customers' booking details. The detailed data dictionary is given below:\n",
        "\n",
        "\n",
        "**Data Dictionary**\n",
        "\n",
        "* **Booking_ID:** Unique identifier of each booking\n",
        "* **no_of_adults:** Number of adults\n",
        "* **no_of_children:** Number of children\n",
        "* **no_of_weekend_nights:** Number of weekend nights (Saturday or Sunday) the guest stayed or booked to stay at the hotel\n",
        "* **no_of_week_nights:** Number of weekday nights (Monday to Friday) the guest stayed or booked to stay at the hotel\n",
        "* **type_of_meal_plan:** Type of meal plan booked by the customer:\n",
        "    * Not Selected – No meal plan selected\n",
        "    * Meal Plan 1 – Breakfast\n",
        "    * Meal Plan 2 – Half board (breakfast and one other meal)\n",
        "    * Meal Plan 3 – Full board (breakfast, lunch, and dinner)\n",
        "* **required_car_parking_space:** Does the customer require a car parking space? (0 - No, 1- Yes)\n",
        "* **room_type_reserved:** Type of room reserved by the customer. The values are ciphered (encoded) by INN Hotels.\n",
        "* **lead_time:** Number of days between the date of booking and the arrival date\n",
        "* **arrival_year:** Year of arrival date\n",
        "* **arrival_month:** Month of arrival date\n",
        "* **arrival_date:** Date of the month\n",
        "* **market_segment_type:** Market segment designation.\n",
        "* **repeated_guest:** Is the customer a repeated guest? (0 - No, 1- Yes)\n",
        "* **no_of_previous_cancellations:** Number of previous bookings that were canceled by the customer prior to the current booking\n",
        "* **no_of_previous_bookings_not_canceled:** Number of previous bookings not canceled by the customer prior to the current booking\n",
        "* **avg_price_per_room:** Average price per day of the reservation; prices of the rooms are dynamic. (in euros)\n",
        "* **no_of_special_requests:** Total number of special requests made by the customer (e.g. high floor, view from the room, etc)\n",
        "* **booking_status:** Flag indicating if the booking was canceled or not."
      ],
      "id": "dense-medicaid"
    },
    {
      "cell_type": "markdown",
      "metadata": {
        "id": "tqfNqaJCQeEE"
      },
      "source": [
        "## **Importing the libraries required**"
      ],
      "id": "tqfNqaJCQeEE"
    },
    {
      "cell_type": "code",
      "execution_count": null,
      "metadata": {
        "id": "proper-calgary"
      },
      "outputs": [],
      "source": [
        "# Importing the basic libraries we will require for the project\n",
        "\n",
        "# Libraries to help with reading and manipulating data\n",
        "import pandas as pd\n",
        "import numpy as np\n",
        "\n",
        "# Libaries to help with data visualization\n",
        "import matplotlib.pyplot as plt\n",
        "import seaborn as sns\n",
        "sns.set()\n",
        "\n",
        "# Importing the Machine Learning models we require from Scikit-Learn\n",
        "from sklearn.linear_model import LogisticRegression\n",
        "from sklearn.svm import SVC\n",
        "from sklearn.tree import DecisionTreeClassifier\n",
        "from sklearn import tree\n",
        "from sklearn.ensemble import RandomForestClassifier\n",
        "\n",
        "# Importing the other functions we may require from Scikit-Learn\n",
        "from sklearn.model_selection import train_test_split, GridSearchCV\n",
        "from sklearn.preprocessing import MinMaxScaler, LabelEncoder, OneHotEncoder\n",
        "\n",
        "# To get diferent metric scores\n",
        "from sklearn.metrics import confusion_matrix,classification_report,roc_auc_score,plot_confusion_matrix,precision_recall_curve,roc_curve,make_scorer\n",
        "\n",
        "# Code to ignore warnings from function usage\n",
        "import warnings;\n",
        "import numpy as np\n",
        "warnings.filterwarnings('ignore')"
      ],
      "id": "proper-calgary"
    },
    {
      "cell_type": "markdown",
      "metadata": {
        "id": "fantastic-rebel"
      },
      "source": [
        "## **Loading the dataset**"
      ],
      "id": "fantastic-rebel"
    },
    {
      "cell_type": "code",
      "execution_count": null,
      "metadata": {
        "id": "precious-leonard"
      },
      "outputs": [],
      "source": [
        "hotel = pd.read_csv(\"INNHotelsGroup.csv\")"
      ],
      "id": "precious-leonard"
    },
    {
      "cell_type": "code",
      "execution_count": null,
      "metadata": {
        "id": "geographic-gender"
      },
      "outputs": [],
      "source": [
        "# Copying data to another variable to avoid any changes to original data\n",
        "data = hotel.copy()"
      ],
      "id": "geographic-gender"
    },
    {
      "cell_type": "markdown",
      "metadata": {
        "id": "fD7H-dajQqyQ"
      },
      "source": [
        "## **Overview of the dataset**"
      ],
      "id": "fD7H-dajQqyQ"
    },
    {
      "cell_type": "markdown",
      "metadata": {
        "id": "convinced-blackberry"
      },
      "source": [
        "### **View the first and last 5 rows of the dataset**\n",
        "\n",
        "Let's **view the first few rows and last few rows** of the dataset in order to understand its structure a little better.\n",
        "\n",
        "We will use the head() and tail() methods from Pandas to do this."
      ],
      "id": "convinced-blackberry"
    },
    {
      "cell_type": "code",
      "execution_count": null,
      "metadata": {
        "id": "tested-adjustment"
      },
      "outputs": [],
      "source": [
        "data.head()"
      ],
      "id": "tested-adjustment"
    },
    {
      "cell_type": "code",
      "execution_count": null,
      "metadata": {
        "id": "demonstrated-charger"
      },
      "outputs": [],
      "source": [
        "data.tail()"
      ],
      "id": "demonstrated-charger"
    },
    {
      "cell_type": "markdown",
      "metadata": {
        "id": "prepared-clause"
      },
      "source": [
        "### **Understand the shape of the dataset**"
      ],
      "id": "prepared-clause"
    },
    {
      "cell_type": "code",
      "execution_count": null,
      "metadata": {
        "id": "likely-scene"
      },
      "outputs": [],
      "source": [
        "data.shape"
      ],
      "id": "likely-scene"
    },
    {
      "cell_type": "markdown",
      "metadata": {
        "id": "sacred-language"
      },
      "source": [
        "* The dataset has 36275 rows and 19 columns. "
      ],
      "id": "sacred-language"
    },
    {
      "cell_type": "markdown",
      "metadata": {
        "id": "creative-warner"
      },
      "source": [
        "### **Check the data types of the columns for the dataset**"
      ],
      "id": "creative-warner"
    },
    {
      "cell_type": "code",
      "execution_count": null,
      "metadata": {
        "id": "expanded-technique"
      },
      "outputs": [],
      "source": [
        "data.info()"
      ],
      "id": "expanded-technique"
    },
    {
      "cell_type": "markdown",
      "metadata": {
        "id": "august-hopkins"
      },
      "source": [
        "* `Booking_ID`, `type_of_meal_plan`, `room_type_reserved`, `market_segment_type`, and `booking_status` are of object type while rest columns are numeric in nature.\n",
        "\n",
        "* There are no null values in the dataset."
      ],
      "id": "august-hopkins"
    },
    {
      "cell_type": "markdown",
      "metadata": {
        "id": "JrjZHnfFQ4fh"
      },
      "source": [
        "### **Dropping duplicate values**"
      ],
      "id": "JrjZHnfFQ4fh"
    },
    {
      "cell_type": "code",
      "execution_count": null,
      "metadata": {
        "id": "greenhouse-vertical"
      },
      "outputs": [],
      "source": [
        "# checking for duplicate values\n",
        "data.duplicated().sum()"
      ],
      "id": "greenhouse-vertical"
    },
    {
      "cell_type": "markdown",
      "metadata": {
        "id": "adjustable-programmer"
      },
      "source": [
        "- There are **no duplicate values** in the data."
      ],
      "id": "adjustable-programmer"
    },
    {
      "cell_type": "markdown",
      "metadata": {
        "id": "1-CD9xCkQ-bu"
      },
      "source": [
        "### **Dropping the unique values column**"
      ],
      "id": "1-CD9xCkQ-bu"
    },
    {
      "cell_type": "markdown",
      "metadata": {
        "id": "928c50b6"
      },
      "source": [
        "**Let's drop the Booking_ID column first before we proceed forward**, as a column with unique values will have almost no predictive power for the Machine Learning problem at hand."
      ],
      "id": "928c50b6"
    },
    {
      "cell_type": "code",
      "execution_count": null,
      "metadata": {
        "id": "referenced-architect"
      },
      "outputs": [],
      "source": [
        "data = data.drop([\"Booking_ID\"], axis=1)"
      ],
      "id": "referenced-architect"
    },
    {
      "cell_type": "code",
      "execution_count": null,
      "metadata": {
        "id": "40b248aa"
      },
      "outputs": [],
      "source": [
        "data.head()"
      ],
      "id": "40b248aa"
    },
    {
      "cell_type": "markdown",
      "metadata": {
        "id": "PT4JpT2NRKBB"
      },
      "source": [
        "### **Question 1: Check the summary statistics of the dataset and write your observations (2 Marks)**\n",
        "\n"
      ],
      "id": "PT4JpT2NRKBB"
    },
    {
      "cell_type": "markdown",
      "metadata": {
        "id": "seeing-newman"
      },
      "source": [
        "**Let's check the statistical summary of the data.**"
      ],
      "id": "seeing-newman"
    },
    {
      "cell_type": "code",
      "execution_count": null,
      "metadata": {
        "id": "backed-solution"
      },
      "outputs": [],
      "source": [
        "# Remove _________ and complete the code\n",
        "data.____________ "
      ],
      "id": "backed-solution"
    },
    {
      "cell_type": "markdown",
      "metadata": {
        "id": "personal-detector"
      },
      "source": [
        "**Write your answers here:_____**\n"
      ],
      "id": "personal-detector"
    },
    {
      "cell_type": "markdown",
      "metadata": {
        "id": "realistic-mortgage"
      },
      "source": [
        "## **Exploratory Data Analysis**"
      ],
      "id": "realistic-mortgage"
    },
    {
      "cell_type": "markdown",
      "metadata": {
        "id": "arbitrary-intelligence"
      },
      "source": [
        "### **Question 2: Univariate Analysis**"
      ],
      "id": "arbitrary-intelligence"
    },
    {
      "cell_type": "markdown",
      "metadata": {
        "id": "mieBnCRTbgT-"
      },
      "source": [
        "Let's explore these variables in some more depth by observing their distributions."
      ],
      "id": "mieBnCRTbgT-"
    },
    {
      "cell_type": "markdown",
      "metadata": {
        "id": "X76cVRmTb-Wb"
      },
      "source": [
        "We will first define a **hist_box() function** that provides both a boxplot and a histogram in the same visual, with which we can perform univariate analysis on the columns of this dataset."
      ],
      "id": "X76cVRmTb-Wb"
    },
    {
      "cell_type": "code",
      "execution_count": null,
      "metadata": {
        "id": "9k4V_XXCb495"
      },
      "outputs": [],
      "source": [
        "# Defining the hist_box() function\n",
        "def hist_box(data,col):\n",
        "  f, (ax_box, ax_hist) = plt.subplots(2, sharex=True, gridspec_kw={'height_ratios': (0.15, 0.85)}, figsize=(12,6))\n",
        "  # Adding a graph in each part\n",
        "  sns.boxplot(data[col], ax=ax_box, showmeans=True)\n",
        "  sns.distplot(data[col], ax=ax_hist)\n",
        "  plt.show()"
      ],
      "id": "9k4V_XXCb495"
    },
    {
      "cell_type": "markdown",
      "metadata": {
        "id": "GfcXGfchXHLV"
      },
      "source": [
        "#### **Question 2.1:  Plot the histogram and box plot for the variable `Lead Time` using the hist_box function provided and write your insights. (1 Mark)**"
      ],
      "id": "GfcXGfchXHLV"
    },
    {
      "cell_type": "code",
      "execution_count": null,
      "metadata": {
        "id": "italian-imagination"
      },
      "outputs": [],
      "source": [
        "# Remove _________ and complete the code\n",
        "hist_box(__________) "
      ],
      "id": "italian-imagination"
    },
    {
      "cell_type": "markdown",
      "metadata": {
        "id": "racial-pointer"
      },
      "source": [
        "**Write your answers here:_____**"
      ],
      "id": "racial-pointer"
    },
    {
      "cell_type": "markdown",
      "metadata": {
        "id": "UklkmdoEWPD-"
      },
      "source": [
        "#### **Question 2.2:  Plot the histogram and box plot for the variable `Average Price per Room` using the hist_box function provided and write your insights. (1 Mark)**"
      ],
      "id": "UklkmdoEWPD-"
    },
    {
      "cell_type": "code",
      "execution_count": null,
      "metadata": {
        "id": "liable-guess"
      },
      "outputs": [],
      "source": [
        "# Remove _________ and complete the code\n",
        "hist_box(________)"
      ],
      "id": "liable-guess"
    },
    {
      "cell_type": "markdown",
      "metadata": {
        "id": "little-metadata"
      },
      "source": [
        "**Write your answers here:_____**"
      ],
      "id": "little-metadata"
    },
    {
      "cell_type": "markdown",
      "metadata": {
        "id": "KP4f-yCq72Xl"
      },
      "source": [
        "**Interestingly some rooms have a price equal to 0. Let's check them.**"
      ],
      "id": "KP4f-yCq72Xl"
    },
    {
      "cell_type": "code",
      "execution_count": null,
      "metadata": {
        "id": "southern-organic"
      },
      "outputs": [],
      "source": [
        "data[data[\"avg_price_per_room\"] == 0]"
      ],
      "id": "southern-organic"
    },
    {
      "cell_type": "markdown",
      "metadata": {
        "id": "voluntary-diagnosis"
      },
      "source": [
        "- There are quite a few hotel rooms which have a price equal to 0.\n",
        "- In the market segment column, it looks like many values are complementary."
      ],
      "id": "voluntary-diagnosis"
    },
    {
      "cell_type": "code",
      "execution_count": null,
      "metadata": {
        "id": "written-stone"
      },
      "outputs": [],
      "source": [
        "data.loc[data[\"avg_price_per_room\"] == 0, \"market_segment_type\"].value_counts()"
      ],
      "id": "written-stone"
    },
    {
      "cell_type": "markdown",
      "metadata": {
        "id": "nutritional-gamma"
      },
      "source": [
        "* It makes sense that most values with room prices equal to 0 are the rooms given as complimentary service from the hotel.\n",
        "* The rooms booked online must be a part of some promotional campaign done by the hotel."
      ],
      "id": "nutritional-gamma"
    },
    {
      "cell_type": "code",
      "execution_count": null,
      "metadata": {
        "id": "potential-klein"
      },
      "outputs": [],
      "source": [
        "# Calculating the 25th quantile\n",
        "Q1 = data[\"avg_price_per_room\"].quantile(0.25)\n",
        "\n",
        "# Calculating the 75th quantile\n",
        "Q3 = data[\"avg_price_per_room\"].quantile(0.75)\n",
        "\n",
        "# Calculating IQR\n",
        "IQR = Q3 - Q1\n",
        "\n",
        "# Calculating value of upper whisker\n",
        "Upper_Whisker = Q3 + 1.5 * IQR\n",
        "Upper_Whisker"
      ],
      "id": "potential-klein"
    },
    {
      "cell_type": "code",
      "execution_count": null,
      "metadata": {
        "id": "assured-holder"
      },
      "outputs": [],
      "source": [
        "# assigning the outliers the value of upper whisker\n",
        "data.loc[data[\"avg_price_per_room\"] >= 500, \"avg_price_per_room\"] = Upper_Whisker"
      ],
      "id": "assured-holder"
    },
    {
      "cell_type": "markdown",
      "metadata": {
        "id": "skGK7OuPumzs"
      },
      "source": [
        "#### **Let's understand the distribution of the categorical variables**"
      ],
      "id": "skGK7OuPumzs"
    },
    {
      "cell_type": "markdown",
      "metadata": {
        "id": "7dvPDVs3YQV-"
      },
      "source": [
        "**Number of Children**"
      ],
      "id": "7dvPDVs3YQV-"
    },
    {
      "cell_type": "code",
      "execution_count": null,
      "metadata": {
        "id": "finite-kingston"
      },
      "outputs": [],
      "source": [
        "sns.countplot(data['no_of_children'])\n",
        "plt.show()"
      ],
      "id": "finite-kingston"
    },
    {
      "cell_type": "code",
      "execution_count": null,
      "metadata": {
        "id": "Rd-seHBO-rtT"
      },
      "outputs": [],
      "source": [
        "data['no_of_children'].value_counts(normalize=True)"
      ],
      "id": "Rd-seHBO-rtT"
    },
    {
      "cell_type": "markdown",
      "metadata": {
        "id": "animated-three"
      },
      "source": [
        "* Customers were not travelling with children in 93% of cases.\n",
        "* There are some values in the data where the number of children is 9 or 10, which is highly unlikely. \n",
        "* We will replace these values with the maximum value of 3 children."
      ],
      "id": "animated-three"
    },
    {
      "cell_type": "code",
      "execution_count": null,
      "metadata": {
        "id": "necessary-employee"
      },
      "outputs": [],
      "source": [
        "# replacing 9, and 10 children with 3\n",
        "data[\"no_of_children\"] = data[\"no_of_children\"].replace([9, 10], 3)"
      ],
      "id": "necessary-employee"
    },
    {
      "cell_type": "markdown",
      "metadata": {
        "id": "thick-coordination"
      },
      "source": [
        "**Arrival Month**"
      ],
      "id": "thick-coordination"
    },
    {
      "cell_type": "code",
      "execution_count": null,
      "metadata": {
        "id": "expensive-deposit"
      },
      "outputs": [],
      "source": [
        "sns.countplot(data[\"arrival_month\"])\n",
        "plt.show()"
      ],
      "id": "expensive-deposit"
    },
    {
      "cell_type": "code",
      "execution_count": null,
      "metadata": {
        "id": "2DpFp56Tvo3I"
      },
      "outputs": [],
      "source": [
        "data['arrival_month'].value_counts(normalize=True)"
      ],
      "id": "2DpFp56Tvo3I"
    },
    {
      "cell_type": "markdown",
      "metadata": {
        "id": "affected-right"
      },
      "source": [
        "* October is the busiest month for hotel arrivals followed by September and August. **Over 35% of all bookings**, as we see in the above table, were for one of these three months.\n",
        "* Around 14.7% of the bookings were made for an October arrival."
      ],
      "id": "affected-right"
    },
    {
      "cell_type": "markdown",
      "metadata": {
        "id": "dramatic-karaoke"
      },
      "source": [
        "**Booking Status**"
      ],
      "id": "dramatic-karaoke"
    },
    {
      "cell_type": "code",
      "execution_count": null,
      "metadata": {
        "id": "happy-collins"
      },
      "outputs": [],
      "source": [
        "sns.countplot(data[\"booking_status\"])\n",
        "plt.show()"
      ],
      "id": "happy-collins"
    },
    {
      "cell_type": "code",
      "execution_count": null,
      "metadata": {
        "id": "wOeK2StJzykk"
      },
      "outputs": [],
      "source": [
        "data['booking_status'].value_counts(normalize=True)"
      ],
      "id": "wOeK2StJzykk"
    },
    {
      "cell_type": "markdown",
      "metadata": {
        "id": "quantitative-fetish"
      },
      "source": [
        "* 32.8% of the bookings were canceled by the customers."
      ],
      "id": "quantitative-fetish"
    },
    {
      "cell_type": "markdown",
      "metadata": {
        "id": "pharmaceutical-grill"
      },
      "source": [
        "**Let's encode Canceled bookings to 1 and Not_Canceled as 0 for further analysis**"
      ],
      "id": "pharmaceutical-grill"
    },
    {
      "cell_type": "code",
      "execution_count": null,
      "metadata": {
        "id": "voluntary-irish"
      },
      "outputs": [],
      "source": [
        "data[\"booking_status\"] = data[\"booking_status\"].apply(\n",
        "    lambda x: 1 if x == \"Canceled\" else 0\n",
        ")"
      ],
      "id": "voluntary-irish"
    },
    {
      "cell_type": "markdown",
      "metadata": {
        "id": "arranged-courtesy"
      },
      "source": [
        "### **Question 3: Bivariate Analysis**"
      ],
      "id": "arranged-courtesy"
    },
    {
      "cell_type": "markdown",
      "metadata": {
        "id": "D4vIqPb9aaZW"
      },
      "source": [
        "#### **Question 3.1: Find and visualize the correlation matrix using a heatmap and write your observations from the plot. (2 Marks)**\n",
        "\n"
      ],
      "id": "D4vIqPb9aaZW"
    },
    {
      "cell_type": "code",
      "execution_count": null,
      "metadata": {
        "id": "official-wyoming"
      },
      "outputs": [],
      "source": [
        "# Remove _________ and complete the code\n",
        "cols_list = data.select_dtypes(include=np.number).columns.tolist()\n",
        "\n",
        "plt.figure(figsize=(12, 7))\n",
        "sns.heatmap(________________)\n",
        "plt.show()"
      ],
      "id": "official-wyoming"
    },
    {
      "cell_type": "markdown",
      "metadata": {
        "id": "brave-hamilton"
      },
      "source": [
        "**Write your answers here:_____**\n"
      ],
      "id": "brave-hamilton"
    },
    {
      "cell_type": "markdown",
      "metadata": {
        "id": "quick-works"
      },
      "source": [
        "**Hotel rates are dynamic and change according to demand and customer demographics. Let's see how prices vary across different market segments**"
      ],
      "id": "quick-works"
    },
    {
      "cell_type": "code",
      "execution_count": null,
      "metadata": {
        "id": "animal-depth"
      },
      "outputs": [],
      "source": [
        "plt.figure(figsize=(10, 6))\n",
        "sns.boxplot(\n",
        "    data=data, x=\"market_segment_type\", y=\"avg_price_per_room\", palette=\"gist_rainbow\"\n",
        ")\n",
        "plt.show()"
      ],
      "id": "animal-depth"
    },
    {
      "cell_type": "markdown",
      "metadata": {
        "id": "advised-community"
      },
      "source": [
        "* Rooms booked online have high variations in prices.\n",
        "* The offline and corporate room prices are almost similar.\n",
        "* Complementary market segment gets the rooms at very low prices, which makes sense."
      ],
      "id": "advised-community"
    },
    {
      "cell_type": "markdown",
      "metadata": {
        "id": "FJhhg4y4i3wO"
      },
      "source": [
        "We will define a **stacked barplot()** function to help analyse how the target variable varies across predictor categories."
      ],
      "id": "FJhhg4y4i3wO"
    },
    {
      "cell_type": "code",
      "execution_count": null,
      "metadata": {
        "id": "GjDZRQMWiCEs"
      },
      "outputs": [],
      "source": [
        "# Defining the stacked_barplot() function\n",
        "def stacked_barplot(data,predictor,target,figsize=(10,6)):\n",
        "  (pd.crosstab(data[predictor],data[target],normalize='index')*100).plot(kind='bar',figsize=figsize,stacked=True)\n",
        "  plt.legend(loc=\"lower right\")\n",
        "  plt.ylabel('Percentage Cancellations %')"
      ],
      "id": "GjDZRQMWiCEs"
    },
    {
      "cell_type": "markdown",
      "metadata": {
        "id": "75988GXzuEub"
      },
      "source": [
        "#### **Question 3.2: Plot the stacked barplot for the variable `Market Segment Type` against the target variable `Booking Status` using the stacked_barplot  function provided and write your insights. (1 Mark)**"
      ],
      "id": "75988GXzuEub"
    },
    {
      "cell_type": "code",
      "execution_count": null,
      "metadata": {
        "id": "aMUKgxiFryyN"
      },
      "outputs": [],
      "source": [
        "# Remove _________ and complete the code\n",
        "stacked_barplot(___________)"
      ],
      "id": "aMUKgxiFryyN"
    },
    {
      "cell_type": "markdown",
      "metadata": {
        "id": "IpvdhoHSuhrz"
      },
      "source": [
        "**Write your answers here:_____**\n"
      ],
      "id": "IpvdhoHSuhrz"
    },
    {
      "cell_type": "markdown",
      "metadata": {
        "id": "gUldUCUYu3Qb"
      },
      "source": [
        "#### **Question 3.3: Plot the stacked barplot for the variable `Repeated Guest` against the target variable `Booking Status` using the stacked_barplot  function provided and write your insights. (1 Mark)**\n",
        "\n",
        "Repeating guests are the guests who stay in the hotel often and are important to brand equity."
      ],
      "id": "gUldUCUYu3Qb"
    },
    {
      "cell_type": "code",
      "execution_count": null,
      "metadata": {
        "id": "L2AteH8ru-Lm"
      },
      "outputs": [],
      "source": [
        "# Remove _________ and complete the code\n",
        "stacked_barplot(___________)"
      ],
      "id": "L2AteH8ru-Lm"
    },
    {
      "cell_type": "markdown",
      "metadata": {
        "id": "nmrkaaZPvRGr"
      },
      "source": [
        "**Write your answers here:_____**\n"
      ],
      "id": "nmrkaaZPvRGr"
    },
    {
      "cell_type": "markdown",
      "metadata": {
        "id": "WMJ96mlkvhR8"
      },
      "source": [
        "**Let's analyze the customer who stayed for at least a day at the hotel.**"
      ],
      "id": "WMJ96mlkvhR8"
    },
    {
      "cell_type": "code",
      "execution_count": null,
      "metadata": {
        "id": "j0UdS10Wvfqd"
      },
      "outputs": [],
      "source": [
        "stay_data = data[(data[\"no_of_week_nights\"] > 0) & (data[\"no_of_weekend_nights\"] > 0)]\n",
        "stay_data[\"total_days\"] = (stay_data[\"no_of_week_nights\"] + stay_data[\"no_of_weekend_nights\"])\n",
        "\n",
        "stacked_barplot(stay_data, \"total_days\", \"booking_status\",figsize=(15,6))"
      ],
      "id": "j0UdS10Wvfqd"
    },
    {
      "cell_type": "markdown",
      "metadata": {
        "id": "-aDjNRtfvgNV"
      },
      "source": [
        "* The general trend is that the chances of cancellation increase as the number of days the customer planned to stay at the hotel increases."
      ],
      "id": "-aDjNRtfvgNV"
    },
    {
      "cell_type": "markdown",
      "metadata": {
        "id": "tired-bridges"
      },
      "source": [
        "**As hotel room prices are dynamic, Let's see how the prices vary across different months**"
      ],
      "id": "tired-bridges"
    },
    {
      "cell_type": "code",
      "execution_count": null,
      "metadata": {
        "id": "atomic-locator"
      },
      "outputs": [],
      "source": [
        "plt.figure(figsize=(10, 5))\n",
        "sns.lineplot(y=data[\"avg_price_per_room\"], x=data[\"arrival_month\"], ci=None)\n",
        "plt.show()"
      ],
      "id": "atomic-locator"
    },
    {
      "cell_type": "markdown",
      "metadata": {
        "id": "incorporated-northern"
      },
      "source": [
        "* The price of rooms is highest in May to September - around 115 euros per room."
      ],
      "id": "incorporated-northern"
    },
    {
      "cell_type": "markdown",
      "metadata": {
        "id": "pleased-chicken"
      },
      "source": [
        "## **Data Preparation for Modeling**\n",
        "\n",
        "- We want to predict which bookings will be canceled.\n",
        "- Before we proceed to build a model, we'll have to encode categorical features.\n",
        "- We'll split the data into train and test to be able to evaluate the model that we build on the train data."
      ],
      "id": "pleased-chicken"
    },
    {
      "cell_type": "markdown",
      "metadata": {
        "id": "Q1yU3LeM5p73"
      },
      "source": [
        "**Separating the independent variables (X) and the dependent variable (Y)**"
      ],
      "id": "Q1yU3LeM5p73"
    },
    {
      "cell_type": "code",
      "execution_count": null,
      "metadata": {
        "id": "durable-allergy"
      },
      "outputs": [],
      "source": [
        "X = data.drop([\"booking_status\"], axis=1)\n",
        "Y = data[\"booking_status\"]\n",
        "\n",
        "X = pd.get_dummies(X, drop_first=True) # Encoding the Categorical features"
      ],
      "id": "durable-allergy"
    },
    {
      "cell_type": "markdown",
      "metadata": {
        "id": "ugL1fDmu5sU-"
      },
      "source": [
        "**Splitting the data into a 70% train and 30% test set**\n",
        "\n",
        "Some classification problems can exhibit a large imbalance in the distribution of the target classes: for instance there could be several times more negative samples than positive samples. In such cases it is recommended to use the **stratified sampling** technique to ensure that relative class frequencies are approximately preserved in each train and validation fold."
      ],
      "id": "ugL1fDmu5sU-"
    },
    {
      "cell_type": "code",
      "execution_count": null,
      "metadata": {
        "id": "Xve9js0S5xPV"
      },
      "outputs": [],
      "source": [
        "# Splitting data in train and test sets\n",
        "X_train, X_test, y_train, y_test = train_test_split(X, Y, test_size=0.30,stratify=Y, random_state=1)"
      ],
      "id": "Xve9js0S5xPV"
    },
    {
      "cell_type": "code",
      "execution_count": null,
      "metadata": {
        "id": "ecological-principal"
      },
      "outputs": [],
      "source": [
        "print(\"Shape of Training set : \", X_train.shape)\n",
        "print(\"Shape of test set : \", X_test.shape)\n",
        "print(\"Percentage of classes in training set:\")\n",
        "print(y_train.value_counts(normalize=True))\n",
        "print(\"Percentage of classes in test set:\")\n",
        "print(y_test.value_counts(normalize=True))"
      ],
      "id": "ecological-principal"
    },
    {
      "cell_type": "markdown",
      "metadata": {
        "id": "cultural-engagement"
      },
      "source": [
        "## **Model Evaluation Criterion**\n",
        "\n",
        "#### **Model can make wrong predictions as:**\n",
        "\n",
        "1. Predicting a customer will not cancel their booking but in reality, the customer will cancel their booking.\n",
        "2. Predicting a customer will cancel their booking but in reality, the customer will not cancel their booking. \n",
        "\n",
        "#### **Which case is more important?** \n",
        "\n",
        "Both the cases are important as:\n",
        "\n",
        "* If we predict that a booking will not be canceled and the booking gets canceled then the hotel will lose resources and will have to bear additional costs of distribution channels.\n",
        "\n",
        "* If we predict that a booking will get canceled and the booking doesn't get canceled the hotel might not be able to provide satisfactory services to the customer by assuming that this booking will be canceled. This might damage brand equity. \n",
        "\n",
        "\n",
        "\n",
        "#### **How to reduce the losses?**\n",
        "\n",
        "* The hotel would want the `F1 Score` to be maximized, the greater the F1  score, the higher the chances of minimizing False Negatives and False Positives. "
      ],
      "id": "cultural-engagement"
    },
    {
      "cell_type": "markdown",
      "metadata": {
        "id": "TIvULwEQ6NJO"
      },
      "source": [
        "**Also, let's create a function to calculate and print the classification report and confusion matrix so that we don't have to rewrite the same code repeatedly for each model.**"
      ],
      "id": "TIvULwEQ6NJO"
    },
    {
      "cell_type": "code",
      "execution_count": null,
      "metadata": {
        "id": "sx5AmqRM3Cxy"
      },
      "outputs": [],
      "source": [
        "# Creating metric function \n",
        "def metrics_score(actual, predicted):\n",
        "    print(classification_report(actual, predicted))\n",
        "\n",
        "    cm = confusion_matrix(actual, predicted)\n",
        "    plt.figure(figsize=(8,5))\n",
        "    \n",
        "    sns.heatmap(cm, annot=True,  fmt='.2f', xticklabels=['Not Cancelled', 'Cancelled'], yticklabels=['Not Cancelled', 'Cancelled'])\n",
        "    plt.ylabel('Actual')\n",
        "    plt.xlabel('Predicted')\n",
        "    plt.show()"
      ],
      "id": "sx5AmqRM3Cxy"
    },
    {
      "cell_type": "markdown",
      "metadata": {
        "id": "V6r7bPlp8W3E"
      },
      "source": [
        "## **Building the model**\n",
        "\n",
        "We will be building 4 different models:\n",
        "\n",
        "- **Logistic Regression**\n",
        "- **Support Vector Machine (SVM)**\n",
        "- **Decision Tree**\n",
        "- **Random Forest**"
      ],
      "id": "V6r7bPlp8W3E"
    },
    {
      "cell_type": "markdown",
      "metadata": {
        "id": "opposed-glance"
      },
      "source": [
        "### **Question 4: Logistic Regression (6 Marks)**"
      ],
      "id": "opposed-glance"
    },
    {
      "cell_type": "markdown",
      "metadata": {
        "id": "bT_PaZ94M5hb"
      },
      "source": [
        "#### **Question 4.1: Build a Logistic Regression model (Use the sklearn library) (1 Mark)**"
      ],
      "id": "bT_PaZ94M5hb"
    },
    {
      "cell_type": "code",
      "execution_count": null,
      "metadata": {
        "id": "nominated-tumor"
      },
      "outputs": [],
      "source": [
        "# Remove _________ and complete the code\n",
        "\n",
        "# Fitting logistic regression model\n",
        "lg = ___________\n",
        "lg.fit(__________)"
      ],
      "id": "nominated-tumor"
    },
    {
      "cell_type": "markdown",
      "metadata": {
        "id": "KY_E1udCOCcN"
      },
      "source": [
        "#### **Question 4.2: Check the performance of the model on train and test data (2 Marks)**"
      ],
      "id": "KY_E1udCOCcN"
    },
    {
      "cell_type": "code",
      "execution_count": null,
      "metadata": {
        "id": "generous-investing"
      },
      "outputs": [],
      "source": [
        "# Remove _________ and complete the code\n",
        "\n",
        "# Checking the performance on the training data\n",
        "y_pred_train = lg.____________\n",
        "metrics_score(___________)"
      ],
      "id": "generous-investing"
    },
    {
      "cell_type": "markdown",
      "metadata": {
        "id": "52aOuAUFPJBL"
      },
      "source": [
        "**Write your Answer here:**\n"
      ],
      "id": "52aOuAUFPJBL"
    },
    {
      "cell_type": "markdown",
      "metadata": {
        "id": "ycKHN5ZGWruu"
      },
      "source": [
        "Let's check the performance on the test set"
      ],
      "id": "ycKHN5ZGWruu"
    },
    {
      "cell_type": "code",
      "execution_count": null,
      "metadata": {
        "id": "_hbaUbSr6g6d"
      },
      "outputs": [],
      "source": [
        "# Remove _________ and complete the code\n",
        "\n",
        "# Checking the performance on the test dataset\n",
        "y_pred_test = lg._________\n",
        "metrics_score(________)"
      ],
      "id": "_hbaUbSr6g6d"
    },
    {
      "cell_type": "markdown",
      "metadata": {
        "id": "sBMbUH7DPKKT"
      },
      "source": [
        "**Write your Answer here:** "
      ],
      "id": "sBMbUH7DPKKT"
    },
    {
      "cell_type": "markdown",
      "metadata": {
        "id": "heated-intersection"
      },
      "source": [
        "\n",
        "#### **Question 4.3: Find the optimal threshold for the model using the Precision-Recall Curve. (1 Mark)**\n",
        "\n",
        "Precision-Recall curves summarize the trade-off between the true positive rate and the positive predictive value for a predictive model using different probability thresholds.\n",
        "\n",
        "Let's use the Precision-Recall curve and see if we can find a **better threshold.**\n"
      ],
      "id": "heated-intersection"
    },
    {
      "cell_type": "code",
      "execution_count": null,
      "metadata": {
        "id": "acute-newark"
      },
      "outputs": [],
      "source": [
        "# Remove _________ and complete the code\n",
        "\n",
        "# Predict_proba gives the probability of each observation belonging to each class\n",
        "y_scores_lg=lg.predict_proba(_______)\n",
        "\n",
        "precisions_lg, recalls_lg, thresholds_lg = precision_recall_curve(____________)\n",
        "\n",
        "# Plot values of precisions, recalls, and thresholds\n",
        "plt.figure(figsize=(10,7))\n",
        "plt.plot(thresholds_lg, precisions_lg[:-1], 'b--', label='precision')\n",
        "plt.plot(thresholds_lg, recalls_lg[:-1], 'g--', label = 'recall')\n",
        "plt.xlabel('Threshold')\n",
        "plt.legend(loc='upper left')\n",
        "plt.ylim([0,1])\n",
        "plt.show()"
      ],
      "id": "acute-newark"
    },
    {
      "cell_type": "markdown",
      "metadata": {
        "id": "supported-series"
      },
      "source": [
        "**Write your answers here:_____**\n"
      ],
      "id": "supported-series"
    },
    {
      "cell_type": "code",
      "execution_count": null,
      "metadata": {
        "id": "brown-advertiser"
      },
      "outputs": [],
      "source": [
        "# Setting the optimal threshold\n",
        "optimal_threshold = ___________"
      ],
      "id": "brown-advertiser"
    },
    {
      "cell_type": "markdown",
      "metadata": {
        "id": "environmental-surface"
      },
      "source": [
        "#### **Question 4.4: Check the performance of the model on train and test data using the optimal threshold. (2 Marks)**"
      ],
      "id": "environmental-surface"
    },
    {
      "cell_type": "code",
      "execution_count": null,
      "metadata": {
        "id": "mental-albany"
      },
      "outputs": [],
      "source": [
        "# Remove _________ and complete the code\n",
        "\n",
        "# Creating confusion matrix\n",
        "y_pred_train = lg.predict_proba(________)\n",
        "metrics_score(______________)"
      ],
      "id": "mental-albany"
    },
    {
      "cell_type": "markdown",
      "metadata": {
        "id": "indoor-equity"
      },
      "source": [
        "**Write your answers here:_____**\n"
      ],
      "id": "indoor-equity"
    },
    {
      "cell_type": "markdown",
      "metadata": {
        "id": "xK2YZU-oYwnr"
      },
      "source": [
        "Let's check the performance on the test set"
      ],
      "id": "xK2YZU-oYwnr"
    },
    {
      "cell_type": "code",
      "execution_count": null,
      "metadata": {
        "id": "needed-trial"
      },
      "outputs": [],
      "source": [
        "# Remove _________ and complete the code\n",
        "\n",
        "y_pred_test = lg.predict_proba(__________)\n",
        "metrics_score(____________)"
      ],
      "id": "needed-trial"
    },
    {
      "cell_type": "markdown",
      "metadata": {
        "id": "virgin-polls"
      },
      "source": [
        "**Write your answers here:_____**\n"
      ],
      "id": "virgin-polls"
    },
    {
      "cell_type": "markdown",
      "metadata": {
        "id": "42mzmgkfAB6r"
      },
      "source": [
        "### **Question 5: Support Vector Machines (11 Marks)**"
      ],
      "id": "42mzmgkfAB6r"
    },
    {
      "cell_type": "markdown",
      "metadata": {
        "id": "DzJnFhWNry13"
      },
      "source": [
        "To accelerate SVM training, let's scale the data for support vector machines."
      ],
      "id": "DzJnFhWNry13"
    },
    {
      "cell_type": "code",
      "execution_count": null,
      "metadata": {
        "id": "rvXQgpBFrxRv"
      },
      "outputs": [],
      "source": [
        "scaling = MinMaxScaler(feature_range=(-1,1)).fit(X_train)\n",
        "X_train_scaled = scaling.transform(X_train)\n",
        "X_test_scaled = scaling.transform(X_test)"
      ],
      "id": "rvXQgpBFrxRv"
    },
    {
      "cell_type": "markdown",
      "metadata": {
        "id": "ZF0KYzZYAB-I"
      },
      "source": [
        "Let's build the models using the two of the widely used kernel functions:\n",
        "\n",
        "1.   **Linear Kernel**\n",
        "2.   **RBF Kernel**\n",
        "\n"
      ],
      "id": "ZF0KYzZYAB-I"
    },
    {
      "cell_type": "markdown",
      "metadata": {
        "id": "ym5BVbHfH6gQ"
      },
      "source": [
        "#### **Question 5.1: Build a Support Vector Machine model using a linear kernel (1 Mark)**"
      ],
      "id": "ym5BVbHfH6gQ"
    },
    {
      "cell_type": "markdown",
      "source": [
        "**Note: Please use the scaled data for modeling Support Vector Machine**"
      ],
      "metadata": {
        "id": "wAY_HOopDom6"
      },
      "id": "wAY_HOopDom6"
    },
    {
      "cell_type": "code",
      "execution_count": null,
      "metadata": {
        "id": "YjXGT-G3AArW"
      },
      "outputs": [],
      "source": [
        "# Remove _________ and complete the code\n",
        "\n",
        "svm = SVC(kernel=______,probability=True) # Linear kernal or linear decision boundary\n",
        "model = svm.fit(___________)"
      ],
      "id": "YjXGT-G3AArW"
    },
    {
      "cell_type": "markdown",
      "metadata": {
        "id": "xPYFGhb6BSfJ"
      },
      "source": [
        "#### **Question 5.2: Check the performance of the model on train and test data (2 Marks)**"
      ],
      "id": "xPYFGhb6BSfJ"
    },
    {
      "cell_type": "code",
      "execution_count": null,
      "metadata": {
        "id": "3xWoYJarBBBF"
      },
      "outputs": [],
      "source": [
        "# Remove _________ and complete the code\n",
        "\n",
        "y_pred_train_svm = model.predict(__________)\n",
        "metrics_score(______________)"
      ],
      "id": "3xWoYJarBBBF"
    },
    {
      "cell_type": "markdown",
      "source": [
        "**Write your answers here:_____**\n"
      ],
      "metadata": {
        "id": "NOSJn5ZKRTDS"
      },
      "id": "NOSJn5ZKRTDS"
    },
    {
      "cell_type": "markdown",
      "metadata": {
        "id": "zgbgteTXyVN5"
      },
      "source": [
        "Checking model performance on test set"
      ],
      "id": "zgbgteTXyVN5"
    },
    {
      "cell_type": "code",
      "execution_count": null,
      "metadata": {
        "id": "8fpUk_cIAAuv"
      },
      "outputs": [],
      "source": [
        "# Remove _________ and complete the code\n",
        "\n",
        "y_pred_test_svm = model.predict(___________)\n",
        "metrics_score(____________)"
      ],
      "id": "8fpUk_cIAAuv"
    },
    {
      "cell_type": "markdown",
      "metadata": {
        "id": "uQhJR6A4dLRr"
      },
      "source": [
        "**Write your answers here:_____**\n"
      ],
      "id": "uQhJR6A4dLRr"
    },
    {
      "cell_type": "markdown",
      "metadata": {
        "id": "biqGCISyTSHj"
      },
      "source": [
        "#### **Question 5.3: Find the optimal threshold for the model using the Precision-Recall Curve. (1 Mark)**\n"
      ],
      "id": "biqGCISyTSHj"
    },
    {
      "cell_type": "code",
      "execution_count": null,
      "metadata": {
        "id": "-m-5ArrO0m_A"
      },
      "outputs": [],
      "source": [
        "# Remove _________ and complete the code\n",
        "\n",
        "# Predict on train data\n",
        "y_scores_svm=model.predict_proba(____________)\n",
        "\n",
        "precisions_svm, recalls_svm, thresholds_svm = _________________\n",
        "\n",
        "# Plot values of precisions, recalls, and thresholds\n",
        "plt.figure(figsize=(10,7))\n",
        "plt.plot(thresholds_svm, precisions_svm[:-1], 'b--', label='precision')\n",
        "plt.plot(thresholds_svm, recalls_svm[:-1], 'g--', label = 'recall')\n",
        "plt.xlabel('Threshold')\n",
        "plt.legend(loc='upper left')\n",
        "plt.ylim([0,1])\n",
        "plt.show()"
      ],
      "id": "-m-5ArrO0m_A"
    },
    {
      "cell_type": "markdown",
      "source": [
        "**Write your answers here:_____**\n"
      ],
      "metadata": {
        "id": "KIhLeNBKEplE"
      },
      "id": "KIhLeNBKEplE"
    },
    {
      "cell_type": "code",
      "execution_count": null,
      "metadata": {
        "id": "0G6DAkF_Thzl"
      },
      "outputs": [],
      "source": [
        "optimal_threshold_svm=____________"
      ],
      "id": "0G6DAkF_Thzl"
    },
    {
      "cell_type": "markdown",
      "metadata": {
        "id": "KavLMkflTm57"
      },
      "source": [
        "#### **Question 5.4: Check the performance of the model on train and test data using the optimal threshold. (2 Marks)**"
      ],
      "id": "KavLMkflTm57"
    },
    {
      "cell_type": "code",
      "execution_count": null,
      "metadata": {
        "id": "ICf9R7L_TvS7"
      },
      "outputs": [],
      "source": [
        "# Remove _________ and complete the code\n",
        "\n",
        "y_pred_train_svm = model.________________\n",
        "metrics_score(__________________)"
      ],
      "id": "ICf9R7L_TvS7"
    },
    {
      "cell_type": "markdown",
      "source": [
        "**Write your answers here:_____**\n"
      ],
      "metadata": {
        "id": "5X5QMI2VS3_h"
      },
      "id": "5X5QMI2VS3_h"
    },
    {
      "cell_type": "code",
      "execution_count": null,
      "metadata": {
        "id": "s2BC_MXfH2x6"
      },
      "outputs": [],
      "source": [
        "# Remove _________ and complete the code\n",
        "\n",
        "y_pred_test = model._______________\n",
        "metrics_score(________________)"
      ],
      "id": "s2BC_MXfH2x6"
    },
    {
      "cell_type": "markdown",
      "metadata": {
        "id": "QCuuTrvCGSyK"
      },
      "source": [
        "**Write your answers here:_____**\n"
      ],
      "id": "QCuuTrvCGSyK"
    },
    {
      "cell_type": "markdown",
      "metadata": {
        "id": "RWKtJmto0mwB"
      },
      "source": [
        "#### **Question 5.5: Build a Support Vector Machines model using an RBF kernel (1 Mark)**"
      ],
      "id": "RWKtJmto0mwB"
    },
    {
      "cell_type": "code",
      "execution_count": null,
      "metadata": {
        "id": "lJTfIaQ30m5o"
      },
      "outputs": [],
      "source": [
        "# Remove _________ and complete the code\n",
        "\n",
        "svm_rbf=SVC(kernel=_______,probability=True)\n",
        "svm_rbf.fit(______________)"
      ],
      "id": "lJTfIaQ30m5o"
    },
    {
      "cell_type": "markdown",
      "metadata": {
        "id": "wA1qWKRS025i"
      },
      "source": [
        "#### **Question 5.6: Check the performance of the model on train and test data (2 Marks)**\n",
        "\n"
      ],
      "id": "wA1qWKRS025i"
    },
    {
      "cell_type": "code",
      "execution_count": null,
      "metadata": {
        "id": "EKjry-eL0vxy"
      },
      "outputs": [],
      "source": [
        "# Remove _________ and complete the code\n",
        "\n",
        "y_pred_train_svm = svm_rbf.predict(______________)\n",
        "metrics_score(_______________)"
      ],
      "id": "EKjry-eL0vxy"
    },
    {
      "cell_type": "markdown",
      "source": [
        "**Write your answers here:_____**\n"
      ],
      "metadata": {
        "id": "eVQ7ISZPTEfy"
      },
      "id": "eVQ7ISZPTEfy"
    },
    {
      "cell_type": "markdown",
      "metadata": {
        "id": "G-MGcMO903sp"
      },
      "source": [
        "#### Checking model performance on test set"
      ],
      "id": "G-MGcMO903sp"
    },
    {
      "cell_type": "code",
      "execution_count": null,
      "metadata": {
        "id": "s3WqNK2lUXlp"
      },
      "outputs": [],
      "source": [
        "# Remove _________ and complete the code\n",
        "\n",
        "y_pred_test = svm_rbf.predict(________________)\n",
        "\n",
        "metrics_score(_____________)"
      ],
      "id": "s3WqNK2lUXlp"
    },
    {
      "cell_type": "markdown",
      "source": [
        "**Write your answers here:_____**\n"
      ],
      "metadata": {
        "id": "xeEUvWSZTlEA"
      },
      "id": "xeEUvWSZTlEA"
    },
    {
      "cell_type": "code",
      "execution_count": null,
      "metadata": {
        "id": "IdktVBlKHuhM"
      },
      "outputs": [],
      "source": [
        "# Predict on train data\n",
        "y_scores_svm=svm_rbf.predict_proba(X_train_scaled)\n",
        "\n",
        "precisions_svm, recalls_svm, thresholds_svm = precision_recall_curve(y_train, y_scores_svm[:,1])\n",
        "\n",
        "# Plot values of precisions, recalls, and thresholds\n",
        "plt.figure(figsize=(10,7))\n",
        "plt.plot(thresholds_svm, precisions_svm[:-1], 'b--', label='precision')\n",
        "plt.plot(thresholds_svm, recalls_svm[:-1], 'g--', label = 'recall')\n",
        "plt.xlabel('Threshold')\n",
        "plt.legend(loc='upper left')\n",
        "plt.ylim([0,1])\n",
        "plt.show()"
      ],
      "id": "IdktVBlKHuhM"
    },
    {
      "cell_type": "code",
      "source": [
        "optimal_threshold_svm=__________"
      ],
      "metadata": {
        "id": "TLTllfbBWYjo"
      },
      "id": "TLTllfbBWYjo",
      "execution_count": null,
      "outputs": []
    },
    {
      "cell_type": "markdown",
      "metadata": {
        "id": "1OakprjnXNY8"
      },
      "source": [
        "#### **Question 5.7: Check the performance of the model on train and test data using the optimal threshold. (2 Marks)**"
      ],
      "id": "1OakprjnXNY8"
    },
    {
      "cell_type": "code",
      "execution_count": null,
      "metadata": {
        "id": "CjuakUWKsYMN"
      },
      "outputs": [],
      "source": [
        "# Remove _________ and complete the code\n",
        "\n",
        "y_pred_train_svm = model.predict_proba(_____________)\n",
        "metrics_score(____________)"
      ],
      "id": "CjuakUWKsYMN"
    },
    {
      "cell_type": "markdown",
      "source": [
        "**Write your answers here:_____**\n"
      ],
      "metadata": {
        "id": "jaZgooCfFoLx"
      },
      "id": "jaZgooCfFoLx"
    },
    {
      "cell_type": "code",
      "execution_count": null,
      "metadata": {
        "id": "nQs1WAI_2jlr"
      },
      "outputs": [],
      "source": [
        "# Remove _________ and complete the code\n",
        "\n",
        "y_pred_test = svm_rbf.predict_proba(____________)\n",
        "metrics_score(____________)"
      ],
      "id": "nQs1WAI_2jlr"
    },
    {
      "cell_type": "markdown",
      "metadata": {
        "id": "xBu1WHxOOyg8"
      },
      "source": [
        "**Write your answers here:_____**\n"
      ],
      "id": "xBu1WHxOOyg8"
    },
    {
      "cell_type": "markdown",
      "metadata": {
        "id": "separated-prague"
      },
      "source": [
        "### **Question 6: Decision Trees (7 Marks)**"
      ],
      "id": "separated-prague"
    },
    {
      "cell_type": "markdown",
      "metadata": {
        "id": "immune-malta"
      },
      "source": [
        "#### **Question 6.1: Build a Decision Tree Model (1 Mark)**"
      ],
      "id": "immune-malta"
    },
    {
      "cell_type": "code",
      "execution_count": null,
      "metadata": {
        "id": "recognized-nurse"
      },
      "outputs": [],
      "source": [
        "# Remove _________ and complete the code\n",
        "\n",
        "model_dt = ______________\n",
        "model_dt.fit(______________)"
      ],
      "id": "recognized-nurse"
    },
    {
      "cell_type": "markdown",
      "metadata": {
        "id": "identified-upper"
      },
      "source": [
        "#### **Question 6.2: Check the performance of the model on train and test data (2 Marks)**"
      ],
      "id": "identified-upper"
    },
    {
      "cell_type": "code",
      "execution_count": null,
      "metadata": {
        "id": "female-kennedy"
      },
      "outputs": [],
      "source": [
        "# Remove _________ and complete the code\n",
        "\n",
        "# Checking performance on the training dataset\n",
        "pred_train_dt = model_dt.predict(_____________)\n",
        "metrics_score(_________________)"
      ],
      "id": "female-kennedy"
    },
    {
      "cell_type": "markdown",
      "metadata": {
        "id": "laden-london"
      },
      "source": [
        "**Write your answers here:_____**\n"
      ],
      "id": "laden-london"
    },
    {
      "cell_type": "markdown",
      "metadata": {
        "id": "neither-omaha"
      },
      "source": [
        "#### Checking model performance on test set"
      ],
      "id": "neither-omaha"
    },
    {
      "cell_type": "code",
      "execution_count": null,
      "metadata": {
        "id": "42537a82"
      },
      "outputs": [],
      "source": [
        "pred_test_dt = model_dt.predict(____________)\n",
        "metrics_score(____________)"
      ],
      "id": "42537a82"
    },
    {
      "cell_type": "markdown",
      "metadata": {
        "id": "previous-stamp"
      },
      "source": [
        "**Write your answers here:_____**\n"
      ],
      "id": "previous-stamp"
    },
    {
      "cell_type": "markdown",
      "metadata": {
        "id": "detailed-possible"
      },
      "source": [
        " #### **Question 6.3: Perform hyperparameter tuning for the decision tree model using GridSearch CV (1 Mark)**"
      ],
      "id": "detailed-possible"
    },
    {
      "cell_type": "markdown",
      "source": [
        "**Note: Please use the following hyperparameters provided for tuning the Decision Tree. In general, you can experiment with various hyperparameters to tune the decision tree, but for this project, we recommend sticking to the parameters provided.**"
      ],
      "metadata": {
        "id": "X1c6VAptGHDl"
      },
      "id": "X1c6VAptGHDl"
    },
    {
      "cell_type": "code",
      "execution_count": null,
      "metadata": {
        "id": "romantic-stationery"
      },
      "outputs": [],
      "source": [
        "# Remove _________ and complete the code\n",
        "\n",
        "# Choose the type of classifier.\n",
        "estimator = ________________\n",
        "\n",
        "# Grid of parameters to choose from\n",
        "parameters = {\n",
        "    \"max_depth\": np.arange(2, 7, 2),\n",
        "    \"max_leaf_nodes\": [50, 75, 150, 250],\n",
        "    \"min_samples_split\": [10, 30, 50, 70],\n",
        "}\n",
        "\n",
        "\n",
        "# Run the grid search\n",
        "grid_obj = GridSearchCV(_____________)\n",
        "grid_obj = grid_obj.fit(______________)\n",
        "\n",
        "# Set the clf to the best combination of parameters\n",
        "estimator = grid_obj.best_estimator_\n",
        "\n",
        "# Fit the best algorithm to the data.\n",
        "estimator.fit(______________-)"
      ],
      "id": "romantic-stationery"
    },
    {
      "cell_type": "markdown",
      "metadata": {
        "id": "concrete-season"
      },
      "source": [
        "#### **Question 6.4: Check the performance of the model on the train and test data using the tuned model (2 Mark)**"
      ],
      "id": "concrete-season"
    },
    {
      "cell_type": "markdown",
      "metadata": {
        "id": "endangered-image"
      },
      "source": [
        "#### Checking performance on the training set "
      ],
      "id": "endangered-image"
    },
    {
      "cell_type": "code",
      "execution_count": null,
      "metadata": {
        "id": "skilled-poster"
      },
      "outputs": [],
      "source": [
        "# Remove _________ and complete the code\n",
        "\n",
        "# Checking performance on the training dataset\n",
        "dt_tuned = estimator.predict(__________)\n",
        "metrics_score(________________)"
      ],
      "id": "skilled-poster"
    },
    {
      "cell_type": "markdown",
      "source": [
        "**Write your answers here:_____**\n"
      ],
      "metadata": {
        "id": "y7VVuoGMHf7C"
      },
      "id": "y7VVuoGMHf7C"
    },
    {
      "cell_type": "code",
      "execution_count": null,
      "metadata": {
        "id": "killing-magnet"
      },
      "outputs": [],
      "source": [
        "# Remove _________ and complete the code\n",
        "\n",
        "# Checking performance on the training dataset\n",
        "y_pred_tuned = estimator.predict(________)\n",
        "metrics_score(_____________)"
      ],
      "id": "killing-magnet"
    },
    {
      "cell_type": "markdown",
      "source": [
        "**Write your answers here:_____**\n"
      ],
      "metadata": {
        "id": "HmcGMUeNHmai"
      },
      "id": "HmcGMUeNHmai"
    },
    {
      "cell_type": "markdown",
      "metadata": {
        "id": "frequent-grenada"
      },
      "source": [
        "#### **Visualizing the Decision Tree**"
      ],
      "id": "frequent-grenada"
    },
    {
      "cell_type": "code",
      "execution_count": null,
      "metadata": {
        "id": "driving-state"
      },
      "outputs": [],
      "source": [
        "feature_names = list(X_train.columns)\n",
        "plt.figure(figsize=(20, 10))\n",
        "out = tree.plot_tree(\n",
        "    estimator,max_depth=3,\n",
        "    feature_names=feature_names,\n",
        "    filled=True,\n",
        "    fontsize=9,\n",
        "    node_ids=False,\n",
        "    class_names=None,\n",
        ")\n",
        "# below code will add arrows to the decision tree split if they are missing\n",
        "for o in out:\n",
        "    arrow = o.arrow_patch\n",
        "    if arrow is not None:\n",
        "        arrow.set_edgecolor(\"black\")\n",
        "        arrow.set_linewidth(1)\n",
        "plt.show()"
      ],
      "id": "driving-state"
    },
    {
      "cell_type": "markdown",
      "metadata": {
        "id": "rational-details"
      },
      "source": [
        "#### **Question 6.5: What are some important features based on the tuned decision tree? (1 Mark)**"
      ],
      "id": "rational-details"
    },
    {
      "cell_type": "code",
      "execution_count": null,
      "metadata": {
        "id": "secure-killing"
      },
      "outputs": [],
      "source": [
        "# Remove _________ and complete the code\n",
        "\n",
        "# Importance of features in the tree building\n",
        "\n",
        "importances = estimator.___________\n",
        "indices = np.argsort(____________)\n",
        "\n",
        "plt.figure(figsize=(8, 8))\n",
        "plt.title(\"Feature Importances\")\n",
        "plt.barh(range(len(indices)), importances[indices], color=\"violet\", align=\"center\")\n",
        "plt.yticks(range(len(indices)), [feature_names[i] for i in indices])\n",
        "plt.xlabel(\"Relative Importance\")\n",
        "plt.show()"
      ],
      "id": "secure-killing"
    },
    {
      "cell_type": "markdown",
      "metadata": {
        "id": "differential-perth"
      },
      "source": [
        "**Write your answers here:_____**\n"
      ],
      "id": "differential-perth"
    },
    {
      "cell_type": "markdown",
      "metadata": {
        "id": "motLVEa4TL_U"
      },
      "source": [
        "___"
      ],
      "id": "motLVEa4TL_U"
    },
    {
      "cell_type": "markdown",
      "metadata": {
        "id": "_tkjO8cKHMO5"
      },
      "source": [
        "### **Question 7: Random Forest (4 Marks)**"
      ],
      "id": "_tkjO8cKHMO5"
    },
    {
      "cell_type": "markdown",
      "metadata": {
        "id": "1FuGyOqjc_4b"
      },
      "source": [
        "#### **Question 7.1: Build a Random Forest Model (1 Mark)**"
      ],
      "id": "1FuGyOqjc_4b"
    },
    {
      "cell_type": "code",
      "execution_count": null,
      "metadata": {
        "id": "bIsbmNYal1rj"
      },
      "outputs": [],
      "source": [
        "# Remove _________ and complete the code\n",
        "\n",
        "rf_estimator = ______________\n",
        "\n",
        "rf_estimator.fit(___________)"
      ],
      "id": "bIsbmNYal1rj"
    },
    {
      "cell_type": "markdown",
      "metadata": {
        "id": "SxYjZqTjd-Qk"
      },
      "source": [
        "#### **Question 7.2: Check the performance of the model on the train and test data (2 Marks)**"
      ],
      "id": "SxYjZqTjd-Qk"
    },
    {
      "cell_type": "code",
      "execution_count": null,
      "metadata": {
        "id": "M6jrat9ko0LO"
      },
      "outputs": [],
      "source": [
        "# Remove _________ and complete the code\n",
        "\n",
        "y_pred_train_rf = rf_estimator.predict(___________)\n",
        "\n",
        "metrics_score(______________)"
      ],
      "id": "M6jrat9ko0LO"
    },
    {
      "cell_type": "markdown",
      "source": [
        "**Write your answers here:_____**\n"
      ],
      "metadata": {
        "id": "QUAlKVpUH_SG"
      },
      "id": "QUAlKVpUH_SG"
    },
    {
      "cell_type": "code",
      "execution_count": null,
      "metadata": {
        "id": "2vMZodtJ1k4z"
      },
      "outputs": [],
      "source": [
        "# Remove _________ and complete the code\n",
        "\n",
        "y_pred_test_rf = rf_estimator.predict(______________)\n",
        "\n",
        "metrics_score(______________)"
      ],
      "id": "2vMZodtJ1k4z"
    },
    {
      "cell_type": "markdown",
      "metadata": {
        "id": "p8hPHFpRRTCr"
      },
      "source": [
        "**Write your answers here:_____**\n"
      ],
      "id": "p8hPHFpRRTCr"
    },
    {
      "cell_type": "markdown",
      "metadata": {
        "id": "xLrG8f7YeG9b"
      },
      "source": [
        "#### **Question 7.3: What are some important features based on the Random Forest? (1 Mark)**"
      ],
      "id": "xLrG8f7YeG9b"
    },
    {
      "cell_type": "markdown",
      "metadata": {
        "id": "4rAIPf5BSKes"
      },
      "source": [
        "Let's check the feature importance of the Random Forest"
      ],
      "id": "4rAIPf5BSKes"
    },
    {
      "cell_type": "code",
      "execution_count": null,
      "metadata": {
        "id": "lknDAkbZSI6B"
      },
      "outputs": [],
      "source": [
        "# Remove _________ and complete the code\n",
        "\n",
        "importances = rf_estimator._________________\n",
        "\n",
        "columns = X.columns\n",
        "\n",
        "importance_df = pd.DataFrame(____________________)\n",
        "\n",
        "plt.figure(figsize = (13, 13))\n",
        "\n",
        "sns.barplot(importance_df.Importance, importance_df.index)"
      ],
      "id": "lknDAkbZSI6B"
    },
    {
      "cell_type": "markdown",
      "metadata": {
        "id": "YuL7_Wc5Swa1"
      },
      "source": [
        "**Write your answers here:_____**\n"
      ],
      "id": "YuL7_Wc5Swa1"
    },
    {
      "cell_type": "markdown",
      "metadata": {
        "id": "f_5Q1zMbZuut"
      },
      "source": [
        "### **Question 8: Conclude ANY FOUR key takeaways for business recommendations (4 Marks)**"
      ],
      "id": "f_5Q1zMbZuut"
    },
    {
      "cell_type": "markdown",
      "metadata": {
        "id": "marked-coaching"
      },
      "source": [
        "**Write your answers here:_____**\n"
      ],
      "id": "marked-coaching"
    },
    {
      "cell_type": "markdown",
      "source": [
        "## **Happy Learning!**"
      ],
      "metadata": {
        "id": "wUzMsUCeIPaw"
      },
      "id": "wUzMsUCeIPaw"
    }
  ],
  "metadata": {
    "colab": {
      "collapsed_sections": [],
      "name": "CHT_Graded_Project-Learner-Notebook",
      "provenance": []
    },
    "kernelspec": {
      "display_name": "Python 3 (ipykernel)",
      "language": "python",
      "name": "python3"
    },
    "language_info": {
      "codemirror_mode": {
        "name": "ipython",
        "version": 3
      },
      "file_extension": ".py",
      "mimetype": "text/x-python",
      "name": "python",
      "nbconvert_exporter": "python",
      "pygments_lexer": "ipython3",
      "version": "3.10.5"
    }
  },
  "nbformat": 4,
  "nbformat_minor": 5
}