{
 "cells": [
  {
   "cell_type": "markdown",
   "metadata": {
    "id": "BL_LfsVn_bv1"
   },
   "source": [
    "# Foundations of Data Science Project - Diabetes Analysis\n",
    "\n",
    "---------------\n",
    "## Context\n",
    "---------------\n",
    "\n",
    "Diabetes is one of the most frequent diseases worldwide and the number of diabetic patients are growing over the years. The main cause of diabetes remains unknown, yet scientists believe that both genetic factors and environmental lifestyle play a major role in diabetes.\n",
    "\n",
    "A few years ago research was done on a tribe in America which is called the Pima tribe. In this tribe, it was found that the ladies are prone to diabetes very early. Several constraints were placed on the selection of these instances from a larger database. In particular, all patients were females at least 21 years old of Pima tribe. \n",
    "\n",
    "-----------------\n",
    "## Objective\n",
    "-----------------\n",
    "\n",
    "Here, we are analyzing different aspects of Diabetes in the Pima Diabetes Analysis by doing Exploratory Data Analysis.\n",
    "\n",
    "-------------------------\n",
    "## Data Dictionary\n",
    "-------------------------\n",
    "\n",
    "The dataset has the following information:\n",
    "\n",
    "* Pregnancies: Number of times pregnant\n",
    "* Glucose: Plasma glucose concentration over 2 hours in an oral glucose tolerance test\n",
    "* BloodPressure: Diastolic blood pressure (mm Hg)\n",
    "* SkinThickness: Triceps skin fold thickness (mm)\n",
    "* Insulin: 2-Hour serum insulin (mu U/ml)\n",
    "* BMI: Body mass index (weight in kg/(height in m)^2)\n",
    "* DiabetesPedigreeFunction: A function that scores the likelihood of diabetes based on family history.\n",
    "* Age: Age in years\n",
    "* Outcome: Class variable (0: a person is not diabetic or 1: a person is diabetic)"
   ]
  },
  {
   "cell_type": "markdown",
   "metadata": {
    "id": "vVR3oeVo_bv5"
   },
   "source": [
    "## Q 1: Import the necessary libraries and briefly explain the use of each library (3 Marks)"
   ]
  },
  {
   "cell_type": "code",
   "execution_count": null,
   "metadata": {
    "id": "sQPI1Bzz_bv5"
   },
   "outputs": [],
   "source": [
    "# remove _____ & write the appropriate library name\n",
    "\n",
    "import _____ as np\n",
    "import pandas as pd\n",
    "\n",
    "import seaborn as sns\n",
    "import _________ as plt\n",
    "%matplotlib inline"
   ]
  },
  {
   "cell_type": "markdown",
   "metadata": {
    "id": "OV6ExTxy_bv6"
   },
   "source": [
    "#### Write your Answer here: "
   ]
  },
  {
   "cell_type": "raw",
   "metadata": {
    "id": "mMa-2YFV_bv7"
   },
   "source": [
    "Ans 1:"
   ]
  },
  {
   "cell_type": "markdown",
   "metadata": {
    "id": "8WpI8LC7_bv7"
   },
   "source": [
    "## Q 2: Read the given dataset (1 Mark)"
   ]
  },
  {
   "cell_type": "code",
   "execution_count": null,
   "metadata": {
    "id": "OTzXe_vA_bv7"
   },
   "outputs": [],
   "source": [
    "# remove _____ & write the appropriate function name\n",
    "\n",
    "pima = pd.__________(\"diabetes.csv\")"
   ]
  },
  {
   "cell_type": "markdown",
   "metadata": {
    "id": "H3SziaVY_bv8"
   },
   "source": [
    "## Q3. Show the last 10 records of the dataset. How many columns are there? (1 Mark)"
   ]
  },
  {
   "cell_type": "code",
   "execution_count": null,
   "metadata": {
    "id": "c4UHQy0q_bv8"
   },
   "outputs": [],
   "source": [
    "# remove ______ and write the appropriate number in the function\n",
    "\n",
    "pima.tail(___)"
   ]
  },
  {
   "cell_type": "markdown",
   "metadata": {
    "id": "xqzI9UYB_bv9"
   },
   "source": [
    "#### Write your Answer here: \n"
   ]
  },
  {
   "cell_type": "raw",
   "metadata": {
    "id": "Lh7sxkKp_bv9"
   },
   "source": [
    "Ans 3:"
   ]
  },
  {
   "cell_type": "markdown",
   "metadata": {
    "id": "xDnQFTsR_bv9"
   },
   "source": [
    "## Q4. Show the first 10 records of the dataset (1 Mark)"
   ]
  },
  {
   "cell_type": "code",
   "execution_count": null,
   "metadata": {
    "id": "fhOmMaSn_bv-"
   },
   "outputs": [],
   "source": [
    "# remove _____ & write the appropriate function name and the number of rows to get in the output\n",
    "\n",
    "pima.____"
   ]
  },
  {
   "cell_type": "markdown",
   "metadata": {
    "id": "OzzsF3Pg_bv-"
   },
   "source": [
    "## Q5. What do you understand by the dimension of the dataset? Find the dimension of the `pima` dataframe. (1 Mark)"
   ]
  },
  {
   "cell_type": "code",
   "execution_count": null,
   "metadata": {
    "id": "9QQGBlaw_bv-"
   },
   "outputs": [],
   "source": [
    "# remove _____ & write the appropriate function name\n",
    "\n",
    "pima.___"
   ]
  },
  {
   "cell_type": "markdown",
   "metadata": {
    "id": "5_7DfrKa_bv_"
   },
   "source": [
    "#### Write your Answer here: \n"
   ]
  },
  {
   "cell_type": "raw",
   "metadata": {
    "id": "WW0P9jMc_bv_"
   },
   "source": [
    "Ans 5:"
   ]
  },
  {
   "cell_type": "markdown",
   "metadata": {
    "id": "V5duvKqA_bv_"
   },
   "source": [
    "## Q6. What do you understand by the size of the dataset? Find the size of the `pima` dataframe. (1 Mark)"
   ]
  },
  {
   "cell_type": "code",
   "execution_count": null,
   "metadata": {
    "id": "yX1yh0Bx_bv_"
   },
   "outputs": [],
   "source": [
    "# remove _____ & write the appropriate function name\n",
    "\n",
    "pima.______"
   ]
  },
  {
   "cell_type": "markdown",
   "metadata": {
    "id": "oILSLGBL_bwA"
   },
   "source": [
    "#### Write your Answer here: \n"
   ]
  },
  {
   "cell_type": "raw",
   "metadata": {
    "id": "zdtFn47Q_bwA"
   },
   "source": [
    "Ans 6:"
   ]
  },
  {
   "cell_type": "markdown",
   "metadata": {
    "id": "DyG29Cqz_bwA"
   },
   "source": [
    "## Q7. What are the data types of all the variables in the data set? (2 Marks)\n",
    "**Hint: Use the info() function to get all the information about the dataset.**"
   ]
  },
  {
   "cell_type": "code",
   "execution_count": null,
   "metadata": {
    "id": "INEhm7-M_bwA"
   },
   "outputs": [],
   "source": [
    "# remove _____ & write the appropriate function name\n",
    "\n",
    "pima.____"
   ]
  },
  {
   "cell_type": "markdown",
   "metadata": {
    "id": "OqnMczju_bwB"
   },
   "source": [
    "#### Write your Answer here: \n"
   ]
  },
  {
   "cell_type": "raw",
   "metadata": {
    "id": "RdARzto8_bwB"
   },
   "source": [
    "Ans 7:"
   ]
  },
  {
   "cell_type": "markdown",
   "metadata": {
    "id": "wHYJkmek_bwB"
   },
   "source": [
    "## Q8. What do we mean by missing values? Are there any missing values in the `pima` dataframe? (2 Marks)"
   ]
  },
  {
   "cell_type": "code",
   "execution_count": null,
   "metadata": {
    "id": "OiThIwyD_bwB"
   },
   "outputs": [],
   "source": [
    "# remove _____ & write the appropriate function name\n",
    "\n",
    "pima.______().values.any()"
   ]
  },
  {
   "cell_type": "markdown",
   "metadata": {
    "id": "CpcpowUT_bwC"
   },
   "source": [
    "#### Write your Answer here: \n"
   ]
  },
  {
   "cell_type": "raw",
   "metadata": {
    "id": "b8D07NoL_bwC"
   },
   "source": [
    "Ans 8:"
   ]
  },
  {
   "cell_type": "markdown",
   "metadata": {
    "id": "RmTpaojz_bwC"
   },
   "source": [
    "## Q9. What do the summary statistics of the data represent? Find the summary statistics for all variables except 'Outcome' in the `pima` data. Take one column/variable from the output table and explain all its statistical measures. (3 Marks)"
   ]
  },
  {
   "cell_type": "code",
   "execution_count": null,
   "metadata": {
    "id": "JuJBDhb-_bwC"
   },
   "outputs": [],
   "source": [
    "# remove _____ & write the appropriate function name\n",
    "\n",
    "pima.iloc[:,0:8]._______()"
   ]
  },
  {
   "cell_type": "markdown",
   "metadata": {
    "id": "-aYGSoyf_bwC"
   },
   "source": [
    "#### Write your Answer here: \n"
   ]
  },
  {
   "cell_type": "raw",
   "metadata": {
    "id": "y20K1lOx_bwC"
   },
   "source": [
    "Ans 9:"
   ]
  },
  {
   "cell_type": "markdown",
   "metadata": {
    "id": "3gO4yNoS_bwD"
   },
   "source": [
    "## Q 10. Plot the distribution plot for the variable 'BloodPressure'. Write detailed observations from the plot. (2 Marks)"
   ]
  },
  {
   "cell_type": "code",
   "execution_count": null,
   "metadata": {
    "id": "k4ulBXrW_bwD"
   },
   "outputs": [],
   "source": [
    "# remove _____ & write the appropriate library name\n",
    "\n",
    "______.displot(pima['BloodPressure'], kind='kde')\n",
    "plt.show()"
   ]
  },
  {
   "cell_type": "markdown",
   "metadata": {
    "id": "tFmj2sAi_bwD"
   },
   "source": [
    "#### Write your Answer here: \n"
   ]
  },
  {
   "cell_type": "raw",
   "metadata": {
    "id": "LGKnjmYV_bwD"
   },
   "source": [
    "Ans 10:"
   ]
  },
  {
   "cell_type": "markdown",
   "metadata": {
    "id": "H82v-Oiq_bwD"
   },
   "source": [
    "## Q 11. What is the 'BMI' of the person having the highest 'Glucose'? (1 Mark)"
   ]
  },
  {
   "cell_type": "code",
   "execution_count": null,
   "metadata": {
    "id": "-xXHlCS5_bwD"
   },
   "outputs": [],
   "source": [
    "# remove _____ & write the appropriate function name\n",
    "\n",
    "pima[pima['Glucose']==pima['Glucose']._____()]['BMI']"
   ]
  },
  {
   "cell_type": "markdown",
   "metadata": {
    "id": "JiUByWjP_bwE"
   },
   "source": [
    "#### Write your Answer here: \n"
   ]
  },
  {
   "cell_type": "raw",
   "metadata": {
    "id": "pE2GYrtU_bwE"
   },
   "source": [
    "Ans 11:"
   ]
  },
  {
   "cell_type": "markdown",
   "metadata": {
    "id": "0xN_VJOl_bwE"
   },
   "source": [
    "## Q12.\n",
    "### 12.1 What is the mean of the variable 'BMI'? \n",
    "### 12.2 What is the median of the variable 'BMI'? \n",
    "### 12.3 What is the mode of the variable 'BMI'?\n",
    "### 12.4 Are the three measures of central tendency equal?\n",
    "\n",
    "### (3 Marks)"
   ]
  },
  {
   "cell_type": "code",
   "execution_count": null,
   "metadata": {
    "id": "-aKQ7UMC_bwE"
   },
   "outputs": [],
   "source": [
    "# remove _____ & write the appropriate function name\n",
    "\n",
    "m1 = pima['BMI'].____()  # mean\n",
    "print(m1)\n",
    "m2 = pima['BMI'].____()  # median\n",
    "print(m2)\n",
    "m3 = pima['BMI'].____()[0]  # mode\n",
    "print(m3)"
   ]
  },
  {
   "cell_type": "markdown",
   "metadata": {
    "id": "F381SOUJ_bwE"
   },
   "source": [
    "#### Write your Answer here: \n"
   ]
  },
  {
   "cell_type": "raw",
   "metadata": {
    "id": "NNYE_suf_bwE"
   },
   "source": [
    "Ans 12:"
   ]
  },
  {
   "cell_type": "markdown",
   "metadata": {
    "id": "zQgUfx28_bwE"
   },
   "source": [
    "## Q13. How many women's 'Glucose' levels are above the mean level of 'Glucose'? (1 Mark)"
   ]
  },
  {
   "cell_type": "code",
   "execution_count": null,
   "metadata": {
    "id": "elzY2lG0_bwE"
   },
   "outputs": [],
   "source": [
    "# remove _____ & write the appropriate function name\n",
    "\n",
    "pima[pima['Glucose']>pima['Glucose']._____()].shape[0]"
   ]
  },
  {
   "cell_type": "markdown",
   "metadata": {
    "id": "zNopQzBy_bwF"
   },
   "source": [
    "#### Write your Answer here: \n"
   ]
  },
  {
   "cell_type": "raw",
   "metadata": {
    "id": "KP5Ex2Mj_bwF"
   },
   "source": [
    "Ans 13:"
   ]
  },
  {
   "cell_type": "markdown",
   "metadata": {
    "id": "TUFPGMGX_bwF"
   },
   "source": [
    "## Q14. How many women have their 'BloodPressure' equal to the median of 'BloodPressure' and their 'BMI' less than the median of 'BMI'? (2 Marks)"
   ]
  },
  {
   "cell_type": "code",
   "execution_count": null,
   "metadata": {
    "id": "wn118oGx_bwF"
   },
   "outputs": [],
   "source": [
    "# remove _____ & write the appropriate column name\n",
    "\n",
    "pima[(pima['BloodPressure']==pima['BloodPressure'].______()) & (pima['BMI']<pima['BMI']._______())]"
   ]
  },
  {
   "cell_type": "markdown",
   "metadata": {
    "id": "KgU-UehX_bwF"
   },
   "source": [
    "#### Write your Answer here: \n"
   ]
  },
  {
   "cell_type": "raw",
   "metadata": {
    "id": "-b8kksU3_bwF"
   },
   "source": [
    "Ans 14:"
   ]
  },
  {
   "cell_type": "markdown",
   "metadata": {
    "id": "O8KX8Nva_bwF"
   },
   "source": [
    "## Q15. Create a pairplot for the variables 'Glucose', 'SkinThickness', and 'DiabetesPedigreeFunction'. Write your observations from the plot. (4 Marks)"
   ]
  },
  {
   "cell_type": "code",
   "execution_count": null,
   "metadata": {
    "id": "dDj12snn_bwG"
   },
   "outputs": [],
   "source": [
    "# remove _____ & write the appropriate function name\n",
    "\n",
    "sns.______(data=pima,vars=['Glucose', 'SkinThickness', 'DiabetesPedigreeFunction'], hue='Outcome')\n",
    "plt.show()"
   ]
  },
  {
   "cell_type": "markdown",
   "metadata": {
    "id": "S7CMbCwL_bwG"
   },
   "source": [
    "#### Write your Answer here: \n"
   ]
  },
  {
   "cell_type": "raw",
   "metadata": {
    "id": "S2bPFIk9_bwG"
   },
   "source": [
    "Ans 15:"
   ]
  },
  {
   "cell_type": "markdown",
   "metadata": {
    "id": "pTzCIQOb_bwG"
   },
   "source": [
    "## Q16. Plot the scatterplot between 'Glucose' and 'Insulin'. Write your observations from the plot. (2 Marks)"
   ]
  },
  {
   "cell_type": "code",
   "execution_count": null,
   "metadata": {
    "id": "CNHLuzOD_bwG",
    "scrolled": false
   },
   "outputs": [],
   "source": [
    "# remove _____ & write the appropriate function name\n",
    "\n",
    "sns._______(x='Glucose',y='Insulin',data=pima)\n",
    "plt.show("
   ]
  },
  {
   "cell_type": "markdown",
   "metadata": {
    "id": "1AhKhAbf_bwG"
   },
   "source": [
    "#### Write your Answer here: \n"
   ]
  },
  {
   "cell_type": "raw",
   "metadata": {
    "id": "YScevRlr_bwG"
   },
   "source": [
    "Ans 16:"
   ]
  },
  {
   "cell_type": "markdown",
   "metadata": {
    "id": "NzGHKjXv_bwG"
   },
   "source": [
    "## Q 17. Plot the boxplot for the 'Age' variable. Are there outliers? (2 Marks)"
   ]
  },
  {
   "cell_type": "code",
   "execution_count": null,
   "metadata": {
    "id": "zmWjERJM_bwH"
   },
   "outputs": [],
   "source": [
    "# remove _____ & write the appropriate function and column name \n",
    "\n",
    "plt.______(pima['____'])\n",
    "\n",
    "plt.title('Boxplot of Age')\n",
    "plt.ylabel('Age')\n",
    "plt.show()"
   ]
  },
  {
   "cell_type": "markdown",
   "metadata": {
    "id": "Vm5bRpLz_bwH"
   },
   "source": [
    "#### Write your Answer here: \n"
   ]
  },
  {
   "cell_type": "raw",
   "metadata": {
    "id": "ID7pFghO_bwH"
   },
   "source": [
    "Ans 17:"
   ]
  },
  {
   "cell_type": "markdown",
   "metadata": {
    "id": "M6A_z8kr_bwH"
   },
   "source": [
    "## Q18. Plot histograms for the 'Age' variable to understand the number of women in different age groups given whether they have diabetes or not. Explain both histograms and compare them. (3 Marks)"
   ]
  },
  {
   "cell_type": "code",
   "execution_count": null,
   "metadata": {
    "id": "5DpqaiXH_bwH"
   },
   "outputs": [],
   "source": [
    "# remove _____ & write the appropriate function and column name\n",
    "\n",
    "plt._____(pima[pima['Outcome']==1]['_____'], bins = 5)\n",
    "plt.title('Distribution of Age for Women who has Diabetes')\n",
    "plt.xlabel('Age')\n",
    "plt.ylabel('Frequency')\n",
    "plt.show()"
   ]
  },
  {
   "cell_type": "code",
   "execution_count": null,
   "metadata": {
    "id": "ultPz45S_bwH"
   },
   "outputs": [],
   "source": [
    "# remove _____ & write the appropriate function and column name\n",
    "\n",
    "plt.______(pima[pima['Outcome']==0]['_____'], bins = 5)\n",
    "plt.title('Distribution of Age for Women who do not have Diabetes')\n",
    "plt.xlabel('Age')\n",
    "plt.ylabel('Frequency')\n",
    "plt.show()"
   ]
  },
  {
   "cell_type": "markdown",
   "metadata": {
    "id": "InfhuW8o_bwH"
   },
   "source": [
    "#### Write your Answer here: \n"
   ]
  },
  {
   "cell_type": "raw",
   "metadata": {
    "id": "D6iAgeF-_bwI"
   },
   "source": [
    "Ans 18:"
   ]
  },
  {
   "cell_type": "markdown",
   "metadata": {
    "id": "EpTEjZ-q_bwI"
   },
   "source": [
    "## Q 19. What is the Interquartile Range of all the variables? Why is this used? Which plot visualizes the same? (2 Marks)"
   ]
  },
  {
   "cell_type": "code",
   "execution_count": null,
   "metadata": {
    "id": "JVOqHx1W_bwI"
   },
   "outputs": [],
   "source": [
    "# remove _____ & write the appropriate variable name\n",
    "\n",
    "Q1 = pima.quantile(0.25)\n",
    "Q3 = pima.quantile(0.75)\n",
    "IQR = __ - __\n",
    "print(IQR)"
   ]
  },
  {
   "cell_type": "markdown",
   "metadata": {
    "id": "WWtc2nex_bwI"
   },
   "source": [
    "#### Write your Answer here: \n"
   ]
  },
  {
   "cell_type": "raw",
   "metadata": {
    "id": "2vLWPyd-_bwI"
   },
   "source": [
    "Ans 19:"
   ]
  },
  {
   "cell_type": "markdown",
   "metadata": {
    "id": "KjldKKMs_bwI"
   },
   "source": [
    "## Q 20. Find and visualize the correlation matrix. Write your observations from the plot. (3 Marks)"
   ]
  },
  {
   "cell_type": "code",
   "execution_count": null,
   "metadata": {
    "id": "dvBVRRM8_bwI"
   },
   "outputs": [],
   "source": [
    "# remove _____ & write the appropriate function name and run the code\n",
    "\n",
    "corr_matrix = pima.iloc[:,0:8].______\n",
    "\n",
    "corr_matrix"
   ]
  },
  {
   "cell_type": "code",
   "execution_count": null,
   "metadata": {
    "id": "Ju8Gymxw_bwJ"
   },
   "outputs": [],
   "source": [
    "# remove _____ & write the appropriate function name\n",
    "\n",
    "plt.figure(figsize=(8,8))\n",
    "sns._______(corr_matrix, annot = True)\n",
    "\n",
    "# display the plot\n",
    "plt.show()"
   ]
  },
  {
   "cell_type": "markdown",
   "metadata": {
    "id": "Woaq6vqT_bwJ"
   },
   "source": [
    "#### Write your Answer here: \n"
   ]
  },
  {
   "cell_type": "raw",
   "metadata": {
    "id": "m3AKvSrM_bwJ"
   },
   "source": [
    "Ans 20:"
   ]
  }
 ],
 "metadata": {
  "colab": {
   "collapsed_sections": [
    "5_7DfrKa_bv_",
    "V5duvKqA_bv_",
    "oILSLGBL_bwA",
    "DyG29Cqz_bwA",
    "OqnMczju_bwB",
    "wHYJkmek_bwB",
    "CpcpowUT_bwC",
    "RmTpaojz_bwC",
    "-aYGSoyf_bwC",
    "3gO4yNoS_bwD",
    "tFmj2sAi_bwD",
    "H82v-Oiq_bwD",
    "JiUByWjP_bwE",
    "0xN_VJOl_bwE",
    "F381SOUJ_bwE",
    "zQgUfx28_bwE",
    "zNopQzBy_bwF",
    "TUFPGMGX_bwF",
    "KgU-UehX_bwF",
    "O8KX8Nva_bwF",
    "S7CMbCwL_bwG",
    "pTzCIQOb_bwG",
    "1AhKhAbf_bwG",
    "NzGHKjXv_bwG",
    "Vm5bRpLz_bwH",
    "M6A_z8kr_bwH",
    "InfhuW8o_bwH",
    "EpTEjZ-q_bwI",
    "WWtc2nex_bwI",
    "KjldKKMs_bwI",
    "Woaq6vqT_bwJ"
   ],
   "name": "MIT_FDS_Project_Diabetes_Analysis_Questions-1.ipynb",
   "provenance": []
  },
  "kernelspec": {
   "display_name": "Python 3 (ipykernel)",
   "language": "python",
   "name": "python3"
  },
  "language_info": {
   "codemirror_mode": {
    "name": "ipython",
    "version": 3
   },
   "file_extension": ".py",
   "mimetype": "text/x-python",
   "name": "python",
   "nbconvert_exporter": "python",
   "pygments_lexer": "ipython3",
   "version": "3.9.7"
  },
  "toc": {
   "base_numbering": 1,
   "nav_menu": {},
   "number_sections": true,
   "sideBar": true,
   "skip_h1_title": false,
   "title_cell": "Table of Contents",
   "title_sidebar": "Contents",
   "toc_cell": false,
   "toc_position": {},
   "toc_section_display": true,
   "toc_window_display": false
  },
  "varInspector": {
   "cols": {
    "lenName": 16,
    "lenType": 16,
    "lenVar": 40
   },
   "kernels_config": {
    "python": {
     "delete_cmd_postfix": "",
     "delete_cmd_prefix": "del ",
     "library": "var_list.py",
     "varRefreshCmd": "print(var_dic_list())"
    },
    "r": {
     "delete_cmd_postfix": ") ",
     "delete_cmd_prefix": "rm(",
     "library": "var_list.r",
     "varRefreshCmd": "cat(var_dic_list()) "
    }
   },
   "types_to_exclude": [
    "module",
    "function",
    "builtin_function_or_method",
    "instance",
    "_Feature"
   ],
   "window_display": false
  }
 },
 "nbformat": 4,
 "nbformat_minor": 1
}
