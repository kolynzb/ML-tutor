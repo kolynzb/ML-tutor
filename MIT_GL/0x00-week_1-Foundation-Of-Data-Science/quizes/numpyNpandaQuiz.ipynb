{
 "cells": [
  {
   "cell_type": "code",
   "execution_count": 1,
   "metadata": {},
   "outputs": [],
   "source": [
    "import numpy  as np\n",
    "import pandas as pd"
   ]
  },
  {
   "cell_type": "code",
   "execution_count": 2,
   "metadata": {},
   "outputs": [],
   "source": [
    "df = pd.read_csv('numpanda.csv')"
   ]
  },
  {
   "cell_type": "code",
   "execution_count": 3,
   "metadata": {},
   "outputs": [
    {
     "data": {
      "text/html": [
       "<div>\n",
       "<style scoped>\n",
       "    .dataframe tbody tr th:only-of-type {\n",
       "        vertical-align: middle;\n",
       "    }\n",
       "\n",
       "    .dataframe tbody tr th {\n",
       "        vertical-align: top;\n",
       "    }\n",
       "\n",
       "    .dataframe thead th {\n",
       "        text-align: right;\n",
       "    }\n",
       "</style>\n",
       "<table border=\"1\" class=\"dataframe\">\n",
       "  <thead>\n",
       "    <tr style=\"text-align: right;\">\n",
       "      <th></th>\n",
       "      <th>Scorecard</th>\n",
       "      <th>Team 1</th>\n",
       "      <th>Team 2</th>\n",
       "      <th>Winner</th>\n",
       "      <th>Margin</th>\n",
       "      <th>Ground</th>\n",
       "      <th>Match Date</th>\n",
       "    </tr>\n",
       "  </thead>\n",
       "  <tbody>\n",
       "    <tr>\n",
       "      <th>0</th>\n",
       "      <td>ODI # 1</td>\n",
       "      <td>Australia</td>\n",
       "      <td>England</td>\n",
       "      <td>Australia</td>\n",
       "      <td>5 wickets</td>\n",
       "      <td>Melbourne</td>\n",
       "      <td>Jan 5, 1971</td>\n",
       "    </tr>\n",
       "    <tr>\n",
       "      <th>1</th>\n",
       "      <td>ODI # 2</td>\n",
       "      <td>England</td>\n",
       "      <td>Australia</td>\n",
       "      <td>England</td>\n",
       "      <td>6 wickets</td>\n",
       "      <td>Manchester</td>\n",
       "      <td>Aug 24, 1972</td>\n",
       "    </tr>\n",
       "    <tr>\n",
       "      <th>2</th>\n",
       "      <td>ODI # 3</td>\n",
       "      <td>England</td>\n",
       "      <td>Australia</td>\n",
       "      <td>Australia</td>\n",
       "      <td>5 wickets</td>\n",
       "      <td>Lord's</td>\n",
       "      <td>Aug 26, 1972</td>\n",
       "    </tr>\n",
       "    <tr>\n",
       "      <th>3</th>\n",
       "      <td>ODI # 4</td>\n",
       "      <td>England</td>\n",
       "      <td>Australia</td>\n",
       "      <td>England</td>\n",
       "      <td>2 wickets</td>\n",
       "      <td>Birmingham</td>\n",
       "      <td>Aug 28, 1972</td>\n",
       "    </tr>\n",
       "    <tr>\n",
       "      <th>4</th>\n",
       "      <td>ODI # 5</td>\n",
       "      <td>New Zealand</td>\n",
       "      <td>Pakistan</td>\n",
       "      <td>New Zealand</td>\n",
       "      <td>22 runs</td>\n",
       "      <td>Christchurch</td>\n",
       "      <td>Feb 11, 1973</td>\n",
       "    </tr>\n",
       "  </tbody>\n",
       "</table>\n",
       "</div>"
      ],
      "text/plain": [
       "  Scorecard       Team 1     Team 2       Winner     Margin        Ground  \\\n",
       "0   ODI # 1    Australia    England    Australia  5 wickets     Melbourne   \n",
       "1   ODI # 2      England  Australia      England  6 wickets    Manchester   \n",
       "2   ODI # 3      England  Australia    Australia  5 wickets        Lord's   \n",
       "3   ODI # 4      England  Australia      England  2 wickets    Birmingham   \n",
       "4   ODI # 5  New Zealand   Pakistan  New Zealand    22 runs  Christchurch   \n",
       "\n",
       "     Match Date  \n",
       "0   Jan 5, 1971  \n",
       "1  Aug 24, 1972  \n",
       "2  Aug 26, 1972  \n",
       "3  Aug 28, 1972  \n",
       "4  Feb 11, 1973  "
      ]
     },
     "execution_count": 3,
     "metadata": {},
     "output_type": "execute_result"
    }
   ],
   "source": [
    "df.head()"
   ]
  },
  {
   "cell_type": "code",
   "execution_count": 6,
   "metadata": {},
   "outputs": [
    {
     "data": {
      "text/html": [
       "<div>\n",
       "<style scoped>\n",
       "    .dataframe tbody tr th:only-of-type {\n",
       "        vertical-align: middle;\n",
       "    }\n",
       "\n",
       "    .dataframe tbody tr th {\n",
       "        vertical-align: top;\n",
       "    }\n",
       "\n",
       "    .dataframe thead th {\n",
       "        text-align: right;\n",
       "    }\n",
       "</style>\n",
       "<table border=\"1\" class=\"dataframe\">\n",
       "  <thead>\n",
       "    <tr style=\"text-align: right;\">\n",
       "      <th></th>\n",
       "      <th>Scorecard</th>\n",
       "      <th>Team 1</th>\n",
       "      <th>Team 2</th>\n",
       "      <th>Winner</th>\n",
       "      <th>Margin</th>\n",
       "      <th>Ground</th>\n",
       "      <th>Match Date</th>\n",
       "    </tr>\n",
       "  </thead>\n",
       "  <tbody>\n",
       "    <tr>\n",
       "      <th>count</th>\n",
       "      <td>3932</td>\n",
       "      <td>3932</td>\n",
       "      <td>3932</td>\n",
       "      <td>3932</td>\n",
       "      <td>3753</td>\n",
       "      <td>3932</td>\n",
       "      <td>3932</td>\n",
       "    </tr>\n",
       "    <tr>\n",
       "      <th>unique</th>\n",
       "      <td>3932</td>\n",
       "      <td>24</td>\n",
       "      <td>25</td>\n",
       "      <td>25</td>\n",
       "      <td>227</td>\n",
       "      <td>173</td>\n",
       "      <td>3386</td>\n",
       "    </tr>\n",
       "    <tr>\n",
       "      <th>top</th>\n",
       "      <td>ODI # 1</td>\n",
       "      <td>Australia</td>\n",
       "      <td>Sri Lanka</td>\n",
       "      <td>Australia</td>\n",
       "      <td>6 wickets</td>\n",
       "      <td>Sharjah</td>\n",
       "      <td>Feb 4, 2007</td>\n",
       "    </tr>\n",
       "    <tr>\n",
       "      <th>freq</th>\n",
       "      <td>1</td>\n",
       "      <td>583</td>\n",
       "      <td>508</td>\n",
       "      <td>555</td>\n",
       "      <td>347</td>\n",
       "      <td>228</td>\n",
       "      <td>6</td>\n",
       "    </tr>\n",
       "  </tbody>\n",
       "</table>\n",
       "</div>"
      ],
      "text/plain": [
       "       Scorecard     Team 1     Team 2     Winner     Margin   Ground  \\\n",
       "count       3932       3932       3932       3932       3753     3932   \n",
       "unique      3932         24         25         25        227      173   \n",
       "top      ODI # 1  Australia  Sri Lanka  Australia  6 wickets  Sharjah   \n",
       "freq           1        583        508        555        347      228   \n",
       "\n",
       "         Match Date  \n",
       "count          3932  \n",
       "unique         3386  \n",
       "top     Feb 4, 2007  \n",
       "freq              6  "
      ]
     },
     "execution_count": 6,
     "metadata": {},
     "output_type": "execute_result"
    }
   ],
   "source": [
    "df.describe()"
   ]
  },
  {
   "cell_type": "code",
   "execution_count": 7,
   "metadata": {},
   "outputs": [
    {
     "name": "stdout",
     "output_type": "stream",
     "text": [
      "<class 'pandas.core.frame.DataFrame'>\n",
      "RangeIndex: 3932 entries, 0 to 3931\n",
      "Data columns (total 7 columns):\n",
      " #   Column      Non-Null Count  Dtype \n",
      "---  ------      --------------  ----- \n",
      " 0   Scorecard   3932 non-null   object\n",
      " 1   Team 1      3932 non-null   object\n",
      " 2   Team 2      3932 non-null   object\n",
      " 3   Winner      3932 non-null   object\n",
      " 4   Margin      3753 non-null   object\n",
      " 5   Ground      3932 non-null   object\n",
      " 6   Match Date  3932 non-null   object\n",
      "dtypes: object(7)\n",
      "memory usage: 215.2+ KB\n"
     ]
    }
   ],
   "source": [
    "df.info()"
   ]
  },
  {
   "cell_type": "code",
   "execution_count": 8,
   "metadata": {},
   "outputs": [
    {
     "data": {
      "text/plain": [
       "array([  1, 100,   4,   0], dtype=int32)"
      ]
     },
     "execution_count": 8,
     "metadata": {},
     "output_type": "execute_result"
    }
   ],
   "source": [
    "a = np.array([1, 10, 2, 0])\n",
    "np.power(a, 2)"
   ]
  },
  {
   "cell_type": "code",
   "execution_count": 11,
   "metadata": {},
   "outputs": [
    {
     "data": {
      "text/plain": [
       "'l'"
      ]
     },
     "execution_count": 11,
     "metadata": {},
     "output_type": "execute_result"
    }
   ],
   "source": [
    "a = np.array([['m', 'l'],['n', 'o']])\n",
    "a[0,1]"
   ]
  },
  {
   "cell_type": "code",
   "execution_count": 15,
   "metadata": {},
   "outputs": [
    {
     "data": {
      "text/plain": [
       "[array([0, 1, 2, 3, 4]), array([5, 6, 7, 8, 9])]"
      ]
     },
     "execution_count": 15,
     "metadata": {},
     "output_type": "execute_result"
    }
   ],
   "source": [
    "array = np.arange(10) \n",
    "np.hsplit(array,2)"
   ]
  },
  {
   "cell_type": "code",
   "execution_count": 17,
   "metadata": {},
   "outputs": [
    {
     "data": {
      "text/plain": [
       "array([1, 1, 2, 4, 4])"
      ]
     },
     "execution_count": 17,
     "metadata": {},
     "output_type": "execute_result"
    }
   ],
   "source": [
    "array1 = np.array([1, 0, 0, 1, 0])\n",
    "array2 = np.arange(5)\n",
    "array1 + array2"
   ]
  },
  {
   "cell_type": "code",
   "execution_count": 19,
   "metadata": {},
   "outputs": [
    {
     "data": {
      "text/plain": [
       "Scorecard       0\n",
       "Team 1          0\n",
       "Team 2          0\n",
       "Winner          0\n",
       "Margin        179\n",
       "Ground          0\n",
       "Match Date      0\n",
       "dtype: int64"
      ]
     },
     "execution_count": 19,
     "metadata": {},
     "output_type": "execute_result"
    }
   ],
   "source": [
    "df.isnull().sum()"
   ]
  },
  {
   "cell_type": "code",
   "execution_count": 39,
   "metadata": {},
   "outputs": [
    {
     "data": {
      "text/plain": [
       "49    England\n",
       "Name: Winner, dtype: object"
      ]
     },
     "execution_count": 39,
     "metadata": {},
     "output_type": "execute_result"
    }
   ],
   "source": [
    "# Which team had won the 50th ODI match?\n",
    "df.iloc[[49]][\"Winner\"]"
   ]
  },
  {
   "cell_type": "code",
   "execution_count": 69,
   "metadata": {},
   "outputs": [
    {
     "data": {
      "text/html": [
       "<div>\n",
       "<style scoped>\n",
       "    .dataframe tbody tr th:only-of-type {\n",
       "        vertical-align: middle;\n",
       "    }\n",
       "\n",
       "    .dataframe tbody tr th {\n",
       "        vertical-align: top;\n",
       "    }\n",
       "\n",
       "    .dataframe thead th {\n",
       "        text-align: right;\n",
       "    }\n",
       "</style>\n",
       "<table border=\"1\" class=\"dataframe\">\n",
       "  <thead>\n",
       "    <tr style=\"text-align: right;\">\n",
       "      <th></th>\n",
       "      <th>Scorecard</th>\n",
       "      <th>Team 1</th>\n",
       "      <th>Team 2</th>\n",
       "      <th>Winner</th>\n",
       "      <th>Margin</th>\n",
       "      <th>Ground</th>\n",
       "      <th>Match Date</th>\n",
       "    </tr>\n",
       "  </thead>\n",
       "  <tbody>\n",
       "    <tr>\n",
       "      <th>429</th>\n",
       "      <td>ODI # 430</td>\n",
       "      <td>England</td>\n",
       "      <td>West Indies</td>\n",
       "      <td>England</td>\n",
       "      <td>29 runs</td>\n",
       "      <td>Devonport</td>\n",
       "      <td>Feb 3, 1987</td>\n",
       "    </tr>\n",
       "  </tbody>\n",
       "</table>\n",
       "</div>"
      ],
      "text/plain": [
       "     Scorecard   Team 1       Team 2   Winner   Margin     Ground   Match Date\n",
       "429  ODI # 430  England  West Indies  England  29 runs  Devonport  Feb 3, 1987"
      ]
     },
     "execution_count": 69,
     "metadata": {},
     "output_type": "execute_result"
    }
   ],
   "source": [
    "# df[\"Ground\"].value_counts()[\"Manchester\"]\n",
    "df[df['Ground']=='Devonport']"
   ]
  },
  {
   "cell_type": "code",
   "execution_count": 74,
   "metadata": {},
   "outputs": [
    {
     "data": {
      "text/html": [
       "<div>\n",
       "<style scoped>\n",
       "    .dataframe tbody tr th:only-of-type {\n",
       "        vertical-align: middle;\n",
       "    }\n",
       "\n",
       "    .dataframe tbody tr th {\n",
       "        vertical-align: top;\n",
       "    }\n",
       "\n",
       "    .dataframe thead th {\n",
       "        text-align: right;\n",
       "    }\n",
       "</style>\n",
       "<table border=\"1\" class=\"dataframe\">\n",
       "  <thead>\n",
       "    <tr style=\"text-align: right;\">\n",
       "      <th></th>\n",
       "      <th>Scorecard</th>\n",
       "      <th>Team 1</th>\n",
       "      <th>Team 2</th>\n",
       "      <th>Winner</th>\n",
       "      <th>Margin</th>\n",
       "      <th>Ground</th>\n",
       "      <th>Match Date</th>\n",
       "    </tr>\n",
       "  </thead>\n",
       "  <tbody>\n",
       "    <tr>\n",
       "      <th>0</th>\n",
       "      <td>ODI # 1</td>\n",
       "      <td>Australia</td>\n",
       "      <td>England</td>\n",
       "      <td>Australia</td>\n",
       "      <td>5 wickets</td>\n",
       "      <td>Melbourne</td>\n",
       "      <td>Jan 5, 1971</td>\n",
       "    </tr>\n",
       "    <tr>\n",
       "      <th>2</th>\n",
       "      <td>ODI # 3</td>\n",
       "      <td>England</td>\n",
       "      <td>Australia</td>\n",
       "      <td>Australia</td>\n",
       "      <td>5 wickets</td>\n",
       "      <td>Lord's</td>\n",
       "      <td>Aug 26, 1972</td>\n",
       "    </tr>\n",
       "    <tr>\n",
       "      <th>9</th>\n",
       "      <td>ODI # 10</td>\n",
       "      <td>New Zealand</td>\n",
       "      <td>Australia</td>\n",
       "      <td>Australia</td>\n",
       "      <td>7 wickets</td>\n",
       "      <td>Dunedin</td>\n",
       "      <td>Mar 30, 1974</td>\n",
       "    </tr>\n",
       "    <tr>\n",
       "      <th>10</th>\n",
       "      <td>ODI # 11</td>\n",
       "      <td>New Zealand</td>\n",
       "      <td>Australia</td>\n",
       "      <td>Australia</td>\n",
       "      <td>31 runs</td>\n",
       "      <td>Christchurch</td>\n",
       "      <td>Mar 31, 1974</td>\n",
       "    </tr>\n",
       "    <tr>\n",
       "      <th>20</th>\n",
       "      <td>ODI # 21</td>\n",
       "      <td>Australia</td>\n",
       "      <td>Pakistan</td>\n",
       "      <td>Australia</td>\n",
       "      <td>73 runs</td>\n",
       "      <td>Leeds</td>\n",
       "      <td>Jun 7, 1975</td>\n",
       "    </tr>\n",
       "    <tr>\n",
       "      <th>...</th>\n",
       "      <td>...</td>\n",
       "      <td>...</td>\n",
       "      <td>...</td>\n",
       "      <td>...</td>\n",
       "      <td>...</td>\n",
       "      <td>...</td>\n",
       "      <td>...</td>\n",
       "    </tr>\n",
       "    <tr>\n",
       "      <th>3816</th>\n",
       "      <td>ODI # 3817</td>\n",
       "      <td>Australia</td>\n",
       "      <td>Pakistan</td>\n",
       "      <td>Australia</td>\n",
       "      <td>92 runs</td>\n",
       "      <td>Brisbane</td>\n",
       "      <td>Jan 13, 2017</td>\n",
       "    </tr>\n",
       "    <tr>\n",
       "      <th>3819</th>\n",
       "      <td>ODI # 3820</td>\n",
       "      <td>Australia</td>\n",
       "      <td>Pakistan</td>\n",
       "      <td>Australia</td>\n",
       "      <td>7 wickets</td>\n",
       "      <td>Perth</td>\n",
       "      <td>Jan 19, 2017</td>\n",
       "    </tr>\n",
       "    <tr>\n",
       "      <th>3821</th>\n",
       "      <td>ODI # 3822</td>\n",
       "      <td>Australia</td>\n",
       "      <td>Pakistan</td>\n",
       "      <td>Australia</td>\n",
       "      <td>86 runs</td>\n",
       "      <td>Sydney</td>\n",
       "      <td>Jan 22, 2017</td>\n",
       "    </tr>\n",
       "    <tr>\n",
       "      <th>3825</th>\n",
       "      <td>ODI # 3826</td>\n",
       "      <td>Australia</td>\n",
       "      <td>Pakistan</td>\n",
       "      <td>Australia</td>\n",
       "      <td>57 runs</td>\n",
       "      <td>Adelaide</td>\n",
       "      <td>Jan 26, 2017</td>\n",
       "    </tr>\n",
       "    <tr>\n",
       "      <th>3916</th>\n",
       "      <td>ODI # 3917</td>\n",
       "      <td>India</td>\n",
       "      <td>Australia</td>\n",
       "      <td>Australia</td>\n",
       "      <td>21 runs</td>\n",
       "      <td>Bengaluru</td>\n",
       "      <td>Sep 28, 2017</td>\n",
       "    </tr>\n",
       "  </tbody>\n",
       "</table>\n",
       "<p>555 rows × 7 columns</p>\n",
       "</div>"
      ],
      "text/plain": [
       "       Scorecard       Team 1     Team 2     Winner     Margin        Ground  \\\n",
       "0        ODI # 1    Australia    England  Australia  5 wickets     Melbourne   \n",
       "2        ODI # 3      England  Australia  Australia  5 wickets        Lord's   \n",
       "9       ODI # 10  New Zealand  Australia  Australia  7 wickets       Dunedin   \n",
       "10      ODI # 11  New Zealand  Australia  Australia    31 runs  Christchurch   \n",
       "20      ODI # 21    Australia   Pakistan  Australia    73 runs         Leeds   \n",
       "...          ...          ...        ...        ...        ...           ...   \n",
       "3816  ODI # 3817    Australia   Pakistan  Australia    92 runs      Brisbane   \n",
       "3819  ODI # 3820    Australia   Pakistan  Australia  7 wickets         Perth   \n",
       "3821  ODI # 3822    Australia   Pakistan  Australia    86 runs        Sydney   \n",
       "3825  ODI # 3826    Australia   Pakistan  Australia    57 runs      Adelaide   \n",
       "3916  ODI # 3917        India  Australia  Australia    21 runs     Bengaluru   \n",
       "\n",
       "        Match Date  \n",
       "0      Jan 5, 1971  \n",
       "2     Aug 26, 1972  \n",
       "9     Mar 30, 1974  \n",
       "10    Mar 31, 1974  \n",
       "20     Jun 7, 1975  \n",
       "...            ...  \n",
       "3816  Jan 13, 2017  \n",
       "3819  Jan 19, 2017  \n",
       "3821  Jan 22, 2017  \n",
       "3825  Jan 26, 2017  \n",
       "3916  Sep 28, 2017  \n",
       "\n",
       "[555 rows x 7 columns]"
      ]
     },
     "execution_count": 74,
     "metadata": {},
     "output_type": "execute_result"
    }
   ],
   "source": [
    "# How many times has the team Australia has won the ODI matches?\n",
    "df[df[\"Winner\"] == \"Australia\"]"
   ]
  },
  {
   "cell_type": "code",
   "execution_count": 75,
   "metadata": {},
   "outputs": [
    {
     "data": {
      "text/plain": [
       "1637"
      ]
     },
     "execution_count": 75,
     "metadata": {},
     "output_type": "execute_result"
    }
   ],
   "source": [
    "#How many times the second team, i.e., 'Team 2' has won the ODI match?\n",
    "(df['Team 2']==df['Winner']).sum()"
   ]
  },
  {
   "cell_type": "code",
   "execution_count": null,
   "metadata": {},
   "outputs": [],
   "source": []
  }
 ],
 "metadata": {
  "kernelspec": {
   "display_name": "base",
   "language": "python",
   "name": "python3"
  },
  "language_info": {
   "codemirror_mode": {
    "name": "ipython",
    "version": 3
   },
   "file_extension": ".py",
   "mimetype": "text/x-python",
   "name": "python",
   "nbconvert_exporter": "python",
   "pygments_lexer": "ipython3",
   "version": "3.9.7"
  },
  "orig_nbformat": 4,
  "vscode": {
   "interpreter": {
    "hash": "ad2bdc8ecc057115af97d19610ffacc2b4e99fae6737bb82f5d7fb13d2f2c186"
   }
  }
 },
 "nbformat": 4,
 "nbformat_minor": 2
}
