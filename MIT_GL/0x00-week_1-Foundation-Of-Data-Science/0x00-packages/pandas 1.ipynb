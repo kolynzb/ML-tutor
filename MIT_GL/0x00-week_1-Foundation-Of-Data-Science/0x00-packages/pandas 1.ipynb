{
 "cells": [
  {
   "cell_type": "markdown",
   "metadata": {},
   "source": [
    "# Pandas\n",
    "1. Pandas\n",
    "2. Data structures\n",
    "3. Pandas Series Series\n",
    "     - Creating Series \n",
    "     - Manipulating Series\n",
    "4. Pandas Dataframes\n",
    "    - Creating Dataframes\n",
    "    - Manipulating Dataframes\n",
    "5. Reading Data from different Sources"
   ]
  },
  {
   "cell_type": "markdown",
   "metadata": {},
   "source": [
    "## 1. Pandas\n",
    "- It contains data structures and manipulation tools designed for data cleaning and analysis. \n",
    "- While it adopts many idioms from _Numpy_, there biggest difference is that Pandas is desined for working with tabular ot hereogenious data.NumPy , by contrast , is best suited for working with homogeneous numerical array data.\n",
    "- Its name is derieved from \"Panel data\" an econometrics term for multidimensional structured data sets.\n",
    "\n",
    "### Pandas installation and import \n",
    "- installation \n",
    "`!pip install pandas`\n",
    "- Import \n",
    "`import pandas as pd` "
   ]
  },
  {
   "cell_type": "code",
   "execution_count": 1,
   "metadata": {},
   "outputs": [],
   "source": [
    "# Import Pandas \n",
    "import pandas as pd"
   ]
  },
  {
   "cell_type": "markdown",
   "metadata": {},
   "source": [
    "## 2. Data Structures\n",
    "- Pandas has 2 data structures as follows:\n",
    "1. A __Series__ is 1-dimensional labeled array that can hold data of any type (integer, float,string ,boolean,python object,and so on). Its axis labels are collectively called an index. \n",
    "2. A __DataFrame__ is a 2- dimensional labelled data structure with columns. it supports multiple datatypes.\n",
    "\n",
    "## 3. Pandas Series \n",
    "- Is a one- dimensional labeled arrau capable of holding any data type. However,a series is a sequence of homogenoues data types, similar to an array , list , or column in a tabe.\n",
    "- It will assign a labeled index to each item in the Series. By default, each item will receive an index label from 0 to N, where N is the length of the Series minus one.\n",
    "\n",
    "### 3.1 Creating Series \n",
    "1. __To create a numeric series__."
   ]
  },
  {
   "cell_type": "code",
   "execution_count": 4,
   "metadata": {},
   "outputs": [
    {
     "data": {
      "text/plain": [
       "0      1\n",
       "1      6\n",
       "2     11\n",
       "3     16\n",
       "4     21\n",
       "5     26\n",
       "6     31\n",
       "7     36\n",
       "8     41\n",
       "9     46\n",
       "10    51\n",
       "11    56\n",
       "12    61\n",
       "13    66\n",
       "14    71\n",
       "15    76\n",
       "16    81\n",
       "17    86\n",
       "18    91\n",
       "19    96\n",
       "dtype: int64"
      ]
     },
     "execution_count": 4,
     "metadata": {},
     "output_type": "execute_result"
    }
   ],
   "source": [
    "# Create a numeric series  \n",
    "numbers = range(1,100,5)\n",
    "pd.Series(numbers)"
   ]
  },
  {
   "cell_type": "markdown",
   "metadata": {},
   "source": [
    "- The output is of type `int64`\n",
    "- The row names are usually denoted as _\"Index\"_\n",
    "2. __To create an object series__"
   ]
  },
  {
   "cell_type": "code",
   "execution_count": 5,
   "metadata": {},
   "outputs": [
    {
     "data": {
      "text/plain": [
       "0      Hi\n",
       "1    How \n",
       "2    are \n",
       "3     you\n",
       "4       ?\n",
       "dtype: object"
      ]
     },
     "execution_count": 5,
     "metadata": {},
     "output_type": "execute_result"
    }
   ],
   "source": [
    "string = \"Hi\" , \"How \" , \"are \" ,\"you\",\"?\"\n",
    "pd.Series(string)"
   ]
  },
  {
   "cell_type": "markdown",
   "metadata": {},
   "source": [
    "- Output is of type `object`\n",
    "3. __To create a series with both numeric and string values__"
   ]
  },
  {
   "cell_type": "code",
   "execution_count": 6,
   "metadata": {},
   "outputs": [
    {
     "data": {
      "text/plain": [
       "0               365\n",
       "1            London\n",
       "2              34.5\n",
       "3             -34.5\n",
       "4    Happy Birthday\n",
       "dtype: object"
      ]
     },
     "execution_count": 6,
     "metadata": {},
     "output_type": "execute_result"
    }
   ],
   "source": [
    "# create a series with an arbituary list \n",
    "pd.Series([365,'London',34.5,-34.5,'Happy Birthday'])"
   ]
  },
  {
   "cell_type": "markdown",
   "metadata": {},
   "source": [
    "- Here numeric types are treated as objects. _A serie cannot have multiple data types so it defines all of them as an object_\n",
    "4. To set index values for a series."
   ]
  },
  {
   "cell_type": "code",
   "execution_count": 7,
   "metadata": {},
   "outputs": [
    {
     "data": {
      "text/plain": [
       "Math                60\n",
       "System design       89\n",
       "Cloud Computing     74\n",
       "Data Analysis       86\n",
       "React              100\n",
       "dtype: int64"
      ]
     },
     "execution_count": 7,
     "metadata": {},
     "output_type": "execute_result"
    }
   ],
   "source": [
    "marks = [60,89,74,86,100]\n",
    "\n",
    "subject = [\"Math\" , \"System design\" , \"Cloud Computing\" , \"Data Analysis\" , \"React\"]\n",
    "\n",
    "marks_series= pd.Series(marks,index =subject)\n",
    "marks_series\n"
   ]
  },
  {
   "cell_type": "markdown",
   "metadata": {},
   "source": [
    "- the index is added usin the argument `index=`. The data tyoe if the series continues to be numeric.\n",
    "\n",
    "6. __To create series from a dictionary__"
   ]
  },
  {
   "cell_type": "code",
   "execution_count": 8,
   "metadata": {},
   "outputs": [
    {
     "data": {
      "text/plain": [
       "React      90\n",
       "Node       85\n",
       "Flutter    50\n",
       "Django     75\n",
       "dtype: int64"
      ]
     },
     "execution_count": 8,
     "metadata": {},
     "output_type": "execute_result"
    }
   ],
   "source": [
    "data = {'React':90,\"Node\":85,\"Flutter\":50,\"Django\":75}\n",
    "pd.Series(data)"
   ]
  },
  {
   "cell_type": "markdown",
   "metadata": {},
   "source": [
    "- On passing a dict the index in the resulting Series will have the dict's keys in sorted oder.\n",
    "\n",
    "6. __A series with missing values__\n",
    "- If we pass a key that is not defined then its value will be `NAN`"
   ]
  },
  {
   "cell_type": "code",
   "execution_count": 9,
   "metadata": {},
   "outputs": [
    {
     "data": {
      "text/plain": [
       "Math                NaN\n",
       "System design       NaN\n",
       "Cloud Computing     NaN\n",
       "Data Analysis       NaN\n",
       "React              90.0\n",
       "dtype: float64"
      ]
     },
     "execution_count": 9,
     "metadata": {},
     "output_type": "execute_result"
    }
   ],
   "source": [
    "subject = [\"Math\" , \"System design\" , \"Cloud Computing\" , \"Data Analysis\" , \"React\"] \n",
    "\n",
    "marks_series = pd.Series(data,index=subject)\n",
    "marks_series"
   ]
  },
  {
   "cell_type": "code",
   "execution_count": 10,
   "metadata": {},
   "outputs": [],
   "source": [
    "# Error\n",
    "index=['Apple', 'Banana', 'Orange']\n",
    "quantity = [34, 20, 30, 40]\n",
    "# Uncomment to see error 👇🏿.\n",
    "# pd.Series(data=quantity, index=index)"
   ]
  },
  {
   "cell_type": "code",
   "execution_count": 11,
   "metadata": {},
   "outputs": [
    {
     "data": {
      "text/plain": [
       "A    30.0\n",
       "B    40.0\n",
       "D     NaN\n",
       "dtype: float64"
      ]
     },
     "execution_count": 11,
     "metadata": {},
     "output_type": "execute_result"
    }
   ],
   "source": [
    "dict={'A':30, 'B':40, 'C':50}\n",
    "index=['A', 'B', 'D']\n",
    "pd.Series(data=dict, index=index)"
   ]
  },
  {
   "cell_type": "markdown",
   "metadata": {},
   "source": [
    "### 3.2 Manipulating Series\n",
    "1. __To check for null values using `.notnull`__"
   ]
  },
  {
   "cell_type": "code",
   "execution_count": 12,
   "metadata": {},
   "outputs": [
    {
     "data": {
      "text/plain": [
       "Math               False\n",
       "System design      False\n",
       "Cloud Computing    False\n",
       "Data Analysis      False\n",
       "React               True\n",
       "dtype: bool"
      ]
     },
     "execution_count": 12,
     "metadata": {},
     "output_type": "execute_result"
    }
   ],
   "source": [
    "marks_series.notnull()"
   ]
  },
  {
   "cell_type": "markdown",
   "metadata": {},
   "source": [
    "- `True` indicates that the value is not null.\n",
    "3. __To know the subjects in which marks score is more than 75__"
   ]
  },
  {
   "cell_type": "code",
   "execution_count": 13,
   "metadata": {},
   "outputs": [
    {
     "data": {
      "text/plain": [
       "React    90.0\n",
       "dtype: float64"
      ]
     },
     "execution_count": 13,
     "metadata": {},
     "output_type": "execute_result"
    }
   ],
   "source": [
    "marks_series[marks_series > 75]"
   ]
  },
  {
   "cell_type": "markdown",
   "metadata": {},
   "source": [
    "4. ___To assign 68 marks to 'Art and Craft'__"
   ]
  },
  {
   "cell_type": "code",
   "execution_count": 16,
   "metadata": {},
   "outputs": [
    {
     "data": {
      "text/plain": [
       "Math               91.0\n",
       "System design       NaN\n",
       "Cloud Computing     NaN\n",
       "Data Analysis       NaN\n",
       "React              91.0\n",
       "dtype: float64"
      ]
     },
     "execution_count": 16,
     "metadata": {},
     "output_type": "execute_result"
    }
   ],
   "source": [
    "marks_series[\"Math\"] = 91\n",
    "# or\n",
    "#  mark\n",
    "marks_series"
   ]
  },
  {
   "cell_type": "code",
   "execution_count": 17,
   "metadata": {},
   "outputs": [
    {
     "data": {
      "text/plain": [
       "False"
      ]
     },
     "execution_count": 17,
     "metadata": {},
     "output_type": "execute_result"
    }
   ],
   "source": [
    "# Compare values\n",
    "marks_series[\"Math\"] == 75\n",
    "# OR\n",
    "marks_series.Math == 75"
   ]
  },
  {
   "cell_type": "markdown",
   "metadata": {},
   "source": [
    "5. __Sorting Numeric Series__"
   ]
  },
  {
   "cell_type": "code",
   "execution_count": 3,
   "metadata": {},
   "outputs": [],
   "source": [
    "import numpy as np"
   ]
  },
  {
   "cell_type": "code",
   "execution_count": 19,
   "metadata": {},
   "outputs": [
    {
     "data": {
      "text/plain": [
       "0    23.0\n",
       "1     NaN\n",
       "2    45.0\n",
       "3     NaN\n",
       "4    56.0\n",
       "5    67.0\n",
       "6    34.0\n",
       "7    23.0\n",
       "dtype: float64"
      ]
     },
     "execution_count": 19,
     "metadata": {},
     "output_type": "execute_result"
    }
   ],
   "source": [
    "values = pd.Series([23,np.nan,45,np.nan,56,67,34,23])\n",
    "values"
   ]
  },
  {
   "cell_type": "code",
   "execution_count": 20,
   "metadata": {},
   "outputs": [
    {
     "data": {
      "text/plain": [
       "5    67.0\n",
       "4    56.0\n",
       "2    45.0\n",
       "6    34.0\n",
       "0    23.0\n",
       "7    23.0\n",
       "1     NaN\n",
       "3     NaN\n",
       "dtype: float64"
      ]
     },
     "execution_count": 20,
     "metadata": {},
     "output_type": "execute_result"
    }
   ],
   "source": [
    "#ascending Order\n",
    "values.sort_values(ascending = True)\n",
    "#descending Order\n",
    "values.sort_values(ascending = False)"
   ]
  },
  {
   "cell_type": "markdown",
   "metadata": {},
   "source": [
    "7. __Sorting Categorical Series__"
   ]
  },
  {
   "cell_type": "code",
   "execution_count": 21,
   "metadata": {},
   "outputs": [
    {
     "data": {
      "text/plain": [
       "0    a\n",
       "1    f\n",
       "2    j\n",
       "3    d\n",
       "4    c\n",
       "dtype: object"
      ]
     },
     "execution_count": 21,
     "metadata": {},
     "output_type": "execute_result"
    }
   ],
   "source": [
    "# create a pandas series \n",
    "string_values = pd.Series([\"a\", \"f\", \"j\", \"d\", \"c\"])\n",
    "string_values\n",
    "# since the computer stores strings in lexigraphical order\n",
    "# sort_values maintains the indices of all the elements of the array"
   ]
  },
  {
   "cell_type": "code",
   "execution_count": 22,
   "metadata": {},
   "outputs": [
    {
     "data": {
      "text/plain": [
       "0    a\n",
       "4    c\n",
       "3    d\n",
       "1    f\n",
       "2    j\n",
       "dtype: object"
      ]
     },
     "execution_count": 22,
     "metadata": {},
     "output_type": "execute_result"
    }
   ],
   "source": [
    "# ascending order\n",
    "string_values.sort_values(ascending=True)"
   ]
  },
  {
   "cell_type": "code",
   "execution_count": 23,
   "metadata": {},
   "outputs": [
    {
     "data": {
      "text/plain": [
       "5    5\n",
       "dtype: int64"
      ]
     },
     "execution_count": 23,
     "metadata": {},
     "output_type": "execute_result"
    }
   ],
   "source": [
    "data=range(10)\n",
    "new_ser=pd.Series(data=data)\n",
    "new_ser[new_ser==5]"
   ]
  },
  {
   "cell_type": "code",
   "execution_count": 24,
   "metadata": {},
   "outputs": [
    {
     "data": {
      "text/plain": [
       "Math               1.5\n",
       "System design      NaN\n",
       "Cloud Computing    NaN\n",
       "Data Analysis      NaN\n",
       "React              1.5\n",
       "dtype: float64"
      ]
     },
     "execution_count": 24,
     "metadata": {},
     "output_type": "execute_result"
    }
   ],
   "source": [
    "marks_series.rank(ascending=True)"
   ]
  },
  {
   "cell_type": "markdown",
   "metadata": {},
   "source": [
    "# Panda Data Frames\n",
    "- Is a tabular representation of data containing an ordered collectin, each of which can ve a different type (numeric , string,boolean and so on)\n",
    "- The DataFrame has both row and column index; it can be thought of as a dict of Series all sharing the same index.In a DF, the data is stored as one or more two-dimensioanl blocks rather than a list,dict or some other collection of one-dimensional arrays.\n",
    "- While a DF is physically two-dimensional, it can be use to represent higher dimensional data in  tabular   format usung hierarchical indexing\n",
    "\n",
    "- __4.1 Creating a DataFrame__\n",
    "\n",
    "1. __Creating a DataFrame from a dictionary__"
   ]
  },
  {
   "cell_type": "code",
   "execution_count": 25,
   "metadata": {},
   "outputs": [
    {
     "data": {
      "text/html": [
       "<div>\n",
       "<style scoped>\n",
       "    .dataframe tbody tr th:only-of-type {\n",
       "        vertical-align: middle;\n",
       "    }\n",
       "\n",
       "    .dataframe tbody tr th {\n",
       "        vertical-align: top;\n",
       "    }\n",
       "\n",
       "    .dataframe thead th {\n",
       "        text-align: right;\n",
       "    }\n",
       "</style>\n",
       "<table border=\"1\" class=\"dataframe\">\n",
       "  <thead>\n",
       "    <tr style=\"text-align: right;\">\n",
       "      <th></th>\n",
       "      <th>Subject</th>\n",
       "      <th>Marks</th>\n",
       "      <th>CGPA</th>\n",
       "    </tr>\n",
       "  </thead>\n",
       "  <tbody>\n",
       "    <tr>\n",
       "      <th>0</th>\n",
       "      <td>React</td>\n",
       "      <td>89</td>\n",
       "      <td>2.5</td>\n",
       "    </tr>\n",
       "    <tr>\n",
       "      <th>1</th>\n",
       "      <td>Rust</td>\n",
       "      <td>34</td>\n",
       "      <td>3.0</td>\n",
       "    </tr>\n",
       "    <tr>\n",
       "      <th>2</th>\n",
       "      <td>Golang</td>\n",
       "      <td>65</td>\n",
       "      <td>4.5</td>\n",
       "    </tr>\n",
       "    <tr>\n",
       "      <th>3</th>\n",
       "      <td>Elixir</td>\n",
       "      <td>78</td>\n",
       "      <td>5.6</td>\n",
       "    </tr>\n",
       "  </tbody>\n",
       "</table>\n",
       "</div>"
      ],
      "text/plain": [
       "  Subject  Marks  CGPA\n",
       "0   React     89   2.5\n",
       "1    Rust     34   3.0\n",
       "2  Golang     65   4.5\n",
       "3  Elixir     78   5.6"
      ]
     },
     "execution_count": 25,
     "metadata": {},
     "output_type": "execute_result"
    }
   ],
   "source": [
    "data ={\n",
    "    'Subject':[\"React\",\"Rust\",\"Golang\",\"Elixir\"],\n",
    "    'Marks':(89,34,65,78), \n",
    "    'CGPA':[2.5,3.0,4.5,5.6]\n",
    "}\n",
    "df = pd.DataFrame(data)\n",
    "df"
   ]
  },
  {
   "cell_type": "markdown",
   "metadata": {},
   "source": [
    "__Note__: Like Series, the resulting DataFrame is assigned index automatically. ANd the \"Marks\" values are in a tuple.\n",
    "\n",
    "2. __To Create a DataFrame From series__"
   ]
  },
  {
   "cell_type": "code",
   "execution_count": 3,
   "metadata": {},
   "outputs": [],
   "source": [
    "Subject = pd.Series([\"Math\",\"DSA\",\"Python\",\"ML\"])\n",
    "Marks = pd.Series([23,23,23,23])\n",
    "CGPA = pd.Series([2.5,3.0,4.0,6.0])"
   ]
  },
  {
   "cell_type": "code",
   "execution_count": 4,
   "metadata": {},
   "outputs": [
    {
     "data": {
      "text/html": [
       "<div>\n",
       "<style scoped>\n",
       "    .dataframe tbody tr th:only-of-type {\n",
       "        vertical-align: middle;\n",
       "    }\n",
       "\n",
       "    .dataframe tbody tr th {\n",
       "        vertical-align: top;\n",
       "    }\n",
       "\n",
       "    .dataframe thead th {\n",
       "        text-align: right;\n",
       "    }\n",
       "</style>\n",
       "<table border=\"1\" class=\"dataframe\">\n",
       "  <thead>\n",
       "    <tr style=\"text-align: right;\">\n",
       "      <th></th>\n",
       "      <th>0</th>\n",
       "      <th>1</th>\n",
       "      <th>2</th>\n",
       "      <th>3</th>\n",
       "    </tr>\n",
       "  </thead>\n",
       "  <tbody>\n",
       "    <tr>\n",
       "      <th>Subject</th>\n",
       "      <td>Math</td>\n",
       "      <td>DSA</td>\n",
       "      <td>Python</td>\n",
       "      <td>ML</td>\n",
       "    </tr>\n",
       "    <tr>\n",
       "      <th>Marks</th>\n",
       "      <td>23</td>\n",
       "      <td>23</td>\n",
       "      <td>23</td>\n",
       "      <td>23</td>\n",
       "    </tr>\n",
       "    <tr>\n",
       "      <th>CGPA</th>\n",
       "      <td>2.5</td>\n",
       "      <td>3.0</td>\n",
       "      <td>4.0</td>\n",
       "      <td>6.0</td>\n",
       "    </tr>\n",
       "  </tbody>\n",
       "</table>\n",
       "</div>"
      ],
      "text/plain": [
       "            0    1       2    3\n",
       "Subject  Math  DSA  Python   ML\n",
       "Marks      23   23      23   23\n",
       "CGPA      2.5  3.0     4.0  6.0"
      ]
     },
     "execution_count": 4,
     "metadata": {},
     "output_type": "execute_result"
    }
   ],
   "source": [
    "pd.DataFrame([Subject,Marks,CGPA],index = ['Subject','Marks','CGPA'])"
   ]
  },
  {
   "cell_type": "markdown",
   "metadata": {},
   "source": [
    "- However to want a vertical data frame we use `.T` . The 'T' stands for _transpose_."
   ]
  },
  {
   "cell_type": "code",
   "execution_count": 5,
   "metadata": {},
   "outputs": [
    {
     "data": {
      "text/html": [
       "<div>\n",
       "<style scoped>\n",
       "    .dataframe tbody tr th:only-of-type {\n",
       "        vertical-align: middle;\n",
       "    }\n",
       "\n",
       "    .dataframe tbody tr th {\n",
       "        vertical-align: top;\n",
       "    }\n",
       "\n",
       "    .dataframe thead th {\n",
       "        text-align: right;\n",
       "    }\n",
       "</style>\n",
       "<table border=\"1\" class=\"dataframe\">\n",
       "  <thead>\n",
       "    <tr style=\"text-align: right;\">\n",
       "      <th></th>\n",
       "      <th>Subject</th>\n",
       "      <th>Marks</th>\n",
       "      <th>CGPA</th>\n",
       "    </tr>\n",
       "  </thead>\n",
       "  <tbody>\n",
       "    <tr>\n",
       "      <th>0</th>\n",
       "      <td>Math</td>\n",
       "      <td>23</td>\n",
       "      <td>2.5</td>\n",
       "    </tr>\n",
       "    <tr>\n",
       "      <th>1</th>\n",
       "      <td>DSA</td>\n",
       "      <td>23</td>\n",
       "      <td>3.0</td>\n",
       "    </tr>\n",
       "    <tr>\n",
       "      <th>2</th>\n",
       "      <td>Python</td>\n",
       "      <td>23</td>\n",
       "      <td>4.0</td>\n",
       "    </tr>\n",
       "    <tr>\n",
       "      <th>3</th>\n",
       "      <td>ML</td>\n",
       "      <td>23</td>\n",
       "      <td>6.0</td>\n",
       "    </tr>\n",
       "  </tbody>\n",
       "</table>\n",
       "</div>"
      ],
      "text/plain": [
       "  Subject Marks CGPA\n",
       "0    Math    23  2.5\n",
       "1     DSA    23  3.0\n",
       "2  Python    23  4.0\n",
       "3      ML    23  6.0"
      ]
     },
     "execution_count": 5,
     "metadata": {},
     "output_type": "execute_result"
    }
   ],
   "source": [
    "pd.DataFrame([Subject,Marks,CGPA],index = ['Subject','Marks','CGPA']).T"
   ]
  },
  {
   "cell_type": "markdown",
   "metadata": {},
   "source": [
    "4. __To create a dataframe from lists__"
   ]
  },
  {
   "cell_type": "code",
   "execution_count": 6,
   "metadata": {},
   "outputs": [
    {
     "data": {
      "text/html": [
       "<div>\n",
       "<style scoped>\n",
       "    .dataframe tbody tr th:only-of-type {\n",
       "        vertical-align: middle;\n",
       "    }\n",
       "\n",
       "    .dataframe tbody tr th {\n",
       "        vertical-align: top;\n",
       "    }\n",
       "\n",
       "    .dataframe thead th {\n",
       "        text-align: right;\n",
       "    }\n",
       "</style>\n",
       "<table border=\"1\" class=\"dataframe\">\n",
       "  <thead>\n",
       "    <tr style=\"text-align: right;\">\n",
       "      <th></th>\n",
       "      <th>0</th>\n",
       "      <th>1</th>\n",
       "      <th>2</th>\n",
       "      <th>3</th>\n",
       "    </tr>\n",
       "  </thead>\n",
       "  <tbody>\n",
       "    <tr>\n",
       "      <th>Subject</th>\n",
       "      <td>Math</td>\n",
       "      <td>DSA</td>\n",
       "      <td>Python</td>\n",
       "      <td>ML</td>\n",
       "    </tr>\n",
       "    <tr>\n",
       "      <th>Marks</th>\n",
       "      <td>23</td>\n",
       "      <td>23</td>\n",
       "      <td>23</td>\n",
       "      <td>23</td>\n",
       "    </tr>\n",
       "    <tr>\n",
       "      <th>CGPA</th>\n",
       "      <td>2.5</td>\n",
       "      <td>3.0</td>\n",
       "      <td>4.0</td>\n",
       "      <td>6.0</td>\n",
       "    </tr>\n",
       "  </tbody>\n",
       "</table>\n",
       "</div>"
      ],
      "text/plain": [
       "            0    1       2    3\n",
       "Subject  Math  DSA  Python   ML\n",
       "Marks      23   23      23   23\n",
       "CGPA      2.5  3.0     4.0  6.0"
      ]
     },
     "execution_count": 6,
     "metadata": {},
     "output_type": "execute_result"
    }
   ],
   "source": [
    "Subject = [\"Math\",\"DSA\",\"Python\",\"ML\"]\n",
    "Marks = [23,23,23,23]\n",
    "CGPA = [2.5,3.0,4.0,6.0]\n",
    "\n",
    "pd.DataFrame([Subject,Marks,CGPA],index=['Subject','Marks','CGPA'])"
   ]
  },
  {
   "cell_type": "code",
   "execution_count": 7,
   "metadata": {},
   "outputs": [
    {
     "data": {
      "text/html": [
       "<div>\n",
       "<style scoped>\n",
       "    .dataframe tbody tr th:only-of-type {\n",
       "        vertical-align: middle;\n",
       "    }\n",
       "\n",
       "    .dataframe tbody tr th {\n",
       "        vertical-align: top;\n",
       "    }\n",
       "\n",
       "    .dataframe thead th {\n",
       "        text-align: right;\n",
       "    }\n",
       "</style>\n",
       "<table border=\"1\" class=\"dataframe\">\n",
       "  <thead>\n",
       "    <tr style=\"text-align: right;\">\n",
       "      <th></th>\n",
       "      <th>Subject</th>\n",
       "      <th>Marks</th>\n",
       "      <th>CGPA</th>\n",
       "    </tr>\n",
       "  </thead>\n",
       "  <tbody>\n",
       "    <tr>\n",
       "      <th>0</th>\n",
       "      <td>Math</td>\n",
       "      <td>23</td>\n",
       "      <td>2.5</td>\n",
       "    </tr>\n",
       "    <tr>\n",
       "      <th>1</th>\n",
       "      <td>DSA</td>\n",
       "      <td>23</td>\n",
       "      <td>3.0</td>\n",
       "    </tr>\n",
       "    <tr>\n",
       "      <th>2</th>\n",
       "      <td>Python</td>\n",
       "      <td>23</td>\n",
       "      <td>4.0</td>\n",
       "    </tr>\n",
       "    <tr>\n",
       "      <th>3</th>\n",
       "      <td>ML</td>\n",
       "      <td>23</td>\n",
       "      <td>6.0</td>\n",
       "    </tr>\n",
       "  </tbody>\n",
       "</table>\n",
       "</div>"
      ],
      "text/plain": [
       "  Subject Marks CGPA\n",
       "0    Math    23  2.5\n",
       "1     DSA    23  3.0\n",
       "2  Python    23  4.0\n",
       "3      ML    23  6.0"
      ]
     },
     "execution_count": 7,
     "metadata": {},
     "output_type": "execute_result"
    }
   ],
   "source": [
    "pd.DataFrame([Subject,Marks,CGPA],index=['Subject','Marks','CGPA']).T"
   ]
  },
  {
   "cell_type": "code",
   "execution_count": 18,
   "metadata": {},
   "outputs": [
    {
     "data": {
      "text/html": [
       "<div>\n",
       "<style scoped>\n",
       "    .dataframe tbody tr th:only-of-type {\n",
       "        vertical-align: middle;\n",
       "    }\n",
       "\n",
       "    .dataframe tbody tr th {\n",
       "        vertical-align: top;\n",
       "    }\n",
       "\n",
       "    .dataframe thead th {\n",
       "        text-align: right;\n",
       "    }\n",
       "</style>\n",
       "<table border=\"1\" class=\"dataframe\">\n",
       "  <thead>\n",
       "    <tr style=\"text-align: right;\">\n",
       "      <th></th>\n",
       "      <th>School_1</th>\n",
       "      <th>School_2</th>\n",
       "      <th>School_3</th>\n",
       "    </tr>\n",
       "  </thead>\n",
       "  <tbody>\n",
       "    <tr>\n",
       "      <th>0</th>\n",
       "      <td>Hogwarts</td>\n",
       "      <td>Durmstrang</td>\n",
       "      <td>Beauxbatons</td>\n",
       "    </tr>\n",
       "    <tr>\n",
       "      <th>1</th>\n",
       "      <td>Hogwarts</td>\n",
       "      <td>Durmstrang</td>\n",
       "      <td>Beauxbatons</td>\n",
       "    </tr>\n",
       "    <tr>\n",
       "      <th>2</th>\n",
       "      <td>Hogwarts</td>\n",
       "      <td>Durmstrang</td>\n",
       "      <td>Beauxbatons</td>\n",
       "    </tr>\n",
       "  </tbody>\n",
       "</table>\n",
       "</div>"
      ],
      "text/plain": [
       "   School_1    School_2     School_3\n",
       "0  Hogwarts  Durmstrang  Beauxbatons\n",
       "1  Hogwarts  Durmstrang  Beauxbatons\n",
       "2  Hogwarts  Durmstrang  Beauxbatons"
      ]
     },
     "execution_count": 18,
     "metadata": {},
     "output_type": "execute_result"
    }
   ],
   "source": [
    "a1 = ['Hogwarts', 'Durmstrang', 'Beauxbatons']\n",
    "a2 = ['Hogwarts', 'Durmstrang', 'Beauxbatons']\n",
    "a3 = ['Hogwarts', 'Durmstrang', 'Beauxbatons']\n",
    "school = [a1, a2, a3]\n",
    "inst = ['School_1', 'School_2', 'School_3']\n",
    "Muggle_data = pd.DataFrame(data=school, columns=inst)\n",
    "Muggle_data"
   ]
  },
  {
   "cell_type": "markdown",
   "metadata": {},
   "source": [
    "5. __To read data from csv file__\n"
   ]
  },
  {
   "cell_type": "code",
   "execution_count": 6,
   "metadata": {},
   "outputs": [
    {
     "data": {
      "text/plain": [
       "pandas.core.frame.DataFrame"
      ]
     },
     "execution_count": 6,
     "metadata": {},
     "output_type": "execute_result"
    }
   ],
   "source": [
    "data = pd.read_csv(\"sample.csv\")\n",
    "type(data)\n",
    "# The file must be in the same directory as the notebook."
   ]
  },
  {
   "cell_type": "markdown",
   "metadata": {},
   "source": [
    "- On checking the data type it is a pandas Dataframe.\n",
    "6. __To print the head of the data__"
   ]
  },
  {
   "cell_type": "code",
   "execution_count": 10,
   "metadata": {},
   "outputs": [
    {
     "data": {
      "text/html": [
       "<div>\n",
       "<style scoped>\n",
       "    .dataframe tbody tr th:only-of-type {\n",
       "        vertical-align: middle;\n",
       "    }\n",
       "\n",
       "    .dataframe tbody tr th {\n",
       "        vertical-align: top;\n",
       "    }\n",
       "\n",
       "    .dataframe thead th {\n",
       "        text-align: right;\n",
       "    }\n",
       "</style>\n",
       "<table border=\"1\" class=\"dataframe\">\n",
       "  <thead>\n",
       "    <tr style=\"text-align: right;\">\n",
       "      <th></th>\n",
       "      <th>name</th>\n",
       "      <th>world_ranking</th>\n",
       "      <th>region_ranking</th>\n",
       "      <th>country_ranking</th>\n",
       "      <th>region</th>\n",
       "      <th>country</th>\n",
       "      <th>city\\state</th>\n",
       "      <th>acceptance_rate</th>\n",
       "      <th>publication</th>\n",
       "      <th>website</th>\n",
       "      <th>phone_no</th>\n",
       "      <th>address</th>\n",
       "    </tr>\n",
       "  </thead>\n",
       "  <tbody>\n",
       "    <tr>\n",
       "      <th>0</th>\n",
       "      <td>Aarhus University</td>\n",
       "      <td>#150 of 14,131</td>\n",
       "      <td>#44 of 2,785</td>\n",
       "      <td>#2 of 27</td>\n",
       "      <td>Europe</td>\n",
       "      <td>Italy</td>\n",
       "      <td>Veneto</td>\n",
       "      <td>15%</td>\n",
       "      <td>89,633</td>\n",
       "      <td>www.au.dk</td>\n",
       "      <td>+45 8942 1111</td>\n",
       "      <td>Nordre Ringgade 1\\n Aarhus, Central Denmark Re...</td>\n",
       "    </tr>\n",
       "    <tr>\n",
       "      <th>1</th>\n",
       "      <td>Arizona State University - Tempe</td>\n",
       "      <td>#61 of 14,131</td>\n",
       "      <td>#48 of 2,597</td>\n",
       "      <td>#45 of 2,496</td>\n",
       "      <td>Europe</td>\n",
       "      <td>Spain</td>\n",
       "      <td>Valencia</td>\n",
       "      <td>NaN</td>\n",
       "      <td>99,086</td>\n",
       "      <td>www.asu.edu</td>\n",
       "      <td>8552785080</td>\n",
       "      <td>University Drive and Mill Avenue\\n Tempe, Ariz...</td>\n",
       "    </tr>\n",
       "    <tr>\n",
       "      <th>2</th>\n",
       "      <td>Auburn University</td>\n",
       "      <td>NaN</td>\n",
       "      <td>NaN</td>\n",
       "      <td>NaN</td>\n",
       "      <td>North America</td>\n",
       "      <td>United States</td>\n",
       "      <td>Wisconsin</td>\n",
       "      <td>57%</td>\n",
       "      <td>36,231</td>\n",
       "      <td>auburn.edu</td>\n",
       "      <td>3348444000</td>\n",
       "      <td>Samford Hall\\n Auburn, Alabama, 36849 \\nUnited...</td>\n",
       "    </tr>\n",
       "    <tr>\n",
       "      <th>3</th>\n",
       "      <td>Australian National University</td>\n",
       "      <td>#88 of 14,131</td>\n",
       "      <td>#5 of 59</td>\n",
       "      <td>#5 of 40</td>\n",
       "      <td>North America</td>\n",
       "      <td>Canada</td>\n",
       "      <td>Ontario</td>\n",
       "      <td>86%</td>\n",
       "      <td>97,754</td>\n",
       "      <td>www.anu.edu.au</td>\n",
       "      <td>+61 (0)2 6125 5111</td>\n",
       "      <td>Ellery Crescent, Acton\\n Canberra, Australian ...</td>\n",
       "    </tr>\n",
       "    <tr>\n",
       "      <th>4</th>\n",
       "      <td>Autonomous University of Barcelona</td>\n",
       "      <td>NaN</td>\n",
       "      <td>NaN</td>\n",
       "      <td>NaN</td>\n",
       "      <td>Europe</td>\n",
       "      <td>Italy</td>\n",
       "      <td>Emilia-Romagna</td>\n",
       "      <td>11%</td>\n",
       "      <td>74,922</td>\n",
       "      <td>www.uab.cat</td>\n",
       "      <td>+34 935812222</td>\n",
       "      <td>Campus de Bellaterra, Edificio A\\n Cerdanyola ...</td>\n",
       "    </tr>\n",
       "  </tbody>\n",
       "</table>\n",
       "</div>"
      ],
      "text/plain": [
       "                                 name   world_ranking region_ranking  \\\n",
       "0                   Aarhus University  #150 of 14,131   #44 of 2,785   \n",
       "1    Arizona State University - Tempe   #61 of 14,131   #48 of 2,597   \n",
       "2                   Auburn University             NaN            NaN   \n",
       "3      Australian National University   #88 of 14,131       #5 of 59   \n",
       "4  Autonomous University of Barcelona             NaN            NaN   \n",
       "\n",
       "  country_ranking         region        country      city\\state  \\\n",
       "0        #2 of 27         Europe          Italy          Veneto   \n",
       "1    #45 of 2,496         Europe          Spain        Valencia   \n",
       "2             NaN  North America  United States       Wisconsin   \n",
       "3        #5 of 40  North America         Canada         Ontario   \n",
       "4             NaN         Europe          Italy  Emilia-Romagna   \n",
       "\n",
       "  acceptance_rate publication         website            phone_no  \\\n",
       "0             15%      89,633       www.au.dk       +45 8942 1111   \n",
       "1             NaN      99,086     www.asu.edu          8552785080   \n",
       "2             57%      36,231      auburn.edu          3348444000   \n",
       "3             86%      97,754  www.anu.edu.au  +61 (0)2 6125 5111   \n",
       "4             11%      74,922     www.uab.cat       +34 935812222   \n",
       "\n",
       "                                             address  \n",
       "0  Nordre Ringgade 1\\n Aarhus, Central Denmark Re...  \n",
       "1  University Drive and Mill Avenue\\n Tempe, Ariz...  \n",
       "2  Samford Hall\\n Auburn, Alabama, 36849 \\nUnited...  \n",
       "3  Ellery Crescent, Acton\\n Canberra, Australian ...  \n",
       "4  Campus de Bellaterra, Edificio A\\n Cerdanyola ...  "
      ]
     },
     "execution_count": 10,
     "metadata": {},
     "output_type": "execute_result"
    }
   ],
   "source": [
    "data.head() # 1st 5 elements"
   ]
  },
  {
   "cell_type": "markdown",
   "metadata": {},
   "source": [
    "- By deafult, the `.head()` will display first five rows.However we can set the desired number of rows to be displayed. \n",
    "`data.head(9)`\n",
    "\n",
    "7. __To print tail data__\n"
   ]
  },
  {
   "cell_type": "code",
   "execution_count": 11,
   "metadata": {},
   "outputs": [
    {
     "data": {
      "text/html": [
       "<div>\n",
       "<style scoped>\n",
       "    .dataframe tbody tr th:only-of-type {\n",
       "        vertical-align: middle;\n",
       "    }\n",
       "\n",
       "    .dataframe tbody tr th {\n",
       "        vertical-align: top;\n",
       "    }\n",
       "\n",
       "    .dataframe thead th {\n",
       "        text-align: right;\n",
       "    }\n",
       "</style>\n",
       "<table border=\"1\" class=\"dataframe\">\n",
       "  <thead>\n",
       "    <tr style=\"text-align: right;\">\n",
       "      <th></th>\n",
       "      <th>name</th>\n",
       "      <th>world_ranking</th>\n",
       "      <th>region_ranking</th>\n",
       "      <th>country_ranking</th>\n",
       "      <th>region</th>\n",
       "      <th>country</th>\n",
       "      <th>city\\state</th>\n",
       "      <th>acceptance_rate</th>\n",
       "      <th>publication</th>\n",
       "      <th>website</th>\n",
       "      <th>phone_no</th>\n",
       "      <th>address</th>\n",
       "    </tr>\n",
       "  </thead>\n",
       "  <tbody>\n",
       "    <tr>\n",
       "      <th>295</th>\n",
       "      <td>Xi'an Jiaotong University</td>\n",
       "      <td>NaN</td>\n",
       "      <td>NaN</td>\n",
       "      <td>NaN</td>\n",
       "      <td>North America</td>\n",
       "      <td>United States</td>\n",
       "      <td>Connecticut</td>\n",
       "      <td>7%</td>\n",
       "      <td>96,097</td>\n",
       "      <td>www.xjtu.edu.cn</td>\n",
       "      <td>+86 (29) 266 8830</td>\n",
       "      <td>28 Xianning Road\\n Xi'an, Shaanxi, 710049 \\nChina</td>\n",
       "    </tr>\n",
       "    <tr>\n",
       "      <th>296</th>\n",
       "      <td>Yale University</td>\n",
       "      <td>#11 of 14,131</td>\n",
       "      <td>#9 of 2,597</td>\n",
       "      <td>#9 of 2,496</td>\n",
       "      <td>Asia</td>\n",
       "      <td>China</td>\n",
       "      <td>Xi'an</td>\n",
       "      <td>NaN</td>\n",
       "      <td>198,095</td>\n",
       "      <td>www.yale.edu</td>\n",
       "      <td>2034324771</td>\n",
       "      <td>Woodbridge Hall\\n New Haven, Connecticut, 0652...</td>\n",
       "    </tr>\n",
       "    <tr>\n",
       "      <th>297</th>\n",
       "      <td>Yonsei University</td>\n",
       "      <td>NaN</td>\n",
       "      <td>NaN</td>\n",
       "      <td>NaN</td>\n",
       "      <td>North America</td>\n",
       "      <td>United States</td>\n",
       "      <td>Washington</td>\n",
       "      <td>56%</td>\n",
       "      <td>95,497</td>\n",
       "      <td>www.yonsei.ac.kr</td>\n",
       "      <td>+82 (2) 2123 2114</td>\n",
       "      <td>134 Sinchon-dong, Seodaemun-gu\\n Seoul, Seoul,...</td>\n",
       "    </tr>\n",
       "    <tr>\n",
       "      <th>298</th>\n",
       "      <td>York University</td>\n",
       "      <td>NaN</td>\n",
       "      <td>NaN</td>\n",
       "      <td>NaN</td>\n",
       "      <td>Oceania</td>\n",
       "      <td>Australia</td>\n",
       "      <td>Canberra</td>\n",
       "      <td>33%</td>\n",
       "      <td>41,257</td>\n",
       "      <td>yorku.ca</td>\n",
       "      <td>+1 (416) 736 5002</td>\n",
       "      <td>4700 Keele Street\\n Toronto, Ontario, M3J 1P3 ...</td>\n",
       "    </tr>\n",
       "    <tr>\n",
       "      <th>299</th>\n",
       "      <td>Zhejiang University</td>\n",
       "      <td>#109 of 14,131</td>\n",
       "      <td>#7 of 5,830</td>\n",
       "      <td>#3 of 960</td>\n",
       "      <td>North America</td>\n",
       "      <td>United States</td>\n",
       "      <td>Alabama</td>\n",
       "      <td>52%</td>\n",
       "      <td>176,136</td>\n",
       "      <td>www.zju.edu.cn</td>\n",
       "      <td>+86 (571) 8795 1020</td>\n",
       "      <td>38 Zheda Road, Xihu\\n Hangzhou, Zhejiang, 3100...</td>\n",
       "    </tr>\n",
       "  </tbody>\n",
       "</table>\n",
       "</div>"
      ],
      "text/plain": [
       "                          name   world_ranking region_ranking country_ranking  \\\n",
       "295  Xi'an Jiaotong University             NaN            NaN             NaN   \n",
       "296            Yale University   #11 of 14,131    #9 of 2,597     #9 of 2,496   \n",
       "297          Yonsei University             NaN            NaN             NaN   \n",
       "298            York University             NaN            NaN             NaN   \n",
       "299        Zhejiang University  #109 of 14,131    #7 of 5,830       #3 of 960   \n",
       "\n",
       "            region        country   city\\state acceptance_rate publication  \\\n",
       "295  North America  United States  Connecticut              7%      96,097   \n",
       "296           Asia          China        Xi'an             NaN     198,095   \n",
       "297  North America  United States   Washington             56%      95,497   \n",
       "298        Oceania      Australia     Canberra             33%      41,257   \n",
       "299  North America  United States      Alabama             52%     176,136   \n",
       "\n",
       "              website             phone_no  \\\n",
       "295   www.xjtu.edu.cn    +86 (29) 266 8830   \n",
       "296      www.yale.edu           2034324771   \n",
       "297  www.yonsei.ac.kr    +82 (2) 2123 2114   \n",
       "298          yorku.ca    +1 (416) 736 5002   \n",
       "299    www.zju.edu.cn  +86 (571) 8795 1020   \n",
       "\n",
       "                                               address  \n",
       "295  28 Xianning Road\\n Xi'an, Shaanxi, 710049 \\nChina  \n",
       "296  Woodbridge Hall\\n New Haven, Connecticut, 0652...  \n",
       "297  134 Sinchon-dong, Seodaemun-gu\\n Seoul, Seoul,...  \n",
       "298  4700 Keele Street\\n Toronto, Ontario, M3J 1P3 ...  \n",
       "299  38 Zheda Road, Xihu\\n Hangzhou, Zhejiang, 3100...  "
      ]
     },
     "execution_count": 11,
     "metadata": {},
     "output_type": "execute_result"
    }
   ],
   "source": [
    "data.tail() # Last 5"
   ]
  },
  {
   "cell_type": "markdown",
   "metadata": {},
   "source": [
    "-  To obtain the dimensions of the data"
   ]
  },
  {
   "cell_type": "code",
   "execution_count": 12,
   "metadata": {},
   "outputs": [
    {
     "data": {
      "text/plain": [
       "(300, 12)"
      ]
     },
     "execution_count": 12,
     "metadata": {},
     "output_type": "execute_result"
    }
   ],
   "source": [
    "data.shape\n",
    "# (rows,columns)"
   ]
  },
  {
   "cell_type": "markdown",
   "metadata": {},
   "source": [
    "9. __To know the data types of the data frame__"
   ]
  },
  {
   "cell_type": "code",
   "execution_count": 13,
   "metadata": {},
   "outputs": [
    {
     "data": {
      "text/plain": [
       "name               object\n",
       "world_ranking      object\n",
       "region_ranking     object\n",
       "country_ranking    object\n",
       "region             object\n",
       "country            object\n",
       "city\\state         object\n",
       "acceptance_rate    object\n",
       "publication        object\n",
       "website            object\n",
       "phone_no           object\n",
       "address            object\n",
       "dtype: object"
      ]
     },
     "execution_count": 13,
     "metadata": {},
     "output_type": "execute_result"
    }
   ],
   "source": [
    "data.dtypes\n",
    "# Shows Data type of each variable"
   ]
  },
  {
   "cell_type": "markdown",
   "metadata": {},
   "source": [
    "10. To know some information of the data"
   ]
  },
  {
   "cell_type": "code",
   "execution_count": 14,
   "metadata": {},
   "outputs": [
    {
     "name": "stdout",
     "output_type": "stream",
     "text": [
      "<class 'pandas.core.frame.DataFrame'>\n",
      "RangeIndex: 300 entries, 0 to 299\n",
      "Data columns (total 12 columns):\n",
      " #   Column           Non-Null Count  Dtype \n",
      "---  ------           --------------  ----- \n",
      " 0   name             300 non-null    object\n",
      " 1   world_ranking    199 non-null    object\n",
      " 2   region_ranking   199 non-null    object\n",
      " 3   country_ranking  199 non-null    object\n",
      " 4   region           300 non-null    object\n",
      " 5   country          300 non-null    object\n",
      " 6   city\\state       300 non-null    object\n",
      " 7   acceptance_rate  224 non-null    object\n",
      " 8   publication      300 non-null    object\n",
      " 9   website          294 non-null    object\n",
      " 10  phone_no         296 non-null    object\n",
      " 11  address          300 non-null    object\n",
      "dtypes: object(12)\n",
      "memory usage: 28.2+ KB\n"
     ]
    }
   ],
   "source": [
    "data.info()"
   ]
  },
  {
   "cell_type": "markdown",
   "metadata": {},
   "source": [
    "- We see this output gives the number of rows present in the data `RangeIndex: 300 entries, 0 to 299` There are 23 rows numbered from 0 to 22. And there are a total of three columns - `Data columns (total 12 columns):`\n",
    "\n",
    "Consider `0 name 300 non-null object` indicates that the column named 'Age' has 300 non-null observations having a datatype of `object` and finally the memory used to save this data frame is `memory usage: 28.2+ KB`\n",
    "\n",
    "11. __To check the data type of column in the data frame__"
   ]
  },
  {
   "cell_type": "code",
   "execution_count": 15,
   "metadata": {},
   "outputs": [
    {
     "data": {
      "text/plain": [
       "pandas.core.series.Series"
      ]
     },
     "execution_count": 15,
     "metadata": {},
     "output_type": "execute_result"
    }
   ],
   "source": [
    "type(data.name)"
   ]
  },
  {
   "cell_type": "code",
   "execution_count": 16,
   "metadata": {},
   "outputs": [
    {
     "data": {
      "text/plain": [
       "pandas.core.series.Series"
      ]
     },
     "execution_count": 16,
     "metadata": {},
     "output_type": "execute_result"
    }
   ],
   "source": [
    "type(data[\"publication\"])"
   ]
  },
  {
   "cell_type": "markdown",
   "metadata": {},
   "source": [
    "- Note that every column on the data frame is a panda Series\n",
    "\n",
    "# 4.2 Manipulating DataFrames "
   ]
  },
  {
   "cell_type": "markdown",
   "metadata": {},
   "source": [
    "1. __Adding new column to data set__"
   ]
  },
  {
   "cell_type": "code",
   "execution_count": null,
   "metadata": {},
   "outputs": [],
   "source": [
    "data[\"BMI\"] = data[\"weight\"] / data[\"height\"]**2"
   ]
  },
  {
   "cell_type": "markdown",
   "metadata": {},
   "source": [
    "2. __Add a new row in a data set__\n",
    "- A new row can be added using the `.copy()`."
   ]
  },
  {
   "cell_type": "code",
   "execution_count": null,
   "metadata": {},
   "outputs": [],
   "source": [
    "# In the case of tuples , when index is changed .. it changes the ordering of original data frames.\n",
    "# create a copy of the dataframe\n",
    "data_copy = data.copy()\n",
    "# Add a new row at index -> 301 and add infomation in the \n",
    "data_copy.loc[301] = [\"Zhejiang University\"\t]"
   ]
  },
  {
   "attachments": {},
   "cell_type": "markdown",
   "metadata": {},
   "source": [
    "- We see that the new colmn number 301 has been added to the data.\n",
    "\n",
    "3. __Indexing a dataframe using `.iloc()`__\n",
    "- `DataFrame.iloc[]` method is used when the index label of the data frame is something other than numeric series of 0,1,2,3...n or incase the user doesnt know the index label.\n",
    "\n",
    "we shall work on the BMI data-set\n",
    "\n",
    "__Select the second row__"
   ]
  },
  {
   "cell_type": "code",
   "execution_count": 8,
   "metadata": {},
   "outputs": [
    {
     "data": {
      "text/plain": [
       "name                                               Auburn University\n",
       "world_ranking                                                    NaN\n",
       "region_ranking                                                   NaN\n",
       "country_ranking                                                  NaN\n",
       "region                                                 North America\n",
       "country                                                United States\n",
       "city\\state                                                 Wisconsin\n",
       "acceptance_rate                                                  57%\n",
       "publication                                                   36,231\n",
       "website                                                   auburn.edu\n",
       "phone_no                                                  3348444000\n",
       "address            Samford Hall\\n Auburn, Alabama, 36849 \\nUnited...\n",
       "Name: 2, dtype: object"
      ]
     },
     "execution_count": 8,
     "metadata": {},
     "output_type": "execute_result"
    }
   ],
   "source": [
    "data.iloc[2] # Selecting the 2nd row"
   ]
  },
  {
   "attachments": {},
   "cell_type": "markdown",
   "metadata": {},
   "source": [
    "__Select 4th,7th and 10th rows__"
   ]
  },
  {
   "cell_type": "code",
   "execution_count": 11,
   "metadata": {},
   "outputs": [
    {
     "data": {
      "text/html": [
       "<div>\n",
       "<style scoped>\n",
       "    .dataframe tbody tr th:only-of-type {\n",
       "        vertical-align: middle;\n",
       "    }\n",
       "\n",
       "    .dataframe tbody tr th {\n",
       "        vertical-align: top;\n",
       "    }\n",
       "\n",
       "    .dataframe thead th {\n",
       "        text-align: right;\n",
       "    }\n",
       "</style>\n",
       "<table border=\"1\" class=\"dataframe\">\n",
       "  <thead>\n",
       "    <tr style=\"text-align: right;\">\n",
       "      <th></th>\n",
       "      <th>name</th>\n",
       "      <th>world_ranking</th>\n",
       "      <th>region_ranking</th>\n",
       "      <th>country_ranking</th>\n",
       "      <th>region</th>\n",
       "      <th>country</th>\n",
       "      <th>city\\state</th>\n",
       "      <th>acceptance_rate</th>\n",
       "      <th>publication</th>\n",
       "      <th>website</th>\n",
       "      <th>phone_no</th>\n",
       "      <th>address</th>\n",
       "    </tr>\n",
       "  </thead>\n",
       "  <tbody>\n",
       "    <tr>\n",
       "      <th>4</th>\n",
       "      <td>Autonomous University of Barcelona</td>\n",
       "      <td>NaN</td>\n",
       "      <td>NaN</td>\n",
       "      <td>NaN</td>\n",
       "      <td>Europe</td>\n",
       "      <td>Italy</td>\n",
       "      <td>Emilia-Romagna</td>\n",
       "      <td>11%</td>\n",
       "      <td>74,922</td>\n",
       "      <td>www.uab.cat</td>\n",
       "      <td>+34 935812222</td>\n",
       "      <td>Campus de Bellaterra, Edificio A\\n Cerdanyola ...</td>\n",
       "    </tr>\n",
       "    <tr>\n",
       "      <th>7</th>\n",
       "      <td>Boston University</td>\n",
       "      <td>#49 of 14,131</td>\n",
       "      <td>#42 of 2,597</td>\n",
       "      <td>#39 of 2,496</td>\n",
       "      <td>Europe</td>\n",
       "      <td>Greece</td>\n",
       "      <td>Athens</td>\n",
       "      <td>NaN</td>\n",
       "      <td>107,676</td>\n",
       "      <td>bu.edu</td>\n",
       "      <td>6173532000</td>\n",
       "      <td>One Silber Way\\n Boston, Massachusetts, 02215 ...</td>\n",
       "    </tr>\n",
       "  </tbody>\n",
       "</table>\n",
       "</div>"
      ],
      "text/plain": [
       "                                 name  world_ranking region_ranking  \\\n",
       "4  Autonomous University of Barcelona            NaN            NaN   \n",
       "7                   Boston University  #49 of 14,131   #42 of 2,597   \n",
       "\n",
       "  country_ranking  region country      city\\state acceptance_rate publication  \\\n",
       "4             NaN  Europe   Italy  Emilia-Romagna             11%      74,922   \n",
       "7    #39 of 2,496  Europe  Greece          Athens             NaN     107,676   \n",
       "\n",
       "       website       phone_no  \\\n",
       "4  www.uab.cat  +34 935812222   \n",
       "7       bu.edu     6173532000   \n",
       "\n",
       "                                             address  \n",
       "4  Campus de Bellaterra, Edificio A\\n Cerdanyola ...  \n",
       "7  One Silber Way\\n Boston, Massachusetts, 02215 ...  "
      ]
     },
     "execution_count": 11,
     "metadata": {},
     "output_type": "execute_result"
    }
   ],
   "source": [
    "# Creates a sub data frame from the list passed to it -> sub dataframe with only two rows 7 and 4\n",
    "data.iloc[[4,7]]"
   ]
  },
  {
   "cell_type": "markdown",
   "metadata": {},
   "source": [
    "- We use square brakets since we are passing a list of row numbers to be accessed.\n",
    "\n",
    "__Select 2nd to 5th rows__"
   ]
  },
  {
   "cell_type": "code",
   "execution_count": 12,
   "metadata": {},
   "outputs": [
    {
     "data": {
      "text/html": [
       "<div>\n",
       "<style scoped>\n",
       "    .dataframe tbody tr th:only-of-type {\n",
       "        vertical-align: middle;\n",
       "    }\n",
       "\n",
       "    .dataframe tbody tr th {\n",
       "        vertical-align: top;\n",
       "    }\n",
       "\n",
       "    .dataframe thead th {\n",
       "        text-align: right;\n",
       "    }\n",
       "</style>\n",
       "<table border=\"1\" class=\"dataframe\">\n",
       "  <thead>\n",
       "    <tr style=\"text-align: right;\">\n",
       "      <th></th>\n",
       "      <th>name</th>\n",
       "      <th>world_ranking</th>\n",
       "      <th>region_ranking</th>\n",
       "      <th>country_ranking</th>\n",
       "      <th>region</th>\n",
       "      <th>country</th>\n",
       "      <th>city\\state</th>\n",
       "      <th>acceptance_rate</th>\n",
       "      <th>publication</th>\n",
       "      <th>website</th>\n",
       "      <th>phone_no</th>\n",
       "      <th>address</th>\n",
       "    </tr>\n",
       "  </thead>\n",
       "  <tbody>\n",
       "    <tr>\n",
       "      <th>2</th>\n",
       "      <td>Auburn University</td>\n",
       "      <td>NaN</td>\n",
       "      <td>NaN</td>\n",
       "      <td>NaN</td>\n",
       "      <td>North America</td>\n",
       "      <td>United States</td>\n",
       "      <td>Wisconsin</td>\n",
       "      <td>57%</td>\n",
       "      <td>36,231</td>\n",
       "      <td>auburn.edu</td>\n",
       "      <td>3348444000</td>\n",
       "      <td>Samford Hall\\n Auburn, Alabama, 36849 \\nUnited...</td>\n",
       "    </tr>\n",
       "    <tr>\n",
       "      <th>3</th>\n",
       "      <td>Australian National University</td>\n",
       "      <td>#88 of 14,131</td>\n",
       "      <td>#5 of 59</td>\n",
       "      <td>#5 of 40</td>\n",
       "      <td>North America</td>\n",
       "      <td>Canada</td>\n",
       "      <td>Ontario</td>\n",
       "      <td>86%</td>\n",
       "      <td>97,754</td>\n",
       "      <td>www.anu.edu.au</td>\n",
       "      <td>+61 (0)2 6125 5111</td>\n",
       "      <td>Ellery Crescent, Acton\\n Canberra, Australian ...</td>\n",
       "    </tr>\n",
       "    <tr>\n",
       "      <th>4</th>\n",
       "      <td>Autonomous University of Barcelona</td>\n",
       "      <td>NaN</td>\n",
       "      <td>NaN</td>\n",
       "      <td>NaN</td>\n",
       "      <td>Europe</td>\n",
       "      <td>Italy</td>\n",
       "      <td>Emilia-Romagna</td>\n",
       "      <td>11%</td>\n",
       "      <td>74,922</td>\n",
       "      <td>www.uab.cat</td>\n",
       "      <td>+34 935812222</td>\n",
       "      <td>Campus de Bellaterra, Edificio A\\n Cerdanyola ...</td>\n",
       "    </tr>\n",
       "  </tbody>\n",
       "</table>\n",
       "</div>"
      ],
      "text/plain": [
       "                                 name  world_ranking region_ranking  \\\n",
       "2                   Auburn University            NaN            NaN   \n",
       "3      Australian National University  #88 of 14,131       #5 of 59   \n",
       "4  Autonomous University of Barcelona            NaN            NaN   \n",
       "\n",
       "  country_ranking         region        country      city\\state  \\\n",
       "2             NaN  North America  United States       Wisconsin   \n",
       "3        #5 of 40  North America         Canada         Ontario   \n",
       "4             NaN         Europe          Italy  Emilia-Romagna   \n",
       "\n",
       "  acceptance_rate publication         website            phone_no  \\\n",
       "2             57%      36,231      auburn.edu          3348444000   \n",
       "3             86%      97,754  www.anu.edu.au  +61 (0)2 6125 5111   \n",
       "4             11%      74,922     www.uab.cat       +34 935812222   \n",
       "\n",
       "                                             address  \n",
       "2  Samford Hall\\n Auburn, Alabama, 36849 \\nUnited...  \n",
       "3  Ellery Crescent, Acton\\n Canberra, Australian ...  \n",
       "4  Campus de Bellaterra, Edificio A\\n Cerdanyola ...  "
      ]
     },
     "execution_count": 12,
     "metadata": {},
     "output_type": "execute_result"
    }
   ],
   "source": [
    "data.iloc[2:5]"
   ]
  },
  {
   "cell_type": "markdown",
   "metadata": {},
   "source": [
    "- __Select First Column__"
   ]
  },
  {
   "cell_type": "code",
   "execution_count": 15,
   "metadata": {},
   "outputs": [
    {
     "data": {
      "text/plain": [
       "0                       Aarhus University\n",
       "1        Arizona State University - Tempe\n",
       "2                       Auburn University\n",
       "3          Australian National University\n",
       "4      Autonomous University of Barcelona\n",
       "                      ...                \n",
       "295             Xi'an Jiaotong University\n",
       "296                       Yale University\n",
       "297                     Yonsei University\n",
       "298                       York University\n",
       "299                   Zhejiang University\n",
       "Name: name, Length: 300, dtype: object"
      ]
     },
     "execution_count": 15,
     "metadata": {},
     "output_type": "execute_result"
    }
   ],
   "source": [
    "# going after the first column\n",
    "data.iloc[:,0]"
   ]
  },
  {
   "cell_type": "code",
   "execution_count": 16,
   "metadata": {},
   "outputs": [
    {
     "data": {
      "text/plain": [
       "0      Nordre Ringgade 1\\n Aarhus, Central Denmark Re...\n",
       "1      University Drive and Mill Avenue\\n Tempe, Ariz...\n",
       "2      Samford Hall\\n Auburn, Alabama, 36849 \\nUnited...\n",
       "3      Ellery Crescent, Acton\\n Canberra, Australian ...\n",
       "4      Campus de Bellaterra, Edificio A\\n Cerdanyola ...\n",
       "                             ...                        \n",
       "295    28 Xianning Road\\n Xi'an, Shaanxi, 710049 \\nChina\n",
       "296    Woodbridge Hall\\n New Haven, Connecticut, 0652...\n",
       "297    134 Sinchon-dong, Seodaemun-gu\\n Seoul, Seoul,...\n",
       "298    4700 Keele Street\\n Toronto, Ontario, M3J 1P3 ...\n",
       "299    38 Zheda Road, Xihu\\n Hangzhou, Zhejiang, 3100...\n",
       "Name: address, Length: 300, dtype: object"
      ]
     },
     "execution_count": 16,
     "metadata": {},
     "output_type": "execute_result"
    }
   ],
   "source": [
    "# Select last column\n",
    "data.iloc[:,-1]"
   ]
  },
  {
   "cell_type": "code",
   "execution_count": 17,
   "metadata": {},
   "outputs": [
    {
     "data": {
      "text/html": [
       "<div>\n",
       "<style scoped>\n",
       "    .dataframe tbody tr th:only-of-type {\n",
       "        vertical-align: middle;\n",
       "    }\n",
       "\n",
       "    .dataframe tbody tr th {\n",
       "        vertical-align: top;\n",
       "    }\n",
       "\n",
       "    .dataframe thead th {\n",
       "        text-align: right;\n",
       "    }\n",
       "</style>\n",
       "<table border=\"1\" class=\"dataframe\">\n",
       "  <thead>\n",
       "    <tr style=\"text-align: right;\">\n",
       "      <th></th>\n",
       "      <th>name</th>\n",
       "    </tr>\n",
       "  </thead>\n",
       "  <tbody>\n",
       "    <tr>\n",
       "      <th>0</th>\n",
       "      <td>Aarhus University</td>\n",
       "    </tr>\n",
       "    <tr>\n",
       "      <th>1</th>\n",
       "      <td>Arizona State University - Tempe</td>\n",
       "    </tr>\n",
       "    <tr>\n",
       "      <th>2</th>\n",
       "      <td>Auburn University</td>\n",
       "    </tr>\n",
       "    <tr>\n",
       "      <th>3</th>\n",
       "      <td>Australian National University</td>\n",
       "    </tr>\n",
       "    <tr>\n",
       "      <th>4</th>\n",
       "      <td>Autonomous University of Barcelona</td>\n",
       "    </tr>\n",
       "    <tr>\n",
       "      <th>...</th>\n",
       "      <td>...</td>\n",
       "    </tr>\n",
       "    <tr>\n",
       "      <th>295</th>\n",
       "      <td>Xi'an Jiaotong University</td>\n",
       "    </tr>\n",
       "    <tr>\n",
       "      <th>296</th>\n",
       "      <td>Yale University</td>\n",
       "    </tr>\n",
       "    <tr>\n",
       "      <th>297</th>\n",
       "      <td>Yonsei University</td>\n",
       "    </tr>\n",
       "    <tr>\n",
       "      <th>298</th>\n",
       "      <td>York University</td>\n",
       "    </tr>\n",
       "    <tr>\n",
       "      <th>299</th>\n",
       "      <td>Zhejiang University</td>\n",
       "    </tr>\n",
       "  </tbody>\n",
       "</table>\n",
       "<p>300 rows × 1 columns</p>\n",
       "</div>"
      ],
      "text/plain": [
       "                                   name\n",
       "0                     Aarhus University\n",
       "1      Arizona State University - Tempe\n",
       "2                     Auburn University\n",
       "3        Australian National University\n",
       "4    Autonomous University of Barcelona\n",
       "..                                  ...\n",
       "295           Xi'an Jiaotong University\n",
       "296                     Yale University\n",
       "297                   Yonsei University\n",
       "298                     York University\n",
       "299                 Zhejiang University\n",
       "\n",
       "[300 rows x 1 columns]"
      ]
     },
     "execution_count": 17,
     "metadata": {},
     "output_type": "execute_result"
    }
   ],
   "source": [
    "# Select the first 2  columns\n",
    "data.iloc[:,0:1]"
   ]
  },
  {
   "cell_type": "markdown",
   "metadata": {},
   "source": [
    "__Selecting the first 2 columns and first 5 cells__"
   ]
  },
  {
   "cell_type": "code",
   "execution_count": 18,
   "metadata": {},
   "outputs": [
    {
     "data": {
      "text/html": [
       "<div>\n",
       "<style scoped>\n",
       "    .dataframe tbody tr th:only-of-type {\n",
       "        vertical-align: middle;\n",
       "    }\n",
       "\n",
       "    .dataframe tbody tr th {\n",
       "        vertical-align: top;\n",
       "    }\n",
       "\n",
       "    .dataframe thead th {\n",
       "        text-align: right;\n",
       "    }\n",
       "</style>\n",
       "<table border=\"1\" class=\"dataframe\">\n",
       "  <thead>\n",
       "    <tr style=\"text-align: right;\">\n",
       "      <th></th>\n",
       "      <th>name</th>\n",
       "      <th>world_ranking</th>\n",
       "    </tr>\n",
       "  </thead>\n",
       "  <tbody>\n",
       "    <tr>\n",
       "      <th>5</th>\n",
       "      <td>Baylor College of Medicine</td>\n",
       "      <td>NaN</td>\n",
       "    </tr>\n",
       "    <tr>\n",
       "      <th>6</th>\n",
       "      <td>Boston College</td>\n",
       "      <td>NaN</td>\n",
       "    </tr>\n",
       "  </tbody>\n",
       "</table>\n",
       "</div>"
      ],
      "text/plain": [
       "                         name world_ranking\n",
       "5  Baylor College of Medicine           NaN\n",
       "6              Boston College           NaN"
      ]
     },
     "execution_count": 18,
     "metadata": {},
     "output_type": "execute_result"
    }
   ],
   "source": [
    "data.iloc[5:7,0:2]"
   ]
  },
  {
   "attachments": {},
   "cell_type": "markdown",
   "metadata": {},
   "source": [
    "4. __Indexing a dataframe using `.loc`__\n",
    "- `DataFrame.loc[]` method that takes only index labels and returns row or dataframe if the index label exists in the caller data frame.\n",
    "- `DataFrame.loc[Row_names,column_names]` is used to select or index rows or columns based on their name.\n",
    "\n",
    "__Select 5 rows and 2nd and 4th coluns__"
   ]
  },
  {
   "cell_type": "code",
   "execution_count": 7,
   "metadata": {},
   "outputs": [
    {
     "data": {
      "text/html": [
       "<div>\n",
       "<style scoped>\n",
       "    .dataframe tbody tr th:only-of-type {\n",
       "        vertical-align: middle;\n",
       "    }\n",
       "\n",
       "    .dataframe tbody tr th {\n",
       "        vertical-align: top;\n",
       "    }\n",
       "\n",
       "    .dataframe thead th {\n",
       "        text-align: right;\n",
       "    }\n",
       "</style>\n",
       "<table border=\"1\" class=\"dataframe\">\n",
       "  <thead>\n",
       "    <tr style=\"text-align: right;\">\n",
       "      <th></th>\n",
       "      <th>name</th>\n",
       "      <th>world_ranking</th>\n",
       "    </tr>\n",
       "  </thead>\n",
       "  <tbody>\n",
       "    <tr>\n",
       "      <th>1</th>\n",
       "      <td>Arizona State University - Tempe</td>\n",
       "      <td>#61 of 14,131</td>\n",
       "    </tr>\n",
       "    <tr>\n",
       "      <th>2</th>\n",
       "      <td>Auburn University</td>\n",
       "      <td>NaN</td>\n",
       "    </tr>\n",
       "    <tr>\n",
       "      <th>3</th>\n",
       "      <td>Australian National University</td>\n",
       "      <td>#88 of 14,131</td>\n",
       "    </tr>\n",
       "    <tr>\n",
       "      <th>4</th>\n",
       "      <td>Autonomous University of Barcelona</td>\n",
       "      <td>NaN</td>\n",
       "    </tr>\n",
       "    <tr>\n",
       "      <th>5</th>\n",
       "      <td>Baylor College of Medicine</td>\n",
       "      <td>NaN</td>\n",
       "    </tr>\n",
       "  </tbody>\n",
       "</table>\n",
       "</div>"
      ],
      "text/plain": [
       "                                 name  world_ranking\n",
       "1    Arizona State University - Tempe  #61 of 14,131\n",
       "2                   Auburn University            NaN\n",
       "3      Australian National University  #88 of 14,131\n",
       "4  Autonomous University of Barcelona            NaN\n",
       "5          Baylor College of Medicine            NaN"
      ]
     },
     "execution_count": 7,
     "metadata": {},
     "output_type": "execute_result"
    }
   ],
   "source": [
    "data.loc[1:5,[\"name\",\"world_ranking\"]]"
   ]
  },
  {
   "attachments": {},
   "cell_type": "markdown",
   "metadata": {},
   "source": [
    "- __Note__ the row names are numbers \n",
    "5. __Selecting Columns by specifying column names__  \n",
    "__Select the column `country`__"
   ]
  },
  {
   "cell_type": "code",
   "execution_count": 8,
   "metadata": {},
   "outputs": [
    {
     "data": {
      "text/plain": [
       "0              Italy\n",
       "1              Spain\n",
       "2      United States\n",
       "3             Canada\n",
       "4              Italy\n",
       "           ...      \n",
       "295    United States\n",
       "296            China\n",
       "297    United States\n",
       "298        Australia\n",
       "299    United States\n",
       "Name: country, Length: 300, dtype: object"
      ]
     },
     "execution_count": 8,
     "metadata": {},
     "output_type": "execute_result"
    }
   ],
   "source": [
    "data.country"
   ]
  },
  {
   "attachments": {},
   "cell_type": "markdown",
   "metadata": {},
   "source": [
    "- __Remark__ Using this method we can selsect only one column"
   ]
  },
  {
   "cell_type": "code",
   "execution_count": 9,
   "metadata": {},
   "outputs": [
    {
     "data": {
      "text/plain": [
       "0              Italy\n",
       "1              Spain\n",
       "2      United States\n",
       "3             Canada\n",
       "4              Italy\n",
       "           ...      \n",
       "295    United States\n",
       "296            China\n",
       "297    United States\n",
       "298        Australia\n",
       "299    United States\n",
       "Name: country, Length: 300, dtype: object"
      ]
     },
     "execution_count": 9,
     "metadata": {},
     "output_type": "execute_result"
    }
   ],
   "source": [
    "data[\"country\"]"
   ]
  },
  {
   "cell_type": "code",
   "execution_count": 11,
   "metadata": {},
   "outputs": [
    {
     "data": {
      "text/html": [
       "<div>\n",
       "<style scoped>\n",
       "    .dataframe tbody tr th:only-of-type {\n",
       "        vertical-align: middle;\n",
       "    }\n",
       "\n",
       "    .dataframe tbody tr th {\n",
       "        vertical-align: top;\n",
       "    }\n",
       "\n",
       "    .dataframe thead th {\n",
       "        text-align: right;\n",
       "    }\n",
       "</style>\n",
       "<table border=\"1\" class=\"dataframe\">\n",
       "  <thead>\n",
       "    <tr style=\"text-align: right;\">\n",
       "      <th></th>\n",
       "      <th>country</th>\n",
       "      <th>name</th>\n",
       "    </tr>\n",
       "  </thead>\n",
       "  <tbody>\n",
       "    <tr>\n",
       "      <th>0</th>\n",
       "      <td>Italy</td>\n",
       "      <td>Aarhus University</td>\n",
       "    </tr>\n",
       "    <tr>\n",
       "      <th>1</th>\n",
       "      <td>Spain</td>\n",
       "      <td>Arizona State University - Tempe</td>\n",
       "    </tr>\n",
       "    <tr>\n",
       "      <th>2</th>\n",
       "      <td>United States</td>\n",
       "      <td>Auburn University</td>\n",
       "    </tr>\n",
       "    <tr>\n",
       "      <th>3</th>\n",
       "      <td>Canada</td>\n",
       "      <td>Australian National University</td>\n",
       "    </tr>\n",
       "    <tr>\n",
       "      <th>4</th>\n",
       "      <td>Italy</td>\n",
       "      <td>Autonomous University of Barcelona</td>\n",
       "    </tr>\n",
       "    <tr>\n",
       "      <th>...</th>\n",
       "      <td>...</td>\n",
       "      <td>...</td>\n",
       "    </tr>\n",
       "    <tr>\n",
       "      <th>295</th>\n",
       "      <td>United States</td>\n",
       "      <td>Xi'an Jiaotong University</td>\n",
       "    </tr>\n",
       "    <tr>\n",
       "      <th>296</th>\n",
       "      <td>China</td>\n",
       "      <td>Yale University</td>\n",
       "    </tr>\n",
       "    <tr>\n",
       "      <th>297</th>\n",
       "      <td>United States</td>\n",
       "      <td>Yonsei University</td>\n",
       "    </tr>\n",
       "    <tr>\n",
       "      <th>298</th>\n",
       "      <td>Australia</td>\n",
       "      <td>York University</td>\n",
       "    </tr>\n",
       "    <tr>\n",
       "      <th>299</th>\n",
       "      <td>United States</td>\n",
       "      <td>Zhejiang University</td>\n",
       "    </tr>\n",
       "  </tbody>\n",
       "</table>\n",
       "<p>300 rows × 2 columns</p>\n",
       "</div>"
      ],
      "text/plain": [
       "           country                                name\n",
       "0            Italy                   Aarhus University\n",
       "1            Spain    Arizona State University - Tempe\n",
       "2    United States                   Auburn University\n",
       "3           Canada      Australian National University\n",
       "4            Italy  Autonomous University of Barcelona\n",
       "..             ...                                 ...\n",
       "295  United States           Xi'an Jiaotong University\n",
       "296          China                     Yale University\n",
       "297  United States                   Yonsei University\n",
       "298      Australia                     York University\n",
       "299  United States                 Zhejiang University\n",
       "\n",
       "[300 rows x 2 columns]"
      ]
     },
     "execution_count": 11,
     "metadata": {},
     "output_type": "execute_result"
    }
   ],
   "source": [
    "# Select country and name  column \n",
    "data[[\"country\",\"name\"]]"
   ]
  },
  {
   "attachments": {},
   "cell_type": "markdown",
   "metadata": {},
   "source": [
    "6. Sort the data frame on the basis of values in a column.\n",
    "- Each coulumn of dataFrame is treated as a pandas Series. The `.sort_values()` in DataFrames works similar to the `pandas.Series`."
   ]
  },
  {
   "cell_type": "code",
   "execution_count": 12,
   "metadata": {},
   "outputs": [
    {
     "data": {
      "text/html": [
       "<div>\n",
       "<style scoped>\n",
       "    .dataframe tbody tr th:only-of-type {\n",
       "        vertical-align: middle;\n",
       "    }\n",
       "\n",
       "    .dataframe tbody tr th {\n",
       "        vertical-align: top;\n",
       "    }\n",
       "\n",
       "    .dataframe thead th {\n",
       "        text-align: right;\n",
       "    }\n",
       "</style>\n",
       "<table border=\"1\" class=\"dataframe\">\n",
       "  <thead>\n",
       "    <tr style=\"text-align: right;\">\n",
       "      <th></th>\n",
       "      <th>name</th>\n",
       "      <th>world_ranking</th>\n",
       "      <th>region_ranking</th>\n",
       "      <th>country_ranking</th>\n",
       "      <th>region</th>\n",
       "      <th>country</th>\n",
       "      <th>city\\state</th>\n",
       "      <th>acceptance_rate</th>\n",
       "      <th>publication</th>\n",
       "      <th>website</th>\n",
       "      <th>phone_no</th>\n",
       "      <th>address</th>\n",
       "    </tr>\n",
       "  </thead>\n",
       "  <tbody>\n",
       "    <tr>\n",
       "      <th>0</th>\n",
       "      <td>Aarhus University</td>\n",
       "      <td>#150 of 14,131</td>\n",
       "      <td>#44 of 2,785</td>\n",
       "      <td>#2 of 27</td>\n",
       "      <td>Europe</td>\n",
       "      <td>Italy</td>\n",
       "      <td>Veneto</td>\n",
       "      <td>15%</td>\n",
       "      <td>89,633</td>\n",
       "      <td>www.au.dk</td>\n",
       "      <td>+45 8942 1111</td>\n",
       "      <td>Nordre Ringgade 1\\n Aarhus, Central Denmark Re...</td>\n",
       "    </tr>\n",
       "    <tr>\n",
       "      <th>1</th>\n",
       "      <td>Arizona State University - Tempe</td>\n",
       "      <td>#61 of 14,131</td>\n",
       "      <td>#48 of 2,597</td>\n",
       "      <td>#45 of 2,496</td>\n",
       "      <td>Europe</td>\n",
       "      <td>Spain</td>\n",
       "      <td>Valencia</td>\n",
       "      <td>NaN</td>\n",
       "      <td>99,086</td>\n",
       "      <td>www.asu.edu</td>\n",
       "      <td>8552785080</td>\n",
       "      <td>University Drive and Mill Avenue\\n Tempe, Ariz...</td>\n",
       "    </tr>\n",
       "    <tr>\n",
       "      <th>2</th>\n",
       "      <td>Auburn University</td>\n",
       "      <td>NaN</td>\n",
       "      <td>NaN</td>\n",
       "      <td>NaN</td>\n",
       "      <td>North America</td>\n",
       "      <td>United States</td>\n",
       "      <td>Wisconsin</td>\n",
       "      <td>57%</td>\n",
       "      <td>36,231</td>\n",
       "      <td>auburn.edu</td>\n",
       "      <td>3348444000</td>\n",
       "      <td>Samford Hall\\n Auburn, Alabama, 36849 \\nUnited...</td>\n",
       "    </tr>\n",
       "    <tr>\n",
       "      <th>3</th>\n",
       "      <td>Australian National University</td>\n",
       "      <td>#88 of 14,131</td>\n",
       "      <td>#5 of 59</td>\n",
       "      <td>#5 of 40</td>\n",
       "      <td>North America</td>\n",
       "      <td>Canada</td>\n",
       "      <td>Ontario</td>\n",
       "      <td>86%</td>\n",
       "      <td>97,754</td>\n",
       "      <td>www.anu.edu.au</td>\n",
       "      <td>+61 (0)2 6125 5111</td>\n",
       "      <td>Ellery Crescent, Acton\\n Canberra, Australian ...</td>\n",
       "    </tr>\n",
       "    <tr>\n",
       "      <th>4</th>\n",
       "      <td>Autonomous University of Barcelona</td>\n",
       "      <td>NaN</td>\n",
       "      <td>NaN</td>\n",
       "      <td>NaN</td>\n",
       "      <td>Europe</td>\n",
       "      <td>Italy</td>\n",
       "      <td>Emilia-Romagna</td>\n",
       "      <td>11%</td>\n",
       "      <td>74,922</td>\n",
       "      <td>www.uab.cat</td>\n",
       "      <td>+34 935812222</td>\n",
       "      <td>Campus de Bellaterra, Edificio A\\n Cerdanyola ...</td>\n",
       "    </tr>\n",
       "  </tbody>\n",
       "</table>\n",
       "</div>"
      ],
      "text/plain": [
       "                                 name   world_ranking region_ranking  \\\n",
       "0                   Aarhus University  #150 of 14,131   #44 of 2,785   \n",
       "1    Arizona State University - Tempe   #61 of 14,131   #48 of 2,597   \n",
       "2                   Auburn University             NaN            NaN   \n",
       "3      Australian National University   #88 of 14,131       #5 of 59   \n",
       "4  Autonomous University of Barcelona             NaN            NaN   \n",
       "\n",
       "  country_ranking         region        country      city\\state  \\\n",
       "0        #2 of 27         Europe          Italy          Veneto   \n",
       "1    #45 of 2,496         Europe          Spain        Valencia   \n",
       "2             NaN  North America  United States       Wisconsin   \n",
       "3        #5 of 40  North America         Canada         Ontario   \n",
       "4             NaN         Europe          Italy  Emilia-Romagna   \n",
       "\n",
       "  acceptance_rate publication         website            phone_no  \\\n",
       "0             15%      89,633       www.au.dk       +45 8942 1111   \n",
       "1             NaN      99,086     www.asu.edu          8552785080   \n",
       "2             57%      36,231      auburn.edu          3348444000   \n",
       "3             86%      97,754  www.anu.edu.au  +61 (0)2 6125 5111   \n",
       "4             11%      74,922     www.uab.cat       +34 935812222   \n",
       "\n",
       "                                             address  \n",
       "0  Nordre Ringgade 1\\n Aarhus, Central Denmark Re...  \n",
       "1  University Drive and Mill Avenue\\n Tempe, Ariz...  \n",
       "2  Samford Hall\\n Auburn, Alabama, 36849 \\nUnited...  \n",
       "3  Ellery Crescent, Acton\\n Canberra, Australian ...  \n",
       "4  Campus de Bellaterra, Edificio A\\n Cerdanyola ...  "
      ]
     },
     "execution_count": 12,
     "metadata": {},
     "output_type": "execute_result"
    }
   ],
   "source": [
    "data.head()"
   ]
  },
  {
   "cell_type": "code",
   "execution_count": 13,
   "metadata": {},
   "outputs": [
    {
     "data": {
      "text/html": [
       "<div>\n",
       "<style scoped>\n",
       "    .dataframe tbody tr th:only-of-type {\n",
       "        vertical-align: middle;\n",
       "    }\n",
       "\n",
       "    .dataframe tbody tr th {\n",
       "        vertical-align: top;\n",
       "    }\n",
       "\n",
       "    .dataframe thead th {\n",
       "        text-align: right;\n",
       "    }\n",
       "</style>\n",
       "<table border=\"1\" class=\"dataframe\">\n",
       "  <thead>\n",
       "    <tr style=\"text-align: right;\">\n",
       "      <th></th>\n",
       "      <th>name</th>\n",
       "      <th>world_ranking</th>\n",
       "      <th>region_ranking</th>\n",
       "      <th>country_ranking</th>\n",
       "      <th>region</th>\n",
       "      <th>country</th>\n",
       "      <th>city\\state</th>\n",
       "      <th>acceptance_rate</th>\n",
       "      <th>publication</th>\n",
       "      <th>website</th>\n",
       "      <th>phone_no</th>\n",
       "      <th>address</th>\n",
       "    </tr>\n",
       "  </thead>\n",
       "  <tbody>\n",
       "    <tr>\n",
       "      <th>197</th>\n",
       "      <td>University of Helsinki</td>\n",
       "      <td>#87 of 14,131</td>\n",
       "      <td>#17 of 2,785</td>\n",
       "      <td>#1 of 36</td>\n",
       "      <td>Europe</td>\n",
       "      <td>Germany</td>\n",
       "      <td>Saxony</td>\n",
       "      <td>35%</td>\n",
       "      <td>100,167</td>\n",
       "      <td>www.helsinki.fi</td>\n",
       "      <td>+358 (9) 1911</td>\n",
       "      <td>PO Box 33, Fabianinkatu 33\\n Helsinki, Uusimaa...</td>\n",
       "    </tr>\n",
       "    <tr>\n",
       "      <th>246</th>\n",
       "      <td>University of Rochester</td>\n",
       "      <td>#66 of 14,131</td>\n",
       "      <td>#50 of 2,597</td>\n",
       "      <td>#47 of 2,496</td>\n",
       "      <td>Europe</td>\n",
       "      <td>Italy</td>\n",
       "      <td>Piedmont</td>\n",
       "      <td>NaN</td>\n",
       "      <td>100,238</td>\n",
       "      <td>rochester.edu</td>\n",
       "      <td>5852753221</td>\n",
       "      <td>Wilson Blvd. - Wallis Hall\\n Rochester, New Yo...</td>\n",
       "    </tr>\n",
       "    <tr>\n",
       "      <th>239</th>\n",
       "      <td>University of Padua</td>\n",
       "      <td>#151 of 14,131</td>\n",
       "      <td>#45 of 2,785</td>\n",
       "      <td>#4 of 88</td>\n",
       "      <td>Europe</td>\n",
       "      <td>Denmark</td>\n",
       "      <td>Aarhus</td>\n",
       "      <td>20%</td>\n",
       "      <td>100,320</td>\n",
       "      <td>www.unipd.it</td>\n",
       "      <td>+39 049 827 3131</td>\n",
       "      <td>Via VIII Febbraio, 2\\n Padova, Veneto, 35122 \\...</td>\n",
       "    </tr>\n",
       "    <tr>\n",
       "      <th>164</th>\n",
       "      <td>University of California - Irvine</td>\n",
       "      <td>#56 of 14,131</td>\n",
       "      <td>#46 of 2,597</td>\n",
       "      <td>#43 of 2,496</td>\n",
       "      <td>Europe</td>\n",
       "      <td>Switzerland</td>\n",
       "      <td>Basel</td>\n",
       "      <td>NaN</td>\n",
       "      <td>101,320</td>\n",
       "      <td>uci.edu</td>\n",
       "      <td>9498245011</td>\n",
       "      <td>501 Aldrich Hall\\n Irvine, California, 92697 \\...</td>\n",
       "    </tr>\n",
       "    <tr>\n",
       "      <th>130</th>\n",
       "      <td>Tel Aviv University</td>\n",
       "      <td>#119 of 14,131</td>\n",
       "      <td>#10 of 5,830</td>\n",
       "      <td>#1 of 36</td>\n",
       "      <td>North America</td>\n",
       "      <td>United States</td>\n",
       "      <td>New York State</td>\n",
       "      <td>18%</td>\n",
       "      <td>101,800</td>\n",
       "      <td>tau.ac.il</td>\n",
       "      <td>+972 (3) 640 8111</td>\n",
       "      <td>PO Box 39040\\n Tel Aviv, Tel Aviv District, 69...</td>\n",
       "    </tr>\n",
       "    <tr>\n",
       "      <th>...</th>\n",
       "      <td>...</td>\n",
       "      <td>...</td>\n",
       "      <td>...</td>\n",
       "      <td>...</td>\n",
       "      <td>...</td>\n",
       "      <td>...</td>\n",
       "      <td>...</td>\n",
       "      <td>...</td>\n",
       "      <td>...</td>\n",
       "      <td>...</td>\n",
       "      <td>...</td>\n",
       "      <td>...</td>\n",
       "    </tr>\n",
       "    <tr>\n",
       "      <th>1</th>\n",
       "      <td>Arizona State University - Tempe</td>\n",
       "      <td>#61 of 14,131</td>\n",
       "      <td>#48 of 2,597</td>\n",
       "      <td>#45 of 2,496</td>\n",
       "      <td>Europe</td>\n",
       "      <td>Spain</td>\n",
       "      <td>Valencia</td>\n",
       "      <td>NaN</td>\n",
       "      <td>99,086</td>\n",
       "      <td>www.asu.edu</td>\n",
       "      <td>8552785080</td>\n",
       "      <td>University Drive and Mill Avenue\\n Tempe, Ariz...</td>\n",
       "    </tr>\n",
       "    <tr>\n",
       "      <th>48</th>\n",
       "      <td>Ghent University</td>\n",
       "      <td>#116 of 14,131</td>\n",
       "      <td>#30 of 2,785</td>\n",
       "      <td>#2 of 63</td>\n",
       "      <td>Europe</td>\n",
       "      <td>Germany</td>\n",
       "      <td>North Rhine-Westphalia</td>\n",
       "      <td>45%</td>\n",
       "      <td>99,103</td>\n",
       "      <td>www.ugent.be</td>\n",
       "      <td>+32 (9) 264 3011</td>\n",
       "      <td>Sint-Pietersnieuwstraat 25\\n Ghent, East Fland...</td>\n",
       "    </tr>\n",
       "    <tr>\n",
       "      <th>90</th>\n",
       "      <td>Normal Superior School</td>\n",
       "      <td>#166 of 14,131</td>\n",
       "      <td>#52 of 2,785</td>\n",
       "      <td>#1 of 224</td>\n",
       "      <td>North America</td>\n",
       "      <td>United States</td>\n",
       "      <td>Florida</td>\n",
       "      <td>32%</td>\n",
       "      <td>99,156</td>\n",
       "      <td>www.ens.psl.eu</td>\n",
       "      <td>+33 (0)1 44 32 30 00</td>\n",
       "      <td>45 Rue d'Ulm\\n Paris, Ile-de-France, 75230 \\nF...</td>\n",
       "    </tr>\n",
       "    <tr>\n",
       "      <th>117</th>\n",
       "      <td>Shandong University</td>\n",
       "      <td>NaN</td>\n",
       "      <td>NaN</td>\n",
       "      <td>NaN</td>\n",
       "      <td>North America</td>\n",
       "      <td>United States</td>\n",
       "      <td>Ohio</td>\n",
       "      <td>21%</td>\n",
       "      <td>99,504</td>\n",
       "      <td>sdu.edu.cn</td>\n",
       "      <td>+86 (531) 883 64853</td>\n",
       "      <td>27 Shanda S Road, Licheng\\n Jinan, Shandong, 2...</td>\n",
       "    </tr>\n",
       "    <tr>\n",
       "      <th>83</th>\n",
       "      <td>Nanyang Technological University</td>\n",
       "      <td>NaN</td>\n",
       "      <td>NaN</td>\n",
       "      <td>NaN</td>\n",
       "      <td>Europe</td>\n",
       "      <td>United Kingdom</td>\n",
       "      <td>England</td>\n",
       "      <td>56%</td>\n",
       "      <td>99,798</td>\n",
       "      <td>www.ntu.edu.sg</td>\n",
       "      <td>+65 6791 1744</td>\n",
       "      <td>50 Nanyang Avenue\\n Singapore, 639798 \\nSingapore</td>\n",
       "    </tr>\n",
       "  </tbody>\n",
       "</table>\n",
       "<p>300 rows × 12 columns</p>\n",
       "</div>"
      ],
      "text/plain": [
       "                                  name   world_ranking region_ranking  \\\n",
       "197             University of Helsinki   #87 of 14,131   #17 of 2,785   \n",
       "246            University of Rochester   #66 of 14,131   #50 of 2,597   \n",
       "239                University of Padua  #151 of 14,131   #45 of 2,785   \n",
       "164  University of California - Irvine   #56 of 14,131   #46 of 2,597   \n",
       "130                Tel Aviv University  #119 of 14,131   #10 of 5,830   \n",
       "..                                 ...             ...            ...   \n",
       "1     Arizona State University - Tempe   #61 of 14,131   #48 of 2,597   \n",
       "48                    Ghent University  #116 of 14,131   #30 of 2,785   \n",
       "90              Normal Superior School  #166 of 14,131   #52 of 2,785   \n",
       "117                Shandong University             NaN            NaN   \n",
       "83    Nanyang Technological University             NaN            NaN   \n",
       "\n",
       "    country_ranking         region         country              city\\state  \\\n",
       "197        #1 of 36         Europe         Germany                  Saxony   \n",
       "246    #47 of 2,496         Europe           Italy                Piedmont   \n",
       "239        #4 of 88         Europe         Denmark                  Aarhus   \n",
       "164    #43 of 2,496         Europe     Switzerland                   Basel   \n",
       "130        #1 of 36  North America   United States          New York State   \n",
       "..              ...            ...             ...                     ...   \n",
       "1      #45 of 2,496         Europe           Spain                Valencia   \n",
       "48         #2 of 63         Europe         Germany  North Rhine-Westphalia   \n",
       "90        #1 of 224  North America   United States                 Florida   \n",
       "117             NaN  North America   United States                    Ohio   \n",
       "83              NaN         Europe  United Kingdom                 England   \n",
       "\n",
       "    acceptance_rate publication          website              phone_no  \\\n",
       "197             35%     100,167  www.helsinki.fi         +358 (9) 1911   \n",
       "246             NaN     100,238    rochester.edu            5852753221   \n",
       "239             20%     100,320     www.unipd.it      +39 049 827 3131   \n",
       "164             NaN     101,320          uci.edu            9498245011   \n",
       "130             18%     101,800        tau.ac.il     +972 (3) 640 8111   \n",
       "..              ...         ...              ...                   ...   \n",
       "1               NaN      99,086      www.asu.edu            8552785080   \n",
       "48              45%      99,103     www.ugent.be      +32 (9) 264 3011   \n",
       "90              32%      99,156   www.ens.psl.eu  +33 (0)1 44 32 30 00   \n",
       "117             21%      99,504       sdu.edu.cn   +86 (531) 883 64853   \n",
       "83              56%      99,798   www.ntu.edu.sg         +65 6791 1744   \n",
       "\n",
       "                                               address  \n",
       "197  PO Box 33, Fabianinkatu 33\\n Helsinki, Uusimaa...  \n",
       "246  Wilson Blvd. - Wallis Hall\\n Rochester, New Yo...  \n",
       "239  Via VIII Febbraio, 2\\n Padova, Veneto, 35122 \\...  \n",
       "164  501 Aldrich Hall\\n Irvine, California, 92697 \\...  \n",
       "130  PO Box 39040\\n Tel Aviv, Tel Aviv District, 69...  \n",
       "..                                                 ...  \n",
       "1    University Drive and Mill Avenue\\n Tempe, Ariz...  \n",
       "48   Sint-Pietersnieuwstraat 25\\n Ghent, East Fland...  \n",
       "90   45 Rue d'Ulm\\n Paris, Ile-de-France, 75230 \\nF...  \n",
       "117  27 Shanda S Road, Licheng\\n Jinan, Shandong, 2...  \n",
       "83   50 Nanyang Avenue\\n Singapore, 639798 \\nSingapore  \n",
       "\n",
       "[300 rows x 12 columns]"
      ]
     },
     "execution_count": 13,
     "metadata": {},
     "output_type": "execute_result"
    }
   ],
   "source": [
    "# sort the data frame on basis of `publication` values\n",
    "# by default the values will get sorted in ascending order\n",
    "data.sort_values('publication')\n",
    "# note: 'ascending = False' will sort the data frame in ascending order."
   ]
  },
  {
   "attachments": {},
   "cell_type": "markdown",
   "metadata": {},
   "source": [
    "7. __Rank the dataframe__"
   ]
  },
  {
   "cell_type": "code",
   "execution_count": 15,
   "metadata": {},
   "outputs": [
    {
     "data": {
      "text/html": [
       "<div>\n",
       "<style scoped>\n",
       "    .dataframe tbody tr th:only-of-type {\n",
       "        vertical-align: middle;\n",
       "    }\n",
       "\n",
       "    .dataframe tbody tr th {\n",
       "        vertical-align: top;\n",
       "    }\n",
       "\n",
       "    .dataframe thead th {\n",
       "        text-align: right;\n",
       "    }\n",
       "</style>\n",
       "<table border=\"1\" class=\"dataframe\">\n",
       "  <thead>\n",
       "    <tr style=\"text-align: right;\">\n",
       "      <th></th>\n",
       "      <th>name</th>\n",
       "      <th>world_ranking</th>\n",
       "      <th>region_ranking</th>\n",
       "      <th>country_ranking</th>\n",
       "      <th>region</th>\n",
       "      <th>country</th>\n",
       "      <th>city\\state</th>\n",
       "      <th>acceptance_rate</th>\n",
       "      <th>publication</th>\n",
       "      <th>website</th>\n",
       "      <th>phone_no</th>\n",
       "      <th>address</th>\n",
       "      <th>publication_rank</th>\n",
       "    </tr>\n",
       "  </thead>\n",
       "  <tbody>\n",
       "    <tr>\n",
       "      <th>0</th>\n",
       "      <td>Aarhus University</td>\n",
       "      <td>#150 of 14,131</td>\n",
       "      <td>#44 of 2,785</td>\n",
       "      <td>#2 of 27</td>\n",
       "      <td>Europe</td>\n",
       "      <td>Italy</td>\n",
       "      <td>Veneto</td>\n",
       "      <td>15%</td>\n",
       "      <td>89,633</td>\n",
       "      <td>www.au.dk</td>\n",
       "      <td>+45 8942 1111</td>\n",
       "      <td>Nordre Ringgade 1\\n Aarhus, Central Denmark Re...</td>\n",
       "      <td>29.0</td>\n",
       "    </tr>\n",
       "    <tr>\n",
       "      <th>1</th>\n",
       "      <td>Arizona State University - Tempe</td>\n",
       "      <td>#61 of 14,131</td>\n",
       "      <td>#48 of 2,597</td>\n",
       "      <td>#45 of 2,496</td>\n",
       "      <td>Europe</td>\n",
       "      <td>Spain</td>\n",
       "      <td>Valencia</td>\n",
       "      <td>NaN</td>\n",
       "      <td>99,086</td>\n",
       "      <td>www.asu.edu</td>\n",
       "      <td>8552785080</td>\n",
       "      <td>University Drive and Mill Avenue\\n Tempe, Ariz...</td>\n",
       "      <td>5.0</td>\n",
       "    </tr>\n",
       "    <tr>\n",
       "      <th>2</th>\n",
       "      <td>Auburn University</td>\n",
       "      <td>NaN</td>\n",
       "      <td>NaN</td>\n",
       "      <td>NaN</td>\n",
       "      <td>North America</td>\n",
       "      <td>United States</td>\n",
       "      <td>Wisconsin</td>\n",
       "      <td>57%</td>\n",
       "      <td>36,231</td>\n",
       "      <td>auburn.edu</td>\n",
       "      <td>3348444000</td>\n",
       "      <td>Samford Hall\\n Auburn, Alabama, 36849 \\nUnited...</td>\n",
       "      <td>188.0</td>\n",
       "    </tr>\n",
       "    <tr>\n",
       "      <th>3</th>\n",
       "      <td>Australian National University</td>\n",
       "      <td>#88 of 14,131</td>\n",
       "      <td>#5 of 59</td>\n",
       "      <td>#5 of 40</td>\n",
       "      <td>North America</td>\n",
       "      <td>Canada</td>\n",
       "      <td>Ontario</td>\n",
       "      <td>86%</td>\n",
       "      <td>97,754</td>\n",
       "      <td>www.anu.edu.au</td>\n",
       "      <td>+61 (0)2 6125 5111</td>\n",
       "      <td>Ellery Crescent, Acton\\n Canberra, Australian ...</td>\n",
       "      <td>8.0</td>\n",
       "    </tr>\n",
       "    <tr>\n",
       "      <th>4</th>\n",
       "      <td>Autonomous University of Barcelona</td>\n",
       "      <td>NaN</td>\n",
       "      <td>NaN</td>\n",
       "      <td>NaN</td>\n",
       "      <td>Europe</td>\n",
       "      <td>Italy</td>\n",
       "      <td>Emilia-Romagna</td>\n",
       "      <td>11%</td>\n",
       "      <td>74,922</td>\n",
       "      <td>www.uab.cat</td>\n",
       "      <td>+34 935812222</td>\n",
       "      <td>Campus de Bellaterra, Edificio A\\n Cerdanyola ...</td>\n",
       "      <td>65.0</td>\n",
       "    </tr>\n",
       "    <tr>\n",
       "      <th>...</th>\n",
       "      <td>...</td>\n",
       "      <td>...</td>\n",
       "      <td>...</td>\n",
       "      <td>...</td>\n",
       "      <td>...</td>\n",
       "      <td>...</td>\n",
       "      <td>...</td>\n",
       "      <td>...</td>\n",
       "      <td>...</td>\n",
       "      <td>...</td>\n",
       "      <td>...</td>\n",
       "      <td>...</td>\n",
       "      <td>...</td>\n",
       "    </tr>\n",
       "    <tr>\n",
       "      <th>295</th>\n",
       "      <td>Xi'an Jiaotong University</td>\n",
       "      <td>NaN</td>\n",
       "      <td>NaN</td>\n",
       "      <td>NaN</td>\n",
       "      <td>North America</td>\n",
       "      <td>United States</td>\n",
       "      <td>Connecticut</td>\n",
       "      <td>7%</td>\n",
       "      <td>96,097</td>\n",
       "      <td>www.xjtu.edu.cn</td>\n",
       "      <td>+86 (29) 266 8830</td>\n",
       "      <td>28 Xianning Road\\n Xi'an, Shaanxi, 710049 \\nChina</td>\n",
       "      <td>12.0</td>\n",
       "    </tr>\n",
       "    <tr>\n",
       "      <th>296</th>\n",
       "      <td>Yale University</td>\n",
       "      <td>#11 of 14,131</td>\n",
       "      <td>#9 of 2,597</td>\n",
       "      <td>#9 of 2,496</td>\n",
       "      <td>Asia</td>\n",
       "      <td>China</td>\n",
       "      <td>Xi'an</td>\n",
       "      <td>NaN</td>\n",
       "      <td>198,095</td>\n",
       "      <td>www.yale.edu</td>\n",
       "      <td>2034324771</td>\n",
       "      <td>Woodbridge Hall\\n New Haven, Connecticut, 0652...</td>\n",
       "      <td>216.0</td>\n",
       "    </tr>\n",
       "    <tr>\n",
       "      <th>297</th>\n",
       "      <td>Yonsei University</td>\n",
       "      <td>NaN</td>\n",
       "      <td>NaN</td>\n",
       "      <td>NaN</td>\n",
       "      <td>North America</td>\n",
       "      <td>United States</td>\n",
       "      <td>Washington</td>\n",
       "      <td>56%</td>\n",
       "      <td>95,497</td>\n",
       "      <td>www.yonsei.ac.kr</td>\n",
       "      <td>+82 (2) 2123 2114</td>\n",
       "      <td>134 Sinchon-dong, Seodaemun-gu\\n Seoul, Seoul,...</td>\n",
       "      <td>13.0</td>\n",
       "    </tr>\n",
       "    <tr>\n",
       "      <th>298</th>\n",
       "      <td>York University</td>\n",
       "      <td>NaN</td>\n",
       "      <td>NaN</td>\n",
       "      <td>NaN</td>\n",
       "      <td>Oceania</td>\n",
       "      <td>Australia</td>\n",
       "      <td>Canberra</td>\n",
       "      <td>33%</td>\n",
       "      <td>41,257</td>\n",
       "      <td>yorku.ca</td>\n",
       "      <td>+1 (416) 736 5002</td>\n",
       "      <td>4700 Keele Street\\n Toronto, Ontario, M3J 1P3 ...</td>\n",
       "      <td>179.0</td>\n",
       "    </tr>\n",
       "    <tr>\n",
       "      <th>299</th>\n",
       "      <td>Zhejiang University</td>\n",
       "      <td>#109 of 14,131</td>\n",
       "      <td>#7 of 5,830</td>\n",
       "      <td>#3 of 960</td>\n",
       "      <td>North America</td>\n",
       "      <td>United States</td>\n",
       "      <td>Alabama</td>\n",
       "      <td>52%</td>\n",
       "      <td>176,136</td>\n",
       "      <td>www.zju.edu.cn</td>\n",
       "      <td>+86 (571) 8795 1020</td>\n",
       "      <td>38 Zheda Road, Xihu\\n Hangzhou, Zhejiang, 3100...</td>\n",
       "      <td>229.0</td>\n",
       "    </tr>\n",
       "  </tbody>\n",
       "</table>\n",
       "<p>300 rows × 13 columns</p>\n",
       "</div>"
      ],
      "text/plain": [
       "                                   name   world_ranking region_ranking  \\\n",
       "0                     Aarhus University  #150 of 14,131   #44 of 2,785   \n",
       "1      Arizona State University - Tempe   #61 of 14,131   #48 of 2,597   \n",
       "2                     Auburn University             NaN            NaN   \n",
       "3        Australian National University   #88 of 14,131       #5 of 59   \n",
       "4    Autonomous University of Barcelona             NaN            NaN   \n",
       "..                                  ...             ...            ...   \n",
       "295           Xi'an Jiaotong University             NaN            NaN   \n",
       "296                     Yale University   #11 of 14,131    #9 of 2,597   \n",
       "297                   Yonsei University             NaN            NaN   \n",
       "298                     York University             NaN            NaN   \n",
       "299                 Zhejiang University  #109 of 14,131    #7 of 5,830   \n",
       "\n",
       "    country_ranking         region        country      city\\state  \\\n",
       "0          #2 of 27         Europe          Italy          Veneto   \n",
       "1      #45 of 2,496         Europe          Spain        Valencia   \n",
       "2               NaN  North America  United States       Wisconsin   \n",
       "3          #5 of 40  North America         Canada         Ontario   \n",
       "4               NaN         Europe          Italy  Emilia-Romagna   \n",
       "..              ...            ...            ...             ...   \n",
       "295             NaN  North America  United States     Connecticut   \n",
       "296     #9 of 2,496           Asia          China           Xi'an   \n",
       "297             NaN  North America  United States      Washington   \n",
       "298             NaN        Oceania      Australia        Canberra   \n",
       "299       #3 of 960  North America  United States         Alabama   \n",
       "\n",
       "    acceptance_rate publication           website             phone_no  \\\n",
       "0               15%      89,633         www.au.dk        +45 8942 1111   \n",
       "1               NaN      99,086       www.asu.edu           8552785080   \n",
       "2               57%      36,231        auburn.edu           3348444000   \n",
       "3               86%      97,754    www.anu.edu.au   +61 (0)2 6125 5111   \n",
       "4               11%      74,922       www.uab.cat        +34 935812222   \n",
       "..              ...         ...               ...                  ...   \n",
       "295              7%      96,097   www.xjtu.edu.cn    +86 (29) 266 8830   \n",
       "296             NaN     198,095      www.yale.edu           2034324771   \n",
       "297             56%      95,497  www.yonsei.ac.kr    +82 (2) 2123 2114   \n",
       "298             33%      41,257          yorku.ca    +1 (416) 736 5002   \n",
       "299             52%     176,136    www.zju.edu.cn  +86 (571) 8795 1020   \n",
       "\n",
       "                                               address  publication_rank  \n",
       "0    Nordre Ringgade 1\\n Aarhus, Central Denmark Re...              29.0  \n",
       "1    University Drive and Mill Avenue\\n Tempe, Ariz...               5.0  \n",
       "2    Samford Hall\\n Auburn, Alabama, 36849 \\nUnited...             188.0  \n",
       "3    Ellery Crescent, Acton\\n Canberra, Australian ...               8.0  \n",
       "4    Campus de Bellaterra, Edificio A\\n Cerdanyola ...              65.0  \n",
       "..                                                 ...               ...  \n",
       "295  28 Xianning Road\\n Xi'an, Shaanxi, 710049 \\nChina              12.0  \n",
       "296  Woodbridge Hall\\n New Haven, Connecticut, 0652...             216.0  \n",
       "297  134 Sinchon-dong, Seodaemun-gu\\n Seoul, Seoul,...              13.0  \n",
       "298  4700 Keele Street\\n Toronto, Ontario, M3J 1P3 ...             179.0  \n",
       "299  38 Zheda Road, Xihu\\n Hangzhou, Zhejiang, 3100...             229.0  \n",
       "\n",
       "[300 rows x 13 columns]"
      ]
     },
     "execution_count": 15,
     "metadata": {},
     "output_type": "execute_result"
    }
   ],
   "source": [
    "# rank the data frame 'data' in descending order based on 'publication'\n",
    "# 'method = min' assigns the minimum rank to highest equal value of `publication`\n",
    "data['publication_rank'] = data['publication'].rank(ascending = 0,method = 'min')\n",
    "data"
   ]
  },
  {
   "attachments": {},
   "cell_type": "markdown",
   "metadata": {},
   "source": [
    "From the above data frame , we can see that `BMI = 44.395875` is repeating thrice; thus the method = \"min\" will assign the minumum rank(=1) to all the three values of BMI. The rank `4` will be assigned to the second largest value of BMI and so on.Thus, there is no rank aqual to 2 and 3."
   ]
  },
  {
   "cell_type": "code",
   "execution_count": 16,
   "metadata": {},
   "outputs": [
    {
     "data": {
      "text/html": [
       "<div>\n",
       "<style scoped>\n",
       "    .dataframe tbody tr th:only-of-type {\n",
       "        vertical-align: middle;\n",
       "    }\n",
       "\n",
       "    .dataframe tbody tr th {\n",
       "        vertical-align: top;\n",
       "    }\n",
       "\n",
       "    .dataframe thead th {\n",
       "        text-align: right;\n",
       "    }\n",
       "</style>\n",
       "<table border=\"1\" class=\"dataframe\">\n",
       "  <thead>\n",
       "    <tr style=\"text-align: right;\">\n",
       "      <th></th>\n",
       "      <th>name</th>\n",
       "      <th>world_ranking</th>\n",
       "      <th>region_ranking</th>\n",
       "      <th>country_ranking</th>\n",
       "      <th>region</th>\n",
       "      <th>country</th>\n",
       "      <th>city\\state</th>\n",
       "      <th>acceptance_rate</th>\n",
       "      <th>publication</th>\n",
       "      <th>website</th>\n",
       "      <th>phone_no</th>\n",
       "      <th>address</th>\n",
       "      <th>publication_rank</th>\n",
       "      <th>publication_rank_dense</th>\n",
       "    </tr>\n",
       "  </thead>\n",
       "  <tbody>\n",
       "    <tr>\n",
       "      <th>0</th>\n",
       "      <td>Aarhus University</td>\n",
       "      <td>#150 of 14,131</td>\n",
       "      <td>#44 of 2,785</td>\n",
       "      <td>#2 of 27</td>\n",
       "      <td>Europe</td>\n",
       "      <td>Italy</td>\n",
       "      <td>Veneto</td>\n",
       "      <td>15%</td>\n",
       "      <td>89,633</td>\n",
       "      <td>www.au.dk</td>\n",
       "      <td>+45 8942 1111</td>\n",
       "      <td>Nordre Ringgade 1\\n Aarhus, Central Denmark Re...</td>\n",
       "      <td>29.0</td>\n",
       "      <td>272.0</td>\n",
       "    </tr>\n",
       "    <tr>\n",
       "      <th>1</th>\n",
       "      <td>Arizona State University - Tempe</td>\n",
       "      <td>#61 of 14,131</td>\n",
       "      <td>#48 of 2,597</td>\n",
       "      <td>#45 of 2,496</td>\n",
       "      <td>Europe</td>\n",
       "      <td>Spain</td>\n",
       "      <td>Valencia</td>\n",
       "      <td>NaN</td>\n",
       "      <td>99,086</td>\n",
       "      <td>www.asu.edu</td>\n",
       "      <td>8552785080</td>\n",
       "      <td>University Drive and Mill Avenue\\n Tempe, Ariz...</td>\n",
       "      <td>5.0</td>\n",
       "      <td>296.0</td>\n",
       "    </tr>\n",
       "    <tr>\n",
       "      <th>2</th>\n",
       "      <td>Auburn University</td>\n",
       "      <td>NaN</td>\n",
       "      <td>NaN</td>\n",
       "      <td>NaN</td>\n",
       "      <td>North America</td>\n",
       "      <td>United States</td>\n",
       "      <td>Wisconsin</td>\n",
       "      <td>57%</td>\n",
       "      <td>36,231</td>\n",
       "      <td>auburn.edu</td>\n",
       "      <td>3348444000</td>\n",
       "      <td>Samford Hall\\n Auburn, Alabama, 36849 \\nUnited...</td>\n",
       "      <td>188.0</td>\n",
       "      <td>113.0</td>\n",
       "    </tr>\n",
       "    <tr>\n",
       "      <th>3</th>\n",
       "      <td>Australian National University</td>\n",
       "      <td>#88 of 14,131</td>\n",
       "      <td>#5 of 59</td>\n",
       "      <td>#5 of 40</td>\n",
       "      <td>North America</td>\n",
       "      <td>Canada</td>\n",
       "      <td>Ontario</td>\n",
       "      <td>86%</td>\n",
       "      <td>97,754</td>\n",
       "      <td>www.anu.edu.au</td>\n",
       "      <td>+61 (0)2 6125 5111</td>\n",
       "      <td>Ellery Crescent, Acton\\n Canberra, Australian ...</td>\n",
       "      <td>8.0</td>\n",
       "      <td>293.0</td>\n",
       "    </tr>\n",
       "    <tr>\n",
       "      <th>4</th>\n",
       "      <td>Autonomous University of Barcelona</td>\n",
       "      <td>NaN</td>\n",
       "      <td>NaN</td>\n",
       "      <td>NaN</td>\n",
       "      <td>Europe</td>\n",
       "      <td>Italy</td>\n",
       "      <td>Emilia-Romagna</td>\n",
       "      <td>11%</td>\n",
       "      <td>74,922</td>\n",
       "      <td>www.uab.cat</td>\n",
       "      <td>+34 935812222</td>\n",
       "      <td>Campus de Bellaterra, Edificio A\\n Cerdanyola ...</td>\n",
       "      <td>65.0</td>\n",
       "      <td>236.0</td>\n",
       "    </tr>\n",
       "    <tr>\n",
       "      <th>...</th>\n",
       "      <td>...</td>\n",
       "      <td>...</td>\n",
       "      <td>...</td>\n",
       "      <td>...</td>\n",
       "      <td>...</td>\n",
       "      <td>...</td>\n",
       "      <td>...</td>\n",
       "      <td>...</td>\n",
       "      <td>...</td>\n",
       "      <td>...</td>\n",
       "      <td>...</td>\n",
       "      <td>...</td>\n",
       "      <td>...</td>\n",
       "      <td>...</td>\n",
       "    </tr>\n",
       "    <tr>\n",
       "      <th>295</th>\n",
       "      <td>Xi'an Jiaotong University</td>\n",
       "      <td>NaN</td>\n",
       "      <td>NaN</td>\n",
       "      <td>NaN</td>\n",
       "      <td>North America</td>\n",
       "      <td>United States</td>\n",
       "      <td>Connecticut</td>\n",
       "      <td>7%</td>\n",
       "      <td>96,097</td>\n",
       "      <td>www.xjtu.edu.cn</td>\n",
       "      <td>+86 (29) 266 8830</td>\n",
       "      <td>28 Xianning Road\\n Xi'an, Shaanxi, 710049 \\nChina</td>\n",
       "      <td>12.0</td>\n",
       "      <td>289.0</td>\n",
       "    </tr>\n",
       "    <tr>\n",
       "      <th>296</th>\n",
       "      <td>Yale University</td>\n",
       "      <td>#11 of 14,131</td>\n",
       "      <td>#9 of 2,597</td>\n",
       "      <td>#9 of 2,496</td>\n",
       "      <td>Asia</td>\n",
       "      <td>China</td>\n",
       "      <td>Xi'an</td>\n",
       "      <td>NaN</td>\n",
       "      <td>198,095</td>\n",
       "      <td>www.yale.edu</td>\n",
       "      <td>2034324771</td>\n",
       "      <td>Woodbridge Hall\\n New Haven, Connecticut, 0652...</td>\n",
       "      <td>216.0</td>\n",
       "      <td>85.0</td>\n",
       "    </tr>\n",
       "    <tr>\n",
       "      <th>297</th>\n",
       "      <td>Yonsei University</td>\n",
       "      <td>NaN</td>\n",
       "      <td>NaN</td>\n",
       "      <td>NaN</td>\n",
       "      <td>North America</td>\n",
       "      <td>United States</td>\n",
       "      <td>Washington</td>\n",
       "      <td>56%</td>\n",
       "      <td>95,497</td>\n",
       "      <td>www.yonsei.ac.kr</td>\n",
       "      <td>+82 (2) 2123 2114</td>\n",
       "      <td>134 Sinchon-dong, Seodaemun-gu\\n Seoul, Seoul,...</td>\n",
       "      <td>13.0</td>\n",
       "      <td>288.0</td>\n",
       "    </tr>\n",
       "    <tr>\n",
       "      <th>298</th>\n",
       "      <td>York University</td>\n",
       "      <td>NaN</td>\n",
       "      <td>NaN</td>\n",
       "      <td>NaN</td>\n",
       "      <td>Oceania</td>\n",
       "      <td>Australia</td>\n",
       "      <td>Canberra</td>\n",
       "      <td>33%</td>\n",
       "      <td>41,257</td>\n",
       "      <td>yorku.ca</td>\n",
       "      <td>+1 (416) 736 5002</td>\n",
       "      <td>4700 Keele Street\\n Toronto, Ontario, M3J 1P3 ...</td>\n",
       "      <td>179.0</td>\n",
       "      <td>122.0</td>\n",
       "    </tr>\n",
       "    <tr>\n",
       "      <th>299</th>\n",
       "      <td>Zhejiang University</td>\n",
       "      <td>#109 of 14,131</td>\n",
       "      <td>#7 of 5,830</td>\n",
       "      <td>#3 of 960</td>\n",
       "      <td>North America</td>\n",
       "      <td>United States</td>\n",
       "      <td>Alabama</td>\n",
       "      <td>52%</td>\n",
       "      <td>176,136</td>\n",
       "      <td>www.zju.edu.cn</td>\n",
       "      <td>+86 (571) 8795 1020</td>\n",
       "      <td>38 Zheda Road, Xihu\\n Hangzhou, Zhejiang, 3100...</td>\n",
       "      <td>229.0</td>\n",
       "      <td>72.0</td>\n",
       "    </tr>\n",
       "  </tbody>\n",
       "</table>\n",
       "<p>300 rows × 14 columns</p>\n",
       "</div>"
      ],
      "text/plain": [
       "                                   name   world_ranking region_ranking  \\\n",
       "0                     Aarhus University  #150 of 14,131   #44 of 2,785   \n",
       "1      Arizona State University - Tempe   #61 of 14,131   #48 of 2,597   \n",
       "2                     Auburn University             NaN            NaN   \n",
       "3        Australian National University   #88 of 14,131       #5 of 59   \n",
       "4    Autonomous University of Barcelona             NaN            NaN   \n",
       "..                                  ...             ...            ...   \n",
       "295           Xi'an Jiaotong University             NaN            NaN   \n",
       "296                     Yale University   #11 of 14,131    #9 of 2,597   \n",
       "297                   Yonsei University             NaN            NaN   \n",
       "298                     York University             NaN            NaN   \n",
       "299                 Zhejiang University  #109 of 14,131    #7 of 5,830   \n",
       "\n",
       "    country_ranking         region        country      city\\state  \\\n",
       "0          #2 of 27         Europe          Italy          Veneto   \n",
       "1      #45 of 2,496         Europe          Spain        Valencia   \n",
       "2               NaN  North America  United States       Wisconsin   \n",
       "3          #5 of 40  North America         Canada         Ontario   \n",
       "4               NaN         Europe          Italy  Emilia-Romagna   \n",
       "..              ...            ...            ...             ...   \n",
       "295             NaN  North America  United States     Connecticut   \n",
       "296     #9 of 2,496           Asia          China           Xi'an   \n",
       "297             NaN  North America  United States      Washington   \n",
       "298             NaN        Oceania      Australia        Canberra   \n",
       "299       #3 of 960  North America  United States         Alabama   \n",
       "\n",
       "    acceptance_rate publication           website             phone_no  \\\n",
       "0               15%      89,633         www.au.dk        +45 8942 1111   \n",
       "1               NaN      99,086       www.asu.edu           8552785080   \n",
       "2               57%      36,231        auburn.edu           3348444000   \n",
       "3               86%      97,754    www.anu.edu.au   +61 (0)2 6125 5111   \n",
       "4               11%      74,922       www.uab.cat        +34 935812222   \n",
       "..              ...         ...               ...                  ...   \n",
       "295              7%      96,097   www.xjtu.edu.cn    +86 (29) 266 8830   \n",
       "296             NaN     198,095      www.yale.edu           2034324771   \n",
       "297             56%      95,497  www.yonsei.ac.kr    +82 (2) 2123 2114   \n",
       "298             33%      41,257          yorku.ca    +1 (416) 736 5002   \n",
       "299             52%     176,136    www.zju.edu.cn  +86 (571) 8795 1020   \n",
       "\n",
       "                                               address  publication_rank  \\\n",
       "0    Nordre Ringgade 1\\n Aarhus, Central Denmark Re...              29.0   \n",
       "1    University Drive and Mill Avenue\\n Tempe, Ariz...               5.0   \n",
       "2    Samford Hall\\n Auburn, Alabama, 36849 \\nUnited...             188.0   \n",
       "3    Ellery Crescent, Acton\\n Canberra, Australian ...               8.0   \n",
       "4    Campus de Bellaterra, Edificio A\\n Cerdanyola ...              65.0   \n",
       "..                                                 ...               ...   \n",
       "295  28 Xianning Road\\n Xi'an, Shaanxi, 710049 \\nChina              12.0   \n",
       "296  Woodbridge Hall\\n New Haven, Connecticut, 0652...             216.0   \n",
       "297  134 Sinchon-dong, Seodaemun-gu\\n Seoul, Seoul,...              13.0   \n",
       "298  4700 Keele Street\\n Toronto, Ontario, M3J 1P3 ...             179.0   \n",
       "299  38 Zheda Road, Xihu\\n Hangzhou, Zhejiang, 3100...             229.0   \n",
       "\n",
       "     publication_rank_dense  \n",
       "0                     272.0  \n",
       "1                     296.0  \n",
       "2                     113.0  \n",
       "3                     293.0  \n",
       "4                     236.0  \n",
       "..                      ...  \n",
       "295                   289.0  \n",
       "296                    85.0  \n",
       "297                   288.0  \n",
       "298                   122.0  \n",
       "299                    72.0  \n",
       "\n",
       "[300 rows x 14 columns]"
      ]
     },
     "execution_count": 16,
     "metadata": {},
     "output_type": "execute_result"
    }
   ],
   "source": [
    "# method = 'dense' assigns some rank to all the same BMI values\n",
    "data['publication_rank_dense'] = data['publication'].rank(method = 'dense')\n",
    "data"
   ]
  },
  {
   "attachments": {},
   "cell_type": "markdown",
   "metadata": {},
   "source": [
    "- Here , dense method assigns minimum rank (=1) to minimum value (=9.089335) of the BMI. Rank 2 will be assigned to BMI value greater than min=9.089335 and so on.Thus , no rank is skipped in the dense method. \n",
    "8. __To check for missing Values__\n",
    "<!-- - We shall import a new dataset. -->"
   ]
  },
  {
   "cell_type": "code",
   "execution_count": 17,
   "metadata": {},
   "outputs": [
    {
     "data": {
      "text/plain": [
       "name                        0\n",
       "world_ranking             101\n",
       "region_ranking            101\n",
       "country_ranking           101\n",
       "region                      0\n",
       "country                     0\n",
       "city\\state                  0\n",
       "acceptance_rate            76\n",
       "publication                 0\n",
       "website                     6\n",
       "phone_no                    4\n",
       "address                     0\n",
       "publication_rank            0\n",
       "publication_rank_dense      0\n",
       "dtype: int64"
      ]
     },
     "execution_count": 17,
     "metadata": {},
     "output_type": "execute_result"
    }
   ],
   "source": [
    "data.isnull().sum()"
   ]
  },
  {
   "attachments": {},
   "cell_type": "markdown",
   "metadata": {},
   "source": [
    "- The function `.isnull` check whether the data data is missing.The `sum()` sums the number of `True` values in a column. Th final output gives the number of missing values in each column.\n",
    "- Here, we see there are 4 missing values in the `phone_no` column and one missing value in other columns.\n",
    "\n"
   ]
  },
  {
   "cell_type": "code",
   "execution_count": 18,
   "metadata": {},
   "outputs": [
    {
     "name": "stderr",
     "output_type": "stream",
     "text": [
      "C:\\Users\\user\\AppData\\Local\\Temp/ipykernel_27144/3071025938.py:3: UserWarning: Pandas doesn't allow columns to be created via a new attribute name - see https://pandas.pydata.org/pandas-docs/stable/indexing.html#attribute-access\n",
      "  df.C = df.A + df.B\n"
     ]
    },
    {
     "data": {
      "text/html": [
       "<div>\n",
       "<style scoped>\n",
       "    .dataframe tbody tr th:only-of-type {\n",
       "        vertical-align: middle;\n",
       "    }\n",
       "\n",
       "    .dataframe tbody tr th {\n",
       "        vertical-align: top;\n",
       "    }\n",
       "\n",
       "    .dataframe thead th {\n",
       "        text-align: right;\n",
       "    }\n",
       "</style>\n",
       "<table border=\"1\" class=\"dataframe\">\n",
       "  <thead>\n",
       "    <tr style=\"text-align: right;\">\n",
       "      <th></th>\n",
       "      <th>A</th>\n",
       "      <th>B</th>\n",
       "    </tr>\n",
       "  </thead>\n",
       "  <tbody>\n",
       "    <tr>\n",
       "      <th>0</th>\n",
       "      <td>1</td>\n",
       "      <td>1</td>\n",
       "    </tr>\n",
       "    <tr>\n",
       "      <th>1</th>\n",
       "      <td>2</td>\n",
       "      <td>0</td>\n",
       "    </tr>\n",
       "    <tr>\n",
       "      <th>2</th>\n",
       "      <td>3</td>\n",
       "      <td>1</td>\n",
       "    </tr>\n",
       "    <tr>\n",
       "      <th>3</th>\n",
       "      <td>4</td>\n",
       "      <td>1</td>\n",
       "    </tr>\n",
       "    <tr>\n",
       "      <th>4</th>\n",
       "      <td>5</td>\n",
       "      <td>0</td>\n",
       "    </tr>\n",
       "  </tbody>\n",
       "</table>\n",
       "</div>"
      ],
      "text/plain": [
       "   A  B\n",
       "0  1  1\n",
       "1  2  0\n",
       "2  3  1\n",
       "3  4  1\n",
       "4  5  0"
      ]
     },
     "execution_count": 18,
     "metadata": {},
     "output_type": "execute_result"
    }
   ],
   "source": [
    "data = {'A':[1,2,3,4,5], 'B':[1,0,1,1,0]}\n",
    "df = pd.DataFrame(data=data)\n",
    "df.C = df.A + df.B\n",
    "df # Note that pandas doesnt allow to create new columns by using names."
   ]
  },
  {
   "cell_type": "code",
   "execution_count": null,
   "metadata": {},
   "outputs": [],
   "source": [
    "df = pd.DataFrame({'a':[1,2,3],\n",
    "                   'b':[4,5,6,],\n",
    "                   'c':[7,8,9,]})\n",
    "\n",
    "df_col_reversed = df.loc[:, ::-1] # reverse column order\n",
    "df_row_reversed = df.loc[::-1, :] # reverse row order"
   ]
  },
  {
   "attachments": {},
   "cell_type": "markdown",
   "metadata": {},
   "source": [
    "5. __Reading Data from Diffent source values__\n",
    "1.  Reading an `.xlsx` file.\n",
    "- Pd can read excel but its formulas complicate things.\n",
    "`pd.read_excel('example.xlsx')`\n",
    "2. Read a Zip File.\n",
    "\n",
    "```py\n",
    "import zipfile\n",
    "with zipfile.ZipFile('data.zip') as z:\n",
    "    with z.open('exmaple.csv') as f:\n",
    "        file = pd.read_csv(f) \n",
    "        print(file.head())\n",
    "```\n",
    "3. Read `.html` file\n",
    "`df = pd.read_html(\"index.html\",header=1,index_col=0)`\n",
    "4. Read `.txt` file.\n",
    "`pd.read_csv('example.txt',sep='\\t')`\n",
    "- You need to include if they are separators in the text files.\n",
    "5. Read `.json` file\n",
    "`pd.read_json('example.json',)`\n",
    "- mostly used in IOT\n",
    "6. Read `.xml` file\n",
    "```xml\n",
    "<?xml version=\"1.0\" encoding=\"UTF-8\"?>\n",
    "<root>\n",
    "\t<bathrooms>\n",
    "\t\t<n35237 type=\"number\">1.0</n35237>\n",
    "\t\t<n32238 type=\"number\">3.0</n32238>\n",
    "\t\t<n44699 type=\"number\">nan</n44699>\n",
    "\t</bathrooms>\n",
    "\t<price>\n",
    "\t\t<n35237 type=\"number\">7020000.0</n35237>\n",
    "\t\t<n32238 type=\"number\">10000000.0</n32238>\n",
    "\t\t<n44699 type=\"number\">4128000.0</n44699>\n",
    "\t</price>\n",
    "\t<property_id>\n",
    "\t\t<n35237 type=\"number\">35237.0</n35237>\n",
    "\t\t<n32238 type=\"number\">32238.0</n32238>\n",
    "\t\t<n44699 type=\"number\">44699.0</n44699>\n",
    "\t</property_id>\n",
    "</root>\n",
    "```\n",
    "\n",
    "```py\n",
    "import xml.etree.ElementTree as ET\n",
    "import pandas as pd\n",
    "\n",
    "xml_data = open('properties.xml', 'r').read()  # Read file\n",
    "root = ET.XML(xml_data)  # Parse XML\n",
    "\n",
    "data = []\n",
    "cols = []\n",
    "for i, child in enumerate(root):\n",
    "    data.append([subchild.text for subchild in child])\n",
    "    cols.append(child.tag)\n",
    "\n",
    "df = pd.DataFrame(data).T  # Write in DF and transpose it\n",
    "df.columns = cols  # Update column names\n",
    "print(df)\n",
    "```\n",
    "\n"
   ]
  },
  {
   "attachments": {},
   "cell_type": "markdown",
   "metadata": {},
   "source": [
    "### 1.2.8 Concatenation\n",
    "- There various ways in which pandas combines data frames and then rearanges them.\n",
    "\n",
    "## Table of Content\n",
    "1. Concatenation\n",
    "2. Merging and Joining \n",
    "3. Reshaping \n",
    "4. Pivot Table\n",
    "5. Duplicate \n",
    "6. Map and Replace\n",
    "7. Groupby in Pandas\n",
    "\n",
    "1. __Concatenate__\n",
    "- Concatenation is a process of joining objects along a particular axis, with set logic applied along the other axes, if any (a series doesnt have any other axes)\n",
    "- The main parameters involved in pandas concatenation are - objects axis,handling of other axes, and keys.\n",
    "- `pd.concat(objs,axis=0,join='outer',join_axes=None,ignore_index=False)`\n",
    "objs - This is a sequence or mapping of series, Dataframe, or Panel Object.\n",
    "- axis - `{0,1,...}`, default 0.This is the axis to concentrate along. \n",
    "- join `{'inner':'outer'}`, default 'outer'.How to handle indexes on other axis.Outer for union and inner for intersection\n",
    "- ignore_index - boolean, default false.If True , do not use the index alues on the concatenation axis.The resulting axis will be labeled 0,...,n-1. \n",
    "- join_axes - This is the list of index objects. Specific indexes to use for the other(n-1) axes insteadof performing inner/outer set logic.\n",
    "#### Concatenate Panda Series \n"
   ]
  },
  {
   "cell_type": "code",
   "execution_count": 20,
   "metadata": {},
   "outputs": [],
   "source": [
    "# Create series \n",
    "series_a = pd.Series([101,102,103,104,105,106,107,108,109])\n",
    "series_b = pd.Series([111,112,113,114,115,116,117,118,119])"
   ]
  },
  {
   "cell_type": "code",
   "execution_count": 21,
   "metadata": {},
   "outputs": [
    {
     "data": {
      "text/plain": [
       "0    101\n",
       "1    102\n",
       "2    103\n",
       "3    104\n",
       "4    105\n",
       "5    106\n",
       "6    107\n",
       "7    108\n",
       "8    109\n",
       "0    111\n",
       "1    112\n",
       "2    113\n",
       "3    114\n",
       "4    115\n",
       "5    116\n",
       "6    117\n",
       "7    118\n",
       "8    119\n",
       "dtype: int64"
      ]
     },
     "execution_count": 21,
     "metadata": {},
     "output_type": "execute_result"
    }
   ],
   "source": [
    "# concatenate series in pandas\n",
    "pd.concat([series_a,series_b])"
   ]
  },
  {
   "attachments": {},
   "cell_type": "markdown",
   "metadata": {},
   "source": [
    "### Add hierarchical index on Panda Series"
   ]
  },
  {
   "cell_type": "code",
   "execution_count": 23,
   "metadata": {},
   "outputs": [
    {
     "data": {
      "text/plain": [
       "a  0    101\n",
       "   1    102\n",
       "   2    103\n",
       "   3    104\n",
       "   4    105\n",
       "   5    106\n",
       "   6    107\n",
       "   7    108\n",
       "   8    109\n",
       "b  0    111\n",
       "   1    112\n",
       "   2    113\n",
       "   3    114\n",
       "   4    115\n",
       "   5    116\n",
       "   6    117\n",
       "   7    118\n",
       "   8    119\n",
       "dtype: int64"
      ]
     },
     "execution_count": 23,
     "metadata": {},
     "output_type": "execute_result"
    }
   ],
   "source": [
    "pd.concat([series_a,series_b],keys=['a','b']) #----> this will indicate which part the series come from."
   ]
  },
  {
   "attachments": {},
   "cell_type": "markdown",
   "metadata": {},
   "source": [
    "#### Label the index"
   ]
  },
  {
   "cell_type": "code",
   "execution_count": 24,
   "metadata": {},
   "outputs": [
    {
     "data": {
      "text/plain": [
       "Series  Row ID\n",
       "a       0         101\n",
       "        1         102\n",
       "        2         103\n",
       "        3         104\n",
       "        4         105\n",
       "        5         106\n",
       "        6         107\n",
       "        7         108\n",
       "        8         109\n",
       "b       0         111\n",
       "        1         112\n",
       "        2         113\n",
       "        3         114\n",
       "        4         115\n",
       "        5         116\n",
       "        6         117\n",
       "        7         118\n",
       "        8         119\n",
       "dtype: int64"
      ]
     },
     "execution_count": 24,
     "metadata": {},
     "output_type": "execute_result"
    }
   ],
   "source": [
    "# 'names' parameter assigns labels to 'key' and 'indices'\n",
    "pd.concat([series_a,series_b],keys=['a','b'],names=[\"Series\",\"Row ID\"])"
   ]
  },
  {
   "attachments": {},
   "cell_type": "markdown",
   "metadata": {},
   "source": [
    "#### Concatenating data frames.\n",
    "![Data Frame Concatenation](../../images/dfconcat.jpg)"
   ]
  },
  {
   "cell_type": "code",
   "execution_count": 5,
   "metadata": {},
   "outputs": [],
   "source": [
    "df_1 = pd.DataFrame({\n",
    "    'Name':['eby','edwin','charle'],\n",
    "    'Company':['Ghent','dfdf','ArithmeticError'],\n",
    "    'Salary':[20,40,56],\n",
    "},index=[101,102,103])\n",
    "df_2 = pd.DataFrame({\n",
    "    'Name':['abby','edgar','earle'],\n",
    "    'Company':['Ghnt','df','AritcError'],\n",
    "    'Salary':[24,70,46],\n",
    "},index=[101,102,103]) #specify indices"
   ]
  },
  {
   "attachments": {},
   "cell_type": "markdown",
   "metadata": {},
   "source": [
    "#### Using `.concat()`"
   ]
  },
  {
   "cell_type": "code",
   "execution_count": 6,
   "metadata": {},
   "outputs": [
    {
     "data": {
      "text/html": [
       "<div>\n",
       "<style scoped>\n",
       "    .dataframe tbody tr th:only-of-type {\n",
       "        vertical-align: middle;\n",
       "    }\n",
       "\n",
       "    .dataframe tbody tr th {\n",
       "        vertical-align: top;\n",
       "    }\n",
       "\n",
       "    .dataframe thead th {\n",
       "        text-align: right;\n",
       "    }\n",
       "</style>\n",
       "<table border=\"1\" class=\"dataframe\">\n",
       "  <thead>\n",
       "    <tr style=\"text-align: right;\">\n",
       "      <th></th>\n",
       "      <th>Name</th>\n",
       "      <th>Company</th>\n",
       "      <th>Salary</th>\n",
       "    </tr>\n",
       "  </thead>\n",
       "  <tbody>\n",
       "    <tr>\n",
       "      <th>101</th>\n",
       "      <td>eby</td>\n",
       "      <td>Ghent</td>\n",
       "      <td>20</td>\n",
       "    </tr>\n",
       "    <tr>\n",
       "      <th>102</th>\n",
       "      <td>edwin</td>\n",
       "      <td>dfdf</td>\n",
       "      <td>40</td>\n",
       "    </tr>\n",
       "    <tr>\n",
       "      <th>103</th>\n",
       "      <td>charle</td>\n",
       "      <td>ArithmeticError</td>\n",
       "      <td>56</td>\n",
       "    </tr>\n",
       "    <tr>\n",
       "      <th>101</th>\n",
       "      <td>abby</td>\n",
       "      <td>Ghnt</td>\n",
       "      <td>24</td>\n",
       "    </tr>\n",
       "    <tr>\n",
       "      <th>102</th>\n",
       "      <td>edgar</td>\n",
       "      <td>df</td>\n",
       "      <td>70</td>\n",
       "    </tr>\n",
       "    <tr>\n",
       "      <th>103</th>\n",
       "      <td>earle</td>\n",
       "      <td>AritcError</td>\n",
       "      <td>46</td>\n",
       "    </tr>\n",
       "  </tbody>\n",
       "</table>\n",
       "</div>"
      ],
      "text/plain": [
       "       Name          Company  Salary\n",
       "101     eby            Ghent      20\n",
       "102   edwin             dfdf      40\n",
       "103  charle  ArithmeticError      56\n",
       "101    abby             Ghnt      24\n",
       "102   edgar               df      70\n",
       "103   earle       AritcError      46"
      ]
     },
     "execution_count": 6,
     "metadata": {},
     "output_type": "execute_result"
    }
   ],
   "source": [
    "pd.concat([df_1,df_2]) #this will just add the second at the bottom "
   ]
  },
  {
   "attachments": {},
   "cell_type": "markdown",
   "metadata": {},
   "source": [
    "##### Hozrizontal Concatenation\n",
    "- They must have the same number of rows."
   ]
  },
  {
   "cell_type": "code",
   "execution_count": 7,
   "metadata": {},
   "outputs": [
    {
     "data": {
      "text/html": [
       "<div>\n",
       "<style scoped>\n",
       "    .dataframe tbody tr th:only-of-type {\n",
       "        vertical-align: middle;\n",
       "    }\n",
       "\n",
       "    .dataframe tbody tr th {\n",
       "        vertical-align: top;\n",
       "    }\n",
       "\n",
       "    .dataframe thead th {\n",
       "        text-align: right;\n",
       "    }\n",
       "</style>\n",
       "<table border=\"1\" class=\"dataframe\">\n",
       "  <thead>\n",
       "    <tr style=\"text-align: right;\">\n",
       "      <th></th>\n",
       "      <th>Name</th>\n",
       "      <th>Company</th>\n",
       "      <th>Salary</th>\n",
       "      <th>Name</th>\n",
       "      <th>Company</th>\n",
       "      <th>Salary</th>\n",
       "    </tr>\n",
       "  </thead>\n",
       "  <tbody>\n",
       "    <tr>\n",
       "      <th>101</th>\n",
       "      <td>eby</td>\n",
       "      <td>Ghent</td>\n",
       "      <td>20</td>\n",
       "      <td>abby</td>\n",
       "      <td>Ghnt</td>\n",
       "      <td>24</td>\n",
       "    </tr>\n",
       "    <tr>\n",
       "      <th>102</th>\n",
       "      <td>edwin</td>\n",
       "      <td>dfdf</td>\n",
       "      <td>40</td>\n",
       "      <td>edgar</td>\n",
       "      <td>df</td>\n",
       "      <td>70</td>\n",
       "    </tr>\n",
       "    <tr>\n",
       "      <th>103</th>\n",
       "      <td>charle</td>\n",
       "      <td>ArithmeticError</td>\n",
       "      <td>56</td>\n",
       "      <td>earle</td>\n",
       "      <td>AritcError</td>\n",
       "      <td>46</td>\n",
       "    </tr>\n",
       "  </tbody>\n",
       "</table>\n",
       "</div>"
      ],
      "text/plain": [
       "       Name          Company  Salary   Name     Company  Salary\n",
       "101     eby            Ghent      20   abby        Ghnt      24\n",
       "102   edwin             dfdf      40  edgar          df      70\n",
       "103  charle  ArithmeticError      56  earle  AritcError      46"
      ]
     },
     "execution_count": 7,
     "metadata": {},
     "output_type": "execute_result"
    }
   ],
   "source": [
    "pd.concat([df_1,df_2],axis=1)"
   ]
  },
  {
   "attachments": {},
   "cell_type": "markdown",
   "metadata": {},
   "source": [
    "##### Ignoring Indexes\n",
    "- If `ignore_index = True`, Pandas does not use the index values along the concatenation axis. The resulting series/data frame will be labeled 0, ..., n - 1."
   ]
  },
  {
   "cell_type": "code",
   "execution_count": 8,
   "metadata": {},
   "outputs": [
    {
     "data": {
      "text/html": [
       "<div>\n",
       "<style scoped>\n",
       "    .dataframe tbody tr th:only-of-type {\n",
       "        vertical-align: middle;\n",
       "    }\n",
       "\n",
       "    .dataframe tbody tr th {\n",
       "        vertical-align: top;\n",
       "    }\n",
       "\n",
       "    .dataframe thead th {\n",
       "        text-align: right;\n",
       "    }\n",
       "</style>\n",
       "<table border=\"1\" class=\"dataframe\">\n",
       "  <thead>\n",
       "    <tr style=\"text-align: right;\">\n",
       "      <th></th>\n",
       "      <th>Name</th>\n",
       "      <th>Company</th>\n",
       "      <th>Salary</th>\n",
       "    </tr>\n",
       "  </thead>\n",
       "  <tbody>\n",
       "    <tr>\n",
       "      <th>0</th>\n",
       "      <td>eby</td>\n",
       "      <td>Ghent</td>\n",
       "      <td>20</td>\n",
       "    </tr>\n",
       "    <tr>\n",
       "      <th>1</th>\n",
       "      <td>edwin</td>\n",
       "      <td>dfdf</td>\n",
       "      <td>40</td>\n",
       "    </tr>\n",
       "    <tr>\n",
       "      <th>2</th>\n",
       "      <td>charle</td>\n",
       "      <td>ArithmeticError</td>\n",
       "      <td>56</td>\n",
       "    </tr>\n",
       "    <tr>\n",
       "      <th>3</th>\n",
       "      <td>abby</td>\n",
       "      <td>Ghnt</td>\n",
       "      <td>24</td>\n",
       "    </tr>\n",
       "    <tr>\n",
       "      <th>4</th>\n",
       "      <td>edgar</td>\n",
       "      <td>df</td>\n",
       "      <td>70</td>\n",
       "    </tr>\n",
       "    <tr>\n",
       "      <th>5</th>\n",
       "      <td>earle</td>\n",
       "      <td>AritcError</td>\n",
       "      <td>46</td>\n",
       "    </tr>\n",
       "  </tbody>\n",
       "</table>\n",
       "</div>"
      ],
      "text/plain": [
       "     Name          Company  Salary\n",
       "0     eby            Ghent      20\n",
       "1   edwin             dfdf      40\n",
       "2  charle  ArithmeticError      56\n",
       "3    abby             Ghnt      24\n",
       "4   edgar               df      70\n",
       "5   earle       AritcError      46"
      ]
     },
     "execution_count": 8,
     "metadata": {},
     "output_type": "execute_result"
    }
   ],
   "source": [
    "pd.concat([df_1,df_2],ignore_index=True)"
   ]
  },
  {
   "attachments": {},
   "cell_type": "markdown",
   "metadata": {},
   "source": [
    "##### Concatenation with `.append()`"
   ]
  },
  {
   "cell_type": "code",
   "execution_count": 9,
   "metadata": {},
   "outputs": [
    {
     "data": {
      "text/html": [
       "<div>\n",
       "<style scoped>\n",
       "    .dataframe tbody tr th:only-of-type {\n",
       "        vertical-align: middle;\n",
       "    }\n",
       "\n",
       "    .dataframe tbody tr th {\n",
       "        vertical-align: top;\n",
       "    }\n",
       "\n",
       "    .dataframe thead th {\n",
       "        text-align: right;\n",
       "    }\n",
       "</style>\n",
       "<table border=\"1\" class=\"dataframe\">\n",
       "  <thead>\n",
       "    <tr style=\"text-align: right;\">\n",
       "      <th></th>\n",
       "      <th>Name</th>\n",
       "      <th>Company</th>\n",
       "      <th>Salary</th>\n",
       "    </tr>\n",
       "  </thead>\n",
       "  <tbody>\n",
       "    <tr>\n",
       "      <th>101</th>\n",
       "      <td>eby</td>\n",
       "      <td>Ghent</td>\n",
       "      <td>20</td>\n",
       "    </tr>\n",
       "    <tr>\n",
       "      <th>102</th>\n",
       "      <td>edwin</td>\n",
       "      <td>dfdf</td>\n",
       "      <td>40</td>\n",
       "    </tr>\n",
       "    <tr>\n",
       "      <th>103</th>\n",
       "      <td>charle</td>\n",
       "      <td>ArithmeticError</td>\n",
       "      <td>56</td>\n",
       "    </tr>\n",
       "    <tr>\n",
       "      <th>101</th>\n",
       "      <td>abby</td>\n",
       "      <td>Ghnt</td>\n",
       "      <td>24</td>\n",
       "    </tr>\n",
       "    <tr>\n",
       "      <th>102</th>\n",
       "      <td>edgar</td>\n",
       "      <td>df</td>\n",
       "      <td>70</td>\n",
       "    </tr>\n",
       "    <tr>\n",
       "      <th>103</th>\n",
       "      <td>earle</td>\n",
       "      <td>AritcError</td>\n",
       "      <td>46</td>\n",
       "    </tr>\n",
       "  </tbody>\n",
       "</table>\n",
       "</div>"
      ],
      "text/plain": [
       "       Name          Company  Salary\n",
       "101     eby            Ghent      20\n",
       "102   edwin             dfdf      40\n",
       "103  charle  ArithmeticError      56\n",
       "101    abby             Ghnt      24\n",
       "102   edgar               df      70\n",
       "103   earle       AritcError      46"
      ]
     },
     "execution_count": 9,
     "metadata": {},
     "output_type": "execute_result"
    }
   ],
   "source": [
    "df_1.append(df_2)"
   ]
  },
  {
   "cell_type": "code",
   "execution_count": 11,
   "metadata": {},
   "outputs": [
    {
     "data": {
      "text/html": [
       "<div>\n",
       "<style scoped>\n",
       "    .dataframe tbody tr th:only-of-type {\n",
       "        vertical-align: middle;\n",
       "    }\n",
       "\n",
       "    .dataframe tbody tr th {\n",
       "        vertical-align: top;\n",
       "    }\n",
       "\n",
       "    .dataframe thead th {\n",
       "        text-align: right;\n",
       "    }\n",
       "</style>\n",
       "<table border=\"1\" class=\"dataframe\">\n",
       "  <thead>\n",
       "    <tr style=\"text-align: right;\">\n",
       "      <th></th>\n",
       "      <th>col1</th>\n",
       "      <th>col2</th>\n",
       "    </tr>\n",
       "  </thead>\n",
       "  <tbody>\n",
       "    <tr>\n",
       "      <th>0</th>\n",
       "      <td>a</td>\n",
       "      <td>0</td>\n",
       "    </tr>\n",
       "    <tr>\n",
       "      <th>1</th>\n",
       "      <td>b</td>\n",
       "      <td>1</td>\n",
       "    </tr>\n",
       "    <tr>\n",
       "      <th>2</th>\n",
       "      <td>c</td>\n",
       "      <td>2</td>\n",
       "    </tr>\n",
       "    <tr>\n",
       "      <th>3</th>\n",
       "      <td>d</td>\n",
       "      <td>3</td>\n",
       "    </tr>\n",
       "  </tbody>\n",
       "</table>\n",
       "</div>"
      ],
      "text/plain": [
       "  col1  col2\n",
       "0    a     0\n",
       "1    b     1\n",
       "2    c     2\n",
       "3    d     3"
      ]
     },
     "execution_count": 11,
     "metadata": {},
     "output_type": "execute_result"
    }
   ],
   "source": [
    "import numpy as np\n",
    "ser1 = pd.Series(list('abcd'))\n",
    "ser2 = pd.Series(np.arange(4))\n",
    "df = pd.concat([ser1, ser2], axis=1)\n",
    "df = pd.DataFrame({'col1': ser1, 'col2': ser2})\n",
    "df"
   ]
  },
  {
   "attachments": {},
   "cell_type": "markdown",
   "metadata": {},
   "source": [
    "2. __Merging and Joining__"
   ]
  },
  {
   "cell_type": "code",
   "execution_count": 3,
   "metadata": {},
   "outputs": [],
   "source": [
    "df_1 = pd.DataFrame({\n",
    "    'Food_Product':['eby','edwin','charle'],\n",
    "    'Brand':['Ghent','dfdf','ArithmeticError'],\n",
    "    'Product_ID':[101,102,103],\n",
    "})\n",
    "df_2 = pd.DataFrame({\n",
    "    'Food_Product':['ebdy','eddwin','cddddharle'],\n",
    "    'Brand':['Ghent','ddddfdf','ArithdddddddmeticError'],\n",
    "    'Product_ID':[101,103,102],\n",
    "})"
   ]
  },
  {
   "cell_type": "code",
   "execution_count": 4,
   "metadata": {},
   "outputs": [
    {
     "data": {
      "text/html": [
       "<div>\n",
       "<style scoped>\n",
       "    .dataframe tbody tr th:only-of-type {\n",
       "        vertical-align: middle;\n",
       "    }\n",
       "\n",
       "    .dataframe tbody tr th {\n",
       "        vertical-align: top;\n",
       "    }\n",
       "\n",
       "    .dataframe thead th {\n",
       "        text-align: right;\n",
       "    }\n",
       "</style>\n",
       "<table border=\"1\" class=\"dataframe\">\n",
       "  <thead>\n",
       "    <tr style=\"text-align: right;\">\n",
       "      <th></th>\n",
       "      <th>Food_Product_x</th>\n",
       "      <th>Brand_x</th>\n",
       "      <th>Product_ID</th>\n",
       "      <th>Food_Product_y</th>\n",
       "      <th>Brand_y</th>\n",
       "    </tr>\n",
       "  </thead>\n",
       "  <tbody>\n",
       "    <tr>\n",
       "      <th>0</th>\n",
       "      <td>eby</td>\n",
       "      <td>Ghent</td>\n",
       "      <td>101</td>\n",
       "      <td>ebdy</td>\n",
       "      <td>Ghent</td>\n",
       "    </tr>\n",
       "    <tr>\n",
       "      <th>1</th>\n",
       "      <td>edwin</td>\n",
       "      <td>dfdf</td>\n",
       "      <td>102</td>\n",
       "      <td>cddddharle</td>\n",
       "      <td>ArithdddddddmeticError</td>\n",
       "    </tr>\n",
       "    <tr>\n",
       "      <th>2</th>\n",
       "      <td>charle</td>\n",
       "      <td>ArithmeticError</td>\n",
       "      <td>103</td>\n",
       "      <td>eddwin</td>\n",
       "      <td>ddddfdf</td>\n",
       "    </tr>\n",
       "  </tbody>\n",
       "</table>\n",
       "</div>"
      ],
      "text/plain": [
       "  Food_Product_x          Brand_x  Product_ID Food_Product_y  \\\n",
       "0            eby            Ghent         101           ebdy   \n",
       "1          edwin             dfdf         102     cddddharle   \n",
       "2         charle  ArithmeticError         103         eddwin   \n",
       "\n",
       "                  Brand_y  \n",
       "0                   Ghent  \n",
       "1  ArithdddddddmeticError  \n",
       "2                 ddddfdf  "
      ]
     },
     "execution_count": 4,
     "metadata": {},
     "output_type": "execute_result"
    }
   ],
   "source": [
    "pd.merge(df_1,df_2,on='Product_ID') # This will merge based on the product ID. so every row with the same ID is merged"
   ]
  },
  {
   "attachments": {},
   "cell_type": "markdown",
   "metadata": {},
   "source": [
    "- The output displays the common 'Product_ID' in the two data frames.\n",
    "#### Merging Multiple Keys\n",
    "\n"
   ]
  },
  {
   "cell_type": "code",
   "execution_count": 5,
   "metadata": {},
   "outputs": [
    {
     "data": {
      "text/html": [
       "<div>\n",
       "<style scoped>\n",
       "    .dataframe tbody tr th:only-of-type {\n",
       "        vertical-align: middle;\n",
       "    }\n",
       "\n",
       "    .dataframe tbody tr th {\n",
       "        vertical-align: top;\n",
       "    }\n",
       "\n",
       "    .dataframe thead th {\n",
       "        text-align: right;\n",
       "    }\n",
       "</style>\n",
       "<table border=\"1\" class=\"dataframe\">\n",
       "  <thead>\n",
       "    <tr style=\"text-align: right;\">\n",
       "      <th></th>\n",
       "      <th>Food_Product</th>\n",
       "      <th>Brand_x</th>\n",
       "      <th>Product_ID</th>\n",
       "      <th>Brand_y</th>\n",
       "    </tr>\n",
       "  </thead>\n",
       "  <tbody>\n",
       "  </tbody>\n",
       "</table>\n",
       "</div>"
      ],
      "text/plain": [
       "Empty DataFrame\n",
       "Columns: [Food_Product, Brand_x, Product_ID, Brand_y]\n",
       "Index: []"
      ]
     },
     "execution_count": 5,
     "metadata": {},
     "output_type": "execute_result"
    }
   ],
   "source": [
    "pd.merge(df_1,df_2,on=['Product_ID','Food_Product'])"
   ]
  },
  {
   "attachments": {},
   "cell_type": "markdown",
   "metadata": {},
   "source": [
    "#### Merging on basis of index.\n",
    "- This function helps to merge two dataframes, based on the index of both of them.\n",
    "- This could be used to put two data frames side by side in their original forms."
   ]
  },
  {
   "cell_type": "code",
   "execution_count": 6,
   "metadata": {},
   "outputs": [
    {
     "data": {
      "text/html": [
       "<div>\n",
       "<style scoped>\n",
       "    .dataframe tbody tr th:only-of-type {\n",
       "        vertical-align: middle;\n",
       "    }\n",
       "\n",
       "    .dataframe tbody tr th {\n",
       "        vertical-align: top;\n",
       "    }\n",
       "\n",
       "    .dataframe thead th {\n",
       "        text-align: right;\n",
       "    }\n",
       "</style>\n",
       "<table border=\"1\" class=\"dataframe\">\n",
       "  <thead>\n",
       "    <tr style=\"text-align: right;\">\n",
       "      <th></th>\n",
       "      <th>Food_Product_x</th>\n",
       "      <th>Brand_x</th>\n",
       "      <th>Product_ID_x</th>\n",
       "      <th>Food_Product_y</th>\n",
       "      <th>Brand_y</th>\n",
       "      <th>Product_ID_y</th>\n",
       "    </tr>\n",
       "  </thead>\n",
       "  <tbody>\n",
       "    <tr>\n",
       "      <th>0</th>\n",
       "      <td>eby</td>\n",
       "      <td>Ghent</td>\n",
       "      <td>101</td>\n",
       "      <td>ebdy</td>\n",
       "      <td>Ghent</td>\n",
       "      <td>101</td>\n",
       "    </tr>\n",
       "    <tr>\n",
       "      <th>1</th>\n",
       "      <td>edwin</td>\n",
       "      <td>dfdf</td>\n",
       "      <td>102</td>\n",
       "      <td>eddwin</td>\n",
       "      <td>ddddfdf</td>\n",
       "      <td>103</td>\n",
       "    </tr>\n",
       "    <tr>\n",
       "      <th>2</th>\n",
       "      <td>charle</td>\n",
       "      <td>ArithmeticError</td>\n",
       "      <td>103</td>\n",
       "      <td>cddddharle</td>\n",
       "      <td>ArithdddddddmeticError</td>\n",
       "      <td>102</td>\n",
       "    </tr>\n",
       "  </tbody>\n",
       "</table>\n",
       "</div>"
      ],
      "text/plain": [
       "  Food_Product_x          Brand_x  Product_ID_x Food_Product_y  \\\n",
       "0            eby            Ghent           101           ebdy   \n",
       "1          edwin             dfdf           102         eddwin   \n",
       "2         charle  ArithmeticError           103     cddddharle   \n",
       "\n",
       "                  Brand_y  Product_ID_y  \n",
       "0                   Ghent           101  \n",
       "1                 ddddfdf           103  \n",
       "2  ArithdddddddmeticError           102  "
      ]
     },
     "execution_count": 6,
     "metadata": {},
     "output_type": "execute_result"
    }
   ],
   "source": [
    "pd.merge(df_1,df_2,right_index=True,left_index=True)"
   ]
  },
  {
   "attachments": {},
   "cell_type": "markdown",
   "metadata": {},
   "source": [
    "- `merge()` allows you to perform natural join,lfet join ,right join,and full outer join in pandas.\n",
    "#### Understanding the different types of merge\n",
    "- Natural join: it keeps only rows that much from the data frames. (how='inner').\n",
    "- Full outer join: To include all the rows of your data frame x and onlya those from y that match(how='left').\n",
    "- Right outer join: To include all the rows of your data frame y and only those from x that match.(how='right').\n",
    "![IMage](../../images/merge-types.jpg)\n",
    "- __Inner Join__\n",
    "    - It returns only the rows in which the left table has matching keys in the right table."
   ]
  },
  {
   "cell_type": "code",
   "execution_count": 7,
   "metadata": {},
   "outputs": [
    {
     "name": "stdout",
     "output_type": "stream",
     "text": [
      "  Food_Product_x          Brand_x  Product_ID Food_Product_y  \\\n",
      "0            eby            Ghent         101           ebdy   \n",
      "1          edwin             dfdf         102     cddddharle   \n",
      "2         charle  ArithmeticError         103         eddwin   \n",
      "\n",
      "                  Brand_y  \n",
      "0                   Ghent  \n",
      "1  ArithdddddddmeticError  \n",
      "2                 ddddfdf  \n"
     ]
    }
   ],
   "source": [
    "print(pd.merge(df_1,df_2,on='Product_ID',how='inner'))"
   ]
  },
  {
   "cell_type": "code",
   "execution_count": 3,
   "metadata": {},
   "outputs": [
    {
     "data": {
      "text/html": [
       "<div>\n",
       "<style scoped>\n",
       "    .dataframe tbody tr th:only-of-type {\n",
       "        vertical-align: middle;\n",
       "    }\n",
       "\n",
       "    .dataframe tbody tr th {\n",
       "        vertical-align: top;\n",
       "    }\n",
       "\n",
       "    .dataframe thead th {\n",
       "        text-align: right;\n",
       "    }\n",
       "</style>\n",
       "<table border=\"1\" class=\"dataframe\">\n",
       "  <thead>\n",
       "    <tr style=\"text-align: right;\">\n",
       "      <th></th>\n",
       "    </tr>\n",
       "  </thead>\n",
       "  <tbody>\n",
       "    <tr>\n",
       "      <th>0</th>\n",
       "    </tr>\n",
       "    <tr>\n",
       "      <th>1</th>\n",
       "    </tr>\n",
       "    <tr>\n",
       "      <th>2</th>\n",
       "    </tr>\n",
       "    <tr>\n",
       "      <th>3</th>\n",
       "    </tr>\n",
       "    <tr>\n",
       "      <th>4</th>\n",
       "    </tr>\n",
       "    <tr>\n",
       "      <th>5</th>\n",
       "    </tr>\n",
       "    <tr>\n",
       "      <th>6</th>\n",
       "    </tr>\n",
       "    <tr>\n",
       "      <th>7</th>\n",
       "    </tr>\n",
       "    <tr>\n",
       "      <th>8</th>\n",
       "    </tr>\n",
       "    <tr>\n",
       "      <th>9</th>\n",
       "    </tr>\n",
       "  </tbody>\n",
       "</table>\n",
       "</div>"
      ],
      "text/plain": [
       "Empty DataFrame\n",
       "Columns: []\n",
       "Index: [0, 1, 2, 3, 4, 5, 6, 7, 8, 9]"
      ]
     },
     "execution_count": 3,
     "metadata": {},
     "output_type": "execute_result"
    }
   ],
   "source": [
    "data1={'Physics': [77, 75, 100, 10, 59], 'Chemistry': [85, 70, 99, 30, 80]}\n",
    "df1=pd.DataFrame(data=data1)\n",
    "data2={'Student_ID': [0, 1, 2, 3, 4], 'Maths': [80, 90, 88, 25, 90]}\n",
    "df2=pd.DataFrame(data=data2)\n",
    "df3=pd.concat([df1, df2], join='inner', axis=0, ignore_index=True)\n",
    "df3"
   ]
  },
  {
   "cell_type": "code",
   "execution_count": 4,
   "metadata": {},
   "outputs": [
    {
     "data": {
      "text/html": [
       "<div>\n",
       "<style scoped>\n",
       "    .dataframe tbody tr th:only-of-type {\n",
       "        vertical-align: middle;\n",
       "    }\n",
       "\n",
       "    .dataframe tbody tr th {\n",
       "        vertical-align: top;\n",
       "    }\n",
       "\n",
       "    .dataframe thead th {\n",
       "        text-align: right;\n",
       "    }\n",
       "</style>\n",
       "<table border=\"1\" class=\"dataframe\">\n",
       "  <thead>\n",
       "    <tr style=\"text-align: right;\">\n",
       "      <th></th>\n",
       "      <th>Student_ID</th>\n",
       "      <th>Maths</th>\n",
       "      <th>CGPA</th>\n",
       "    </tr>\n",
       "  </thead>\n",
       "  <tbody>\n",
       "    <tr>\n",
       "      <th>0</th>\n",
       "      <td>0</td>\n",
       "      <td>4.00</td>\n",
       "      <td>NaN</td>\n",
       "    </tr>\n",
       "    <tr>\n",
       "      <th>1</th>\n",
       "      <td>1</td>\n",
       "      <td>52.00</td>\n",
       "      <td>NaN</td>\n",
       "    </tr>\n",
       "    <tr>\n",
       "      <th>2</th>\n",
       "      <td>2</td>\n",
       "      <td>5.00</td>\n",
       "      <td>NaN</td>\n",
       "    </tr>\n",
       "    <tr>\n",
       "      <th>3</th>\n",
       "      <td>3</td>\n",
       "      <td>2.50</td>\n",
       "      <td>4.50</td>\n",
       "    </tr>\n",
       "    <tr>\n",
       "      <th>4</th>\n",
       "      <td>4</td>\n",
       "      <td>3.00</td>\n",
       "      <td>3.00</td>\n",
       "    </tr>\n",
       "    <tr>\n",
       "      <th>5</th>\n",
       "      <td>5</td>\n",
       "      <td>3.90</td>\n",
       "      <td>NaN</td>\n",
       "    </tr>\n",
       "    <tr>\n",
       "      <th>6</th>\n",
       "      <td>6</td>\n",
       "      <td>2.80</td>\n",
       "      <td>4.37</td>\n",
       "    </tr>\n",
       "    <tr>\n",
       "      <th>7</th>\n",
       "      <td>7</td>\n",
       "      <td>4.75</td>\n",
       "      <td>NaN</td>\n",
       "    </tr>\n",
       "    <tr>\n",
       "      <th>8</th>\n",
       "      <td>8</td>\n",
       "      <td>3.68</td>\n",
       "      <td>3.50</td>\n",
       "    </tr>\n",
       "    <tr>\n",
       "      <th>9</th>\n",
       "      <td>9</td>\n",
       "      <td>5.00</td>\n",
       "      <td>NaN</td>\n",
       "    </tr>\n",
       "    <tr>\n",
       "      <th>10</th>\n",
       "      <td>10</td>\n",
       "      <td>4.80</td>\n",
       "      <td>4.00</td>\n",
       "    </tr>\n",
       "  </tbody>\n",
       "</table>\n",
       "</div>"
      ],
      "text/plain": [
       "    Student_ID  Maths  CGPA\n",
       "0            0   4.00   NaN\n",
       "1            1  52.00   NaN\n",
       "2            2   5.00   NaN\n",
       "3            3   2.50  4.50\n",
       "4            4   3.00  3.00\n",
       "5            5   3.90   NaN\n",
       "6            6   2.80  4.37\n",
       "7            7   4.75   NaN\n",
       "8            8   3.68  3.50\n",
       "9            9   5.00   NaN\n",
       "10          10   4.80  4.00"
      ]
     },
     "execution_count": 4,
     "metadata": {},
     "output_type": "execute_result"
    }
   ],
   "source": [
    "data1={'Student_ID': [3, 4, 6, 8, 10], 'CGPA': [4.5, 3, 4.37, 3.5, 4]}\n",
    "df1=pd.DataFrame(data=data1)\n",
    "data2={'Student_ID': [0, 1, 2, 3, 4, 5, 6, 7, 8, 9, 10], \n",
    "'Maths': [4,52, 5, 2.5, 3, 3.9, 2.8, 4.75, 3.68, 5, 4.8]}\n",
    "df2=pd.DataFrame(data=data2)\n",
    "df3=pd.merge(df2, df1, on='Student_ID', how='left') \n",
    "df3"
   ]
  },
  {
   "cell_type": "code",
   "execution_count": 5,
   "metadata": {},
   "outputs": [
    {
     "name": "stdout",
     "output_type": "stream",
     "text": [
      "              Marks      \n",
      "              Alisa Bobby\n",
      "After Course     95    89\n",
      "Before Course    82    78\n"
     ]
    }
   ],
   "source": [
    "header = pd.MultiIndex.from_product([['Before Course','After Course'],['Marks']])\n",
    "d=([[82,95],[78,89]])\n",
    " \n",
    "my_df = pd.DataFrame(d,\n",
    " index=['Alisa','Bobby'],\n",
    " columns=header)\n",
    "\n",
    "print(my_df.stack(level=0).unstack(level=0))"
   ]
  },
  {
   "cell_type": "code",
   "execution_count": 6,
   "metadata": {},
   "outputs": [
    {
     "data": {
      "text/html": [
       "<div>\n",
       "<style scoped>\n",
       "    .dataframe tbody tr th:only-of-type {\n",
       "        vertical-align: middle;\n",
       "    }\n",
       "\n",
       "    .dataframe tbody tr th {\n",
       "        vertical-align: top;\n",
       "    }\n",
       "\n",
       "    .dataframe thead th {\n",
       "        text-align: right;\n",
       "    }\n",
       "</style>\n",
       "<table border=\"1\" class=\"dataframe\">\n",
       "  <thead>\n",
       "    <tr style=\"text-align: right;\">\n",
       "      <th></th>\n",
       "      <th>Rating</th>\n",
       "    </tr>\n",
       "    <tr>\n",
       "      <th>Gender</th>\n",
       "      <th></th>\n",
       "    </tr>\n",
       "  </thead>\n",
       "  <tbody>\n",
       "    <tr>\n",
       "      <th>Female</th>\n",
       "      <td>3.20</td>\n",
       "    </tr>\n",
       "    <tr>\n",
       "      <th>Male</th>\n",
       "      <td>3.75</td>\n",
       "    </tr>\n",
       "  </tbody>\n",
       "</table>\n",
       "</div>"
      ],
      "text/plain": [
       "        Rating\n",
       "Gender        \n",
       "Female    3.20\n",
       "Male      3.75"
      ]
     },
     "execution_count": 6,
     "metadata": {},
     "output_type": "execute_result"
    }
   ],
   "source": [
    "df = pd.DataFrame({\"Gender\": [\"Male\", \"Male\", \"Female\", \"Female\", \"Female\", \"Female\", \"Male\", \"Male\", \"Female\"],\n",
    " \"Movie_Genre\": [\"Action\", \"Comedy\", \"Drama\", \"Action\", \"Comedy\", \"Drama\", \"Action\", \"Drama\", \"Action\"],\n",
    " \"Rating\": [1, 5, 3, 2, 3, 4, 4, 5, 4]})\n",
    "pd.pivot_table(data=df, index='Gender', values='Rating')"
   ]
  },
  {
   "cell_type": "code",
   "execution_count": 7,
   "metadata": {},
   "outputs": [
    {
     "data": {
      "text/html": [
       "<div>\n",
       "<style scoped>\n",
       "    .dataframe tbody tr th:only-of-type {\n",
       "        vertical-align: middle;\n",
       "    }\n",
       "\n",
       "    .dataframe tbody tr th {\n",
       "        vertical-align: top;\n",
       "    }\n",
       "\n",
       "    .dataframe thead th {\n",
       "        text-align: right;\n",
       "    }\n",
       "</style>\n",
       "<table border=\"1\" class=\"dataframe\">\n",
       "  <thead>\n",
       "    <tr style=\"text-align: right;\">\n",
       "      <th></th>\n",
       "      <th>Rating</th>\n",
       "    </tr>\n",
       "    <tr>\n",
       "      <th>Gender</th>\n",
       "      <th></th>\n",
       "    </tr>\n",
       "  </thead>\n",
       "  <tbody>\n",
       "    <tr>\n",
       "      <th>Female</th>\n",
       "      <td>3.20</td>\n",
       "    </tr>\n",
       "    <tr>\n",
       "      <th>Male</th>\n",
       "      <td>3.75</td>\n",
       "    </tr>\n",
       "  </tbody>\n",
       "</table>\n",
       "</div>"
      ],
      "text/plain": [
       "        Rating\n",
       "Gender        \n",
       "Female    3.20\n",
       "Male      3.75"
      ]
     },
     "execution_count": 7,
     "metadata": {},
     "output_type": "execute_result"
    }
   ],
   "source": [
    "pd.pivot_table(data=df, index='Gender', values='Rating', aggfunc='mean')"
   ]
  },
  {
   "cell_type": "code",
   "execution_count": 8,
   "metadata": {},
   "outputs": [
    {
     "data": {
      "text/html": [
       "<div>\n",
       "<style scoped>\n",
       "    .dataframe tbody tr th:only-of-type {\n",
       "        vertical-align: middle;\n",
       "    }\n",
       "\n",
       "    .dataframe tbody tr th {\n",
       "        vertical-align: top;\n",
       "    }\n",
       "\n",
       "    .dataframe thead th {\n",
       "        text-align: right;\n",
       "    }\n",
       "</style>\n",
       "<table border=\"1\" class=\"dataframe\">\n",
       "  <thead>\n",
       "    <tr style=\"text-align: right;\">\n",
       "      <th></th>\n",
       "      <th>Rating</th>\n",
       "    </tr>\n",
       "    <tr>\n",
       "      <th>Gender</th>\n",
       "      <th></th>\n",
       "    </tr>\n",
       "  </thead>\n",
       "  <tbody>\n",
       "    <tr>\n",
       "      <th>Female</th>\n",
       "      <td>3.20</td>\n",
       "    </tr>\n",
       "    <tr>\n",
       "      <th>Male</th>\n",
       "      <td>3.75</td>\n",
       "    </tr>\n",
       "  </tbody>\n",
       "</table>\n",
       "</div>"
      ],
      "text/plain": [
       "        Rating\n",
       "Gender        \n",
       "Female    3.20\n",
       "Male      3.75"
      ]
     },
     "execution_count": 8,
     "metadata": {},
     "output_type": "execute_result"
    }
   ],
   "source": [
    "pd.pivot_table(data=df, index='Gender', values='Rating')"
   ]
  },
  {
   "cell_type": "code",
   "execution_count": 10,
   "metadata": {},
   "outputs": [
    {
     "data": {
      "text/html": [
       "<div>\n",
       "<style scoped>\n",
       "    .dataframe tbody tr th:only-of-type {\n",
       "        vertical-align: middle;\n",
       "    }\n",
       "\n",
       "    .dataframe tbody tr th {\n",
       "        vertical-align: top;\n",
       "    }\n",
       "\n",
       "    .dataframe thead th {\n",
       "        text-align: right;\n",
       "    }\n",
       "</style>\n",
       "<table border=\"1\" class=\"dataframe\">\n",
       "  <thead>\n",
       "    <tr style=\"text-align: right;\">\n",
       "      <th></th>\n",
       "      <th></th>\n",
       "      <th>Rating</th>\n",
       "    </tr>\n",
       "    <tr>\n",
       "      <th>Gender</th>\n",
       "      <th>Movie_Genre</th>\n",
       "      <th></th>\n",
       "    </tr>\n",
       "  </thead>\n",
       "  <tbody>\n",
       "    <tr>\n",
       "      <th rowspan=\"3\" valign=\"top\">Female</th>\n",
       "      <th>Action</th>\n",
       "      <td>3.0</td>\n",
       "    </tr>\n",
       "    <tr>\n",
       "      <th>Comedy</th>\n",
       "      <td>3.0</td>\n",
       "    </tr>\n",
       "    <tr>\n",
       "      <th>Drama</th>\n",
       "      <td>3.5</td>\n",
       "    </tr>\n",
       "    <tr>\n",
       "      <th rowspan=\"3\" valign=\"top\">Male</th>\n",
       "      <th>Action</th>\n",
       "      <td>2.5</td>\n",
       "    </tr>\n",
       "    <tr>\n",
       "      <th>Comedy</th>\n",
       "      <td>5.0</td>\n",
       "    </tr>\n",
       "    <tr>\n",
       "      <th>Drama</th>\n",
       "      <td>5.0</td>\n",
       "    </tr>\n",
       "  </tbody>\n",
       "</table>\n",
       "</div>"
      ],
      "text/plain": [
       "                    Rating\n",
       "Gender Movie_Genre        \n",
       "Female Action          3.0\n",
       "       Comedy          3.0\n",
       "       Drama           3.5\n",
       "Male   Action          2.5\n",
       "       Comedy          5.0\n",
       "       Drama           5.0"
      ]
     },
     "execution_count": 10,
     "metadata": {},
     "output_type": "execute_result"
    }
   ],
   "source": [
    "pd.pivot_table(data=df, index=['Gender', 'Movie_Genre'] , values='Rating')"
   ]
  },
  {
   "cell_type": "code",
   "execution_count": 11,
   "metadata": {},
   "outputs": [
    {
     "data": {
      "text/html": [
       "<div>\n",
       "<style scoped>\n",
       "    .dataframe tbody tr th:only-of-type {\n",
       "        vertical-align: middle;\n",
       "    }\n",
       "\n",
       "    .dataframe tbody tr th {\n",
       "        vertical-align: top;\n",
       "    }\n",
       "\n",
       "    .dataframe thead th {\n",
       "        text-align: right;\n",
       "    }\n",
       "</style>\n",
       "<table border=\"1\" class=\"dataframe\">\n",
       "  <thead>\n",
       "    <tr style=\"text-align: right;\">\n",
       "      <th></th>\n",
       "      <th>Rating</th>\n",
       "    </tr>\n",
       "    <tr>\n",
       "      <th>Gender</th>\n",
       "      <th></th>\n",
       "    </tr>\n",
       "  </thead>\n",
       "  <tbody>\n",
       "    <tr>\n",
       "      <th>Female</th>\n",
       "      <td>16</td>\n",
       "    </tr>\n",
       "    <tr>\n",
       "      <th>Male</th>\n",
       "      <td>15</td>\n",
       "    </tr>\n",
       "  </tbody>\n",
       "</table>\n",
       "</div>"
      ],
      "text/plain": [
       "        Rating\n",
       "Gender        \n",
       "Female      16\n",
       "Male        15"
      ]
     },
     "execution_count": 11,
     "metadata": {},
     "output_type": "execute_result"
    }
   ],
   "source": [
    "pd.pivot_table(data=df, index='Gender' , values='Rating', aggfunc='sum')"
   ]
  },
  {
   "cell_type": "code",
   "execution_count": 12,
   "metadata": {},
   "outputs": [
    {
     "data": {
      "text/html": [
       "<div>\n",
       "<style scoped>\n",
       "    .dataframe tbody tr th:only-of-type {\n",
       "        vertical-align: middle;\n",
       "    }\n",
       "\n",
       "    .dataframe tbody tr th {\n",
       "        vertical-align: top;\n",
       "    }\n",
       "\n",
       "    .dataframe thead th {\n",
       "        text-align: right;\n",
       "    }\n",
       "</style>\n",
       "<table border=\"1\" class=\"dataframe\">\n",
       "  <thead>\n",
       "    <tr style=\"text-align: right;\">\n",
       "      <th></th>\n",
       "      <th></th>\n",
       "      <th>Rating</th>\n",
       "    </tr>\n",
       "    <tr>\n",
       "      <th>Gender</th>\n",
       "      <th>Movie_Genre</th>\n",
       "      <th></th>\n",
       "    </tr>\n",
       "  </thead>\n",
       "  <tbody>\n",
       "    <tr>\n",
       "      <th rowspan=\"3\" valign=\"top\">Female</th>\n",
       "      <th>Action</th>\n",
       "      <td>6</td>\n",
       "    </tr>\n",
       "    <tr>\n",
       "      <th>Comedy</th>\n",
       "      <td>3</td>\n",
       "    </tr>\n",
       "    <tr>\n",
       "      <th>Drama</th>\n",
       "      <td>7</td>\n",
       "    </tr>\n",
       "    <tr>\n",
       "      <th rowspan=\"3\" valign=\"top\">Male</th>\n",
       "      <th>Action</th>\n",
       "      <td>5</td>\n",
       "    </tr>\n",
       "    <tr>\n",
       "      <th>Comedy</th>\n",
       "      <td>5</td>\n",
       "    </tr>\n",
       "    <tr>\n",
       "      <th>Drama</th>\n",
       "      <td>5</td>\n",
       "    </tr>\n",
       "  </tbody>\n",
       "</table>\n",
       "</div>"
      ],
      "text/plain": [
       "                    Rating\n",
       "Gender Movie_Genre        \n",
       "Female Action            6\n",
       "       Comedy            3\n",
       "       Drama             7\n",
       "Male   Action            5\n",
       "       Comedy            5\n",
       "       Drama             5"
      ]
     },
     "execution_count": 12,
     "metadata": {},
     "output_type": "execute_result"
    }
   ],
   "source": [
    "# Get sum of both the genders ratings for each genre\n",
    "pd.pivot_table(data=df, index=['Gender', 'Movie_Genre'] , values='Rating', aggfunc='sum')"
   ]
  },
  {
   "cell_type": "code",
   "execution_count": 13,
   "metadata": {},
   "outputs": [
    {
     "data": {
      "text/plain": [
       "(4, 3)"
      ]
     },
     "execution_count": 13,
     "metadata": {},
     "output_type": "execute_result"
    }
   ],
   "source": [
    "df_employee = [('John', 3400, 'Sydeny'),\n",
    " ('Robert', 3000, 'Chicago'),\n",
    " ('Aadi', 1600, 'New York'),\n",
    " ('Robert', 3000, 'Chicago'),\n",
    " ('Robert', 3000, 'Chicago'),\n",
    " ('Robert', 3000, 'Texas'),\n",
    " ('Aadi', 4000, 'London'),\n",
    " ('Sachin', 3000, 'Chicago')]\n",
    "df_employee = pd.DataFrame(df_employee, columns=['Name', 'Salary', 'City'])\n",
    "df_employee[df_employee.duplicated('Name')].shape"
   ]
  },
  {
   "cell_type": "code",
   "execution_count": 23,
   "metadata": {},
   "outputs": [
    {
     "data": {
      "text/html": [
       "<div>\n",
       "<style scoped>\n",
       "    .dataframe tbody tr th:only-of-type {\n",
       "        vertical-align: middle;\n",
       "    }\n",
       "\n",
       "    .dataframe tbody tr th {\n",
       "        vertical-align: top;\n",
       "    }\n",
       "\n",
       "    .dataframe thead th {\n",
       "        text-align: right;\n",
       "    }\n",
       "</style>\n",
       "<table border=\"1\" class=\"dataframe\">\n",
       "  <thead>\n",
       "    <tr style=\"text-align: right;\">\n",
       "      <th></th>\n",
       "      <th>Student1</th>\n",
       "      <th>Student2</th>\n",
       "    </tr>\n",
       "  </thead>\n",
       "  <tbody>\n",
       "    <tr>\n",
       "      <th>name</th>\n",
       "      <td>Emma</td>\n",
       "      <td>Mike</td>\n",
       "    </tr>\n",
       "    <tr>\n",
       "      <th>age</th>\n",
       "      <td>27</td>\n",
       "      <td>22</td>\n",
       "    </tr>\n",
       "    <tr>\n",
       "      <th>sex</th>\n",
       "      <td>Female</td>\n",
       "      <td>Male</td>\n",
       "    </tr>\n",
       "  </tbody>\n",
       "</table>\n",
       "</div>"
      ],
      "text/plain": [
       "     Student1 Student2\n",
       "name     Emma     Mike\n",
       "age        27       22\n",
       "sex    Female     Male"
      ]
     },
     "execution_count": 23,
     "metadata": {},
     "output_type": "execute_result"
    }
   ],
   "source": [
    "data = {'Student1': {'name': 'Emma', 'age': '27', 'sex': 'Female'},\n",
    "'Student2': {'name': 'Mike', 'age': '22', 'sex': 'Male'}}\n",
    "df_students = pd.DataFrame(data=data)\n",
    "df_students"
   ]
  },
  {
   "cell_type": "code",
   "execution_count": 26,
   "metadata": {},
   "outputs": [
    {
     "data": {
      "text/html": [
       "<div>\n",
       "<style scoped>\n",
       "    .dataframe tbody tr th:only-of-type {\n",
       "        vertical-align: middle;\n",
       "    }\n",
       "\n",
       "    .dataframe tbody tr th {\n",
       "        vertical-align: top;\n",
       "    }\n",
       "\n",
       "    .dataframe thead th {\n",
       "        text-align: right;\n",
       "    }\n",
       "</style>\n",
       "<table border=\"1\" class=\"dataframe\">\n",
       "  <thead>\n",
       "    <tr style=\"text-align: right;\">\n",
       "      <th></th>\n",
       "      <th>Student1</th>\n",
       "      <th>Student2</th>\n",
       "    </tr>\n",
       "  </thead>\n",
       "  <tbody>\n",
       "    <tr>\n",
       "      <th>name</th>\n",
       "      <td>Emma</td>\n",
       "      <td>John</td>\n",
       "    </tr>\n",
       "    <tr>\n",
       "      <th>age</th>\n",
       "      <td>27</td>\n",
       "      <td>22</td>\n",
       "    </tr>\n",
       "    <tr>\n",
       "      <th>sex</th>\n",
       "      <td>Female</td>\n",
       "      <td>Male</td>\n",
       "    </tr>\n",
       "  </tbody>\n",
       "</table>\n",
       "</div>"
      ],
      "text/plain": [
       "     Student1 Student2\n",
       "name     Emma     John\n",
       "age        27       22\n",
       "sex    Female     Male"
      ]
     },
     "execution_count": 26,
     "metadata": {},
     "output_type": "execute_result"
    }
   ],
   "source": [
    "df_students['Student2'].replace('Mike', 'John', inplace=True)\n",
    "df_students"
   ]
  },
  {
   "cell_type": "code",
   "execution_count": null,
   "metadata": {},
   "outputs": [],
   "source": []
  }
 ],
 "metadata": {
  "kernelspec": {
   "display_name": "Python 3.9.7 ('base')",
   "language": "python",
   "name": "python3"
  },
  "language_info": {
   "codemirror_mode": {
    "name": "ipython",
    "version": 3
   },
   "file_extension": ".py",
   "mimetype": "text/x-python",
   "name": "python",
   "nbconvert_exporter": "python",
   "pygments_lexer": "ipython3",
   "version": "3.9.7 (default, Sep 16 2021, 16:59:28) [MSC v.1916 64 bit (AMD64)]"
  },
  "orig_nbformat": 4,
  "vscode": {
   "interpreter": {
    "hash": "ad2bdc8ecc057115af97d19610ffacc2b4e99fae6737bb82f5d7fb13d2f2c186"
   }
  }
 },
 "nbformat": 4,
 "nbformat_minor": 2
}
