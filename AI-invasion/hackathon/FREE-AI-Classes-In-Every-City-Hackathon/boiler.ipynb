{
 "cells": [
  {
   "cell_type": "markdown",
   "metadata": {},
   "source": [
    "## This is for data analysis. "
   ]
  },
  {
   "cell_type": "code",
   "execution_count": 2,
   "metadata": {},
   "outputs": [],
   "source": [
    "# Import required librairies\n",
    "import warnings\n",
    "import pandas as pd\n",
    "import seaborn as sns\n",
    "import numpy as np\n",
    "from sklearn.metrics import mean_absolute_error\n",
    "from sklearn.model_selection import train_test_split\n",
    "from sklearn.linear_model import LinearRegression\n",
    "import matplotlib.pyplot as pyplot\n",
    "# Remove warnings\n",
    "warnings.simplefilter(action='ignore', category=FutureWarning)"
   ]
  },
  {
   "cell_type": "code",
   "execution_count": 3,
   "metadata": {},
   "outputs": [],
   "source": [
    "# import datasets\n",
    "train = pd.read_csv('Train.csv')\n",
    "test = pd.read_csv('Test.csv')\n",
    "# final sample\n",
    "sample = pd.read_csv('SampleSubmission.csv')\n",
    "# column descripton\n",
    "variable = pd.read_csv('VariableDefinitions.csv') "
   ]
  },
  {
   "cell_type": "code",
   "execution_count": 14,
   "metadata": {},
   "outputs": [],
   "source": [
    "train.drop(columns=[\"VehicleID\"],inplace=True)\n",
    "test.drop(columns=[\"VehicleID\"],inplace=True)"
   ]
  },
  {
   "cell_type": "code",
   "execution_count": 18,
   "metadata": {},
   "outputs": [
    {
     "data": {
      "text/plain": [
       "Location       3\n",
       "Maker         55\n",
       "Model       1223\n",
       "Year          33\n",
       "Colour        21\n",
       "Type           3\n",
       "Distance    3144\n",
       "dtype: int64"
      ]
     },
     "execution_count": 18,
     "metadata": {},
     "output_type": "execute_result"
    }
   ],
   "source": [
    "train.select_dtypes(\"object\").nunique()"
   ]
  },
  {
   "cell_type": "code",
   "execution_count": 24,
   "metadata": {},
   "outputs": [
    {
     "name": "stdout",
     "output_type": "stream",
     "text": [
      "Black       2128\n",
      "Gray        1152\n",
      "Silver      1123\n",
      "White       1019\n",
      "Blue         554\n",
      "Red          478\n",
      "Gold         357\n",
      "Green        179\n",
      "Brown        114\n",
      "Burgandy      27\n",
      "Beige         25\n",
      "Purple        16\n",
      "Orange        11\n",
      "Yellow         7\n",
      "Pink           7\n",
      "Ivory          3\n",
      "Violet         1\n",
      "G              1\n",
      "Teal           1\n",
      "Mica           1\n",
      "Pearl          1\n",
      "Name: Colour, dtype: int64\n"
     ]
    }
   ],
   "source": [
    "# Checking the distribution of the categories\n",
    "print(train.Colour.value_counts())"
   ]
  },
  {
   "cell_type": "code",
   "execution_count": null,
   "metadata": {},
   "outputs": [],
   "source": [
    "# replace colours with other"
   ]
  },
  {
   "cell_type": "code",
   "execution_count": null,
   "metadata": {},
   "outputs": [],
   "source": [
    "# print(train.Location.value_counts())\n",
    "# print(train.Maker.value_counts())\n",
    "# print(train.Type.value_counts())"
   ]
  }
 ],
 "metadata": {
  "kernelspec": {
   "display_name": "Python 3.9.7 ('base')",
   "language": "python",
   "name": "python3"
  },
  "language_info": {
   "codemirror_mode": {
    "name": "ipython",
    "version": 3
   },
   "file_extension": ".py",
   "mimetype": "text/x-python",
   "name": "python",
   "nbconvert_exporter": "python",
   "pygments_lexer": "ipython3",
   "version": "3.9.7"
  },
  "orig_nbformat": 4,
  "vscode": {
   "interpreter": {
    "hash": "ad2bdc8ecc057115af97d19610ffacc2b4e99fae6737bb82f5d7fb13d2f2c186"
   }
  }
 },
 "nbformat": 4,
 "nbformat_minor": 2
}
