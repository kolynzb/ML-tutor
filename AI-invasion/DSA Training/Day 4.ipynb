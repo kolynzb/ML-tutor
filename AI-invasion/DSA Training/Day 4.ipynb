{
 "cells": [
  {
   "cell_type": "markdown",
   "id": "1de803fb",
   "metadata": {},
   "source": [
    "# Prepare Data\n",
    "## - Import\n",
    "## - Explore: Null Values, Low and High Cardnality, Leakage, Multilineaity\n",
    "## - Split\n",
    "# Build model\n",
    "## - Baseline model\n",
    "## - Iterate\n",
    "## - Evaluate\n",
    "# Communicate\n",
    "## - Equation or Graphical\n"
   ]
  },
  {
   "cell_type": "code",
   "execution_count": null,
   "id": "fadc468f",
   "metadata": {},
   "outputs": [],
   "source": []
  },
  {
   "cell_type": "markdown",
   "id": "fdeec87a",
   "metadata": {},
   "source": [
    "# Prepare Data"
   ]
  },
  {
   "cell_type": "code",
   "execution_count": 34,
   "id": "f860e1da",
   "metadata": {},
   "outputs": [],
   "source": [
    "# Importing required librairies\n",
    "import warnings\n",
    "import pandas as pd\n",
    "import seaborn as sns\n",
    "import numpy as np\n",
    "from sklearn.metrics import mean_absolute_error\n",
    "from sklearn.model_selection import train_test_split\n",
    "from sklearn.linear_model import LinearRegression\n",
    "import matplotlib.pyplot as plt\n",
    "warnings.simplefilter(action=\"ignore\", category=FutureWarning)"
   ]
  },
  {
   "cell_type": "code",
   "execution_count": null,
   "id": "f1fc3624",
   "metadata": {},
   "outputs": [],
   "source": []
  },
  {
   "cell_type": "code",
   "execution_count": 35,
   "id": "01137f03",
   "metadata": {},
   "outputs": [],
   "source": [
    "# Reading csv file\n",
    "df = pd.read_csv(\"mexico-real-estate.csv\")"
   ]
  },
  {
   "cell_type": "code",
   "execution_count": 36,
   "id": "32894867",
   "metadata": {},
   "outputs": [
    {
     "data": {
      "text/html": [
       "<div>\n",
       "<style scoped>\n",
       "    .dataframe tbody tr th:only-of-type {\n",
       "        vertical-align: middle;\n",
       "    }\n",
       "\n",
       "    .dataframe tbody tr th {\n",
       "        vertical-align: top;\n",
       "    }\n",
       "\n",
       "    .dataframe thead th {\n",
       "        text-align: right;\n",
       "    }\n",
       "</style>\n",
       "<table border=\"1\" class=\"dataframe\">\n",
       "  <thead>\n",
       "    <tr style=\"text-align: right;\">\n",
       "      <th></th>\n",
       "      <th>created_on</th>\n",
       "      <th>operation</th>\n",
       "      <th>property_type</th>\n",
       "      <th>place_name</th>\n",
       "      <th>place_with_parent_names</th>\n",
       "      <th>geonames_id</th>\n",
       "      <th>lat-lon</th>\n",
       "      <th>price</th>\n",
       "      <th>currency</th>\n",
       "      <th>price_aprox_local_currency</th>\n",
       "      <th>...</th>\n",
       "      <th>surface_covered_in_m2</th>\n",
       "      <th>price_usd_per_m2</th>\n",
       "      <th>price_per_m2</th>\n",
       "      <th>floor</th>\n",
       "      <th>rooms</th>\n",
       "      <th>expenses</th>\n",
       "      <th>properati_url</th>\n",
       "      <th>description</th>\n",
       "      <th>title</th>\n",
       "      <th>image_thumbnail</th>\n",
       "    </tr>\n",
       "  </thead>\n",
       "  <tbody>\n",
       "    <tr>\n",
       "      <th>0</th>\n",
       "      <td>2013-09-19</td>\n",
       "      <td>rent</td>\n",
       "      <td>house</td>\n",
       "      <td>Playa del Carmen</td>\n",
       "      <td>|México|Quintana Roo|Solidaridad|Playa del Car...</td>\n",
       "      <td>NaN</td>\n",
       "      <td>20.612709,-87.102987</td>\n",
       "      <td>NaN</td>\n",
       "      <td>NaN</td>\n",
       "      <td>NaN</td>\n",
       "      <td>...</td>\n",
       "      <td>250.0</td>\n",
       "      <td>NaN</td>\n",
       "      <td>NaN</td>\n",
       "      <td>NaN</td>\n",
       "      <td>NaN</td>\n",
       "      <td>NaN</td>\n",
       "      <td>http://playa-del-carmen-playa-del-carmen.prope...</td>\n",
       "      <td>Referencia #55546. Hermosa casa en el barrio C...</td>\n",
       "      <td>Casa en Alquiler. Ref. #55546. 3 Dormitorios. ...</td>\n",
       "      <td>https://thumbs-cf.properati.com/1/dLISoi0WStzf...</td>\n",
       "    </tr>\n",
       "    <tr>\n",
       "      <th>1</th>\n",
       "      <td>2013-09-19</td>\n",
       "      <td>rent</td>\n",
       "      <td>apartment</td>\n",
       "      <td>Nuevo Centro Urbano</td>\n",
       "      <td>|México|Quintana Roo|Solidaridad|Playa del Car...</td>\n",
       "      <td>NaN</td>\n",
       "      <td>20.626679,-87.075944</td>\n",
       "      <td>2200.0</td>\n",
       "      <td>USD</td>\n",
       "      <td>41378.70</td>\n",
       "      <td>...</td>\n",
       "      <td>110.0</td>\n",
       "      <td>20.000000</td>\n",
       "      <td>20.000000</td>\n",
       "      <td>NaN</td>\n",
       "      <td>NaN</td>\n",
       "      <td>NaN</td>\n",
       "      <td>http://nuevo-centro-urbano.properati.com.mx/o4...</td>\n",
       "      <td>Referencia #27985. Ático completamente amuebla...</td>\n",
       "      <td>Departamento en Alquiler. Ref. #27985. 2 Dormi...</td>\n",
       "      <td>https://thumbs-cf.properati.com/9/-DZ0FUVqgAnA...</td>\n",
       "    </tr>\n",
       "    <tr>\n",
       "      <th>2</th>\n",
       "      <td>2013-09-19</td>\n",
       "      <td>rent</td>\n",
       "      <td>apartment</td>\n",
       "      <td>Nuevo Centro Urbano</td>\n",
       "      <td>|México|Quintana Roo|Solidaridad|Playa del Car...</td>\n",
       "      <td>NaN</td>\n",
       "      <td>20.626729,-87.075858</td>\n",
       "      <td>19000.0</td>\n",
       "      <td>ARS</td>\n",
       "      <td>23546.17</td>\n",
       "      <td>...</td>\n",
       "      <td>110.0</td>\n",
       "      <td>11.380818</td>\n",
       "      <td>172.727273</td>\n",
       "      <td>NaN</td>\n",
       "      <td>NaN</td>\n",
       "      <td>NaN</td>\n",
       "      <td>http://nuevo-centro-urbano.properati.com.mx/o5...</td>\n",
       "      <td>Referencia #27996. Departamento completamente ...</td>\n",
       "      <td>Departamento en Alquiler. Ref. #27996. 2 Dormi...</td>\n",
       "      <td>https://thumbs-cf.properati.com/4/dyZjLPbRTuui...</td>\n",
       "    </tr>\n",
       "    <tr>\n",
       "      <th>3</th>\n",
       "      <td>2013-09-19</td>\n",
       "      <td>rent</td>\n",
       "      <td>apartment</td>\n",
       "      <td>Nuevo Centro Urbano</td>\n",
       "      <td>|México|Quintana Roo|Solidaridad|Playa del Car...</td>\n",
       "      <td>NaN</td>\n",
       "      <td>20.630104,-87.072484</td>\n",
       "      <td>10000.0</td>\n",
       "      <td>ARS</td>\n",
       "      <td>12392.73</td>\n",
       "      <td>...</td>\n",
       "      <td>65.0</td>\n",
       "      <td>10.136769</td>\n",
       "      <td>153.846154</td>\n",
       "      <td>NaN</td>\n",
       "      <td>NaN</td>\n",
       "      <td>NaN</td>\n",
       "      <td>http://nuevo-centro-urbano.properati.com.mx/ob...</td>\n",
       "      <td>Referencia #29065. Departamento perfecto para ...</td>\n",
       "      <td>Departamento en Alquiler. Ref. #29065. 1 Dormi...</td>\n",
       "      <td>https://thumbs-cf.properati.com/0/2tp0o2qIaZia...</td>\n",
       "    </tr>\n",
       "    <tr>\n",
       "      <th>4</th>\n",
       "      <td>2013-09-19</td>\n",
       "      <td>rent</td>\n",
       "      <td>store</td>\n",
       "      <td>Playa del Carmen</td>\n",
       "      <td>|México|Quintana Roo|Solidaridad|Playa del Car...</td>\n",
       "      <td>NaN</td>\n",
       "      <td>20.635424,-87.077995</td>\n",
       "      <td>30000.0</td>\n",
       "      <td>ARS</td>\n",
       "      <td>37178.19</td>\n",
       "      <td>...</td>\n",
       "      <td>250.0</td>\n",
       "      <td>7.906680</td>\n",
       "      <td>120.000000</td>\n",
       "      <td>NaN</td>\n",
       "      <td>NaN</td>\n",
       "      <td>NaN</td>\n",
       "      <td>http://playa-del-carmen-playa-del-carmen.prope...</td>\n",
       "      <td>Referencia #29386. Ubicado en uno de los princ...</td>\n",
       "      <td>Local en Alquiler. Ref. #29386. 250 m2. Local ...</td>\n",
       "      <td>https://thumbs-cf.properati.com/2/5L2Y9_OYAxNL...</td>\n",
       "    </tr>\n",
       "  </tbody>\n",
       "</table>\n",
       "<p>5 rows × 22 columns</p>\n",
       "</div>"
      ],
      "text/plain": [
       "   created_on operation property_type           place_name  \\\n",
       "0  2013-09-19      rent         house     Playa del Carmen   \n",
       "1  2013-09-19      rent     apartment  Nuevo Centro Urbano   \n",
       "2  2013-09-19      rent     apartment  Nuevo Centro Urbano   \n",
       "3  2013-09-19      rent     apartment  Nuevo Centro Urbano   \n",
       "4  2013-09-19      rent         store     Playa del Carmen   \n",
       "\n",
       "                             place_with_parent_names  geonames_id  \\\n",
       "0  |México|Quintana Roo|Solidaridad|Playa del Car...          NaN   \n",
       "1  |México|Quintana Roo|Solidaridad|Playa del Car...          NaN   \n",
       "2  |México|Quintana Roo|Solidaridad|Playa del Car...          NaN   \n",
       "3  |México|Quintana Roo|Solidaridad|Playa del Car...          NaN   \n",
       "4  |México|Quintana Roo|Solidaridad|Playa del Car...          NaN   \n",
       "\n",
       "                lat-lon    price currency  price_aprox_local_currency  ...  \\\n",
       "0  20.612709,-87.102987      NaN      NaN                         NaN  ...   \n",
       "1  20.626679,-87.075944   2200.0      USD                    41378.70  ...   \n",
       "2  20.626729,-87.075858  19000.0      ARS                    23546.17  ...   \n",
       "3  20.630104,-87.072484  10000.0      ARS                    12392.73  ...   \n",
       "4  20.635424,-87.077995  30000.0      ARS                    37178.19  ...   \n",
       "\n",
       "   surface_covered_in_m2  price_usd_per_m2  price_per_m2  floor  rooms  \\\n",
       "0                  250.0               NaN           NaN    NaN    NaN   \n",
       "1                  110.0         20.000000     20.000000    NaN    NaN   \n",
       "2                  110.0         11.380818    172.727273    NaN    NaN   \n",
       "3                   65.0         10.136769    153.846154    NaN    NaN   \n",
       "4                  250.0          7.906680    120.000000    NaN    NaN   \n",
       "\n",
       "   expenses                                      properati_url  \\\n",
       "0       NaN  http://playa-del-carmen-playa-del-carmen.prope...   \n",
       "1       NaN  http://nuevo-centro-urbano.properati.com.mx/o4...   \n",
       "2       NaN  http://nuevo-centro-urbano.properati.com.mx/o5...   \n",
       "3       NaN  http://nuevo-centro-urbano.properati.com.mx/ob...   \n",
       "4       NaN  http://playa-del-carmen-playa-del-carmen.prope...   \n",
       "\n",
       "                                         description  \\\n",
       "0  Referencia #55546. Hermosa casa en el barrio C...   \n",
       "1  Referencia #27985. Ático completamente amuebla...   \n",
       "2  Referencia #27996. Departamento completamente ...   \n",
       "3  Referencia #29065. Departamento perfecto para ...   \n",
       "4  Referencia #29386. Ubicado en uno de los princ...   \n",
       "\n",
       "                                               title  \\\n",
       "0  Casa en Alquiler. Ref. #55546. 3 Dormitorios. ...   \n",
       "1  Departamento en Alquiler. Ref. #27985. 2 Dormi...   \n",
       "2  Departamento en Alquiler. Ref. #27996. 2 Dormi...   \n",
       "3  Departamento en Alquiler. Ref. #29065. 1 Dormi...   \n",
       "4  Local en Alquiler. Ref. #29386. 250 m2. Local ...   \n",
       "\n",
       "                                     image_thumbnail  \n",
       "0  https://thumbs-cf.properati.com/1/dLISoi0WStzf...  \n",
       "1  https://thumbs-cf.properati.com/9/-DZ0FUVqgAnA...  \n",
       "2  https://thumbs-cf.properati.com/4/dyZjLPbRTuui...  \n",
       "3  https://thumbs-cf.properati.com/0/2tp0o2qIaZia...  \n",
       "4  https://thumbs-cf.properati.com/2/5L2Y9_OYAxNL...  \n",
       "\n",
       "[5 rows x 22 columns]"
      ]
     },
     "execution_count": 36,
     "metadata": {},
     "output_type": "execute_result"
    }
   ],
   "source": [
    "df.head()"
   ]
  },
  {
   "cell_type": "code",
   "execution_count": 37,
   "id": "041258be",
   "metadata": {},
   "outputs": [
    {
     "name": "stdout",
     "output_type": "stream",
     "text": [
      "<class 'pandas.core.frame.DataFrame'>\n",
      "RangeIndex: 37597 entries, 0 to 37596\n",
      "Data columns (total 22 columns):\n",
      " #   Column                      Non-Null Count  Dtype  \n",
      "---  ------                      --------------  -----  \n",
      " 0   created_on                  37597 non-null  object \n",
      " 1   operation                   37597 non-null  object \n",
      " 2   property_type               37597 non-null  object \n",
      " 3   place_name                  37597 non-null  object \n",
      " 4   place_with_parent_names     37597 non-null  object \n",
      " 5   geonames_id                 0 non-null      float64\n",
      " 6   lat-lon                     31835 non-null  object \n",
      " 7   price                       36525 non-null  float64\n",
      " 8   currency                    36525 non-null  object \n",
      " 9   price_aprox_local_currency  36525 non-null  float64\n",
      " 10  price_aprox_usd             36525 non-null  float64\n",
      " 11  surface_total_in_m2         23151 non-null  float64\n",
      " 12  surface_covered_in_m2       36084 non-null  float64\n",
      " 13  price_usd_per_m2            14828 non-null  float64\n",
      " 14  price_per_m2                30071 non-null  float64\n",
      " 15  floor                       4174 non-null   float64\n",
      " 16  rooms                       1245 non-null   float64\n",
      " 17  expenses                    57 non-null     float64\n",
      " 18  properati_url               37597 non-null  object \n",
      " 19  description                 37597 non-null  object \n",
      " 20  title                       37597 non-null  object \n",
      " 21  image_thumbnail             36450 non-null  object \n",
      "dtypes: float64(11), object(11)\n",
      "memory usage: 6.3+ MB\n"
     ]
    }
   ],
   "source": [
    "df.info()"
   ]
  },
  {
   "cell_type": "code",
   "execution_count": 38,
   "id": "136758a0",
   "metadata": {},
   "outputs": [
    {
     "data": {
      "text/plain": [
       "(37597, 22)"
      ]
     },
     "execution_count": 38,
     "metadata": {},
     "output_type": "execute_result"
    }
   ],
   "source": [
    "df.shape"
   ]
  },
  {
   "cell_type": "code",
   "execution_count": 39,
   "id": "9c1b2891",
   "metadata": {},
   "outputs": [
    {
     "data": {
      "text/html": [
       "<div>\n",
       "<style scoped>\n",
       "    .dataframe tbody tr th:only-of-type {\n",
       "        vertical-align: middle;\n",
       "    }\n",
       "\n",
       "    .dataframe tbody tr th {\n",
       "        vertical-align: top;\n",
       "    }\n",
       "\n",
       "    .dataframe thead th {\n",
       "        text-align: right;\n",
       "    }\n",
       "</style>\n",
       "<table border=\"1\" class=\"dataframe\">\n",
       "  <thead>\n",
       "    <tr style=\"text-align: right;\">\n",
       "      <th></th>\n",
       "      <th>geonames_id</th>\n",
       "      <th>price</th>\n",
       "      <th>price_aprox_local_currency</th>\n",
       "      <th>price_aprox_usd</th>\n",
       "      <th>surface_total_in_m2</th>\n",
       "      <th>surface_covered_in_m2</th>\n",
       "      <th>price_usd_per_m2</th>\n",
       "      <th>price_per_m2</th>\n",
       "      <th>floor</th>\n",
       "      <th>rooms</th>\n",
       "      <th>expenses</th>\n",
       "    </tr>\n",
       "  </thead>\n",
       "  <tbody>\n",
       "    <tr>\n",
       "      <th>count</th>\n",
       "      <td>0.0</td>\n",
       "      <td>3.652500e+04</td>\n",
       "      <td>3.652500e+04</td>\n",
       "      <td>36525.000000</td>\n",
       "      <td>23151.000000</td>\n",
       "      <td>36084.000000</td>\n",
       "      <td>14828.000000</td>\n",
       "      <td>30071.000000</td>\n",
       "      <td>4174.000000</td>\n",
       "      <td>1245.000000</td>\n",
       "      <td>57.000000</td>\n",
       "    </tr>\n",
       "    <tr>\n",
       "      <th>mean</th>\n",
       "      <td>NaN</td>\n",
       "      <td>2.045150e+04</td>\n",
       "      <td>2.401479e+04</td>\n",
       "      <td>1276.805686</td>\n",
       "      <td>364.516133</td>\n",
       "      <td>265.611712</td>\n",
       "      <td>6.475197</td>\n",
       "      <td>241.127655</td>\n",
       "      <td>3.425731</td>\n",
       "      <td>2.640964</td>\n",
       "      <td>1199.350877</td>\n",
       "    </tr>\n",
       "    <tr>\n",
       "      <th>std</th>\n",
       "      <td>NaN</td>\n",
       "      <td>4.490340e+04</td>\n",
       "      <td>5.446808e+04</td>\n",
       "      <td>2895.929004</td>\n",
       "      <td>2443.918011</td>\n",
       "      <td>6108.449844</td>\n",
       "      <td>18.691082</td>\n",
       "      <td>1929.047048</td>\n",
       "      <td>28.681249</td>\n",
       "      <td>1.073845</td>\n",
       "      <td>1527.892614</td>\n",
       "    </tr>\n",
       "    <tr>\n",
       "      <th>min</th>\n",
       "      <td>NaN</td>\n",
       "      <td>5.000000e+01</td>\n",
       "      <td>9.404200e+02</td>\n",
       "      <td>50.000000</td>\n",
       "      <td>-200.000000</td>\n",
       "      <td>0.000000</td>\n",
       "      <td>-606.035000</td>\n",
       "      <td>0.008000</td>\n",
       "      <td>1.000000</td>\n",
       "      <td>1.000000</td>\n",
       "      <td>1.000000</td>\n",
       "    </tr>\n",
       "    <tr>\n",
       "      <th>25%</th>\n",
       "      <td>NaN</td>\n",
       "      <td>7.000000e+03</td>\n",
       "      <td>7.927590e+03</td>\n",
       "      <td>421.490000</td>\n",
       "      <td>0.000000</td>\n",
       "      <td>59.000000</td>\n",
       "      <td>2.634937</td>\n",
       "      <td>57.500000</td>\n",
       "      <td>2.000000</td>\n",
       "      <td>2.000000</td>\n",
       "      <td>240.000000</td>\n",
       "    </tr>\n",
       "    <tr>\n",
       "      <th>50%</th>\n",
       "      <td>NaN</td>\n",
       "      <td>1.300000e+04</td>\n",
       "      <td>1.387653e+04</td>\n",
       "      <td>737.780000</td>\n",
       "      <td>100.000000</td>\n",
       "      <td>120.000000</td>\n",
       "      <td>4.566067</td>\n",
       "      <td>88.235294</td>\n",
       "      <td>2.000000</td>\n",
       "      <td>3.000000</td>\n",
       "      <td>800.000000</td>\n",
       "    </tr>\n",
       "    <tr>\n",
       "      <th>75%</th>\n",
       "      <td>NaN</td>\n",
       "      <td>2.250000e+04</td>\n",
       "      <td>2.477380e+04</td>\n",
       "      <td>1317.160000</td>\n",
       "      <td>240.000000</td>\n",
       "      <td>230.000000</td>\n",
       "      <td>7.641350</td>\n",
       "      <td>145.833333</td>\n",
       "      <td>2.000000</td>\n",
       "      <td>3.000000</td>\n",
       "      <td>1650.000000</td>\n",
       "    </tr>\n",
       "    <tr>\n",
       "      <th>max</th>\n",
       "      <td>NaN</td>\n",
       "      <td>1.850000e+06</td>\n",
       "      <td>1.833264e+06</td>\n",
       "      <td>97469.990000</td>\n",
       "      <td>185130.000000</td>\n",
       "      <td>1000000.000000</td>\n",
       "      <td>1867.207895</td>\n",
       "      <td>150000.000000</td>\n",
       "      <td>1136.000000</td>\n",
       "      <td>14.000000</td>\n",
       "      <td>9000.000000</td>\n",
       "    </tr>\n",
       "  </tbody>\n",
       "</table>\n",
       "</div>"
      ],
      "text/plain": [
       "       geonames_id         price  price_aprox_local_currency  price_aprox_usd  \\\n",
       "count          0.0  3.652500e+04                3.652500e+04     36525.000000   \n",
       "mean           NaN  2.045150e+04                2.401479e+04      1276.805686   \n",
       "std            NaN  4.490340e+04                5.446808e+04      2895.929004   \n",
       "min            NaN  5.000000e+01                9.404200e+02        50.000000   \n",
       "25%            NaN  7.000000e+03                7.927590e+03       421.490000   \n",
       "50%            NaN  1.300000e+04                1.387653e+04       737.780000   \n",
       "75%            NaN  2.250000e+04                2.477380e+04      1317.160000   \n",
       "max            NaN  1.850000e+06                1.833264e+06     97469.990000   \n",
       "\n",
       "       surface_total_in_m2  surface_covered_in_m2  price_usd_per_m2  \\\n",
       "count         23151.000000           36084.000000      14828.000000   \n",
       "mean            364.516133             265.611712          6.475197   \n",
       "std            2443.918011            6108.449844         18.691082   \n",
       "min            -200.000000               0.000000       -606.035000   \n",
       "25%               0.000000              59.000000          2.634937   \n",
       "50%             100.000000             120.000000          4.566067   \n",
       "75%             240.000000             230.000000          7.641350   \n",
       "max          185130.000000         1000000.000000       1867.207895   \n",
       "\n",
       "        price_per_m2        floor        rooms     expenses  \n",
       "count   30071.000000  4174.000000  1245.000000    57.000000  \n",
       "mean      241.127655     3.425731     2.640964  1199.350877  \n",
       "std      1929.047048    28.681249     1.073845  1527.892614  \n",
       "min         0.008000     1.000000     1.000000     1.000000  \n",
       "25%        57.500000     2.000000     2.000000   240.000000  \n",
       "50%        88.235294     2.000000     3.000000   800.000000  \n",
       "75%       145.833333     2.000000     3.000000  1650.000000  \n",
       "max    150000.000000  1136.000000    14.000000  9000.000000  "
      ]
     },
     "execution_count": 39,
     "metadata": {},
     "output_type": "execute_result"
    }
   ],
   "source": [
    "df.describe()"
   ]
  },
  {
   "cell_type": "code",
   "execution_count": 40,
   "id": "0acf9ed7",
   "metadata": {},
   "outputs": [
    {
     "data": {
      "text/html": [
       "<div>\n",
       "<style scoped>\n",
       "    .dataframe tbody tr th:only-of-type {\n",
       "        vertical-align: middle;\n",
       "    }\n",
       "\n",
       "    .dataframe tbody tr th {\n",
       "        vertical-align: top;\n",
       "    }\n",
       "\n",
       "    .dataframe thead th {\n",
       "        text-align: right;\n",
       "    }\n",
       "</style>\n",
       "<table border=\"1\" class=\"dataframe\">\n",
       "  <thead>\n",
       "    <tr style=\"text-align: right;\">\n",
       "      <th></th>\n",
       "      <th>created_on</th>\n",
       "      <th>operation</th>\n",
       "      <th>property_type</th>\n",
       "      <th>place_name</th>\n",
       "      <th>place_with_parent_names</th>\n",
       "      <th>geonames_id</th>\n",
       "      <th>lat-lon</th>\n",
       "      <th>price</th>\n",
       "      <th>currency</th>\n",
       "      <th>price_aprox_local_currency</th>\n",
       "      <th>...</th>\n",
       "      <th>surface_covered_in_m2</th>\n",
       "      <th>price_usd_per_m2</th>\n",
       "      <th>price_per_m2</th>\n",
       "      <th>floor</th>\n",
       "      <th>rooms</th>\n",
       "      <th>expenses</th>\n",
       "      <th>properati_url</th>\n",
       "      <th>description</th>\n",
       "      <th>title</th>\n",
       "      <th>image_thumbnail</th>\n",
       "    </tr>\n",
       "  </thead>\n",
       "  <tbody>\n",
       "    <tr>\n",
       "      <th>0</th>\n",
       "      <td>2013-09-19</td>\n",
       "      <td>rent</td>\n",
       "      <td>house</td>\n",
       "      <td>Playa del Carmen</td>\n",
       "      <td>|México|Quintana Roo|Solidaridad|Playa del Car...</td>\n",
       "      <td>NaN</td>\n",
       "      <td>20.612709,-87.102987</td>\n",
       "      <td>NaN</td>\n",
       "      <td>NaN</td>\n",
       "      <td>NaN</td>\n",
       "      <td>...</td>\n",
       "      <td>250.0</td>\n",
       "      <td>NaN</td>\n",
       "      <td>NaN</td>\n",
       "      <td>NaN</td>\n",
       "      <td>NaN</td>\n",
       "      <td>NaN</td>\n",
       "      <td>http://playa-del-carmen-playa-del-carmen.prope...</td>\n",
       "      <td>Referencia #55546. Hermosa casa en el barrio C...</td>\n",
       "      <td>Casa en Alquiler. Ref. #55546. 3 Dormitorios. ...</td>\n",
       "      <td>https://thumbs-cf.properati.com/1/dLISoi0WStzf...</td>\n",
       "    </tr>\n",
       "    <tr>\n",
       "      <th>1</th>\n",
       "      <td>2013-09-19</td>\n",
       "      <td>rent</td>\n",
       "      <td>apartment</td>\n",
       "      <td>Nuevo Centro Urbano</td>\n",
       "      <td>|México|Quintana Roo|Solidaridad|Playa del Car...</td>\n",
       "      <td>NaN</td>\n",
       "      <td>20.626679,-87.075944</td>\n",
       "      <td>2200.0</td>\n",
       "      <td>USD</td>\n",
       "      <td>41378.7</td>\n",
       "      <td>...</td>\n",
       "      <td>110.0</td>\n",
       "      <td>20.0</td>\n",
       "      <td>20.0</td>\n",
       "      <td>NaN</td>\n",
       "      <td>NaN</td>\n",
       "      <td>NaN</td>\n",
       "      <td>http://nuevo-centro-urbano.properati.com.mx/o4...</td>\n",
       "      <td>Referencia #27985. Ático completamente amuebla...</td>\n",
       "      <td>Departamento en Alquiler. Ref. #27985. 2 Dormi...</td>\n",
       "      <td>https://thumbs-cf.properati.com/9/-DZ0FUVqgAnA...</td>\n",
       "    </tr>\n",
       "  </tbody>\n",
       "</table>\n",
       "<p>2 rows × 22 columns</p>\n",
       "</div>"
      ],
      "text/plain": [
       "   created_on operation property_type           place_name  \\\n",
       "0  2013-09-19      rent         house     Playa del Carmen   \n",
       "1  2013-09-19      rent     apartment  Nuevo Centro Urbano   \n",
       "\n",
       "                             place_with_parent_names  geonames_id  \\\n",
       "0  |México|Quintana Roo|Solidaridad|Playa del Car...          NaN   \n",
       "1  |México|Quintana Roo|Solidaridad|Playa del Car...          NaN   \n",
       "\n",
       "                lat-lon   price currency  price_aprox_local_currency  ...  \\\n",
       "0  20.612709,-87.102987     NaN      NaN                         NaN  ...   \n",
       "1  20.626679,-87.075944  2200.0      USD                     41378.7  ...   \n",
       "\n",
       "   surface_covered_in_m2  price_usd_per_m2  price_per_m2  floor  rooms  \\\n",
       "0                  250.0               NaN           NaN    NaN    NaN   \n",
       "1                  110.0              20.0          20.0    NaN    NaN   \n",
       "\n",
       "   expenses                                      properati_url  \\\n",
       "0       NaN  http://playa-del-carmen-playa-del-carmen.prope...   \n",
       "1       NaN  http://nuevo-centro-urbano.properati.com.mx/o4...   \n",
       "\n",
       "                                         description  \\\n",
       "0  Referencia #55546. Hermosa casa en el barrio C...   \n",
       "1  Referencia #27985. Ático completamente amuebla...   \n",
       "\n",
       "                                               title  \\\n",
       "0  Casa en Alquiler. Ref. #55546. 3 Dormitorios. ...   \n",
       "1  Departamento en Alquiler. Ref. #27985. 2 Dormi...   \n",
       "\n",
       "                                     image_thumbnail  \n",
       "0  https://thumbs-cf.properati.com/1/dLISoi0WStzf...  \n",
       "1  https://thumbs-cf.properati.com/9/-DZ0FUVqgAnA...  \n",
       "\n",
       "[2 rows x 22 columns]"
      ]
     },
     "execution_count": 40,
     "metadata": {},
     "output_type": "execute_result"
    }
   ],
   "source": [
    "df.head(2)"
   ]
  },
  {
   "cell_type": "code",
   "execution_count": 41,
   "id": "3d2553c8",
   "metadata": {},
   "outputs": [
    {
     "data": {
      "text/plain": [
       "37597"
      ]
     },
     "execution_count": 41,
     "metadata": {},
     "output_type": "execute_result"
    }
   ],
   "source": [
    "len(df)"
   ]
  },
  {
   "cell_type": "code",
   "execution_count": 42,
   "id": "d0388ee5",
   "metadata": {},
   "outputs": [
    {
     "data": {
      "text/plain": [
       "0        False\n",
       "1         True\n",
       "2         True\n",
       "3         True\n",
       "4        False\n",
       "         ...  \n",
       "37592    False\n",
       "37593     True\n",
       "37594     True\n",
       "37595     True\n",
       "37596     True\n",
       "Name: property_type, Length: 37597, dtype: bool"
      ]
     },
     "execution_count": 42,
     "metadata": {},
     "output_type": "execute_result"
    }
   ],
   "source": [
    "df[\"property_type\"] ==\"apartment\""
   ]
  },
  {
   "cell_type": "code",
   "execution_count": null,
   "id": "c467bd3e",
   "metadata": {},
   "outputs": [],
   "source": []
  },
  {
   "cell_type": "code",
   "execution_count": 43,
   "id": "300b0c1c",
   "metadata": {},
   "outputs": [
    {
     "data": {
      "text/html": [
       "<div>\n",
       "<style scoped>\n",
       "    .dataframe tbody tr th:only-of-type {\n",
       "        vertical-align: middle;\n",
       "    }\n",
       "\n",
       "    .dataframe tbody tr th {\n",
       "        vertical-align: top;\n",
       "    }\n",
       "\n",
       "    .dataframe thead th {\n",
       "        text-align: right;\n",
       "    }\n",
       "</style>\n",
       "<table border=\"1\" class=\"dataframe\">\n",
       "  <thead>\n",
       "    <tr style=\"text-align: right;\">\n",
       "      <th></th>\n",
       "      <th>created_on</th>\n",
       "      <th>operation</th>\n",
       "      <th>property_type</th>\n",
       "      <th>place_name</th>\n",
       "      <th>place_with_parent_names</th>\n",
       "      <th>geonames_id</th>\n",
       "      <th>lat-lon</th>\n",
       "      <th>price</th>\n",
       "      <th>currency</th>\n",
       "      <th>price_aprox_local_currency</th>\n",
       "      <th>...</th>\n",
       "      <th>surface_covered_in_m2</th>\n",
       "      <th>price_usd_per_m2</th>\n",
       "      <th>price_per_m2</th>\n",
       "      <th>floor</th>\n",
       "      <th>rooms</th>\n",
       "      <th>expenses</th>\n",
       "      <th>properati_url</th>\n",
       "      <th>description</th>\n",
       "      <th>title</th>\n",
       "      <th>image_thumbnail</th>\n",
       "    </tr>\n",
       "  </thead>\n",
       "  <tbody>\n",
       "    <tr>\n",
       "      <th>1</th>\n",
       "      <td>2013-09-19</td>\n",
       "      <td>rent</td>\n",
       "      <td>apartment</td>\n",
       "      <td>Nuevo Centro Urbano</td>\n",
       "      <td>|México|Quintana Roo|Solidaridad|Playa del Car...</td>\n",
       "      <td>NaN</td>\n",
       "      <td>20.626679,-87.075944</td>\n",
       "      <td>2200.0</td>\n",
       "      <td>USD</td>\n",
       "      <td>41378.70</td>\n",
       "      <td>...</td>\n",
       "      <td>110.0</td>\n",
       "      <td>20.000000</td>\n",
       "      <td>20.000000</td>\n",
       "      <td>NaN</td>\n",
       "      <td>NaN</td>\n",
       "      <td>NaN</td>\n",
       "      <td>http://nuevo-centro-urbano.properati.com.mx/o4...</td>\n",
       "      <td>Referencia #27985. Ático completamente amuebla...</td>\n",
       "      <td>Departamento en Alquiler. Ref. #27985. 2 Dormi...</td>\n",
       "      <td>https://thumbs-cf.properati.com/9/-DZ0FUVqgAnA...</td>\n",
       "    </tr>\n",
       "    <tr>\n",
       "      <th>2</th>\n",
       "      <td>2013-09-19</td>\n",
       "      <td>rent</td>\n",
       "      <td>apartment</td>\n",
       "      <td>Nuevo Centro Urbano</td>\n",
       "      <td>|México|Quintana Roo|Solidaridad|Playa del Car...</td>\n",
       "      <td>NaN</td>\n",
       "      <td>20.626729,-87.075858</td>\n",
       "      <td>19000.0</td>\n",
       "      <td>ARS</td>\n",
       "      <td>23546.17</td>\n",
       "      <td>...</td>\n",
       "      <td>110.0</td>\n",
       "      <td>11.380818</td>\n",
       "      <td>172.727273</td>\n",
       "      <td>NaN</td>\n",
       "      <td>NaN</td>\n",
       "      <td>NaN</td>\n",
       "      <td>http://nuevo-centro-urbano.properati.com.mx/o5...</td>\n",
       "      <td>Referencia #27996. Departamento completamente ...</td>\n",
       "      <td>Departamento en Alquiler. Ref. #27996. 2 Dormi...</td>\n",
       "      <td>https://thumbs-cf.properati.com/4/dyZjLPbRTuui...</td>\n",
       "    </tr>\n",
       "    <tr>\n",
       "      <th>3</th>\n",
       "      <td>2013-09-19</td>\n",
       "      <td>rent</td>\n",
       "      <td>apartment</td>\n",
       "      <td>Nuevo Centro Urbano</td>\n",
       "      <td>|México|Quintana Roo|Solidaridad|Playa del Car...</td>\n",
       "      <td>NaN</td>\n",
       "      <td>20.630104,-87.072484</td>\n",
       "      <td>10000.0</td>\n",
       "      <td>ARS</td>\n",
       "      <td>12392.73</td>\n",
       "      <td>...</td>\n",
       "      <td>65.0</td>\n",
       "      <td>10.136769</td>\n",
       "      <td>153.846154</td>\n",
       "      <td>NaN</td>\n",
       "      <td>NaN</td>\n",
       "      <td>NaN</td>\n",
       "      <td>http://nuevo-centro-urbano.properati.com.mx/ob...</td>\n",
       "      <td>Referencia #29065. Departamento perfecto para ...</td>\n",
       "      <td>Departamento en Alquiler. Ref. #29065. 1 Dormi...</td>\n",
       "      <td>https://thumbs-cf.properati.com/0/2tp0o2qIaZia...</td>\n",
       "    </tr>\n",
       "    <tr>\n",
       "      <th>5</th>\n",
       "      <td>2013-09-19</td>\n",
       "      <td>rent</td>\n",
       "      <td>apartment</td>\n",
       "      <td>Playa del Carmen</td>\n",
       "      <td>|México|Quintana Roo|Solidaridad|Playa del Car...</td>\n",
       "      <td>NaN</td>\n",
       "      <td>20.630296,-87.072695</td>\n",
       "      <td>12000.0</td>\n",
       "      <td>ARS</td>\n",
       "      <td>14871.31</td>\n",
       "      <td>...</td>\n",
       "      <td>90.0</td>\n",
       "      <td>8.785222</td>\n",
       "      <td>133.333333</td>\n",
       "      <td>NaN</td>\n",
       "      <td>NaN</td>\n",
       "      <td>NaN</td>\n",
       "      <td>http://playa-del-carmen-playa-del-carmen.prope...</td>\n",
       "      <td>Referencia #30621. En el centro de Playa del C...</td>\n",
       "      <td>Departamento en Alquiler. Ref. #30621. 2 Dormi...</td>\n",
       "      <td>https://thumbs-cf.properati.com/5/5CDhlOFw-NNj...</td>\n",
       "    </tr>\n",
       "    <tr>\n",
       "      <th>6</th>\n",
       "      <td>2013-09-19</td>\n",
       "      <td>rent</td>\n",
       "      <td>apartment</td>\n",
       "      <td>Playa del Carmen</td>\n",
       "      <td>|México|Quintana Roo|Solidaridad|Playa del Car...</td>\n",
       "      <td>NaN</td>\n",
       "      <td>20.628296,-87.072637</td>\n",
       "      <td>8500.0</td>\n",
       "      <td>ARS</td>\n",
       "      <td>10533.70</td>\n",
       "      <td>...</td>\n",
       "      <td>77.0</td>\n",
       "      <td>7.273377</td>\n",
       "      <td>110.389610</td>\n",
       "      <td>NaN</td>\n",
       "      <td>NaN</td>\n",
       "      <td>NaN</td>\n",
       "      <td>http://playa-del-carmen-playa-del-carmen.prope...</td>\n",
       "      <td>Referencia #31118. En el corazón de la Riviera...</td>\n",
       "      <td>Departamento en Alquiler. Ref. #31118. 2 Dormi...</td>\n",
       "      <td>https://thumbs-cf.properati.com/9/rRjYVurvNdBO...</td>\n",
       "    </tr>\n",
       "    <tr>\n",
       "      <th>...</th>\n",
       "      <td>...</td>\n",
       "      <td>...</td>\n",
       "      <td>...</td>\n",
       "      <td>...</td>\n",
       "      <td>...</td>\n",
       "      <td>...</td>\n",
       "      <td>...</td>\n",
       "      <td>...</td>\n",
       "      <td>...</td>\n",
       "      <td>...</td>\n",
       "      <td>...</td>\n",
       "      <td>...</td>\n",
       "      <td>...</td>\n",
       "      <td>...</td>\n",
       "      <td>...</td>\n",
       "      <td>...</td>\n",
       "      <td>...</td>\n",
       "      <td>...</td>\n",
       "      <td>...</td>\n",
       "      <td>...</td>\n",
       "      <td>...</td>\n",
       "    </tr>\n",
       "    <tr>\n",
       "      <th>37585</th>\n",
       "      <td>2016-10-31</td>\n",
       "      <td>rent</td>\n",
       "      <td>apartment</td>\n",
       "      <td>Miguel Hidalgo</td>\n",
       "      <td>|México|Distrito Federal|Miguel Hidalgo|</td>\n",
       "      <td>NaN</td>\n",
       "      <td>19.4546644,-99.1860716</td>\n",
       "      <td>11000.0</td>\n",
       "      <td>MXN</td>\n",
       "      <td>10902.91</td>\n",
       "      <td>...</td>\n",
       "      <td>57.0</td>\n",
       "      <td>NaN</td>\n",
       "      <td>192.982456</td>\n",
       "      <td>NaN</td>\n",
       "      <td>NaN</td>\n",
       "      <td>NaN</td>\n",
       "      <td>http://miguel-hidalgo-df.properati.com.mx/rdzd...</td>\n",
       "      <td>&lt;p&gt;Excelente departamento para estrenar, muy b...</td>\n",
       "      <td>Golfo de San Jorge</td>\n",
       "      <td>https://thumbs-cf.properati.com/8/3lMAUAMqrPGX...</td>\n",
       "    </tr>\n",
       "    <tr>\n",
       "      <th>37593</th>\n",
       "      <td>2016-10-31</td>\n",
       "      <td>rent</td>\n",
       "      <td>apartment</td>\n",
       "      <td>San Pedro Garza García</td>\n",
       "      <td>|México|Nuevo León|San Pedro Garza García|</td>\n",
       "      <td>NaN</td>\n",
       "      <td>25.628453,-100.365488</td>\n",
       "      <td>14500.0</td>\n",
       "      <td>MXN</td>\n",
       "      <td>14368.75</td>\n",
       "      <td>...</td>\n",
       "      <td>100.0</td>\n",
       "      <td>NaN</td>\n",
       "      <td>145.000000</td>\n",
       "      <td>NaN</td>\n",
       "      <td>NaN</td>\n",
       "      <td>NaN</td>\n",
       "      <td>http://san-pedro-garza-garcia.properati.com.mx...</td>\n",
       "      <td>Nocnok ID: MX16-BW5320. departamento en el pis...</td>\n",
       "      <td>Departamento en Renta en Valle de San Angel</td>\n",
       "      <td>https://thumbs-cf.properati.com/0/TIH9HHSOQoju...</td>\n",
       "    </tr>\n",
       "    <tr>\n",
       "      <th>37594</th>\n",
       "      <td>2016-10-31</td>\n",
       "      <td>rent</td>\n",
       "      <td>apartment</td>\n",
       "      <td>Benito Juárez</td>\n",
       "      <td>|México|Distrito Federal|Benito Juárez|</td>\n",
       "      <td>NaN</td>\n",
       "      <td>NaN</td>\n",
       "      <td>15000.0</td>\n",
       "      <td>MXN</td>\n",
       "      <td>14864.16</td>\n",
       "      <td>...</td>\n",
       "      <td>78.0</td>\n",
       "      <td>7.747941</td>\n",
       "      <td>192.307692</td>\n",
       "      <td>NaN</td>\n",
       "      <td>NaN</td>\n",
       "      <td>NaN</td>\n",
       "      <td>http://benito-juarez.properati.com.mx/re4r_ren...</td>\n",
       "      <td>&lt;p&gt;Del Valle Norte. Departamento de 78 m2, ext...</td>\n",
       "      <td>Departamento 78 m2, exterior, en 3er piso, co...</td>\n",
       "      <td>NaN</td>\n",
       "    </tr>\n",
       "    <tr>\n",
       "      <th>37595</th>\n",
       "      <td>2016-10-31</td>\n",
       "      <td>rent</td>\n",
       "      <td>apartment</td>\n",
       "      <td>Benito Juárez</td>\n",
       "      <td>|México|Distrito Federal|Benito Juárez|</td>\n",
       "      <td>NaN</td>\n",
       "      <td>19.394358,-99.177444</td>\n",
       "      <td>18000.0</td>\n",
       "      <td>MXN</td>\n",
       "      <td>17837.04</td>\n",
       "      <td>...</td>\n",
       "      <td>97.0</td>\n",
       "      <td>NaN</td>\n",
       "      <td>185.567010</td>\n",
       "      <td>NaN</td>\n",
       "      <td>NaN</td>\n",
       "      <td>NaN</td>\n",
       "      <td>http://benito-juarez.properati.com.mx/re50_ren...</td>\n",
       "      <td>&lt;p&gt;HERMOSO DEPARTAMENTO 3 RECAMARAS, 2 ESTACIO...</td>\n",
       "      <td>IMPECABLE DEPARTAMENTO COL. NAPOLES DISTRITO F...</td>\n",
       "      <td>https://thumbs-cf.properati.com/5/9sKH0jroF8wA...</td>\n",
       "    </tr>\n",
       "    <tr>\n",
       "      <th>37596</th>\n",
       "      <td>2016-10-31</td>\n",
       "      <td>rent</td>\n",
       "      <td>apartment</td>\n",
       "      <td>Monterrey</td>\n",
       "      <td>|México|Nuevo León|Monterrey|</td>\n",
       "      <td>NaN</td>\n",
       "      <td>25.6318402,-100.2801781</td>\n",
       "      <td>18000.0</td>\n",
       "      <td>MXN</td>\n",
       "      <td>17837.04</td>\n",
       "      <td>...</td>\n",
       "      <td>0.0</td>\n",
       "      <td>NaN</td>\n",
       "      <td>NaN</td>\n",
       "      <td>NaN</td>\n",
       "      <td>NaN</td>\n",
       "      <td>NaN</td>\n",
       "      <td>http://monterrey-nuevo-leon.properati.com.mx/r...</td>\n",
       "      <td>&lt;p&gt; Excelente departamento en renta sobre aven...</td>\n",
       "      <td>DEPARTAMENTO EN RENTA EN MICROPOLIS MONTERREY</td>\n",
       "      <td>https://thumbs-cf.properati.com/4/LqbLb1KmjuXb...</td>\n",
       "    </tr>\n",
       "  </tbody>\n",
       "</table>\n",
       "<p>12671 rows × 22 columns</p>\n",
       "</div>"
      ],
      "text/plain": [
       "       created_on operation property_type              place_name  \\\n",
       "1      2013-09-19      rent     apartment     Nuevo Centro Urbano   \n",
       "2      2013-09-19      rent     apartment     Nuevo Centro Urbano   \n",
       "3      2013-09-19      rent     apartment     Nuevo Centro Urbano   \n",
       "5      2013-09-19      rent     apartment        Playa del Carmen   \n",
       "6      2013-09-19      rent     apartment        Playa del Carmen   \n",
       "...           ...       ...           ...                     ...   \n",
       "37585  2016-10-31      rent     apartment          Miguel Hidalgo   \n",
       "37593  2016-10-31      rent     apartment  San Pedro Garza García   \n",
       "37594  2016-10-31      rent     apartment           Benito Juárez   \n",
       "37595  2016-10-31      rent     apartment           Benito Juárez   \n",
       "37596  2016-10-31      rent     apartment               Monterrey   \n",
       "\n",
       "                                 place_with_parent_names  geonames_id  \\\n",
       "1      |México|Quintana Roo|Solidaridad|Playa del Car...          NaN   \n",
       "2      |México|Quintana Roo|Solidaridad|Playa del Car...          NaN   \n",
       "3      |México|Quintana Roo|Solidaridad|Playa del Car...          NaN   \n",
       "5      |México|Quintana Roo|Solidaridad|Playa del Car...          NaN   \n",
       "6      |México|Quintana Roo|Solidaridad|Playa del Car...          NaN   \n",
       "...                                                  ...          ...   \n",
       "37585           |México|Distrito Federal|Miguel Hidalgo|          NaN   \n",
       "37593         |México|Nuevo León|San Pedro Garza García|          NaN   \n",
       "37594            |México|Distrito Federal|Benito Juárez|          NaN   \n",
       "37595            |México|Distrito Federal|Benito Juárez|          NaN   \n",
       "37596                      |México|Nuevo León|Monterrey|          NaN   \n",
       "\n",
       "                       lat-lon    price currency  price_aprox_local_currency  \\\n",
       "1         20.626679,-87.075944   2200.0      USD                    41378.70   \n",
       "2         20.626729,-87.075858  19000.0      ARS                    23546.17   \n",
       "3         20.630104,-87.072484  10000.0      ARS                    12392.73   \n",
       "5         20.630296,-87.072695  12000.0      ARS                    14871.31   \n",
       "6         20.628296,-87.072637   8500.0      ARS                    10533.70   \n",
       "...                        ...      ...      ...                         ...   \n",
       "37585   19.4546644,-99.1860716  11000.0      MXN                    10902.91   \n",
       "37593    25.628453,-100.365488  14500.0      MXN                    14368.75   \n",
       "37594                      NaN  15000.0      MXN                    14864.16   \n",
       "37595     19.394358,-99.177444  18000.0      MXN                    17837.04   \n",
       "37596  25.6318402,-100.2801781  18000.0      MXN                    17837.04   \n",
       "\n",
       "       ...  surface_covered_in_m2  price_usd_per_m2  price_per_m2  floor  \\\n",
       "1      ...                  110.0         20.000000     20.000000    NaN   \n",
       "2      ...                  110.0         11.380818    172.727273    NaN   \n",
       "3      ...                   65.0         10.136769    153.846154    NaN   \n",
       "5      ...                   90.0          8.785222    133.333333    NaN   \n",
       "6      ...                   77.0          7.273377    110.389610    NaN   \n",
       "...    ...                    ...               ...           ...    ...   \n",
       "37585  ...                   57.0               NaN    192.982456    NaN   \n",
       "37593  ...                  100.0               NaN    145.000000    NaN   \n",
       "37594  ...                   78.0          7.747941    192.307692    NaN   \n",
       "37595  ...                   97.0               NaN    185.567010    NaN   \n",
       "37596  ...                    0.0               NaN           NaN    NaN   \n",
       "\n",
       "       rooms  expenses                                      properati_url  \\\n",
       "1        NaN       NaN  http://nuevo-centro-urbano.properati.com.mx/o4...   \n",
       "2        NaN       NaN  http://nuevo-centro-urbano.properati.com.mx/o5...   \n",
       "3        NaN       NaN  http://nuevo-centro-urbano.properati.com.mx/ob...   \n",
       "5        NaN       NaN  http://playa-del-carmen-playa-del-carmen.prope...   \n",
       "6        NaN       NaN  http://playa-del-carmen-playa-del-carmen.prope...   \n",
       "...      ...       ...                                                ...   \n",
       "37585    NaN       NaN  http://miguel-hidalgo-df.properati.com.mx/rdzd...   \n",
       "37593    NaN       NaN  http://san-pedro-garza-garcia.properati.com.mx...   \n",
       "37594    NaN       NaN  http://benito-juarez.properati.com.mx/re4r_ren...   \n",
       "37595    NaN       NaN  http://benito-juarez.properati.com.mx/re50_ren...   \n",
       "37596    NaN       NaN  http://monterrey-nuevo-leon.properati.com.mx/r...   \n",
       "\n",
       "                                             description  \\\n",
       "1      Referencia #27985. Ático completamente amuebla...   \n",
       "2      Referencia #27996. Departamento completamente ...   \n",
       "3      Referencia #29065. Departamento perfecto para ...   \n",
       "5      Referencia #30621. En el centro de Playa del C...   \n",
       "6      Referencia #31118. En el corazón de la Riviera...   \n",
       "...                                                  ...   \n",
       "37585  <p>Excelente departamento para estrenar, muy b...   \n",
       "37593  Nocnok ID: MX16-BW5320. departamento en el pis...   \n",
       "37594  <p>Del Valle Norte. Departamento de 78 m2, ext...   \n",
       "37595  <p>HERMOSO DEPARTAMENTO 3 RECAMARAS, 2 ESTACIO...   \n",
       "37596  <p> Excelente departamento en renta sobre aven...   \n",
       "\n",
       "                                                   title  \\\n",
       "1      Departamento en Alquiler. Ref. #27985. 2 Dormi...   \n",
       "2      Departamento en Alquiler. Ref. #27996. 2 Dormi...   \n",
       "3      Departamento en Alquiler. Ref. #29065. 1 Dormi...   \n",
       "5      Departamento en Alquiler. Ref. #30621. 2 Dormi...   \n",
       "6      Departamento en Alquiler. Ref. #31118. 2 Dormi...   \n",
       "...                                                  ...   \n",
       "37585                                Golfo de San Jorge    \n",
       "37593        Departamento en Renta en Valle de San Angel   \n",
       "37594   Departamento 78 m2, exterior, en 3er piso, co...   \n",
       "37595  IMPECABLE DEPARTAMENTO COL. NAPOLES DISTRITO F...   \n",
       "37596      DEPARTAMENTO EN RENTA EN MICROPOLIS MONTERREY   \n",
       "\n",
       "                                         image_thumbnail  \n",
       "1      https://thumbs-cf.properati.com/9/-DZ0FUVqgAnA...  \n",
       "2      https://thumbs-cf.properati.com/4/dyZjLPbRTuui...  \n",
       "3      https://thumbs-cf.properati.com/0/2tp0o2qIaZia...  \n",
       "5      https://thumbs-cf.properati.com/5/5CDhlOFw-NNj...  \n",
       "6      https://thumbs-cf.properati.com/9/rRjYVurvNdBO...  \n",
       "...                                                  ...  \n",
       "37585  https://thumbs-cf.properati.com/8/3lMAUAMqrPGX...  \n",
       "37593  https://thumbs-cf.properati.com/0/TIH9HHSOQoju...  \n",
       "37594                                                NaN  \n",
       "37595  https://thumbs-cf.properati.com/5/9sKH0jroF8wA...  \n",
       "37596  https://thumbs-cf.properati.com/4/LqbLb1KmjuXb...  \n",
       "\n",
       "[12671 rows x 22 columns]"
      ]
     },
     "execution_count": 43,
     "metadata": {},
     "output_type": "execute_result"
    }
   ],
   "source": [
    "df[df[\"property_type\"] ==\"apartment\" ]"
   ]
  },
  {
   "cell_type": "code",
   "execution_count": null,
   "id": "968d1025",
   "metadata": {},
   "outputs": [],
   "source": []
  },
  {
   "cell_type": "code",
   "execution_count": null,
   "id": "69e9fc78",
   "metadata": {},
   "outputs": [],
   "source": []
  },
  {
   "cell_type": "code",
   "execution_count": null,
   "id": "3faa5ed7",
   "metadata": {},
   "outputs": [],
   "source": []
  },
  {
   "cell_type": "code",
   "execution_count": 44,
   "id": "b03b2b6c",
   "metadata": {},
   "outputs": [
    {
     "data": {
      "text/plain": [
       "1782"
      ]
     },
     "execution_count": 44,
     "metadata": {},
     "output_type": "execute_result"
    }
   ],
   "source": [
    "# Estates in Quintana Roo District\n",
    "df = df[df[\"place_with_parent_names\"].str.contains(\"Quintana Roo\")]\n",
    "len(df)"
   ]
  },
  {
   "cell_type": "code",
   "execution_count": 45,
   "id": "ec2769ec",
   "metadata": {},
   "outputs": [
    {
     "data": {
      "text/plain": [
       "986"
      ]
     },
     "execution_count": 45,
     "metadata": {},
     "output_type": "execute_result"
    }
   ],
   "source": [
    "# Getting places that are only apartments\n",
    "df = df[df[\"property_type\"] == \"apartment\"]\n",
    "len(df)"
   ]
  },
  {
   "cell_type": "code",
   "execution_count": 46,
   "id": "ba257b65",
   "metadata": {},
   "outputs": [],
   "source": [
    "# Removing apartments costing more than $50,000\n",
    "df = df[df[\"price_aprox_usd\"] < 50_000]\n"
   ]
  },
  {
   "cell_type": "code",
   "execution_count": 47,
   "id": "3b9d00e8",
   "metadata": {},
   "outputs": [
    {
     "data": {
      "text/plain": [
       "965"
      ]
     },
     "execution_count": 47,
     "metadata": {},
     "output_type": "execute_result"
    }
   ],
   "source": [
    "len(df)"
   ]
  },
  {
   "cell_type": "code",
   "execution_count": 48,
   "id": "4361bd98",
   "metadata": {},
   "outputs": [],
   "source": [
    "mask_apar = df[\"property_type\"] == \"apartment\"\n",
    "mask_district= df[\"place_with_parent_names\"].str.contains(\"Quintana Roo\")\n",
    "mask_price= df[\"price_aprox_usd\"] < 50_000\n",
    "\n",
    "df = df[mask_apar & mask_district & mask_price]"
   ]
  },
  {
   "cell_type": "code",
   "execution_count": 49,
   "id": "ad523733",
   "metadata": {},
   "outputs": [
    {
     "data": {
      "text/plain": [
       "965"
      ]
     },
     "execution_count": 49,
     "metadata": {},
     "output_type": "execute_result"
    }
   ],
   "source": [
    "len(df)\n"
   ]
  },
  {
   "cell_type": "code",
   "execution_count": 50,
   "id": "c9422268",
   "metadata": {},
   "outputs": [
    {
     "name": "stdout",
     "output_type": "stream",
     "text": [
      "<class 'pandas.core.frame.DataFrame'>\n",
      "Int64Index: 965 entries, 1 to 37582\n",
      "Data columns (total 22 columns):\n",
      " #   Column                      Non-Null Count  Dtype  \n",
      "---  ------                      --------------  -----  \n",
      " 0   created_on                  965 non-null    object \n",
      " 1   operation                   965 non-null    object \n",
      " 2   property_type               965 non-null    object \n",
      " 3   place_name                  965 non-null    object \n",
      " 4   place_with_parent_names     965 non-null    object \n",
      " 5   geonames_id                 0 non-null      float64\n",
      " 6   lat-lon                     777 non-null    object \n",
      " 7   price                       965 non-null    float64\n",
      " 8   currency                    965 non-null    object \n",
      " 9   price_aprox_local_currency  965 non-null    float64\n",
      " 10  price_aprox_usd             965 non-null    float64\n",
      " 11  surface_total_in_m2         823 non-null    float64\n",
      " 12  surface_covered_in_m2       930 non-null    float64\n",
      " 13  price_usd_per_m2            439 non-null    float64\n",
      " 14  price_per_m2                723 non-null    float64\n",
      " 15  floor                       1 non-null      float64\n",
      " 16  rooms                       33 non-null     float64\n",
      " 17  expenses                    0 non-null      float64\n",
      " 18  properati_url               965 non-null    object \n",
      " 19  description                 965 non-null    object \n",
      " 20  title                       965 non-null    object \n",
      " 21  image_thumbnail             925 non-null    object \n",
      "dtypes: float64(11), object(11)\n",
      "memory usage: 173.4+ KB\n"
     ]
    }
   ],
   "source": [
    "df.info()"
   ]
  },
  {
   "cell_type": "code",
   "execution_count": null,
   "id": "36d7f1d7",
   "metadata": {},
   "outputs": [],
   "source": []
  },
  {
   "cell_type": "code",
   "execution_count": 51,
   "id": "93fdad98",
   "metadata": {},
   "outputs": [
    {
     "data": {
      "text/plain": [
       "1                20.626679,-87.075944\n",
       "2                20.626729,-87.075858\n",
       "3                20.630104,-87.072484\n",
       "5                20.630296,-87.072695\n",
       "6                20.628296,-87.072637\n",
       "                     ...             \n",
       "37478    20.6542296048,-87.0874536037\n",
       "37490            21.112115,-86.884902\n",
       "37510             21.11653,-86.891195\n",
       "37540            21.148013,-86.821479\n",
       "37582    21.1594001366,-86.8396711349\n",
       "Name: lat-lon, Length: 965, dtype: object"
      ]
     },
     "execution_count": 51,
     "metadata": {},
     "output_type": "execute_result"
    }
   ],
   "source": [
    "df[\"lat-lon\"]"
   ]
  },
  {
   "cell_type": "code",
   "execution_count": 52,
   "id": "62f20a5c",
   "metadata": {},
   "outputs": [
    {
     "data": {
      "text/plain": [
       "1                [20.626679, -87.075944]\n",
       "2                [20.626729, -87.075858]\n",
       "3                [20.630104, -87.072484]\n",
       "5                [20.630296, -87.072695]\n",
       "6                [20.628296, -87.072637]\n",
       "                      ...               \n",
       "37478    [20.6542296048, -87.0874536037]\n",
       "37490            [21.112115, -86.884902]\n",
       "37510             [21.11653, -86.891195]\n",
       "37540            [21.148013, -86.821479]\n",
       "37582    [21.1594001366, -86.8396711349]\n",
       "Name: lat-lon, Length: 965, dtype: object"
      ]
     },
     "execution_count": 52,
     "metadata": {},
     "output_type": "execute_result"
    }
   ],
   "source": [
    "df[\"lat-lon\"].str.split(\",\")"
   ]
  },
  {
   "cell_type": "code",
   "execution_count": null,
   "id": "d199cb32",
   "metadata": {},
   "outputs": [],
   "source": []
  },
  {
   "cell_type": "code",
   "execution_count": 53,
   "id": "b6bd57ac",
   "metadata": {},
   "outputs": [
    {
     "data": {
      "text/html": [
       "<div>\n",
       "<style scoped>\n",
       "    .dataframe tbody tr th:only-of-type {\n",
       "        vertical-align: middle;\n",
       "    }\n",
       "\n",
       "    .dataframe tbody tr th {\n",
       "        vertical-align: top;\n",
       "    }\n",
       "\n",
       "    .dataframe thead th {\n",
       "        text-align: right;\n",
       "    }\n",
       "</style>\n",
       "<table border=\"1\" class=\"dataframe\">\n",
       "  <thead>\n",
       "    <tr style=\"text-align: right;\">\n",
       "      <th></th>\n",
       "      <th>0</th>\n",
       "      <th>1</th>\n",
       "    </tr>\n",
       "  </thead>\n",
       "  <tbody>\n",
       "    <tr>\n",
       "      <th>1</th>\n",
       "      <td>20.626679</td>\n",
       "      <td>-87.075944</td>\n",
       "    </tr>\n",
       "    <tr>\n",
       "      <th>2</th>\n",
       "      <td>20.626729</td>\n",
       "      <td>-87.075858</td>\n",
       "    </tr>\n",
       "    <tr>\n",
       "      <th>3</th>\n",
       "      <td>20.630104</td>\n",
       "      <td>-87.072484</td>\n",
       "    </tr>\n",
       "    <tr>\n",
       "      <th>5</th>\n",
       "      <td>20.630296</td>\n",
       "      <td>-87.072695</td>\n",
       "    </tr>\n",
       "    <tr>\n",
       "      <th>6</th>\n",
       "      <td>20.628296</td>\n",
       "      <td>-87.072637</td>\n",
       "    </tr>\n",
       "    <tr>\n",
       "      <th>...</th>\n",
       "      <td>...</td>\n",
       "      <td>...</td>\n",
       "    </tr>\n",
       "    <tr>\n",
       "      <th>37478</th>\n",
       "      <td>20.6542296048</td>\n",
       "      <td>-87.0874536037</td>\n",
       "    </tr>\n",
       "    <tr>\n",
       "      <th>37490</th>\n",
       "      <td>21.112115</td>\n",
       "      <td>-86.884902</td>\n",
       "    </tr>\n",
       "    <tr>\n",
       "      <th>37510</th>\n",
       "      <td>21.11653</td>\n",
       "      <td>-86.891195</td>\n",
       "    </tr>\n",
       "    <tr>\n",
       "      <th>37540</th>\n",
       "      <td>21.148013</td>\n",
       "      <td>-86.821479</td>\n",
       "    </tr>\n",
       "    <tr>\n",
       "      <th>37582</th>\n",
       "      <td>21.1594001366</td>\n",
       "      <td>-86.8396711349</td>\n",
       "    </tr>\n",
       "  </tbody>\n",
       "</table>\n",
       "<p>965 rows × 2 columns</p>\n",
       "</div>"
      ],
      "text/plain": [
       "                   0               1\n",
       "1          20.626679      -87.075944\n",
       "2          20.626729      -87.075858\n",
       "3          20.630104      -87.072484\n",
       "5          20.630296      -87.072695\n",
       "6          20.628296      -87.072637\n",
       "...              ...             ...\n",
       "37478  20.6542296048  -87.0874536037\n",
       "37490      21.112115      -86.884902\n",
       "37510       21.11653      -86.891195\n",
       "37540      21.148013      -86.821479\n",
       "37582  21.1594001366  -86.8396711349\n",
       "\n",
       "[965 rows x 2 columns]"
      ]
     },
     "execution_count": 53,
     "metadata": {},
     "output_type": "execute_result"
    }
   ],
   "source": [
    "df[\"lat-lon\"].str.split(\",\", expand=True)"
   ]
  },
  {
   "cell_type": "code",
   "execution_count": 54,
   "id": "ee42dec1",
   "metadata": {},
   "outputs": [],
   "source": [
    "# Split \"lat-lon\" column\n",
    "df[[\"lat\", \"lon\"]] = df[\"lat-lon\"].str.split(\",\", expand=True).astype(float)\n",
    "df.drop(columns=\"lat-lon\", inplace=True)\n"
   ]
  },
  {
   "cell_type": "code",
   "execution_count": 55,
   "id": "7ba97c57",
   "metadata": {},
   "outputs": [
    {
     "name": "stdout",
     "output_type": "stream",
     "text": [
      "<class 'pandas.core.frame.DataFrame'>\n",
      "Int64Index: 965 entries, 1 to 37582\n",
      "Data columns (total 23 columns):\n",
      " #   Column                      Non-Null Count  Dtype  \n",
      "---  ------                      --------------  -----  \n",
      " 0   created_on                  965 non-null    object \n",
      " 1   operation                   965 non-null    object \n",
      " 2   property_type               965 non-null    object \n",
      " 3   place_name                  965 non-null    object \n",
      " 4   place_with_parent_names     965 non-null    object \n",
      " 5   geonames_id                 0 non-null      float64\n",
      " 6   price                       965 non-null    float64\n",
      " 7   currency                    965 non-null    object \n",
      " 8   price_aprox_local_currency  965 non-null    float64\n",
      " 9   price_aprox_usd             965 non-null    float64\n",
      " 10  surface_total_in_m2         823 non-null    float64\n",
      " 11  surface_covered_in_m2       930 non-null    float64\n",
      " 12  price_usd_per_m2            439 non-null    float64\n",
      " 13  price_per_m2                723 non-null    float64\n",
      " 14  floor                       1 non-null      float64\n",
      " 15  rooms                       33 non-null     float64\n",
      " 16  expenses                    0 non-null      float64\n",
      " 17  properati_url               965 non-null    object \n",
      " 18  description                 965 non-null    object \n",
      " 19  title                       965 non-null    object \n",
      " 20  image_thumbnail             925 non-null    object \n",
      " 21  lat                         777 non-null    float64\n",
      " 22  lon                         777 non-null    float64\n",
      "dtypes: float64(13), object(10)\n",
      "memory usage: 180.9+ KB\n"
     ]
    }
   ],
   "source": [
    "df.info()"
   ]
  },
  {
   "cell_type": "code",
   "execution_count": null,
   "id": "266b6d47",
   "metadata": {},
   "outputs": [],
   "source": []
  },
  {
   "cell_type": "code",
   "execution_count": 56,
   "id": "d663e158",
   "metadata": {},
   "outputs": [
    {
     "name": "stdout",
     "output_type": "stream",
     "text": [
      "<class 'pandas.core.frame.DataFrame'>\n",
      "Int64Index: 965 entries, 1 to 37582\n",
      "Data columns (total 23 columns):\n",
      " #   Column                      Non-Null Count  Dtype  \n",
      "---  ------                      --------------  -----  \n",
      " 0   created_on                  965 non-null    object \n",
      " 1   operation                   965 non-null    object \n",
      " 2   property_type               965 non-null    object \n",
      " 3   place_name                  965 non-null    object \n",
      " 4   place_with_parent_names     965 non-null    object \n",
      " 5   geonames_id                 0 non-null      float64\n",
      " 6   price                       965 non-null    float64\n",
      " 7   currency                    965 non-null    object \n",
      " 8   price_aprox_local_currency  965 non-null    float64\n",
      " 9   price_aprox_usd             965 non-null    float64\n",
      " 10  surface_total_in_m2         823 non-null    float64\n",
      " 11  surface_covered_in_m2       930 non-null    float64\n",
      " 12  price_usd_per_m2            439 non-null    float64\n",
      " 13  price_per_m2                723 non-null    float64\n",
      " 14  floor                       1 non-null      float64\n",
      " 15  rooms                       33 non-null     float64\n",
      " 16  expenses                    0 non-null      float64\n",
      " 17  properati_url               965 non-null    object \n",
      " 18  description                 965 non-null    object \n",
      " 19  title                       965 non-null    object \n",
      " 20  image_thumbnail             925 non-null    object \n",
      " 21  lat                         777 non-null    float64\n",
      " 22  lon                         777 non-null    float64\n",
      "dtypes: float64(13), object(10)\n",
      "memory usage: 180.9+ KB\n"
     ]
    }
   ],
   "source": [
    "df.info()"
   ]
  },
  {
   "cell_type": "markdown",
   "id": "f581634c",
   "metadata": {},
   "source": [
    "# Prepare Data\n",
    "## - Import\n",
    "## - Explore: Null Values, Low and High Cardnality, Leakage, Multicolineaity\n",
    "## - Split\n",
    "\n"
   ]
  },
  {
   "cell_type": "code",
   "execution_count": null,
   "id": "4bfb29d4",
   "metadata": {},
   "outputs": [],
   "source": []
  },
  {
   "cell_type": "code",
   "execution_count": 57,
   "id": "bc8bea77",
   "metadata": {},
   "outputs": [
    {
     "data": {
      "text/plain": [
       "created_on                      0\n",
       "operation                       0\n",
       "property_type                   0\n",
       "place_name                      0\n",
       "place_with_parent_names         0\n",
       "geonames_id                   965\n",
       "price                           0\n",
       "currency                        0\n",
       "price_aprox_local_currency      0\n",
       "price_aprox_usd                 0\n",
       "surface_total_in_m2           142\n",
       "surface_covered_in_m2          35\n",
       "price_usd_per_m2              526\n",
       "price_per_m2                  242\n",
       "floor                         964\n",
       "rooms                         932\n",
       "expenses                      965\n",
       "properati_url                   0\n",
       "description                     0\n",
       "title                           0\n",
       "image_thumbnail                40\n",
       "lat                           188\n",
       "lon                           188\n",
       "dtype: int64"
      ]
     },
     "execution_count": 57,
     "metadata": {},
     "output_type": "execute_result"
    }
   ],
   "source": [
    "df.isnull().sum()"
   ]
  },
  {
   "cell_type": "code",
   "execution_count": 58,
   "id": "1ea8e3f9",
   "metadata": {},
   "outputs": [
    {
     "data": {
      "text/plain": [
       "created_on                    0.000000\n",
       "operation                     0.000000\n",
       "property_type                 0.000000\n",
       "place_name                    0.000000\n",
       "place_with_parent_names       0.000000\n",
       "geonames_id                   1.000000\n",
       "price                         0.000000\n",
       "currency                      0.000000\n",
       "price_aprox_local_currency    0.000000\n",
       "price_aprox_usd               0.000000\n",
       "surface_total_in_m2           0.147150\n",
       "surface_covered_in_m2         0.036269\n",
       "price_usd_per_m2              0.545078\n",
       "price_per_m2                  0.250777\n",
       "floor                         0.998964\n",
       "rooms                         0.965803\n",
       "expenses                      1.000000\n",
       "properati_url                 0.000000\n",
       "description                   0.000000\n",
       "title                         0.000000\n",
       "image_thumbnail               0.041451\n",
       "lat                           0.194819\n",
       "lon                           0.194819\n",
       "dtype: float64"
      ]
     },
     "execution_count": 58,
     "metadata": {},
     "output_type": "execute_result"
    }
   ],
   "source": [
    "# Dropping columns with high number of null values\n",
    "df.isnull().sum()/len(df)"
   ]
  },
  {
   "cell_type": "code",
   "execution_count": 59,
   "id": "3a855df5",
   "metadata": {},
   "outputs": [
    {
     "data": {
      "text/plain": [
       "1        Nuevo Centro Urbano\n",
       "2        Nuevo Centro Urbano\n",
       "3        Nuevo Centro Urbano\n",
       "5           Playa del Carmen\n",
       "6           Playa del Carmen\n",
       "                ...         \n",
       "37478       Playa del Carmen\n",
       "37490          Benito Juárez\n",
       "37510          Benito Juárez\n",
       "37540          Benito Juárez\n",
       "37582                 Cancún\n",
       "Name: place_name, Length: 965, dtype: object"
      ]
     },
     "execution_count": 59,
     "metadata": {},
     "output_type": "execute_result"
    }
   ],
   "source": [
    "df[\"place_name\"]"
   ]
  },
  {
   "cell_type": "code",
   "execution_count": 60,
   "id": "ba255850",
   "metadata": {},
   "outputs": [],
   "source": [
    "df.drop(columns = [\"geonames_id\", \"floor\", \"rooms\", \"expenses\"], inplace = True)"
   ]
  },
  {
   "cell_type": "code",
   "execution_count": 61,
   "id": "e7ba2dd0",
   "metadata": {},
   "outputs": [
    {
     "name": "stdout",
     "output_type": "stream",
     "text": [
      "<class 'pandas.core.frame.DataFrame'>\n",
      "Int64Index: 965 entries, 1 to 37582\n",
      "Data columns (total 19 columns):\n",
      " #   Column                      Non-Null Count  Dtype  \n",
      "---  ------                      --------------  -----  \n",
      " 0   created_on                  965 non-null    object \n",
      " 1   operation                   965 non-null    object \n",
      " 2   property_type               965 non-null    object \n",
      " 3   place_name                  965 non-null    object \n",
      " 4   place_with_parent_names     965 non-null    object \n",
      " 5   price                       965 non-null    float64\n",
      " 6   currency                    965 non-null    object \n",
      " 7   price_aprox_local_currency  965 non-null    float64\n",
      " 8   price_aprox_usd             965 non-null    float64\n",
      " 9   surface_total_in_m2         823 non-null    float64\n",
      " 10  surface_covered_in_m2       930 non-null    float64\n",
      " 11  price_usd_per_m2            439 non-null    float64\n",
      " 12  price_per_m2                723 non-null    float64\n",
      " 13  properati_url               965 non-null    object \n",
      " 14  description                 965 non-null    object \n",
      " 15  title                       965 non-null    object \n",
      " 16  image_thumbnail             925 non-null    object \n",
      " 17  lat                         777 non-null    float64\n",
      " 18  lon                         777 non-null    float64\n",
      "dtypes: float64(9), object(10)\n",
      "memory usage: 150.8+ KB\n"
     ]
    }
   ],
   "source": [
    "df.info()"
   ]
  },
  {
   "cell_type": "markdown",
   "id": "6bab4881",
   "metadata": {},
   "source": [
    "# Prepare Data\n",
    "## - Import\n",
    "## - Explore: Null Values, Low and High Cardnality, Leakage, Multicolineaity\n",
    "## - Split\n"
   ]
  },
  {
   "cell_type": "code",
   "execution_count": 35,
   "id": "58e65102",
   "metadata": {},
   "outputs": [
    {
     "data": {
      "text/plain": [
       "created_on                 161\n",
       "operation                    1\n",
       "property_type                1\n",
       "place_with_parent_names     19\n",
       "currency                     3\n",
       "properati_url              965\n",
       "description                934\n",
       "title                      879\n",
       "image_thumbnail            746\n",
       "dtype: int64"
      ]
     },
     "execution_count": 35,
     "metadata": {},
     "output_type": "execute_result"
    }
   ],
   "source": [
    "# Dropping low and high cardinal features\n",
    "df.select_dtypes(\"object\").nunique()"
   ]
  },
  {
   "cell_type": "code",
   "execution_count": null,
   "id": "0792053e",
   "metadata": {},
   "outputs": [],
   "source": []
  },
  {
   "cell_type": "code",
   "execution_count": 63,
   "id": "ead3d185",
   "metadata": {},
   "outputs": [],
   "source": [
    "df.drop(columns = [\"operation\",\"created_on\",\"property_type\", \"place_with_parent_names\", \"properati_url\", \"description\", \"title\", \"image_thumbnail\",\"created_on\"], inplace = True)"
   ]
  },
  {
   "cell_type": "code",
   "execution_count": 64,
   "id": "f1451598",
   "metadata": {},
   "outputs": [
    {
     "name": "stdout",
     "output_type": "stream",
     "text": [
      "<class 'pandas.core.frame.DataFrame'>\n",
      "Int64Index: 965 entries, 1 to 37582\n",
      "Data columns (total 11 columns):\n",
      " #   Column                      Non-Null Count  Dtype  \n",
      "---  ------                      --------------  -----  \n",
      " 0   place_name                  965 non-null    object \n",
      " 1   price                       965 non-null    float64\n",
      " 2   currency                    965 non-null    object \n",
      " 3   price_aprox_local_currency  965 non-null    float64\n",
      " 4   price_aprox_usd             965 non-null    float64\n",
      " 5   surface_total_in_m2         823 non-null    float64\n",
      " 6   surface_covered_in_m2       930 non-null    float64\n",
      " 7   price_usd_per_m2            439 non-null    float64\n",
      " 8   price_per_m2                723 non-null    float64\n",
      " 9   lat                         777 non-null    float64\n",
      " 10  lon                         777 non-null    float64\n",
      "dtypes: float64(9), object(2)\n",
      "memory usage: 90.5+ KB\n"
     ]
    }
   ],
   "source": [
    "# Dropping leaky columns\n",
    "df.info()\n"
   ]
  },
  {
   "cell_type": "code",
   "execution_count": 65,
   "id": "b899ad6a",
   "metadata": {},
   "outputs": [
    {
     "data": {
      "text/html": [
       "<div>\n",
       "<style scoped>\n",
       "    .dataframe tbody tr th:only-of-type {\n",
       "        vertical-align: middle;\n",
       "    }\n",
       "\n",
       "    .dataframe tbody tr th {\n",
       "        vertical-align: top;\n",
       "    }\n",
       "\n",
       "    .dataframe thead th {\n",
       "        text-align: right;\n",
       "    }\n",
       "</style>\n",
       "<table border=\"1\" class=\"dataframe\">\n",
       "  <thead>\n",
       "    <tr style=\"text-align: right;\">\n",
       "      <th></th>\n",
       "      <th>place_name</th>\n",
       "      <th>price</th>\n",
       "      <th>currency</th>\n",
       "      <th>price_aprox_local_currency</th>\n",
       "      <th>price_aprox_usd</th>\n",
       "      <th>surface_total_in_m2</th>\n",
       "      <th>surface_covered_in_m2</th>\n",
       "      <th>price_usd_per_m2</th>\n",
       "      <th>price_per_m2</th>\n",
       "      <th>lat</th>\n",
       "      <th>lon</th>\n",
       "    </tr>\n",
       "  </thead>\n",
       "  <tbody>\n",
       "    <tr>\n",
       "      <th>1</th>\n",
       "      <td>Nuevo Centro Urbano</td>\n",
       "      <td>2200.0</td>\n",
       "      <td>USD</td>\n",
       "      <td>41378.70</td>\n",
       "      <td>2200.00</td>\n",
       "      <td>110.0</td>\n",
       "      <td>110.0</td>\n",
       "      <td>20.000000</td>\n",
       "      <td>20.000000</td>\n",
       "      <td>20.626679</td>\n",
       "      <td>-87.075944</td>\n",
       "    </tr>\n",
       "    <tr>\n",
       "      <th>2</th>\n",
       "      <td>Nuevo Centro Urbano</td>\n",
       "      <td>19000.0</td>\n",
       "      <td>ARS</td>\n",
       "      <td>23546.17</td>\n",
       "      <td>1251.89</td>\n",
       "      <td>110.0</td>\n",
       "      <td>110.0</td>\n",
       "      <td>11.380818</td>\n",
       "      <td>172.727273</td>\n",
       "      <td>20.626729</td>\n",
       "      <td>-87.075858</td>\n",
       "    </tr>\n",
       "    <tr>\n",
       "      <th>3</th>\n",
       "      <td>Nuevo Centro Urbano</td>\n",
       "      <td>10000.0</td>\n",
       "      <td>ARS</td>\n",
       "      <td>12392.73</td>\n",
       "      <td>658.89</td>\n",
       "      <td>65.0</td>\n",
       "      <td>65.0</td>\n",
       "      <td>10.136769</td>\n",
       "      <td>153.846154</td>\n",
       "      <td>20.630104</td>\n",
       "      <td>-87.072484</td>\n",
       "    </tr>\n",
       "    <tr>\n",
       "      <th>5</th>\n",
       "      <td>Playa del Carmen</td>\n",
       "      <td>12000.0</td>\n",
       "      <td>ARS</td>\n",
       "      <td>14871.31</td>\n",
       "      <td>790.67</td>\n",
       "      <td>90.0</td>\n",
       "      <td>90.0</td>\n",
       "      <td>8.785222</td>\n",
       "      <td>133.333333</td>\n",
       "      <td>20.630296</td>\n",
       "      <td>-87.072695</td>\n",
       "    </tr>\n",
       "    <tr>\n",
       "      <th>6</th>\n",
       "      <td>Playa del Carmen</td>\n",
       "      <td>8500.0</td>\n",
       "      <td>ARS</td>\n",
       "      <td>10533.70</td>\n",
       "      <td>560.05</td>\n",
       "      <td>77.0</td>\n",
       "      <td>77.0</td>\n",
       "      <td>7.273377</td>\n",
       "      <td>110.389610</td>\n",
       "      <td>20.628296</td>\n",
       "      <td>-87.072637</td>\n",
       "    </tr>\n",
       "  </tbody>\n",
       "</table>\n",
       "</div>"
      ],
      "text/plain": [
       "            place_name    price currency  price_aprox_local_currency  \\\n",
       "1  Nuevo Centro Urbano   2200.0      USD                    41378.70   \n",
       "2  Nuevo Centro Urbano  19000.0      ARS                    23546.17   \n",
       "3  Nuevo Centro Urbano  10000.0      ARS                    12392.73   \n",
       "5     Playa del Carmen  12000.0      ARS                    14871.31   \n",
       "6     Playa del Carmen   8500.0      ARS                    10533.70   \n",
       "\n",
       "   price_aprox_usd  surface_total_in_m2  surface_covered_in_m2  \\\n",
       "1          2200.00                110.0                  110.0   \n",
       "2          1251.89                110.0                  110.0   \n",
       "3           658.89                 65.0                   65.0   \n",
       "5           790.67                 90.0                   90.0   \n",
       "6           560.05                 77.0                   77.0   \n",
       "\n",
       "   price_usd_per_m2  price_per_m2        lat        lon  \n",
       "1         20.000000     20.000000  20.626679 -87.075944  \n",
       "2         11.380818    172.727273  20.626729 -87.075858  \n",
       "3         10.136769    153.846154  20.630104 -87.072484  \n",
       "5          8.785222    133.333333  20.630296 -87.072695  \n",
       "6          7.273377    110.389610  20.628296 -87.072637  "
      ]
     },
     "execution_count": 65,
     "metadata": {},
     "output_type": "execute_result"
    }
   ],
   "source": [
    "df.head()"
   ]
  },
  {
   "cell_type": "markdown",
   "id": "1279a9da",
   "metadata": {},
   "source": []
  },
  {
   "cell_type": "code",
   "execution_count": null,
   "id": "1d2db702",
   "metadata": {},
   "outputs": [],
   "source": []
  },
  {
   "cell_type": "code",
   "execution_count": 66,
   "id": "aec6dc50",
   "metadata": {},
   "outputs": [],
   "source": [
    "df.drop(columns = [\"price\", \"currency\", \"price_aprox_local_currency\", \"price_usd_per_m2\", \"price_per_m2\"], inplace = True)"
   ]
  },
  {
   "cell_type": "code",
   "execution_count": 67,
   "id": "0ec89b13",
   "metadata": {},
   "outputs": [],
   "source": [
    "# Dropping columns with multiple collinearity\n",
    "corr = df.select_dtypes(\"number\").drop(columns=\"price_aprox_usd\").corr()\n"
   ]
  },
  {
   "cell_type": "code",
   "execution_count": 68,
   "id": "edeef710",
   "metadata": {},
   "outputs": [
    {
     "data": {
      "text/html": [
       "<div>\n",
       "<style scoped>\n",
       "    .dataframe tbody tr th:only-of-type {\n",
       "        vertical-align: middle;\n",
       "    }\n",
       "\n",
       "    .dataframe tbody tr th {\n",
       "        vertical-align: top;\n",
       "    }\n",
       "\n",
       "    .dataframe thead th {\n",
       "        text-align: right;\n",
       "    }\n",
       "</style>\n",
       "<table border=\"1\" class=\"dataframe\">\n",
       "  <thead>\n",
       "    <tr style=\"text-align: right;\">\n",
       "      <th></th>\n",
       "      <th>surface_total_in_m2</th>\n",
       "      <th>surface_covered_in_m2</th>\n",
       "      <th>lat</th>\n",
       "      <th>lon</th>\n",
       "    </tr>\n",
       "  </thead>\n",
       "  <tbody>\n",
       "    <tr>\n",
       "      <th>surface_total_in_m2</th>\n",
       "      <td>1.000000</td>\n",
       "      <td>0.103321</td>\n",
       "      <td>0.131392</td>\n",
       "      <td>0.128711</td>\n",
       "    </tr>\n",
       "    <tr>\n",
       "      <th>surface_covered_in_m2</th>\n",
       "      <td>0.103321</td>\n",
       "      <td>1.000000</td>\n",
       "      <td>0.209372</td>\n",
       "      <td>0.059558</td>\n",
       "    </tr>\n",
       "    <tr>\n",
       "      <th>lat</th>\n",
       "      <td>0.131392</td>\n",
       "      <td>0.209372</td>\n",
       "      <td>1.000000</td>\n",
       "      <td>-0.070437</td>\n",
       "    </tr>\n",
       "    <tr>\n",
       "      <th>lon</th>\n",
       "      <td>0.128711</td>\n",
       "      <td>0.059558</td>\n",
       "      <td>-0.070437</td>\n",
       "      <td>1.000000</td>\n",
       "    </tr>\n",
       "  </tbody>\n",
       "</table>\n",
       "</div>"
      ],
      "text/plain": [
       "                       surface_total_in_m2  surface_covered_in_m2       lat  \\\n",
       "surface_total_in_m2               1.000000               0.103321  0.131392   \n",
       "surface_covered_in_m2             0.103321               1.000000  0.209372   \n",
       "lat                               0.131392               0.209372  1.000000   \n",
       "lon                               0.128711               0.059558 -0.070437   \n",
       "\n",
       "                            lon  \n",
       "surface_total_in_m2    0.128711  \n",
       "surface_covered_in_m2  0.059558  \n",
       "lat                   -0.070437  \n",
       "lon                    1.000000  "
      ]
     },
     "execution_count": 68,
     "metadata": {},
     "output_type": "execute_result"
    }
   ],
   "source": [
    "corr"
   ]
  },
  {
   "cell_type": "code",
   "execution_count": 70,
   "id": "b5ce9331",
   "metadata": {},
   "outputs": [
    {
     "data": {
      "text/plain": [
       "<AxesSubplot:>"
      ]
     },
     "execution_count": 70,
     "metadata": {},
     "output_type": "execute_result"
    },
    {
     "data": {
      "image/png": "[encoded data removed]",
      "text/plain": [
       "<Figure size 432x288 with 2 Axes>"
      ]
     },
     "metadata": {
      "needs_background": "light"
     },
     "output_type": "display_data"
    }
   ],
   "source": [
    "sns.heatmap(corr, cbar=True)"
   ]
  },
  {
   "cell_type": "code",
   "execution_count": 73,
   "id": "31b5ba22",
   "metadata": {},
   "outputs": [
    {
     "data": {
      "text/plain": [
       "0.22588069409443406"
      ]
     },
     "execution_count": 73,
     "metadata": {},
     "output_type": "execute_result"
    }
   ],
   "source": [
    "df[\"lat\"].corr(df[\"price_aprox_usd\"])"
   ]
  },
  {
   "cell_type": "code",
   "execution_count": 74,
   "id": "1e97fd87",
   "metadata": {},
   "outputs": [
    {
     "data": {
      "text/plain": [
       "0.09822955043816947"
      ]
     },
     "execution_count": 74,
     "metadata": {},
     "output_type": "execute_result"
    }
   ],
   "source": [
    "df[\"lon\"].corr(df[\"price_aprox_usd\"])"
   ]
  },
  {
   "cell_type": "code",
   "execution_count": null,
   "id": "dbab8ca0",
   "metadata": {},
   "outputs": [],
   "source": []
  },
  {
   "cell_type": "code",
   "execution_count": 42,
   "id": "f0323ca9",
   "metadata": {},
   "outputs": [],
   "source": [
    "# df.drop(columns=[\"lon\"], inplace = True)"
   ]
  },
  {
   "cell_type": "code",
   "execution_count": 2,
   "id": "ed4aee73",
   "metadata": {},
   "outputs": [],
   "source": [
    "def wrangle(filepath):\n",
    "    # Read CSV file\n",
    "    df = pd.read_csv(filepath)\n",
    "\n",
    "    # Subset data: Apartments in \"Quintana Roo\", less than 50,000\n",
    "    mask_apar = df[\"property_type\"] == \"apartment\"\n",
    "    mask_district= df[\"place_with_parent_names\"].str.contains(\"Quintana Roo\")\n",
    "    mask_price= df[\"price_aprox_usd\"] < 50_000\n",
    "\n",
    "    df = df[mask_apar & mask_district & mask_price]\n",
    "    \n",
    "    # Split \"lat-lon\" column\n",
    "    df[[\"lat\", \"lon\"]] = df[\"lat-lon\"].str.split(\",\", expand=True).astype(float)\n",
    "    df.drop(columns=\"lat-lon\", inplace=True)\n",
    "    \n",
    "    \n",
    "    \n",
    "    # Dropping columns with high number of null values\n",
    "    df.drop(columns = [\"geonames_id\", \"floor\", \"rooms\", \"expenses\", \"place_name\"], inplace = True)\n",
    "    \n",
    "    # Dropping low and high cardinal features\n",
    "    df.drop(columns = [\"operation\",\"created_on\",\"property_type\", \"place_with_parent_names\", \"properati_url\", \"description\", \"title\", \"image_thumbnail\",\"created_on\"], inplace = True)  \n",
    "    \n",
    "    # Dropping leaky columns\n",
    "    df.drop(columns = [\"price\", \"currency\", \"price_aprox_local_currency\", \"price_usd_per_m2\", \"price_per_m2\"], inplace = True)\n",
    "       \n",
    "    return df"
   ]
  },
  {
   "cell_type": "code",
   "execution_count": 5,
   "id": "6565e978",
   "metadata": {},
   "outputs": [],
   "source": [
    "df = wrangle(\"mexico-real-estate.csv\")"
   ]
  },
  {
   "cell_type": "code",
   "execution_count": 175,
   "id": "bda829c1",
   "metadata": {},
   "outputs": [
    {
     "data": {
      "text/plain": [
       "price_aprox_usd            0\n",
       "surface_total_in_m2      142\n",
       "surface_covered_in_m2     35\n",
       "lat                      188\n",
       "lon                      188\n",
       "dtype: int64"
      ]
     },
     "execution_count": 175,
     "metadata": {},
     "output_type": "execute_result"
    }
   ],
   "source": [
    "df.isnull().sum()"
   ]
  },
  {
   "cell_type": "code",
   "execution_count": null,
   "id": "988a46a0",
   "metadata": {},
   "outputs": [],
   "source": []
  },
  {
   "cell_type": "code",
   "execution_count": 18,
   "id": "7300209a",
   "metadata": {},
   "outputs": [
    {
     "data": {
      "text/plain": [
       "20.91235121420605"
      ]
     },
     "execution_count": 18,
     "metadata": {},
     "output_type": "execute_result"
    }
   ],
   "source": [
    "# Replacing the null values \n",
    "df[\"lat\"].mean()"
   ]
  },
  {
   "cell_type": "code",
   "execution_count": 43,
   "id": "d5c692c9",
   "metadata": {},
   "outputs": [],
   "source": [
    "df[\"lat\"].replace(np.nan, df[\"lat\"].mean(), inplace=True)\n",
    "df[\"lon\"].replace(np.nan, df[\"lon\"].mean(), inplace=True)\n",
    "df[\"surface_total_in_m2\"].replace(np.nan, df[\"surface_total_in_m2\"].mean(), inplace=True)\n",
    "df[\"surface_covered_in_m2\"].replace(np.nan, df[\"surface_covered_in_m2\"].mean(), inplace=True)\n"
   ]
  },
  {
   "cell_type": "code",
   "execution_count": null,
   "id": "3bf38fdb",
   "metadata": {},
   "outputs": [],
   "source": []
  },
  {
   "cell_type": "code",
   "execution_count": 20,
   "id": "87904cf0",
   "metadata": {},
   "outputs": [
    {
     "data": {
      "text/plain": [
       "price_aprox_usd          0\n",
       "surface_total_in_m2      0\n",
       "surface_covered_in_m2    0\n",
       "lat                      0\n",
       "lon                      0\n",
       "dtype: int64"
      ]
     },
     "execution_count": 20,
     "metadata": {},
     "output_type": "execute_result"
    }
   ],
   "source": [
    "df.isnull().sum()"
   ]
  },
  {
   "cell_type": "code",
   "execution_count": 50,
   "id": "c94e95cb",
   "metadata": {},
   "outputs": [
    {
     "data": {
      "text/html": [
       "<div>\n",
       "<style scoped>\n",
       "    .dataframe tbody tr th:only-of-type {\n",
       "        vertical-align: middle;\n",
       "    }\n",
       "\n",
       "    .dataframe tbody tr th {\n",
       "        vertical-align: top;\n",
       "    }\n",
       "\n",
       "    .dataframe thead th {\n",
       "        text-align: right;\n",
       "    }\n",
       "</style>\n",
       "<table border=\"1\" class=\"dataframe\">\n",
       "  <thead>\n",
       "    <tr style=\"text-align: right;\">\n",
       "      <th></th>\n",
       "      <th>price_aprox_usd</th>\n",
       "      <th>surface_total_in_m2</th>\n",
       "      <th>surface_covered_in_m2</th>\n",
       "      <th>lat</th>\n",
       "      <th>lon</th>\n",
       "    </tr>\n",
       "  </thead>\n",
       "  <tbody>\n",
       "    <tr>\n",
       "      <th>1</th>\n",
       "      <td>2200.00</td>\n",
       "      <td>110.0</td>\n",
       "      <td>110.0</td>\n",
       "      <td>20.626679</td>\n",
       "      <td>-87.075944</td>\n",
       "    </tr>\n",
       "    <tr>\n",
       "      <th>2</th>\n",
       "      <td>1251.89</td>\n",
       "      <td>110.0</td>\n",
       "      <td>110.0</td>\n",
       "      <td>20.626729</td>\n",
       "      <td>-87.075858</td>\n",
       "    </tr>\n",
       "    <tr>\n",
       "      <th>3</th>\n",
       "      <td>658.89</td>\n",
       "      <td>65.0</td>\n",
       "      <td>65.0</td>\n",
       "      <td>20.630104</td>\n",
       "      <td>-87.072484</td>\n",
       "    </tr>\n",
       "    <tr>\n",
       "      <th>5</th>\n",
       "      <td>790.67</td>\n",
       "      <td>90.0</td>\n",
       "      <td>90.0</td>\n",
       "      <td>20.630296</td>\n",
       "      <td>-87.072695</td>\n",
       "    </tr>\n",
       "    <tr>\n",
       "      <th>6</th>\n",
       "      <td>560.05</td>\n",
       "      <td>77.0</td>\n",
       "      <td>77.0</td>\n",
       "      <td>20.628296</td>\n",
       "      <td>-87.072637</td>\n",
       "    </tr>\n",
       "  </tbody>\n",
       "</table>\n",
       "</div>"
      ],
      "text/plain": [
       "   price_aprox_usd  surface_total_in_m2  surface_covered_in_m2        lat  \\\n",
       "1          2200.00                110.0                  110.0  20.626679   \n",
       "2          1251.89                110.0                  110.0  20.626729   \n",
       "3           658.89                 65.0                   65.0  20.630104   \n",
       "5           790.67                 90.0                   90.0  20.630296   \n",
       "6           560.05                 77.0                   77.0  20.628296   \n",
       "\n",
       "         lon  \n",
       "1 -87.075944  \n",
       "2 -87.075858  \n",
       "3 -87.072484  \n",
       "5 -87.072695  \n",
       "6 -87.072637  "
      ]
     },
     "execution_count": 50,
     "metadata": {},
     "output_type": "execute_result"
    }
   ],
   "source": [
    "df.head()"
   ]
  },
  {
   "cell_type": "code",
   "execution_count": 62,
   "id": "ee514e2d",
   "metadata": {},
   "outputs": [
    {
     "data": {
      "text/plain": [
       "<matplotlib.collections.PathCollection at 0x7faecdda1100>"
      ]
     },
     "execution_count": 62,
     "metadata": {},
     "output_type": "execute_result"
    },
    {
     "data": {
      "image/png": "[encoded data removed]",
      "text/plain": [
       "<Figure size 432x288 with 1 Axes>"
      ]
     },
     "metadata": {
      "needs_background": "light"
     },
     "output_type": "display_data"
    }
   ],
   "source": [
    "# Scatter plot\n",
    "plt.scatter(x= df[\"surface_covered_in_m2\"], y =df[\"price_aprox_usd\"])"
   ]
  },
  {
   "cell_type": "code",
   "execution_count": null,
   "id": "7aa35e0c",
   "metadata": {},
   "outputs": [],
   "source": []
  },
  {
   "cell_type": "code",
   "execution_count": 49,
   "id": "628f35c7",
   "metadata": {},
   "outputs": [
    {
     "data": {
      "image/png": "[encoded data removed]",
      "text/plain": [
       "<Figure size 432x288 with 1 Axes>"
      ]
     },
     "metadata": {
      "needs_background": "light"
     },
     "output_type": "display_data"
    }
   ],
   "source": [
    "# Distribution plot\n",
    "plt.hist(df[\"surface_covered_in_m2\"])\n",
    "plt.xlabel(\"surface_covered_in_m2\")\n",
    "plt.ylabel(\"Frequency\")\n",
    "plt.title(\"Distribution of surface_covered_in_m2\");"
   ]
  },
  {
   "cell_type": "code",
   "execution_count": 68,
   "id": "4018753e",
   "metadata": {},
   "outputs": [
    {
     "data": {
      "image/png": "[encoded data removed]",
      "text/plain": [
       "<Figure size 1152x504 with 1 Axes>"
      ]
     },
     "metadata": {
      "needs_background": "light"
     },
     "output_type": "display_data"
    }
   ],
   "source": [
    "# Box plots\n",
    "fig, ax = plt.subplots(figsize = (16,7))\n",
    "plt.boxplot(df[\"surface_covered_in_m2\"], vert=False);"
   ]
  },
  {
   "cell_type": "code",
   "execution_count": null,
   "id": "057cd872",
   "metadata": {},
   "outputs": [],
   "source": []
  },
  {
   "cell_type": "code",
   "execution_count": 65,
   "id": "31e5621a",
   "metadata": {},
   "outputs": [
    {
     "data": {
      "text/html": [
       "<div>\n",
       "<style scoped>\n",
       "    .dataframe tbody tr th:only-of-type {\n",
       "        vertical-align: middle;\n",
       "    }\n",
       "\n",
       "    .dataframe tbody tr th {\n",
       "        vertical-align: top;\n",
       "    }\n",
       "\n",
       "    .dataframe thead th {\n",
       "        text-align: right;\n",
       "    }\n",
       "</style>\n",
       "<table border=\"1\" class=\"dataframe\">\n",
       "  <thead>\n",
       "    <tr style=\"text-align: right;\">\n",
       "      <th></th>\n",
       "      <th>price_aprox_usd</th>\n",
       "      <th>surface_total_in_m2</th>\n",
       "      <th>surface_covered_in_m2</th>\n",
       "      <th>lat</th>\n",
       "      <th>lon</th>\n",
       "    </tr>\n",
       "  </thead>\n",
       "  <tbody>\n",
       "    <tr>\n",
       "      <th>1</th>\n",
       "      <td>2200.00</td>\n",
       "      <td>110.000000</td>\n",
       "      <td>110.0</td>\n",
       "      <td>20.626679</td>\n",
       "      <td>-87.075944</td>\n",
       "    </tr>\n",
       "    <tr>\n",
       "      <th>2</th>\n",
       "      <td>1251.89</td>\n",
       "      <td>110.000000</td>\n",
       "      <td>110.0</td>\n",
       "      <td>20.626729</td>\n",
       "      <td>-87.075858</td>\n",
       "    </tr>\n",
       "    <tr>\n",
       "      <th>3</th>\n",
       "      <td>658.89</td>\n",
       "      <td>65.000000</td>\n",
       "      <td>65.0</td>\n",
       "      <td>20.630104</td>\n",
       "      <td>-87.072484</td>\n",
       "    </tr>\n",
       "    <tr>\n",
       "      <th>5</th>\n",
       "      <td>790.67</td>\n",
       "      <td>90.000000</td>\n",
       "      <td>90.0</td>\n",
       "      <td>20.630296</td>\n",
       "      <td>-87.072695</td>\n",
       "    </tr>\n",
       "    <tr>\n",
       "      <th>6</th>\n",
       "      <td>560.05</td>\n",
       "      <td>77.000000</td>\n",
       "      <td>77.0</td>\n",
       "      <td>20.628296</td>\n",
       "      <td>-87.072637</td>\n",
       "    </tr>\n",
       "    <tr>\n",
       "      <th>...</th>\n",
       "      <td>...</td>\n",
       "      <td>...</td>\n",
       "      <td>...</td>\n",
       "      <td>...</td>\n",
       "      <td>...</td>\n",
       "    </tr>\n",
       "    <tr>\n",
       "      <th>37478</th>\n",
       "      <td>500.64</td>\n",
       "      <td>65.000000</td>\n",
       "      <td>65.0</td>\n",
       "      <td>20.654230</td>\n",
       "      <td>-87.087454</td>\n",
       "    </tr>\n",
       "    <tr>\n",
       "      <th>37490</th>\n",
       "      <td>342.46</td>\n",
       "      <td>224.119077</td>\n",
       "      <td>66.0</td>\n",
       "      <td>21.112115</td>\n",
       "      <td>-86.884902</td>\n",
       "    </tr>\n",
       "    <tr>\n",
       "      <th>37510</th>\n",
       "      <td>737.78</td>\n",
       "      <td>224.119077</td>\n",
       "      <td>120.0</td>\n",
       "      <td>21.116530</td>\n",
       "      <td>-86.891195</td>\n",
       "    </tr>\n",
       "    <tr>\n",
       "      <th>37540</th>\n",
       "      <td>1314.83</td>\n",
       "      <td>224.119077</td>\n",
       "      <td>96.0</td>\n",
       "      <td>21.148013</td>\n",
       "      <td>-86.821479</td>\n",
       "    </tr>\n",
       "    <tr>\n",
       "      <th>37582</th>\n",
       "      <td>316.19</td>\n",
       "      <td>0.000000</td>\n",
       "      <td>0.0</td>\n",
       "      <td>21.159400</td>\n",
       "      <td>-86.839671</td>\n",
       "    </tr>\n",
       "  </tbody>\n",
       "</table>\n",
       "<p>868 rows × 5 columns</p>\n",
       "</div>"
      ],
      "text/plain": [
       "       price_aprox_usd  surface_total_in_m2  surface_covered_in_m2        lat  \\\n",
       "1              2200.00           110.000000                  110.0  20.626679   \n",
       "2              1251.89           110.000000                  110.0  20.626729   \n",
       "3               658.89            65.000000                   65.0  20.630104   \n",
       "5               790.67            90.000000                   90.0  20.630296   \n",
       "6               560.05            77.000000                   77.0  20.628296   \n",
       "...                ...                  ...                    ...        ...   \n",
       "37478           500.64            65.000000                   65.0  20.654230   \n",
       "37490           342.46           224.119077                   66.0  21.112115   \n",
       "37510           737.78           224.119077                  120.0  21.116530   \n",
       "37540          1314.83           224.119077                   96.0  21.148013   \n",
       "37582           316.19             0.000000                    0.0  21.159400   \n",
       "\n",
       "             lon  \n",
       "1     -87.075944  \n",
       "2     -87.075858  \n",
       "3     -87.072484  \n",
       "5     -87.072695  \n",
       "6     -87.072637  \n",
       "...          ...  \n",
       "37478 -87.087454  \n",
       "37490 -86.884902  \n",
       "37510 -86.891195  \n",
       "37540 -86.821479  \n",
       "37582 -86.839671  \n",
       "\n",
       "[868 rows x 5 columns]"
      ]
     },
     "execution_count": 65,
     "metadata": {},
     "output_type": "execute_result"
    }
   ],
   "source": [
    "# Remove outliers for \"surface_covered_in_m2\"\n",
    "low, high = df[\"surface_covered_in_m2\"].quantile([0.1, 0.9])\n",
    "mask_area = df[\"surface_covered_in_m2\"].between(low, high)\n",
    "df[mask_area]"
   ]
  },
  {
   "cell_type": "code",
   "execution_count": 67,
   "id": "fa2e60cb",
   "metadata": {},
   "outputs": [
    {
     "data": {
      "image/png": "[encoded data removed]",
      "text/plain": [
       "<Figure size 1152x504 with 1 Axes>"
      ]
     },
     "metadata": {
      "needs_background": "light"
     },
     "output_type": "display_data"
    }
   ],
   "source": [
    "# Boxplot after removing outliers\n",
    "fig, ax = plt.subplots(figsize = (16,7))\n",
    "plt.boxplot(df[mask_area][\"surface_covered_in_m2\"], vert=False);"
   ]
  },
  {
   "cell_type": "code",
   "execution_count": null,
   "id": "fe5e0f87",
   "metadata": {},
   "outputs": [],
   "source": []
  },
  {
   "cell_type": "code",
   "execution_count": null,
   "id": "5e36a1f6",
   "metadata": {},
   "outputs": [],
   "source": [
    "# Pairplot of the dataframe \n",
    "sns.pairplot(df)"
   ]
  },
  {
   "cell_type": "code",
   "execution_count": null,
   "id": "cedd52c8",
   "metadata": {},
   "outputs": [],
   "source": []
  },
  {
   "cell_type": "code",
   "execution_count": 466,
   "id": "a21e104c",
   "metadata": {},
   "outputs": [],
   "source": [
    "# Split Data\n",
    "target = \"price_aprox_usd\"\n",
    "y = df[target]\n",
    "\n",
    "features = [\"surface_covered_in_m2\", \"lat\", \"lon\", \"surface_total_in_m2\"]\n",
    "X =  df[features]"
   ]
  },
  {
   "cell_type": "code",
   "execution_count": 427,
   "id": "07e075ab",
   "metadata": {},
   "outputs": [],
   "source": [
    "# Train-Test Split\n",
    "X_train, X_test, y_train, y_test = train_test_split(X, y, test_size=0.2, random_state=42)"
   ]
  },
  {
   "cell_type": "code",
   "execution_count": null,
   "id": "9f27f539",
   "metadata": {},
   "outputs": [],
   "source": []
  },
  {
   "cell_type": "markdown",
   "id": "a20ba8b0",
   "metadata": {},
   "source": [
    "# Build model"
   ]
  },
  {
   "cell_type": "code",
   "execution_count": 428,
   "id": "512f584a",
   "metadata": {},
   "outputs": [
    {
     "name": "stdout",
     "output_type": "stream",
     "text": [
      "Mean apt price: 1316.48\n",
      "Baseline MAE: 931.4173150957071\n"
     ]
    }
   ],
   "source": [
    "# Setting model baseline\n",
    "y_mean = y_train.mean() \n",
    "y_pred_baseline = [y_mean]*len(y_train)\n",
    "print(\"Mean apt price:\",round(y_mean,2))\n",
    "\n",
    "print(\"Baseline MAE:\", mean_absolute_error(y_train, y_pred_baseline))"
   ]
  },
  {
   "cell_type": "code",
   "execution_count": 429,
   "id": "ce5f2fe3",
   "metadata": {},
   "outputs": [
    {
     "data": {
      "text/html": [
       "<div>\n",
       "<style scoped>\n",
       "    .dataframe tbody tr th:only-of-type {\n",
       "        vertical-align: middle;\n",
       "    }\n",
       "\n",
       "    .dataframe tbody tr th {\n",
       "        vertical-align: top;\n",
       "    }\n",
       "\n",
       "    .dataframe thead th {\n",
       "        text-align: right;\n",
       "    }\n",
       "</style>\n",
       "<table border=\"1\" class=\"dataframe\">\n",
       "  <thead>\n",
       "    <tr style=\"text-align: right;\">\n",
       "      <th></th>\n",
       "      <th>lat</th>\n",
       "      <th>lon</th>\n",
       "      <th>price_aprox_usd</th>\n",
       "      <th>surface_total_in_m2</th>\n",
       "      <th>surface_covered_in_m2</th>\n",
       "    </tr>\n",
       "  </thead>\n",
       "  <tbody>\n",
       "    <tr>\n",
       "      <th>1</th>\n",
       "      <td>20.626679</td>\n",
       "      <td>-87.075944</td>\n",
       "      <td>2200.00</td>\n",
       "      <td>110.0</td>\n",
       "      <td>110.0</td>\n",
       "    </tr>\n",
       "    <tr>\n",
       "      <th>2</th>\n",
       "      <td>20.626729</td>\n",
       "      <td>-87.075858</td>\n",
       "      <td>1251.89</td>\n",
       "      <td>110.0</td>\n",
       "      <td>110.0</td>\n",
       "    </tr>\n",
       "    <tr>\n",
       "      <th>3</th>\n",
       "      <td>20.630104</td>\n",
       "      <td>-87.072484</td>\n",
       "      <td>658.89</td>\n",
       "      <td>65.0</td>\n",
       "      <td>65.0</td>\n",
       "    </tr>\n",
       "    <tr>\n",
       "      <th>5</th>\n",
       "      <td>20.630296</td>\n",
       "      <td>-87.072695</td>\n",
       "      <td>790.67</td>\n",
       "      <td>90.0</td>\n",
       "      <td>90.0</td>\n",
       "    </tr>\n",
       "    <tr>\n",
       "      <th>6</th>\n",
       "      <td>20.628296</td>\n",
       "      <td>-87.072637</td>\n",
       "      <td>560.05</td>\n",
       "      <td>77.0</td>\n",
       "      <td>77.0</td>\n",
       "    </tr>\n",
       "  </tbody>\n",
       "</table>\n",
       "</div>"
      ],
      "text/plain": [
       "         lat        lon  price_aprox_usd  surface_total_in_m2  \\\n",
       "1  20.626679 -87.075944          2200.00                110.0   \n",
       "2  20.626729 -87.075858          1251.89                110.0   \n",
       "3  20.630104 -87.072484           658.89                 65.0   \n",
       "5  20.630296 -87.072695           790.67                 90.0   \n",
       "6  20.628296 -87.072637           560.05                 77.0   \n",
       "\n",
       "   surface_covered_in_m2  \n",
       "1                  110.0  \n",
       "2                  110.0  \n",
       "3                   65.0  \n",
       "5                   90.0  \n",
       "6                   77.0  "
      ]
     },
     "execution_count": 429,
     "metadata": {},
     "output_type": "execute_result"
    }
   ],
   "source": [
    "df.head()"
   ]
  },
  {
   "cell_type": "code",
   "execution_count": null,
   "id": "456bab8d",
   "metadata": {},
   "outputs": [],
   "source": []
  },
  {
   "cell_type": "code",
   "execution_count": 430,
   "id": "4c26b826",
   "metadata": {},
   "outputs": [
    {
     "data": {
      "text/plain": [
       "LinearRegression()"
      ]
     },
     "execution_count": 430,
     "metadata": {},
     "output_type": "execute_result"
    }
   ],
   "source": [
    "# Making model pipeline and fitting\n",
    "model = LinearRegression()\n",
    "model.fit(X_train, y_train)"
   ]
  },
  {
   "cell_type": "code",
   "execution_count": null,
   "id": "e15924ba",
   "metadata": {},
   "outputs": [],
   "source": []
  },
  {
   "cell_type": "code",
   "execution_count": 431,
   "id": "7602d6bf",
   "metadata": {},
   "outputs": [
    {
     "name": "stdout",
     "output_type": "stream",
     "text": [
      "Training MAE: 863.4348388860545\n"
     ]
    }
   ],
   "source": [
    "# Checking model training absolute error\n",
    "y_pred_training = model.predict(X_train)\n",
    "print(\"Training MAE:\", mean_absolute_error(y_train,y_pred_training))"
   ]
  },
  {
   "cell_type": "code",
   "execution_count": null,
   "id": "0e790177",
   "metadata": {},
   "outputs": [],
   "source": []
  },
  {
   "cell_type": "code",
   "execution_count": 467,
   "id": "b05a3d83",
   "metadata": {},
   "outputs": [
    {
     "name": "stdout",
     "output_type": "stream",
     "text": [
      "Training MAE: 784.5673350680067\n"
     ]
    }
   ],
   "source": [
    "y_pred_test = model.predict(X_test)\n",
    "print(\"Training MAE:\", mean_absolute_error(y_test,y_pred_test))\n"
   ]
  },
  {
   "cell_type": "markdown",
   "id": "e989e4cf",
   "metadata": {},
   "source": [
    "# Communicate "
   ]
  },
  {
   "cell_type": "code",
   "execution_count": 455,
   "id": "ea0b4454",
   "metadata": {},
   "outputs": [
    {
     "name": "stdout",
     "output_type": "stream",
     "text": [
      "-407.19\n"
     ]
    }
   ],
   "source": [
    "# print the intercept\n",
    "intercept = model.intercept_.round(2)\n",
    "print(intercept)"
   ]
  },
  {
   "cell_type": "code",
   "execution_count": 450,
   "id": "1e725ec2",
   "metadata": {},
   "outputs": [],
   "source": [
    "coeffients =  model.coef_.round(2)"
   ]
  },
  {
   "cell_type": "code",
   "execution_count": 451,
   "id": "5b616ff3",
   "metadata": {},
   "outputs": [
    {
     "data": {
      "text/html": [
       "<div>\n",
       "<style scoped>\n",
       "    .dataframe tbody tr th:only-of-type {\n",
       "        vertical-align: middle;\n",
       "    }\n",
       "\n",
       "    .dataframe tbody tr th {\n",
       "        vertical-align: top;\n",
       "    }\n",
       "\n",
       "    .dataframe thead th {\n",
       "        text-align: right;\n",
       "    }\n",
       "</style>\n",
       "<table border=\"1\" class=\"dataframe\">\n",
       "  <thead>\n",
       "    <tr style=\"text-align: right;\">\n",
       "      <th></th>\n",
       "      <th>Coefficient</th>\n",
       "    </tr>\n",
       "  </thead>\n",
       "  <tbody>\n",
       "    <tr>\n",
       "      <th>surface_covered_in_m2</th>\n",
       "      <td>2.62</td>\n",
       "    </tr>\n",
       "    <tr>\n",
       "      <th>lat</th>\n",
       "      <td>428.08</td>\n",
       "    </tr>\n",
       "    <tr>\n",
       "      <th>lon</th>\n",
       "      <td>86.59</td>\n",
       "    </tr>\n",
       "    <tr>\n",
       "      <th>surface_total_in_m2</th>\n",
       "      <td>0.09</td>\n",
       "    </tr>\n",
       "  </tbody>\n",
       "</table>\n",
       "</div>"
      ],
      "text/plain": [
       "                       Coefficient\n",
       "surface_covered_in_m2         2.62\n",
       "lat                         428.08\n",
       "lon                          86.59\n",
       "surface_total_in_m2           0.09"
      ]
     },
     "execution_count": 451,
     "metadata": {},
     "output_type": "execute_result"
    }
   ],
   "source": [
    "# Getting the coefficients of the data\n",
    "coeff_df = pd.DataFrame(coeffients,X.columns,columns=['Coefficient'])\n",
    "coeff_df\n"
   ]
  },
  {
   "cell_type": "code",
   "execution_count": null,
   "id": "a0b4470e",
   "metadata": {},
   "outputs": [],
   "source": []
  },
  {
   "cell_type": "code",
   "execution_count": 452,
   "id": "de085be1",
   "metadata": {},
   "outputs": [
    {
     "data": {
      "image/png": "[encoded data removed]",
      "text/plain": [
       "<Figure size 432x288 with 1 Axes>"
      ]
     },
     "metadata": {
      "needs_background": "light"
     },
     "output_type": "display_data"
    }
   ],
   "source": [
    "# Plotting coefficients of the data\n",
    "coeff_df[\"Coefficient\"].sort_values(key=abs).plot(kind=\"barh\")\n",
    "plt.xlabel(\"Importance\")\n",
    "plt.ylabel(\"Feature\");"
   ]
  },
  {
   "cell_type": "code",
   "execution_count": 445,
   "id": "8b4edc6b",
   "metadata": {},
   "outputs": [
    {
     "data": {
      "text/html": [
       "<div>\n",
       "<style scoped>\n",
       "    .dataframe tbody tr th:only-of-type {\n",
       "        vertical-align: middle;\n",
       "    }\n",
       "\n",
       "    .dataframe tbody tr th {\n",
       "        vertical-align: top;\n",
       "    }\n",
       "\n",
       "    .dataframe thead th {\n",
       "        text-align: right;\n",
       "    }\n",
       "</style>\n",
       "<table border=\"1\" class=\"dataframe\">\n",
       "  <thead>\n",
       "    <tr style=\"text-align: right;\">\n",
       "      <th></th>\n",
       "      <th>Coefficient</th>\n",
       "    </tr>\n",
       "  </thead>\n",
       "  <tbody>\n",
       "    <tr>\n",
       "      <th>surface_covered_in_m2</th>\n",
       "      <td>2.62</td>\n",
       "    </tr>\n",
       "    <tr>\n",
       "      <th>lat</th>\n",
       "      <td>428.08</td>\n",
       "    </tr>\n",
       "    <tr>\n",
       "      <th>lon</th>\n",
       "      <td>86.59</td>\n",
       "    </tr>\n",
       "    <tr>\n",
       "      <th>surface_total_in_m2</th>\n",
       "      <td>0.09</td>\n",
       "    </tr>\n",
       "  </tbody>\n",
       "</table>\n",
       "</div>"
      ],
      "text/plain": [
       "                       Coefficient\n",
       "surface_covered_in_m2         2.62\n",
       "lat                         428.08\n",
       "lon                          86.59\n",
       "surface_total_in_m2           0.09"
      ]
     },
     "execution_count": 445,
     "metadata": {},
     "output_type": "execute_result"
    }
   ],
   "source": []
  },
  {
   "cell_type": "code",
   "execution_count": null,
   "id": "4a82d971",
   "metadata": {},
   "outputs": [],
   "source": []
  },
  {
   "cell_type": "code",
   "execution_count": null,
   "id": "0bed9aa7",
   "metadata": {},
   "outputs": [],
   "source": []
  },
  {
   "cell_type": "code",
   "execution_count": 461,
   "id": "cfce5890",
   "metadata": {},
   "outputs": [
    {
     "name": "stdout",
     "output_type": "stream",
     "text": [
      "Price = -407.19+2.62*surface_covered_in_m2 + 428.08*lat + 86.59*lon + 0.09*surface_total_in_m2\n"
     ]
    }
   ],
   "source": [
    "print(\"Price = {}+{}*surface_covered_in_m2 + {}*lat + {}*lon + {}*surface_total_in_m2\"\n",
    "      .format(intercept,coeff_df[\"Coefficient\"][\"surface_covered_in_m2\"],coeff_df[\"Coefficient\"][\"lat\"],coeff_df[\"Coefficient\"][\"lon\"],coeff_df[\"Coefficient\"][\"surface_total_in_m2\"]))"
   ]
  },
  {
   "cell_type": "code",
   "execution_count": null,
   "id": "713e6d62",
   "metadata": {},
   "outputs": [],
   "source": []
  },
  {
   "cell_type": "code",
   "execution_count": 464,
   "id": "96f2824d",
   "metadata": {},
   "outputs": [
    {
     "data": {
      "text/plain": [
       "4766.696499917476"
      ]
     },
     "execution_count": 464,
     "metadata": {},
     "output_type": "execute_result"
    }
   ],
   "source": [
    "model.predict([[10,10,10,10]])[0]"
   ]
  },
  {
   "cell_type": "code",
   "execution_count": null,
   "id": "3a29b441",
   "metadata": {},
   "outputs": [],
   "source": []
  }
 ],
 "metadata": {
  "kernelspec": {
   "display_name": "Python 3 (ipykernel)",
   "language": "python",
   "name": "python3"
  },
  "language_info": {
   "codemirror_mode": {
    "name": "ipython",
    "version": 3
   },
   "file_extension": ".py",
   "mimetype": "text/x-python",
   "name": "python",
   "nbconvert_exporter": "python",
   "pygments_lexer": "ipython3",
   "version": "3.8.11"
  }
 },
 "nbformat": 4,
 "nbformat_minor": 5
}
