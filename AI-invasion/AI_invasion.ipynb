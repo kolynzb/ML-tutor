{
  "cells": [
    {
      "cell_type": "code",
      "execution_count": null,
      "metadata": {
        "id": "FSGcpvjV9HQ5"
      },
      "outputs": [],
      "source": [
        "print(\"helloworld\")"
      ]
    }
  ],
  "metadata": {
    "colab": {
      "name": "AI-invasion.ipynb",
      "provenance": []
    },
    "kernelspec": {
      "display_name": "Python 3",
      "name": "python3"
    },
    "language_info": {
      "name": "python"
    }
  },
  "nbformat": 4,
  "nbformat_minor": 0
}
