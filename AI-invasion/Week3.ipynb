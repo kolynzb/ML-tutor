{
 "cells": [
  {
   "cell_type": "markdown",
   "metadata": {},
   "source": [
    "# Prepartion of data \n",
    "- Import  \n",
    "- Explore: NULL values ,low and High Cardinality,Leakeage,Multilineality.\n",
    "- Split data into X and y\n",
    "# Build Model\n",
    "- Baseline Model\n",
    "- Iterate\n",
    "- Evaluate\n",
    "# Communicate\n",
    "- Equation or Graphical.\n"
   ]
  },
  {
   "cell_type": "markdown",
   "metadata": {},
   "source": [
    "# Preparation Of Data "
   ]
  },
  {
   "cell_type": "code",
   "execution_count": 6,
   "metadata": {},
   "outputs": [],
   "source": [
    "# Import required librairies\n",
    "import warnings\n",
    "import pandas as pd\n",
    "import seaborn as sns\n",
    "import numpy as np\n",
    "from sklearn.metrics import mean_absolute_error\n",
    "from sklearn.model_selection import train_test_split\n",
    "from sklearn.linear_model import LinearRegression\n",
    "import matplotlib.pyplot as pyplot\n",
    "# Remove warnings\n",
    "warnings.simplefilter(action='ignore', category=FutureWarning)"
   ]
  },
  {
   "cell_type": "code",
   "execution_count": 7,
   "metadata": {},
   "outputs": [
    {
     "data": {
      "text/html": [
       "<div>\n",
       "<style scoped>\n",
       "    .dataframe tbody tr th:only-of-type {\n",
       "        vertical-align: middle;\n",
       "    }\n",
       "\n",
       "    .dataframe tbody tr th {\n",
       "        vertical-align: top;\n",
       "    }\n",
       "\n",
       "    .dataframe thead th {\n",
       "        text-align: right;\n",
       "    }\n",
       "</style>\n",
       "<table border=\"1\" class=\"dataframe\">\n",
       "  <thead>\n",
       "    <tr style=\"text-align: right;\">\n",
       "      <th></th>\n",
       "      <th>created_on</th>\n",
       "      <th>operation</th>\n",
       "      <th>property_type</th>\n",
       "      <th>place_name</th>\n",
       "      <th>place_with_parent_names</th>\n",
       "      <th>geonames_id</th>\n",
       "      <th>lat-lon</th>\n",
       "      <th>price</th>\n",
       "      <th>currency</th>\n",
       "      <th>price_aprox_local_currency</th>\n",
       "      <th>...</th>\n",
       "      <th>surface_covered_in_m2</th>\n",
       "      <th>price_usd_per_m2</th>\n",
       "      <th>price_per_m2</th>\n",
       "      <th>floor</th>\n",
       "      <th>rooms</th>\n",
       "      <th>expenses</th>\n",
       "      <th>properati_url</th>\n",
       "      <th>description</th>\n",
       "      <th>title</th>\n",
       "      <th>image_thumbnail</th>\n",
       "    </tr>\n",
       "  </thead>\n",
       "  <tbody>\n",
       "    <tr>\n",
       "      <th>0</th>\n",
       "      <td>2013-09-19</td>\n",
       "      <td>rent</td>\n",
       "      <td>house</td>\n",
       "      <td>Playa del Carmen</td>\n",
       "      <td>|México|Quintana Roo|Solidaridad|Playa del Car...</td>\n",
       "      <td>NaN</td>\n",
       "      <td>20.612709,-87.102987</td>\n",
       "      <td>NaN</td>\n",
       "      <td>NaN</td>\n",
       "      <td>NaN</td>\n",
       "      <td>...</td>\n",
       "      <td>250.0</td>\n",
       "      <td>NaN</td>\n",
       "      <td>NaN</td>\n",
       "      <td>NaN</td>\n",
       "      <td>NaN</td>\n",
       "      <td>NaN</td>\n",
       "      <td>http://playa-del-carmen-playa-del-carmen.prope...</td>\n",
       "      <td>Referencia #55546. Hermosa casa en el barrio C...</td>\n",
       "      <td>Casa en Alquiler. Ref. #55546. 3 Dormitorios. ...</td>\n",
       "      <td>https://thumbs-cf.properati.com/1/dLISoi0WStzf...</td>\n",
       "    </tr>\n",
       "    <tr>\n",
       "      <th>1</th>\n",
       "      <td>2013-09-19</td>\n",
       "      <td>rent</td>\n",
       "      <td>apartment</td>\n",
       "      <td>Nuevo Centro Urbano</td>\n",
       "      <td>|México|Quintana Roo|Solidaridad|Playa del Car...</td>\n",
       "      <td>NaN</td>\n",
       "      <td>20.626679,-87.075944</td>\n",
       "      <td>2200.0</td>\n",
       "      <td>USD</td>\n",
       "      <td>41378.70</td>\n",
       "      <td>...</td>\n",
       "      <td>110.0</td>\n",
       "      <td>20.000000</td>\n",
       "      <td>20.000000</td>\n",
       "      <td>NaN</td>\n",
       "      <td>NaN</td>\n",
       "      <td>NaN</td>\n",
       "      <td>http://nuevo-centro-urbano.properati.com.mx/o4...</td>\n",
       "      <td>Referencia #27985. Ático completamente amuebla...</td>\n",
       "      <td>Departamento en Alquiler. Ref. #27985. 2 Dormi...</td>\n",
       "      <td>https://thumbs-cf.properati.com/9/-DZ0FUVqgAnA...</td>\n",
       "    </tr>\n",
       "    <tr>\n",
       "      <th>2</th>\n",
       "      <td>2013-09-19</td>\n",
       "      <td>rent</td>\n",
       "      <td>apartment</td>\n",
       "      <td>Nuevo Centro Urbano</td>\n",
       "      <td>|México|Quintana Roo|Solidaridad|Playa del Car...</td>\n",
       "      <td>NaN</td>\n",
       "      <td>20.626729,-87.075858</td>\n",
       "      <td>19000.0</td>\n",
       "      <td>ARS</td>\n",
       "      <td>23546.17</td>\n",
       "      <td>...</td>\n",
       "      <td>110.0</td>\n",
       "      <td>11.380818</td>\n",
       "      <td>172.727273</td>\n",
       "      <td>NaN</td>\n",
       "      <td>NaN</td>\n",
       "      <td>NaN</td>\n",
       "      <td>http://nuevo-centro-urbano.properati.com.mx/o5...</td>\n",
       "      <td>Referencia #27996. Departamento completamente ...</td>\n",
       "      <td>Departamento en Alquiler. Ref. #27996. 2 Dormi...</td>\n",
       "      <td>https://thumbs-cf.properati.com/4/dyZjLPbRTuui...</td>\n",
       "    </tr>\n",
       "  </tbody>\n",
       "</table>\n",
       "<p>3 rows × 22 columns</p>\n",
       "</div>"
      ],
      "text/plain": [
       "   created_on operation property_type           place_name  \\\n",
       "0  2013-09-19      rent         house     Playa del Carmen   \n",
       "1  2013-09-19      rent     apartment  Nuevo Centro Urbano   \n",
       "2  2013-09-19      rent     apartment  Nuevo Centro Urbano   \n",
       "\n",
       "                             place_with_parent_names  geonames_id  \\\n",
       "0  |México|Quintana Roo|Solidaridad|Playa del Car...          NaN   \n",
       "1  |México|Quintana Roo|Solidaridad|Playa del Car...          NaN   \n",
       "2  |México|Quintana Roo|Solidaridad|Playa del Car...          NaN   \n",
       "\n",
       "                lat-lon    price currency  price_aprox_local_currency  ...  \\\n",
       "0  20.612709,-87.102987      NaN      NaN                         NaN  ...   \n",
       "1  20.626679,-87.075944   2200.0      USD                    41378.70  ...   \n",
       "2  20.626729,-87.075858  19000.0      ARS                    23546.17  ...   \n",
       "\n",
       "   surface_covered_in_m2  price_usd_per_m2  price_per_m2  floor  rooms  \\\n",
       "0                  250.0               NaN           NaN    NaN    NaN   \n",
       "1                  110.0         20.000000     20.000000    NaN    NaN   \n",
       "2                  110.0         11.380818    172.727273    NaN    NaN   \n",
       "\n",
       "   expenses                                      properati_url  \\\n",
       "0       NaN  http://playa-del-carmen-playa-del-carmen.prope...   \n",
       "1       NaN  http://nuevo-centro-urbano.properati.com.mx/o4...   \n",
       "2       NaN  http://nuevo-centro-urbano.properati.com.mx/o5...   \n",
       "\n",
       "                                         description  \\\n",
       "0  Referencia #55546. Hermosa casa en el barrio C...   \n",
       "1  Referencia #27985. Ático completamente amuebla...   \n",
       "2  Referencia #27996. Departamento completamente ...   \n",
       "\n",
       "                                               title  \\\n",
       "0  Casa en Alquiler. Ref. #55546. 3 Dormitorios. ...   \n",
       "1  Departamento en Alquiler. Ref. #27985. 2 Dormi...   \n",
       "2  Departamento en Alquiler. Ref. #27996. 2 Dormi...   \n",
       "\n",
       "                                     image_thumbnail  \n",
       "0  https://thumbs-cf.properati.com/1/dLISoi0WStzf...  \n",
       "1  https://thumbs-cf.properati.com/9/-DZ0FUVqgAnA...  \n",
       "2  https://thumbs-cf.properati.com/4/dyZjLPbRTuui...  \n",
       "\n",
       "[3 rows x 22 columns]"
      ]
     },
     "execution_count": 7,
     "metadata": {},
     "output_type": "execute_result"
    }
   ],
   "source": [
    "# Reading the CSV file\n",
    "df = pd.read_csv('mexico-real-estate.csv')\n",
    "# look at the first 5 cells as default\n",
    "df.head(3)\n"
   ]
  },
  {
   "cell_type": "code",
   "execution_count": 8,
   "metadata": {},
   "outputs": [
    {
     "data": {
      "text/html": [
       "<div>\n",
       "<style scoped>\n",
       "    .dataframe tbody tr th:only-of-type {\n",
       "        vertical-align: middle;\n",
       "    }\n",
       "\n",
       "    .dataframe tbody tr th {\n",
       "        vertical-align: top;\n",
       "    }\n",
       "\n",
       "    .dataframe thead th {\n",
       "        text-align: right;\n",
       "    }\n",
       "</style>\n",
       "<table border=\"1\" class=\"dataframe\">\n",
       "  <thead>\n",
       "    <tr style=\"text-align: right;\">\n",
       "      <th></th>\n",
       "      <th>created_on</th>\n",
       "      <th>operation</th>\n",
       "      <th>property_type</th>\n",
       "      <th>place_name</th>\n",
       "      <th>place_with_parent_names</th>\n",
       "      <th>geonames_id</th>\n",
       "      <th>lat-lon</th>\n",
       "      <th>price</th>\n",
       "      <th>currency</th>\n",
       "      <th>price_aprox_local_currency</th>\n",
       "      <th>...</th>\n",
       "      <th>surface_covered_in_m2</th>\n",
       "      <th>price_usd_per_m2</th>\n",
       "      <th>price_per_m2</th>\n",
       "      <th>floor</th>\n",
       "      <th>rooms</th>\n",
       "      <th>expenses</th>\n",
       "      <th>properati_url</th>\n",
       "      <th>description</th>\n",
       "      <th>title</th>\n",
       "      <th>image_thumbnail</th>\n",
       "    </tr>\n",
       "  </thead>\n",
       "  <tbody>\n",
       "    <tr>\n",
       "      <th>37592</th>\n",
       "      <td>2016-10-31</td>\n",
       "      <td>rent</td>\n",
       "      <td>store</td>\n",
       "      <td>Guadalajara</td>\n",
       "      <td>|México|Jalisco|Guadalajara|</td>\n",
       "      <td>NaN</td>\n",
       "      <td>NaN</td>\n",
       "      <td>NaN</td>\n",
       "      <td>NaN</td>\n",
       "      <td>NaN</td>\n",
       "      <td>...</td>\n",
       "      <td>NaN</td>\n",
       "      <td>NaN</td>\n",
       "      <td>NaN</td>\n",
       "      <td>NaN</td>\n",
       "      <td>NaN</td>\n",
       "      <td>NaN</td>\n",
       "      <td>http://guadalajara-jalisco.properati.com.mx/re...</td>\n",
       "      <td>Se traspasa local comercial en Plaza Punto Rub...</td>\n",
       "      <td>Local comercial en renta en Lomas de Providenc...</td>\n",
       "      <td>https://thumbs-cf.properati.com/8/ohfd_7uoQSNy...</td>\n",
       "    </tr>\n",
       "    <tr>\n",
       "      <th>37593</th>\n",
       "      <td>2016-10-31</td>\n",
       "      <td>rent</td>\n",
       "      <td>apartment</td>\n",
       "      <td>San Pedro Garza García</td>\n",
       "      <td>|México|Nuevo León|San Pedro Garza García|</td>\n",
       "      <td>NaN</td>\n",
       "      <td>25.628453,-100.365488</td>\n",
       "      <td>14500.0</td>\n",
       "      <td>MXN</td>\n",
       "      <td>14368.75</td>\n",
       "      <td>...</td>\n",
       "      <td>100.0</td>\n",
       "      <td>NaN</td>\n",
       "      <td>145.000000</td>\n",
       "      <td>NaN</td>\n",
       "      <td>NaN</td>\n",
       "      <td>NaN</td>\n",
       "      <td>http://san-pedro-garza-garcia.properati.com.mx...</td>\n",
       "      <td>Nocnok ID: MX16-BW5320. departamento en el pis...</td>\n",
       "      <td>Departamento en Renta en Valle de San Angel</td>\n",
       "      <td>https://thumbs-cf.properati.com/0/TIH9HHSOQoju...</td>\n",
       "    </tr>\n",
       "    <tr>\n",
       "      <th>37594</th>\n",
       "      <td>2016-10-31</td>\n",
       "      <td>rent</td>\n",
       "      <td>apartment</td>\n",
       "      <td>Benito Juárez</td>\n",
       "      <td>|México|Distrito Federal|Benito Juárez|</td>\n",
       "      <td>NaN</td>\n",
       "      <td>NaN</td>\n",
       "      <td>15000.0</td>\n",
       "      <td>MXN</td>\n",
       "      <td>14864.16</td>\n",
       "      <td>...</td>\n",
       "      <td>78.0</td>\n",
       "      <td>7.747941</td>\n",
       "      <td>192.307692</td>\n",
       "      <td>NaN</td>\n",
       "      <td>NaN</td>\n",
       "      <td>NaN</td>\n",
       "      <td>http://benito-juarez.properati.com.mx/re4r_ren...</td>\n",
       "      <td>&lt;p&gt;Del Valle Norte. Departamento de 78 m2, ext...</td>\n",
       "      <td>Departamento 78 m2, exterior, en 3er piso, co...</td>\n",
       "      <td>NaN</td>\n",
       "    </tr>\n",
       "    <tr>\n",
       "      <th>37595</th>\n",
       "      <td>2016-10-31</td>\n",
       "      <td>rent</td>\n",
       "      <td>apartment</td>\n",
       "      <td>Benito Juárez</td>\n",
       "      <td>|México|Distrito Federal|Benito Juárez|</td>\n",
       "      <td>NaN</td>\n",
       "      <td>19.394358,-99.177444</td>\n",
       "      <td>18000.0</td>\n",
       "      <td>MXN</td>\n",
       "      <td>17837.04</td>\n",
       "      <td>...</td>\n",
       "      <td>97.0</td>\n",
       "      <td>NaN</td>\n",
       "      <td>185.567010</td>\n",
       "      <td>NaN</td>\n",
       "      <td>NaN</td>\n",
       "      <td>NaN</td>\n",
       "      <td>http://benito-juarez.properati.com.mx/re50_ren...</td>\n",
       "      <td>&lt;p&gt;HERMOSO DEPARTAMENTO 3 RECAMARAS, 2 ESTACIO...</td>\n",
       "      <td>IMPECABLE DEPARTAMENTO COL. NAPOLES DISTRITO F...</td>\n",
       "      <td>https://thumbs-cf.properati.com/5/9sKH0jroF8wA...</td>\n",
       "    </tr>\n",
       "    <tr>\n",
       "      <th>37596</th>\n",
       "      <td>2016-10-31</td>\n",
       "      <td>rent</td>\n",
       "      <td>apartment</td>\n",
       "      <td>Monterrey</td>\n",
       "      <td>|México|Nuevo León|Monterrey|</td>\n",
       "      <td>NaN</td>\n",
       "      <td>25.6318402,-100.2801781</td>\n",
       "      <td>18000.0</td>\n",
       "      <td>MXN</td>\n",
       "      <td>17837.04</td>\n",
       "      <td>...</td>\n",
       "      <td>0.0</td>\n",
       "      <td>NaN</td>\n",
       "      <td>NaN</td>\n",
       "      <td>NaN</td>\n",
       "      <td>NaN</td>\n",
       "      <td>NaN</td>\n",
       "      <td>http://monterrey-nuevo-leon.properati.com.mx/r...</td>\n",
       "      <td>&lt;p&gt; Excelente departamento en renta sobre aven...</td>\n",
       "      <td>DEPARTAMENTO EN RENTA EN MICROPOLIS MONTERREY</td>\n",
       "      <td>https://thumbs-cf.properati.com/4/LqbLb1KmjuXb...</td>\n",
       "    </tr>\n",
       "  </tbody>\n",
       "</table>\n",
       "<p>5 rows × 22 columns</p>\n",
       "</div>"
      ],
      "text/plain": [
       "       created_on operation property_type              place_name  \\\n",
       "37592  2016-10-31      rent         store             Guadalajara   \n",
       "37593  2016-10-31      rent     apartment  San Pedro Garza García   \n",
       "37594  2016-10-31      rent     apartment           Benito Juárez   \n",
       "37595  2016-10-31      rent     apartment           Benito Juárez   \n",
       "37596  2016-10-31      rent     apartment               Monterrey   \n",
       "\n",
       "                          place_with_parent_names  geonames_id  \\\n",
       "37592                |México|Jalisco|Guadalajara|          NaN   \n",
       "37593  |México|Nuevo León|San Pedro Garza García|          NaN   \n",
       "37594     |México|Distrito Federal|Benito Juárez|          NaN   \n",
       "37595     |México|Distrito Federal|Benito Juárez|          NaN   \n",
       "37596               |México|Nuevo León|Monterrey|          NaN   \n",
       "\n",
       "                       lat-lon    price currency  price_aprox_local_currency  \\\n",
       "37592                      NaN      NaN      NaN                         NaN   \n",
       "37593    25.628453,-100.365488  14500.0      MXN                    14368.75   \n",
       "37594                      NaN  15000.0      MXN                    14864.16   \n",
       "37595     19.394358,-99.177444  18000.0      MXN                    17837.04   \n",
       "37596  25.6318402,-100.2801781  18000.0      MXN                    17837.04   \n",
       "\n",
       "       ...  surface_covered_in_m2  price_usd_per_m2  price_per_m2  floor  \\\n",
       "37592  ...                    NaN               NaN           NaN    NaN   \n",
       "37593  ...                  100.0               NaN    145.000000    NaN   \n",
       "37594  ...                   78.0          7.747941    192.307692    NaN   \n",
       "37595  ...                   97.0               NaN    185.567010    NaN   \n",
       "37596  ...                    0.0               NaN           NaN    NaN   \n",
       "\n",
       "       rooms  expenses                                      properati_url  \\\n",
       "37592    NaN       NaN  http://guadalajara-jalisco.properati.com.mx/re...   \n",
       "37593    NaN       NaN  http://san-pedro-garza-garcia.properati.com.mx...   \n",
       "37594    NaN       NaN  http://benito-juarez.properati.com.mx/re4r_ren...   \n",
       "37595    NaN       NaN  http://benito-juarez.properati.com.mx/re50_ren...   \n",
       "37596    NaN       NaN  http://monterrey-nuevo-leon.properati.com.mx/r...   \n",
       "\n",
       "                                             description  \\\n",
       "37592  Se traspasa local comercial en Plaza Punto Rub...   \n",
       "37593  Nocnok ID: MX16-BW5320. departamento en el pis...   \n",
       "37594  <p>Del Valle Norte. Departamento de 78 m2, ext...   \n",
       "37595  <p>HERMOSO DEPARTAMENTO 3 RECAMARAS, 2 ESTACIO...   \n",
       "37596  <p> Excelente departamento en renta sobre aven...   \n",
       "\n",
       "                                                   title  \\\n",
       "37592  Local comercial en renta en Lomas de Providenc...   \n",
       "37593        Departamento en Renta en Valle de San Angel   \n",
       "37594   Departamento 78 m2, exterior, en 3er piso, co...   \n",
       "37595  IMPECABLE DEPARTAMENTO COL. NAPOLES DISTRITO F...   \n",
       "37596      DEPARTAMENTO EN RENTA EN MICROPOLIS MONTERREY   \n",
       "\n",
       "                                         image_thumbnail  \n",
       "37592  https://thumbs-cf.properati.com/8/ohfd_7uoQSNy...  \n",
       "37593  https://thumbs-cf.properati.com/0/TIH9HHSOQoju...  \n",
       "37594                                                NaN  \n",
       "37595  https://thumbs-cf.properati.com/5/9sKH0jroF8wA...  \n",
       "37596  https://thumbs-cf.properati.com/4/LqbLb1KmjuXb...  \n",
       "\n",
       "[5 rows x 22 columns]"
      ]
     },
     "execution_count": 8,
     "metadata": {},
     "output_type": "execute_result"
    }
   ],
   "source": [
    "# View tha last celss\n",
    "df.tail()"
   ]
  },
  {
   "cell_type": "code",
   "execution_count": 9,
   "metadata": {},
   "outputs": [
    {
     "name": "stdout",
     "output_type": "stream",
     "text": [
      "<class 'pandas.core.frame.DataFrame'>\n",
      "RangeIndex: 37597 entries, 0 to 37596\n",
      "Data columns (total 22 columns):\n",
      " #   Column                      Non-Null Count  Dtype  \n",
      "---  ------                      --------------  -----  \n",
      " 0   created_on                  37597 non-null  object \n",
      " 1   operation                   37597 non-null  object \n",
      " 2   property_type               37597 non-null  object \n",
      " 3   place_name                  37597 non-null  object \n",
      " 4   place_with_parent_names     37597 non-null  object \n",
      " 5   geonames_id                 0 non-null      float64\n",
      " 6   lat-lon                     31835 non-null  object \n",
      " 7   price                       36525 non-null  float64\n",
      " 8   currency                    36525 non-null  object \n",
      " 9   price_aprox_local_currency  36525 non-null  float64\n",
      " 10  price_aprox_usd             36525 non-null  float64\n",
      " 11  surface_total_in_m2         23151 non-null  float64\n",
      " 12  surface_covered_in_m2       36084 non-null  float64\n",
      " 13  price_usd_per_m2            14828 non-null  float64\n",
      " 14  price_per_m2                30071 non-null  float64\n",
      " 15  floor                       4174 non-null   float64\n",
      " 16  rooms                       1245 non-null   float64\n",
      " 17  expenses                    57 non-null     float64\n",
      " 18  properati_url               37597 non-null  object \n",
      " 19  description                 37597 non-null  object \n",
      " 20  title                       37597 non-null  object \n",
      " 21  image_thumbnail             36450 non-null  object \n",
      "dtypes: float64(11), object(11)\n",
      "memory usage: 6.3+ MB\n"
     ]
    }
   ],
   "source": [
    "# Gives you information about the data\n",
    "df.info()"
   ]
  },
  {
   "cell_type": "code",
   "execution_count": 12,
   "metadata": {},
   "outputs": [
    {
     "data": {
      "text/plain": [
       "37597"
      ]
     },
     "execution_count": 12,
     "metadata": {},
     "output_type": "execute_result"
    }
   ],
   "source": [
    "# Gives columns and rows available\n",
    "df.shape\n",
    "# Find length of the dataframe\n",
    "len(df)"
   ]
  },
  {
   "cell_type": "markdown",
   "metadata": {},
   "source": [
    "## Tip \n",
    "- Use shift + Tab to show function definitional and intelliscence in jUPYTER Notebook.\n",
    "- Know your Data well"
   ]
  },
  {
   "cell_type": "code",
   "execution_count": 11,
   "metadata": {},
   "outputs": [
    {
     "data": {
      "text/html": [
       "<div>\n",
       "<style scoped>\n",
       "    .dataframe tbody tr th:only-of-type {\n",
       "        vertical-align: middle;\n",
       "    }\n",
       "\n",
       "    .dataframe tbody tr th {\n",
       "        vertical-align: top;\n",
       "    }\n",
       "\n",
       "    .dataframe thead th {\n",
       "        text-align: right;\n",
       "    }\n",
       "</style>\n",
       "<table border=\"1\" class=\"dataframe\">\n",
       "  <thead>\n",
       "    <tr style=\"text-align: right;\">\n",
       "      <th></th>\n",
       "      <th>geonames_id</th>\n",
       "      <th>price</th>\n",
       "      <th>price_aprox_local_currency</th>\n",
       "      <th>price_aprox_usd</th>\n",
       "      <th>surface_total_in_m2</th>\n",
       "      <th>surface_covered_in_m2</th>\n",
       "      <th>price_usd_per_m2</th>\n",
       "      <th>price_per_m2</th>\n",
       "      <th>floor</th>\n",
       "      <th>rooms</th>\n",
       "      <th>expenses</th>\n",
       "    </tr>\n",
       "  </thead>\n",
       "  <tbody>\n",
       "    <tr>\n",
       "      <th>count</th>\n",
       "      <td>0.0</td>\n",
       "      <td>3.652500e+04</td>\n",
       "      <td>3.652500e+04</td>\n",
       "      <td>36525.000000</td>\n",
       "      <td>23151.000000</td>\n",
       "      <td>36084.000000</td>\n",
       "      <td>14828.000000</td>\n",
       "      <td>30071.000000</td>\n",
       "      <td>4174.000000</td>\n",
       "      <td>1245.000000</td>\n",
       "      <td>57.000000</td>\n",
       "    </tr>\n",
       "    <tr>\n",
       "      <th>mean</th>\n",
       "      <td>NaN</td>\n",
       "      <td>2.045150e+04</td>\n",
       "      <td>2.401479e+04</td>\n",
       "      <td>1276.805686</td>\n",
       "      <td>364.516133</td>\n",
       "      <td>265.611712</td>\n",
       "      <td>6.475197</td>\n",
       "      <td>241.127655</td>\n",
       "      <td>3.425731</td>\n",
       "      <td>2.640964</td>\n",
       "      <td>1199.350877</td>\n",
       "    </tr>\n",
       "    <tr>\n",
       "      <th>std</th>\n",
       "      <td>NaN</td>\n",
       "      <td>4.490340e+04</td>\n",
       "      <td>5.446808e+04</td>\n",
       "      <td>2895.929004</td>\n",
       "      <td>2443.918011</td>\n",
       "      <td>6108.449844</td>\n",
       "      <td>18.691082</td>\n",
       "      <td>1929.047048</td>\n",
       "      <td>28.681249</td>\n",
       "      <td>1.073845</td>\n",
       "      <td>1527.892614</td>\n",
       "    </tr>\n",
       "    <tr>\n",
       "      <th>min</th>\n",
       "      <td>NaN</td>\n",
       "      <td>5.000000e+01</td>\n",
       "      <td>9.404200e+02</td>\n",
       "      <td>50.000000</td>\n",
       "      <td>-200.000000</td>\n",
       "      <td>0.000000</td>\n",
       "      <td>-606.035000</td>\n",
       "      <td>0.008000</td>\n",
       "      <td>1.000000</td>\n",
       "      <td>1.000000</td>\n",
       "      <td>1.000000</td>\n",
       "    </tr>\n",
       "    <tr>\n",
       "      <th>25%</th>\n",
       "      <td>NaN</td>\n",
       "      <td>7.000000e+03</td>\n",
       "      <td>7.927590e+03</td>\n",
       "      <td>421.490000</td>\n",
       "      <td>0.000000</td>\n",
       "      <td>59.000000</td>\n",
       "      <td>2.634937</td>\n",
       "      <td>57.500000</td>\n",
       "      <td>2.000000</td>\n",
       "      <td>2.000000</td>\n",
       "      <td>240.000000</td>\n",
       "    </tr>\n",
       "    <tr>\n",
       "      <th>50%</th>\n",
       "      <td>NaN</td>\n",
       "      <td>1.300000e+04</td>\n",
       "      <td>1.387653e+04</td>\n",
       "      <td>737.780000</td>\n",
       "      <td>100.000000</td>\n",
       "      <td>120.000000</td>\n",
       "      <td>4.566067</td>\n",
       "      <td>88.235294</td>\n",
       "      <td>2.000000</td>\n",
       "      <td>3.000000</td>\n",
       "      <td>800.000000</td>\n",
       "    </tr>\n",
       "    <tr>\n",
       "      <th>75%</th>\n",
       "      <td>NaN</td>\n",
       "      <td>2.250000e+04</td>\n",
       "      <td>2.477380e+04</td>\n",
       "      <td>1317.160000</td>\n",
       "      <td>240.000000</td>\n",
       "      <td>230.000000</td>\n",
       "      <td>7.641350</td>\n",
       "      <td>145.833333</td>\n",
       "      <td>2.000000</td>\n",
       "      <td>3.000000</td>\n",
       "      <td>1650.000000</td>\n",
       "    </tr>\n",
       "    <tr>\n",
       "      <th>max</th>\n",
       "      <td>NaN</td>\n",
       "      <td>1.850000e+06</td>\n",
       "      <td>1.833264e+06</td>\n",
       "      <td>97469.990000</td>\n",
       "      <td>185130.000000</td>\n",
       "      <td>1000000.000000</td>\n",
       "      <td>1867.207895</td>\n",
       "      <td>150000.000000</td>\n",
       "      <td>1136.000000</td>\n",
       "      <td>14.000000</td>\n",
       "      <td>9000.000000</td>\n",
       "    </tr>\n",
       "  </tbody>\n",
       "</table>\n",
       "</div>"
      ],
      "text/plain": [
       "       geonames_id         price  price_aprox_local_currency  price_aprox_usd  \\\n",
       "count          0.0  3.652500e+04                3.652500e+04     36525.000000   \n",
       "mean           NaN  2.045150e+04                2.401479e+04      1276.805686   \n",
       "std            NaN  4.490340e+04                5.446808e+04      2895.929004   \n",
       "min            NaN  5.000000e+01                9.404200e+02        50.000000   \n",
       "25%            NaN  7.000000e+03                7.927590e+03       421.490000   \n",
       "50%            NaN  1.300000e+04                1.387653e+04       737.780000   \n",
       "75%            NaN  2.250000e+04                2.477380e+04      1317.160000   \n",
       "max            NaN  1.850000e+06                1.833264e+06     97469.990000   \n",
       "\n",
       "       surface_total_in_m2  surface_covered_in_m2  price_usd_per_m2  \\\n",
       "count         23151.000000           36084.000000      14828.000000   \n",
       "mean            364.516133             265.611712          6.475197   \n",
       "std            2443.918011            6108.449844         18.691082   \n",
       "min            -200.000000               0.000000       -606.035000   \n",
       "25%               0.000000              59.000000          2.634937   \n",
       "50%             100.000000             120.000000          4.566067   \n",
       "75%             240.000000             230.000000          7.641350   \n",
       "max          185130.000000         1000000.000000       1867.207895   \n",
       "\n",
       "        price_per_m2        floor        rooms     expenses  \n",
       "count   30071.000000  4174.000000  1245.000000    57.000000  \n",
       "mean      241.127655     3.425731     2.640964  1199.350877  \n",
       "std      1929.047048    28.681249     1.073845  1527.892614  \n",
       "min         0.008000     1.000000     1.000000     1.000000  \n",
       "25%        57.500000     2.000000     2.000000   240.000000  \n",
       "50%        88.235294     2.000000     3.000000   800.000000  \n",
       "75%       145.833333     2.000000     3.000000  1650.000000  \n",
       "max    150000.000000  1136.000000    14.000000  9000.000000  "
      ]
     },
     "execution_count": 11,
     "metadata": {},
     "output_type": "execute_result"
    }
   ],
   "source": [
    "# Gives you description of numerical variables\n",
    "df.describe()"
   ]
  },
  {
   "cell_type": "code",
   "execution_count": 15,
   "metadata": {},
   "outputs": [
    {
     "data": {
      "text/plain": [
       "12671"
      ]
     },
     "execution_count": 15,
     "metadata": {},
     "output_type": "execute_result"
    }
   ],
   "source": [
    "# Conditional Selection\n",
    "# Return a dataframe that satifies the provided boolean expression --> df[\"property_type\"] == \"apartment\" .\n",
    "# Getting places that are only appartments\n",
    "df = df[df[\"property_type\"] == \"apartment\"]\n",
    "# You can use len to check if the dataset reduced accroding to the condition set in the line above\n",
    "len(df)"
   ]
  },
  {
   "cell_type": "code",
   "execution_count": null,
   "metadata": {},
   "outputs": [],
   "source": [
    "# Estates in quitana roo\n",
    "df = df[df[\"place_with_parent_names\"].str.contains(\"Quintana Roo\")]"
   ]
  },
  {
   "cell_type": "code",
   "execution_count": null,
   "metadata": {},
   "outputs": [],
   "source": [
    "# Removing apartments that cost morethan $50,000\n",
    "# The underscore _ in 50_000 simply represents a comma , because comma gives an error.\n",
    "df = df[df[\"price_aprox_usd\"] < 50_000]"
   ]
  },
  {
   "cell_type": "code",
   "execution_count": 17,
   "metadata": {},
   "outputs": [
    {
     "data": {
      "text/plain": [
       "965"
      ]
     },
     "execution_count": 17,
     "metadata": {},
     "output_type": "execute_result"
    }
   ],
   "source": [
    "# Using multiple conditions in a single statement \n",
    "mask_apr = df[\"property_type\"] == \"apartment\"\n",
    "mask_distict = df[\"place_with_parent_names\"].str.contains(\"Quintana Roo\")\n",
    "mask_price = df[\"price_aprox_usd\"] < 50_000\n",
    "new_df = df[mask_apr & mask_distict & mask_price ]\n",
    "len(new_df)"
   ]
  },
  {
   "cell_type": "code",
   "execution_count": 18,
   "metadata": {},
   "outputs": [
    {
     "data": {
      "text/plain": [
       "'gmail.com'"
      ]
     },
     "execution_count": 18,
     "metadata": {},
     "output_type": "execute_result"
    }
   ],
   "source": [
    "# splitting in python\n",
    "# Here we are spliting the string at the @ charater and getting the second string.\n",
    "\"coolo@gmail.com\".split(\"@\")[1]"
   ]
  },
  {
   "cell_type": "code",
   "execution_count": 23,
   "metadata": {},
   "outputs": [],
   "source": [
    "# Split \"lat-lon\" Column\n",
    "# expand creates two columns from result(List).\n",
    "# astype casts from a string to float .\n",
    "df[[\"lat\",\"lon\"]]=df[\"lat-lon\"].str.split(\",\",expand=True).astype(float)\n",
    "# Drop the lat-lon column \n",
    "# inplace drops the column form the original dataset\n",
    "df.drop(columns=\"lat-lon\",inplace=True)\n",
    "\n"
   ]
  },
  {
   "cell_type": "code",
   "execution_count": 24,
   "metadata": {},
   "outputs": [
    {
     "name": "stdout",
     "output_type": "stream",
     "text": [
      "<class 'pandas.core.frame.DataFrame'>\n",
      "Int64Index: 12671 entries, 1 to 37596\n",
      "Data columns (total 23 columns):\n",
      " #   Column                      Non-Null Count  Dtype  \n",
      "---  ------                      --------------  -----  \n",
      " 0   created_on                  12671 non-null  object \n",
      " 1   operation                   12671 non-null  object \n",
      " 2   property_type               12671 non-null  object \n",
      " 3   place_name                  12671 non-null  object \n",
      " 4   place_with_parent_names     12671 non-null  object \n",
      " 5   geonames_id                 0 non-null      float64\n",
      " 6   price                       12547 non-null  float64\n",
      " 7   currency                    12547 non-null  object \n",
      " 8   price_aprox_local_currency  12547 non-null  float64\n",
      " 9   price_aprox_usd             12547 non-null  float64\n",
      " 10  surface_total_in_m2         7467 non-null   float64\n",
      " 11  surface_covered_in_m2       12072 non-null  float64\n",
      " 12  price_usd_per_m2            3739 non-null   float64\n",
      " 13  price_per_m2                10180 non-null  float64\n",
      " 14  floor                       35 non-null     float64\n",
      " 15  rooms                       666 non-null    float64\n",
      " 16  expenses                    28 non-null     float64\n",
      " 17  properati_url               12671 non-null  object \n",
      " 18  description                 12671 non-null  object \n",
      " 19  title                       12671 non-null  object \n",
      " 20  image_thumbnail             12244 non-null  object \n",
      " 21  lat                         10841 non-null  float64\n",
      " 22  lon                         10841 non-null  float64\n",
      "dtypes: float64(13), object(10)\n",
      "memory usage: 2.3+ MB\n"
     ]
    }
   ],
   "source": [
    "# Check if the lat-lon column was dropped\n",
    "df.info()"
   ]
  },
  {
   "cell_type": "code",
   "execution_count": 25,
   "metadata": {},
   "outputs": [
    {
     "data": {
      "text/plain": [
       "created_on                        0\n",
       "operation                         0\n",
       "property_type                     0\n",
       "place_name                        0\n",
       "place_with_parent_names           0\n",
       "geonames_id                   12671\n",
       "price                           124\n",
       "currency                        124\n",
       "price_aprox_local_currency      124\n",
       "price_aprox_usd                 124\n",
       "surface_total_in_m2            5204\n",
       "surface_covered_in_m2           599\n",
       "price_usd_per_m2               8932\n",
       "price_per_m2                   2491\n",
       "floor                         12636\n",
       "rooms                         12005\n",
       "expenses                      12643\n",
       "properati_url                     0\n",
       "description                       0\n",
       "title                             0\n",
       "image_thumbnail                 427\n",
       "lat                            1830\n",
       "lon                            1830\n",
       "dtype: int64"
      ]
     },
     "execution_count": 25,
     "metadata": {},
     "output_type": "execute_result"
    }
   ],
   "source": [
    "# find the sum of null values\n",
    "df.isnull().sum()"
   ]
  },
  {
   "cell_type": "markdown",
   "metadata": {},
   "source": [
    "- If a data set has more than 50% of its values as null then we remove it"
   ]
  },
  {
   "cell_type": "code",
   "execution_count": 26,
   "metadata": {},
   "outputs": [
    {
     "data": {
      "text/plain": [
       "created_on                    0.000000\n",
       "operation                     0.000000\n",
       "property_type                 0.000000\n",
       "place_name                    0.000000\n",
       "place_with_parent_names       0.000000\n",
       "geonames_id                   1.000000\n",
       "price                         0.009786\n",
       "currency                      0.009786\n",
       "price_aprox_local_currency    0.009786\n",
       "price_aprox_usd               0.009786\n",
       "surface_total_in_m2           0.410702\n",
       "surface_covered_in_m2         0.047273\n",
       "price_usd_per_m2              0.704917\n",
       "price_per_m2                  0.196591\n",
       "floor                         0.997238\n",
       "rooms                         0.947439\n",
       "expenses                      0.997790\n",
       "properati_url                 0.000000\n",
       "description                   0.000000\n",
       "title                         0.000000\n",
       "image_thumbnail               0.033699\n",
       "lat                           0.144424\n",
       "lon                           0.144424\n",
       "dtype: float64"
      ]
     },
     "execution_count": 26,
     "metadata": {},
     "output_type": "execute_result"
    }
   ],
   "source": [
    "# Dropping columns that have more than 50% of there values as null\n",
    "df.isnull().sum()/len(df)"
   ]
  },
  {
   "cell_type": "code",
   "execution_count": 28,
   "metadata": {},
   "outputs": [
    {
     "name": "stdout",
     "output_type": "stream",
     "text": [
      "<class 'pandas.core.frame.DataFrame'>\n",
      "Int64Index: 12671 entries, 1 to 37596\n",
      "Data columns (total 18 columns):\n",
      " #   Column                      Non-Null Count  Dtype  \n",
      "---  ------                      --------------  -----  \n",
      " 0   created_on                  12671 non-null  object \n",
      " 1   operation                   12671 non-null  object \n",
      " 2   property_type               12671 non-null  object \n",
      " 3   place_name                  12671 non-null  object \n",
      " 4   place_with_parent_names     12671 non-null  object \n",
      " 5   price                       12547 non-null  float64\n",
      " 6   currency                    12547 non-null  object \n",
      " 7   price_aprox_local_currency  12547 non-null  float64\n",
      " 8   price_aprox_usd             12547 non-null  float64\n",
      " 9   surface_total_in_m2         7467 non-null   float64\n",
      " 10  surface_covered_in_m2       12072 non-null  float64\n",
      " 11  price_per_m2                10180 non-null  float64\n",
      " 12  properati_url               12671 non-null  object \n",
      " 13  description                 12671 non-null  object \n",
      " 14  title                       12671 non-null  object \n",
      " 15  image_thumbnail             12244 non-null  object \n",
      " 16  lat                         10841 non-null  float64\n",
      " 17  lon                         10841 non-null  float64\n",
      "dtypes: float64(8), object(10)\n",
      "memory usage: 2.3+ MB\n"
     ]
    }
   ],
   "source": [
    "df.drop(columns=['price_usd_per_m2','floor','expenses','geonames_id','rooms'],inplace=True)\n",
    "df.info()"
   ]
  },
  {
   "cell_type": "code",
   "execution_count": 30,
   "metadata": {},
   "outputs": [
    {
     "data": {
      "text/plain": [
       "created_on                   458\n",
       "operation                      1\n",
       "property_type                  1\n",
       "place_name                   585\n",
       "place_with_parent_names      607\n",
       "currency                       4\n",
       "properati_url              12671\n",
       "description                12456\n",
       "title                       9740\n",
       "image_thumbnail             9500\n",
       "dtype: int64"
      ]
     },
     "execution_count": 30,
     "metadata": {},
     "output_type": "execute_result"
    }
   ],
   "source": [
    "# Finding Low and High cardinal features\n",
    "df.select_dtypes(\"object\").nunique()"
   ]
  },
  {
   "cell_type": "code",
   "execution_count": 31,
   "metadata": {},
   "outputs": [],
   "source": [
    "# Dropping Low and High cardinal features\n",
    "\n",
    "df.drop(columns = [\"operation\",\"properati_url\",\"image_thumbnail\",\"title\",\"property_type\",\"created_on\"],inplace=True)"
   ]
  },
  {
   "cell_type": "code",
   "execution_count": 32,
   "metadata": {},
   "outputs": [
    {
     "name": "stdout",
     "output_type": "stream",
     "text": [
      "<class 'pandas.core.frame.DataFrame'>\n",
      "Int64Index: 12671 entries, 1 to 37596\n",
      "Data columns (total 12 columns):\n",
      " #   Column                      Non-Null Count  Dtype  \n",
      "---  ------                      --------------  -----  \n",
      " 0   place_name                  12671 non-null  object \n",
      " 1   place_with_parent_names     12671 non-null  object \n",
      " 2   price                       12547 non-null  float64\n",
      " 3   currency                    12547 non-null  object \n",
      " 4   price_aprox_local_currency  12547 non-null  float64\n",
      " 5   price_aprox_usd             12547 non-null  float64\n",
      " 6   surface_total_in_m2         7467 non-null   float64\n",
      " 7   surface_covered_in_m2       12072 non-null  float64\n",
      " 8   price_per_m2                10180 non-null  float64\n",
      " 9   description                 12671 non-null  object \n",
      " 10  lat                         10841 non-null  float64\n",
      " 11  lon                         10841 non-null  float64\n",
      "dtypes: float64(8), object(4)\n",
      "memory usage: 1.8+ MB\n"
     ]
    }
   ],
   "source": [
    "# Dropping the Leaky values\n",
    "# Leaky variables have a link to the target variable --> derived from another variable. for instance you cant find the price_perm2 without the price. \n",
    "df.info()"
   ]
  },
  {
   "cell_type": "code",
   "execution_count": 34,
   "metadata": {},
   "outputs": [],
   "source": [
    "df.drop(columns=[\"surface_total_in_m2\",\"price_per_m2\",\"surface_covered_in_m2\",\"price_aprox_usd\",\"price_aprox_local_currency\"],inplace=True)"
   ]
  },
  {
   "cell_type": "code",
   "execution_count": null,
   "metadata": {},
   "outputs": [],
   "source": [
    "# Dropping Columns with Mulitiple collineality\n",
    "corr = df.select_dtypes(\"number\").drop(columns=\"price_aprox_usd\").corr()"
   ]
  },
  {
   "cell_type": "code",
   "execution_count": null,
   "metadata": {},
   "outputs": [],
   "source": [
    "corr\n",
    "# correlation betweem the same variable should be 1\n",
    "# |c| < 0.85  or -1 < c < 1"
   ]
  },
  {
   "cell_type": "code",
   "execution_count": null,
   "metadata": {},
   "outputs": [],
   "source": [
    "sns.heatmap(corr,cbar=True)"
   ]
  },
  {
   "cell_type": "markdown",
   "metadata": {},
   "source": [
    "## Research\n",
    "- Dealing With Missing values\n",
    "- Outliers (BoxPlot)\n",
    "- Regression Models (linear,descision tree,randomforest)"
   ]
  }
 ],
 "metadata": {
  "kernelspec": {
   "display_name": "Python 3 (ipykernel)",
   "language": "python",
   "name": "python3"
  },
  "language_info": {
   "codemirror_mode": {
    "name": "ipython",
    "version": 3
   },
   "file_extension": ".py",
   "mimetype": "text/x-python",
   "name": "python",
   "nbconvert_exporter": "python",
   "pygments_lexer": "ipython3",
   "version": "3.9.7"
  },
  "vscode": {
   "interpreter": {
    "hash": "ad2bdc8ecc057115af97d19610ffacc2b4e99fae6737bb82f5d7fb13d2f2c186"
   }
  }
 },
 "nbformat": 4,
 "nbformat_minor": 2
}
