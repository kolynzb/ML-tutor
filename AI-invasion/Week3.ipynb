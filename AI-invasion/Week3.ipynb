{
 "cells": [
  {
   "cell_type": "code",
   "execution_count": null,
   "metadata": {},
   "outputs": [],
   "source": []
  },
  {
   "cell_type": "markdown",
   "metadata": {},
   "source": [
    "# Prepartion of data \n",
    "- Import  \n",
    "- Explore: NULL values ,low and High Cardinality,Leakeage,Multilineality.\n",
    "- Split data into X and y\n",
    "# Build Model\n",
    "- Baseline Model\n",
    "- Iterate\n",
    "- Evaluate\n",
    "# Communicate\n",
    "- Equation or Graphical.\n"
   ]
  }
 ],
 "metadata": {
  "language_info": {
   "name": "python"
  },
  "orig_nbformat": 4
 },
 "nbformat": 4,
 "nbformat_minor": 2
}
