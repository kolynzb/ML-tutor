{
 "cells": [
  {
   "cell_type": "markdown",
   "metadata": {},
   "source": [
    "# Regression\n",
    "- Is a Statistical method,which predicts a relationship of a continuous outcome based on the values of one or more inputs.\n",
    "## Types of regression \n",
    "- __Linear Regression__\n",
    "    - The relationship between input variable and intput variable is linear.\n",
    "    1. _Simple Linear Regression_ - only single input variable is used to predict an output.\n",
    "    <p align=\"center\">\n",
    "    <img src=\"https://upload.wikimedia.org/wikipedia/commons/thumb/3/3a/Linear_regression.svg/1200px-Linear_regression.svg.png\" alt=\"Simple linear regrresion\" width=\"200\" height=\"200\" /></p>\n",
    "\n",
    "    2. _Multiple Linear Regression_ - more than one input variable is involved.\n",
    "    <p align=\"center\">\n",
    "\n",
    "    <img src=\"https://miro.medium.com/max/560/1*HLN6FxlXrzDtYN0KAlom4A.png\" alt=\"multiple linear Regression\" width=\"200\" height=\"200\"/></p>\n",
    "    \n",
    "- __Nonlinear Regression__ \n",
    "    - Output is model by a finstion which is a nonlinear combination of the inputs.\n",
    "    <p align=\"center\">\n",
    "    <img src=\"https://cdn.xlstat.com/media/feature/0001/02/thumb_1381_feature_medium.png\" alt=\"non linear regression\" width=\"200\" height=\"200\"/></p>\n",
    "\n",
    "\n",
    "##"
   ]
  }
 ],
 "metadata": {
  "kernelspec": {
   "display_name": "Python ('machine-learning')",
   "language": "python",
   "name": "python3"
  },
  "language_info": {
   "name": "python",
   "version": ""
  },
  "orig_nbformat": 4,
  "vscode": {
   "interpreter": {
    "hash": "25a19fbe0a9132dfb9279d48d161753c6352f8f9478c2e74383d340069b907c3"
   }
  }
 },
 "nbformat": 4,
 "nbformat_minor": 2
}
