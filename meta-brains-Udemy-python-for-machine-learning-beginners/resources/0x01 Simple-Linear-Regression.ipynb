{
 "cells": [
  {
   "cell_type": "markdown",
   "metadata": {},
   "source": [
    "# Regression\n",
    "- Is a Statistical method,which predicts a relationship of a continuous outcome based on the values of one or more inputs.\n",
    "## Types of regression \n",
    "- __Linear Regression__\n",
    "    - The relationship between input variable and intput variable is linear."
   ]
  }
 ],
 "metadata": {
  "kernelspec": {
   "display_name": "Python ('machine-learning')",
   "language": "python",
   "name": "python3"
  },
  "language_info": {
   "name": "python",
   "version": ""
  },
  "orig_nbformat": 4,
  "vscode": {
   "interpreter": {
    "hash": "25a19fbe0a9132dfb9279d48d161753c6352f8f9478c2e74383d340069b907c3"
   }
  }
 },
 "nbformat": 4,
 "nbformat_minor": 2
}
